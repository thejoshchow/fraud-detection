{
 "cells": [
  {
   "cell_type": "code",
   "execution_count": 1,
   "metadata": {},
   "outputs": [],
   "source": [
    "import time\n",
    "import requests\n",
    "import pymongo"
   ]
  },
  {
   "cell_type": "code",
   "execution_count": 108,
   "metadata": {},
   "outputs": [],
   "source": [
    "import pandas as pd\n",
    "import numpy as np"
   ]
  },
  {
   "cell_type": "code",
   "execution_count": 205,
   "metadata": {},
   "outputs": [],
   "source": [
    "import pickle"
   ]
  },
  {
   "cell_type": "code",
   "execution_count": 2,
   "metadata": {},
   "outputs": [],
   "source": [
    "class EventAPIClient:\n",
    "    \"\"\"Realtime Events API Client\"\"\"\n",
    "\n",
    "    def __init__(self, first_sequence_number=0,\n",
    "                 api_url='https://hxobin8em5.execute-api.us-west-2.amazonaws.com/api/',\n",
    "                 api_key='vYm9mTUuspeyAWH1v-acfoTlck-tCxwTw9YfCynC',\n",
    "                 db=None,\n",
    "                 interval=30):\n",
    "        \"\"\"Initialize the API client.\"\"\"\n",
    "        self.next_sequence_number = first_sequence_number\n",
    "        self.api_url = api_url\n",
    "        self.api_key = api_key\n",
    "        self.db = db\n",
    "        self.interval = 30\n",
    "\n",
    "    def save_to_database(self, row):\n",
    "        \"\"\"Save a data row to the database.\"\"\"\n",
    "        print(\"Received data:\\n\" + repr(row) + \"\\n\")  # replace this with your code\n",
    "\n",
    "    def get_data(self):\n",
    "        \"\"\"Fetch data from the API.\"\"\"\n",
    "        payload = {'api_key': self.api_key,\n",
    "                   'sequence_number': self.next_sequence_number}\n",
    "        response = requests.post(self.api_url, json=payload)\n",
    "        data = response.json()\n",
    "        self.next_sequence_number = data['_next_sequence_number']\n",
    "        return data['data']\n",
    "\n",
    "    def collect(self, interval=30):\n",
    "        \"\"\"Check for new data from the API periodically.\"\"\"\n",
    "        while True:\n",
    "            print(\"Requesting data...\")\n",
    "            data = self.get_data()\n",
    "            if data:\n",
    "                print(\"Saving...\")\n",
    "                for row in data:\n",
    "                    self.save_to_database(row)\n",
    "            else:\n",
    "                print(\"No new data received.\")\n",
    "            print(f\"Waiting {interval} seconds...\")\n",
    "            time.sleep(interval)\n",
    "\n",
    "\n",
    "def main():\n",
    "    \"\"\"Collect events every 30 seconds.\"\"\"\n",
    "    client = EventAPIClient()\n",
    "    client.collect()"
   ]
  },
  {
   "cell_type": "code",
   "execution_count": 85,
   "metadata": {},
   "outputs": [],
   "source": [
    "next_sequence_number=0\n",
    "api_url='https://hxobin8em5.execute-api.us-west-2.amazonaws.com/api/'\n",
    "api_key='vYm9mTUuspeyAWH1v-acfoTlck-tCxwTw9YfCynC'\n",
    "stor={}\n",
    "payload = {'api_key': api_key,\n",
    "                       'sequence_number': next_sequence_number}\n",
    "response = requests.post(api_url, json=payload)\n",
    "data = response.json()\n",
    "stor[next_sequence_number] = data\n",
    "next_sequence_number = data['_next_sequence_number']"
   ]
  },
  {
   "cell_type": "code",
   "execution_count": 258,
   "metadata": {},
   "outputs": [],
   "source": [
    "def get_data():\n",
    "    api_url='https://hxobin8em5.execute-api.us-west-2.amazonaws.com/api/'\n",
    "    api_key='vYm9mTUuspeyAWH1v-acfoTlck-tCxwTw9YfCynC'\n",
    "    next_sequence_number=0\n",
    "    payload = {'api_key': api_key,\n",
    "                   'sequence_number': 0}\n",
    "    response = requests.post(api_url, json=payload)\n",
    "    data = response.json()\n",
    "    stor=pd.DataFrame.from_dict(data['data'])\n",
    "    arr=[0,]\n",
    "    for i in range(1500,1800):\n",
    "        \n",
    "        \"\"\"Fetch data from the API.\"\"\"\n",
    "        payload = {'api_key': api_key,\n",
    "                   'sequence_number': i}\n",
    "        response = requests.post(api_url, json=payload)\n",
    "        temp_data = response.json()\n",
    "        temp_df=pd.DataFrame.from_dict(temp_data['data'])\n",
    "        stor=pd.concat([stor,temp_df])\n",
    "        next_sequence_number = data['_next_sequence_number']\n",
    "        arr.append(next_sequence_number)\n",
    "    return stor"
   ]
  },
  {
   "cell_type": "code",
   "execution_count": 259,
   "metadata": {},
   "outputs": [],
   "source": [
    "a = get_data()"
   ]
  },
  {
   "cell_type": "code",
   "execution_count": 282,
   "metadata": {},
   "outputs": [],
   "source": [
    "a=a.loc[a.astype(str).drop_duplicates().index]"
   ]
  },
  {
   "cell_type": "code",
   "execution_count": 283,
   "metadata": {},
   "outputs": [],
   "source": [
    "df=a"
   ]
  },
  {
   "cell_type": "code",
   "execution_count": 284,
   "metadata": {},
   "outputs": [],
   "source": [
    "if 'acct_type' not in df.columns:\n",
    "                df['acct_type'] = df.iloc[:, 0].apply(lambda x: 'unknown')\n",
    "df['is_fraud'] = df['acct_type'].apply(lambda x: 1 if 'fraud' else ('unknown' if 'unknown' else 0))     "
   ]
  },
  {
   "cell_type": "code",
   "execution_count": 285,
   "metadata": {},
   "outputs": [],
   "source": [
    "required_columns=['body_length', 'channels', 'delivery_method', 'event_published',\n",
    "       'fb_published', 'has_analytics', 'has_logo',\n",
    "       'name_length', 'num_order', 'num_payouts', 'org_facebook',\n",
    "       'org_twitter', 'sale_duration', 'sale_duration2', 'show_map',\n",
    "       'user_age', 'user_created', 'user_type']"
   ]
  },
  {
   "cell_type": "code",
   "execution_count": 286,
   "metadata": {},
   "outputs": [
    {
     "data": {
      "text/plain": [
       "18"
      ]
     },
     "execution_count": 286,
     "metadata": {},
     "output_type": "execute_result"
    }
   ],
   "source": [
    "len(required_columns)"
   ]
  },
  {
   "cell_type": "code",
   "execution_count": 287,
   "metadata": {},
   "outputs": [],
   "source": [
    "for col in required_columns:\n",
    "        if col not in df.columns:\n",
    "                df[col] = df.iloc[:, 0].apply(lambda x: 0)"
   ]
  },
  {
   "cell_type": "code",
   "execution_count": 288,
   "metadata": {},
   "outputs": [],
   "source": [
    "X=df[required_columns]"
   ]
  },
  {
   "cell_type": "code",
   "execution_count": 289,
   "metadata": {},
   "outputs": [
    {
     "data": {
      "text/plain": [
       "(21, 18)"
      ]
     },
     "execution_count": 289,
     "metadata": {},
     "output_type": "execute_result"
    }
   ],
   "source": [
    "X.shape"
   ]
  },
  {
   "cell_type": "code",
   "execution_count": 290,
   "metadata": {},
   "outputs": [
    {
     "data": {
      "text/plain": [
       "1"
      ]
     },
     "execution_count": 290,
     "metadata": {},
     "output_type": "execute_result"
    }
   ],
   "source": [
    "df.acct_type.nunique()"
   ]
  },
  {
   "cell_type": "code",
   "execution_count": 291,
   "metadata": {},
   "outputs": [],
   "source": [
    "model_rf = pickle.load(open('rf.pkl','rb'))"
   ]
  },
  {
   "cell_type": "code",
   "execution_count": 292,
   "metadata": {},
   "outputs": [],
   "source": [
    "y_rf = model_rf.predict(X)"
   ]
  },
  {
   "cell_type": "code",
   "execution_count": 293,
   "metadata": {},
   "outputs": [
    {
     "data": {
      "text/plain": [
       "array([0, 1, 1, 1, 1, 0, 1, 1, 1, 0, 0, 1, 1, 1, 0, 1, 1, 1, 0, 0, 0])"
      ]
     },
     "execution_count": 293,
     "metadata": {},
     "output_type": "execute_result"
    }
   ],
   "source": [
    "y_rf"
   ]
  },
  {
   "cell_type": "code",
   "execution_count": 294,
   "metadata": {},
   "outputs": [
    {
     "data": {
      "text/plain": [
       "13"
      ]
     },
     "execution_count": 294,
     "metadata": {},
     "output_type": "execute_result"
    }
   ],
   "source": [
    "sum(y_rf)"
   ]
  },
  {
   "cell_type": "code",
   "execution_count": 295,
   "metadata": {},
   "outputs": [],
   "source": [
    "y_rf_prob = model_rf.predict_proba(X)"
   ]
  },
  {
   "cell_type": "code",
   "execution_count": 296,
   "metadata": {},
   "outputs": [
    {
     "data": {
      "text/plain": [
       "array([[0.51965066, 0.48034934],\n",
       "       [0.17030568, 0.82969432],\n",
       "       [0.36681223, 0.63318777],\n",
       "       [0.2154294 , 0.7845706 ],\n",
       "       [0.47598253, 0.52401747],\n",
       "       [0.56186317, 0.43813683],\n",
       "       [0.18195051, 0.81804949],\n",
       "       [0.35080058, 0.64919942],\n",
       "       [0.45123726, 0.54876274],\n",
       "       [0.54439592, 0.45560408],\n",
       "       [0.51965066, 0.48034934],\n",
       "       [0.36681223, 0.63318777],\n",
       "       [0.2154294 , 0.7845706 ],\n",
       "       [0.47598253, 0.52401747],\n",
       "       [0.56186317, 0.43813683],\n",
       "       [0.18195051, 0.81804949],\n",
       "       [0.35080058, 0.64919942],\n",
       "       [0.45123726, 0.54876274],\n",
       "       [0.54439592, 0.45560408],\n",
       "       [0.51965066, 0.48034934],\n",
       "       [0.55604076, 0.44395924]])"
      ]
     },
     "execution_count": 296,
     "metadata": {},
     "output_type": "execute_result"
    }
   ],
   "source": [
    "y_rf_prob"
   ]
  },
  {
   "cell_type": "code",
   "execution_count": null,
   "metadata": {},
   "outputs": [],
   "source": []
  }
 ],
 "metadata": {
  "kernelspec": {
   "display_name": "Python 3",
   "language": "python",
   "name": "python3"
  },
  "language_info": {
   "codemirror_mode": {
    "name": "ipython",
    "version": 3
   },
   "file_extension": ".py",
   "mimetype": "text/x-python",
   "name": "python",
   "nbconvert_exporter": "python",
   "pygments_lexer": "ipython3",
   "version": "3.7.7"
  }
 },
 "nbformat": 4,
 "nbformat_minor": 4
}
