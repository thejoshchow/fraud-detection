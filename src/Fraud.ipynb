{
  "nbformat": 4,
  "nbformat_minor": 0,
  "metadata": {
    "colab": {
      "name": "Fraud.ipynb",
      "provenance": [],
      "collapsed_sections": [],
      "authorship_tag": "ABX9TyNNsenkddzV3OrMeZx4Vxr3",
      "include_colab_link": true
    },
    "kernelspec": {
      "name": "python3",
      "display_name": "Python 3"
    },
    "accelerator": "GPU"
  },
  "cells": [
    {
      "cell_type": "markdown",
      "metadata": {
        "id": "view-in-github",
        "colab_type": "text"
      },
      "source": [
        "<a href=\"https://colab.research.google.com/github/thejoshchow/fraud-detection/blob/ops/src/Fraud.ipynb\" target=\"_parent\"><img src=\"https://colab.research.google.com/assets/colab-badge.svg\" alt=\"Open In Colab\"/></a>"
      ]
    },
    {
      "cell_type": "code",
      "metadata": {
        "id": "-qnXBeNe8T_F"
      },
      "source": [
        "import pandas as pd"
      ],
      "execution_count": null,
      "outputs": []
    },
    {
      "cell_type": "code",
      "metadata": {
        "id": "Q593o9l4Ag6Z"
      },
      "source": [
        "import random"
      ],
      "execution_count": null,
      "outputs": []
    },
    {
      "cell_type": "code",
      "metadata": {
        "id": "xhYfAH8u7p37"
      },
      "source": [
        ""
      ],
      "execution_count": null,
      "outputs": []
    },
    {
      "cell_type": "code",
      "metadata": {
        "id": "bgW_WZsHAblQ"
      },
      "source": [
        "fraud=pd.read_csv('/content/data/data.json')"
      ],
      "execution_count": null,
      "outputs": []
    },
    {
      "cell_type": "code",
      "metadata": {
        "id": "hv7-vBlGApmo",
        "colab": {
          "base_uri": "https://localhost:8080/",
          "height": 207
        },
        "outputId": "d708ee72-1055-489d-d394-b3e27a55ff0d"
      },
      "source": [
        "fraud.head(5)"
      ],
      "execution_count": null,
      "outputs": [
        {
          "output_type": "error",
          "ename": "NameError",
          "evalue": "ignored",
          "traceback": [
            "\u001b[0;31m---------------------------------------------------------------------------\u001b[0m",
            "\u001b[0;31mNameError\u001b[0m                                 Traceback (most recent call last)",
            "\u001b[0;32m<ipython-input-1-347710ff4b20>\u001b[0m in \u001b[0;36m<module>\u001b[0;34m()\u001b[0m\n\u001b[0;32m----> 1\u001b[0;31m \u001b[0mfraud\u001b[0m\u001b[0;34m.\u001b[0m\u001b[0mhead\u001b[0m\u001b[0;34m(\u001b[0m\u001b[0;36m5\u001b[0m\u001b[0;34m)\u001b[0m\u001b[0;34m\u001b[0m\u001b[0;34m\u001b[0m\u001b[0m\n\u001b[0m",
            "\u001b[0;31mNameError\u001b[0m: name 'fraud' is not defined"
          ]
        }
      ]
    },
    {
      "cell_type": "code",
      "metadata": {
        "id": "KOVJG5l8DBkf"
      },
      "source": [
        "import numpy as np\r\n",
        "import pandas as pd"
      ],
      "execution_count": null,
      "outputs": []
    },
    {
      "cell_type": "code",
      "metadata": {
        "id": "VjHnhVcQn41A"
      },
      "source": [
        ""
      ],
      "execution_count": null,
      "outputs": []
    },
    {
      "cell_type": "code",
      "metadata": {
        "id": "RqmE87OyAXP-",
        "colab": {
          "base_uri": "https://localhost:8080/"
        },
        "outputId": "076e67e7-b07d-48a3-f6ee-49a426b41a9f"
      },
      "source": [
        "parsed=pd.read_csv('/content/data/text2.csv')"
      ],
      "execution_count": null,
      "outputs": [
        {
          "output_type": "stream",
          "text": [
            "/usr/local/lib/python3.6/dist-packages/IPython/core/interactiveshell.py:2718: DtypeWarning: Columns (9,10,11,12,13,14,15,16,17,18,19,20,21,22,23,24,25,26,27,28,29,30,31,32,33,34,35,36,37,38,39,40,41,42,43,44,45,46,47,48,49,50,51,52,53,54,55,56,57,58,59,60,61,62,63,64,65,66,67,68,69,70,71,72,73,74,75,76,77,78,79,80,81,82,83,84,85,86,87,88,89,90,91,92,93,94,95,96,97,98,99,100,101,102,103,104,105,106,107,108,109,110,111,112,113,114,115,116,117,118,119,120,121,122,123,124,125,126,127,128,129,130,131,132,133,134,135,136,137,138,139,140,141,142,143,144,145,146,147) have mixed types.Specify dtype option on import or set low_memory=False.\n",
            "  interactivity=interactivity, compiler=compiler, result=result)\n"
          ],
          "name": "stderr"
        }
      ]
    },
    {
      "cell_type": "code",
      "metadata": {
        "id": "X5PVRqHz9RsP"
      },
      "source": [
        "checks_all=([isinstance(value,str) for value in   parsed['description'].values])"
      ],
      "execution_count": null,
      "outputs": []
    },
    {
      "cell_type": "code",
      "metadata": {
        "id": "e2PkMxs39-k2"
      },
      "source": [
        "parsed_checked=parsed[checks_all]"
      ],
      "execution_count": null,
      "outputs": []
    },
    {
      "cell_type": "code",
      "metadata": {
        "id": "Ro0lDwHL-Byg"
      },
      "source": [
        ""
      ],
      "execution_count": null,
      "outputs": []
    },
    {
      "cell_type": "code",
      "metadata": {
        "colab": {
          "base_uri": "https://localhost:8080/",
          "height": 559
        },
        "id": "EMsIs12svAl9",
        "outputId": "880f78c5-9826-4fa0-9a9e-730a2b665c0d"
      },
      "source": [
        "text.head(5)"
      ],
      "execution_count": null,
      "outputs": [
        {
          "output_type": "execute_result",
          "data": {
            "text/html": [
              "<div>\n",
              "<style scoped>\n",
              "    .dataframe tbody tr th:only-of-type {\n",
              "        vertical-align: middle;\n",
              "    }\n",
              "\n",
              "    .dataframe tbody tr th {\n",
              "        vertical-align: top;\n",
              "    }\n",
              "\n",
              "    .dataframe thead th {\n",
              "        text-align: right;\n",
              "    }\n",
              "</style>\n",
              "<table border=\"1\" class=\"dataframe\">\n",
              "  <thead>\n",
              "    <tr style=\"text-align: right;\">\n",
              "      <th></th>\n",
              "      <th>Unnamed: 0</th>\n",
              "      <th>name</th>\n",
              "      <th>description</th>\n",
              "      <th>org_name</th>\n",
              "      <th>org_desc</th>\n",
              "      <th>fraud</th>\n",
              "      <th>Unnamed: 6</th>\n",
              "      <th>Unnamed: 7</th>\n",
              "      <th>Unnamed: 8</th>\n",
              "      <th>Unnamed: 9</th>\n",
              "      <th>Unnamed: 10</th>\n",
              "      <th>Unnamed: 11</th>\n",
              "      <th>Unnamed: 12</th>\n",
              "      <th>Unnamed: 13</th>\n",
              "      <th>Unnamed: 14</th>\n",
              "      <th>Unnamed: 15</th>\n",
              "      <th>Unnamed: 16</th>\n",
              "      <th>Unnamed: 17</th>\n",
              "      <th>Unnamed: 18</th>\n",
              "      <th>Unnamed: 19</th>\n",
              "      <th>Unnamed: 20</th>\n",
              "      <th>Unnamed: 21</th>\n",
              "      <th>Unnamed: 22</th>\n",
              "      <th>Unnamed: 23</th>\n",
              "      <th>Unnamed: 24</th>\n",
              "      <th>Unnamed: 25</th>\n",
              "      <th>Unnamed: 26</th>\n",
              "      <th>Unnamed: 27</th>\n",
              "      <th>Unnamed: 28</th>\n",
              "      <th>Unnamed: 29</th>\n",
              "      <th>Unnamed: 30</th>\n",
              "      <th>Unnamed: 31</th>\n",
              "      <th>Unnamed: 32</th>\n",
              "      <th>Unnamed: 33</th>\n",
              "      <th>Unnamed: 34</th>\n",
              "      <th>Unnamed: 35</th>\n",
              "      <th>Unnamed: 36</th>\n",
              "      <th>Unnamed: 37</th>\n",
              "      <th>Unnamed: 38</th>\n",
              "      <th>Unnamed: 39</th>\n",
              "      <th>...</th>\n",
              "      <th>Unnamed: 108</th>\n",
              "      <th>Unnamed: 109</th>\n",
              "      <th>Unnamed: 110</th>\n",
              "      <th>Unnamed: 111</th>\n",
              "      <th>Unnamed: 112</th>\n",
              "      <th>Unnamed: 113</th>\n",
              "      <th>Unnamed: 114</th>\n",
              "      <th>Unnamed: 115</th>\n",
              "      <th>Unnamed: 116</th>\n",
              "      <th>Unnamed: 117</th>\n",
              "      <th>Unnamed: 118</th>\n",
              "      <th>Unnamed: 119</th>\n",
              "      <th>Unnamed: 120</th>\n",
              "      <th>Unnamed: 121</th>\n",
              "      <th>Unnamed: 122</th>\n",
              "      <th>Unnamed: 123</th>\n",
              "      <th>Unnamed: 124</th>\n",
              "      <th>Unnamed: 125</th>\n",
              "      <th>Unnamed: 126</th>\n",
              "      <th>Unnamed: 127</th>\n",
              "      <th>Unnamed: 128</th>\n",
              "      <th>Unnamed: 129</th>\n",
              "      <th>Unnamed: 130</th>\n",
              "      <th>Unnamed: 131</th>\n",
              "      <th>Unnamed: 132</th>\n",
              "      <th>Unnamed: 133</th>\n",
              "      <th>Unnamed: 134</th>\n",
              "      <th>Unnamed: 135</th>\n",
              "      <th>Unnamed: 136</th>\n",
              "      <th>Unnamed: 137</th>\n",
              "      <th>Unnamed: 138</th>\n",
              "      <th>Unnamed: 139</th>\n",
              "      <th>Unnamed: 140</th>\n",
              "      <th>Unnamed: 141</th>\n",
              "      <th>Unnamed: 142</th>\n",
              "      <th>Unnamed: 143</th>\n",
              "      <th>Unnamed: 144</th>\n",
              "      <th>Unnamed: 145</th>\n",
              "      <th>Unnamed: 146</th>\n",
              "      <th>Unnamed: 147</th>\n",
              "    </tr>\n",
              "  </thead>\n",
              "  <tbody>\n",
              "    <tr>\n",
              "      <th>0</th>\n",
              "      <td>0</td>\n",
              "      <td>99 HOUR \"NO SLEEP\" SUPER BOWL CELEBRITY WEEKEN...</td>\n",
              "      <td>&lt;p&gt;&lt;a href=\"http://s432.photobucket.com/albums...</td>\n",
              "      <td>Party Starz Ent &amp; Diverse Int'l Group</td>\n",
              "      <td>NaN</td>\n",
              "      <td>True</td>\n",
              "      <td>NaN</td>\n",
              "      <td>NaN</td>\n",
              "      <td>NaN</td>\n",
              "      <td>NaN</td>\n",
              "      <td>NaN</td>\n",
              "      <td>NaN</td>\n",
              "      <td>NaN</td>\n",
              "      <td>NaN</td>\n",
              "      <td>NaN</td>\n",
              "      <td>NaN</td>\n",
              "      <td>NaN</td>\n",
              "      <td>NaN</td>\n",
              "      <td>NaN</td>\n",
              "      <td>NaN</td>\n",
              "      <td>NaN</td>\n",
              "      <td>NaN</td>\n",
              "      <td>NaN</td>\n",
              "      <td>NaN</td>\n",
              "      <td>NaN</td>\n",
              "      <td>NaN</td>\n",
              "      <td>NaN</td>\n",
              "      <td>NaN</td>\n",
              "      <td>NaN</td>\n",
              "      <td>NaN</td>\n",
              "      <td>NaN</td>\n",
              "      <td>NaN</td>\n",
              "      <td>NaN</td>\n",
              "      <td>NaN</td>\n",
              "      <td>NaN</td>\n",
              "      <td>NaN</td>\n",
              "      <td>NaN</td>\n",
              "      <td>NaN</td>\n",
              "      <td>NaN</td>\n",
              "      <td>NaN</td>\n",
              "      <td>...</td>\n",
              "      <td>NaN</td>\n",
              "      <td>NaN</td>\n",
              "      <td>NaN</td>\n",
              "      <td>NaN</td>\n",
              "      <td>NaN</td>\n",
              "      <td>NaN</td>\n",
              "      <td>NaN</td>\n",
              "      <td>NaN</td>\n",
              "      <td>NaN</td>\n",
              "      <td>NaN</td>\n",
              "      <td>NaN</td>\n",
              "      <td>NaN</td>\n",
              "      <td>NaN</td>\n",
              "      <td>NaN</td>\n",
              "      <td>NaN</td>\n",
              "      <td>NaN</td>\n",
              "      <td>NaN</td>\n",
              "      <td>NaN</td>\n",
              "      <td>NaN</td>\n",
              "      <td>NaN</td>\n",
              "      <td>NaN</td>\n",
              "      <td>NaN</td>\n",
              "      <td>NaN</td>\n",
              "      <td>NaN</td>\n",
              "      <td>NaN</td>\n",
              "      <td>NaN</td>\n",
              "      <td>NaN</td>\n",
              "      <td>NaN</td>\n",
              "      <td>NaN</td>\n",
              "      <td>NaN</td>\n",
              "      <td>NaN</td>\n",
              "      <td>NaN</td>\n",
              "      <td>NaN</td>\n",
              "      <td>NaN</td>\n",
              "      <td>NaN</td>\n",
              "      <td>NaN</td>\n",
              "      <td>NaN</td>\n",
              "      <td>NaN</td>\n",
              "      <td>NaN</td>\n",
              "      <td>NaN</td>\n",
              "    </tr>\n",
              "    <tr>\n",
              "      <th>1</th>\n",
              "      <td>1</td>\n",
              "      <td>Winthrop RUF Winter Getaway</td>\n",
              "      <td>&lt;p&gt;Join us for a quick, one-night, community-b...</td>\n",
              "      <td>RUF at Winthrop University</td>\n",
              "      <td>&lt;p&gt;Since 1987, RUF has ministered to students ...</td>\n",
              "      <td>False</td>\n",
              "      <td>NaN</td>\n",
              "      <td>NaN</td>\n",
              "      <td>NaN</td>\n",
              "      <td>NaN</td>\n",
              "      <td>NaN</td>\n",
              "      <td>NaN</td>\n",
              "      <td>NaN</td>\n",
              "      <td>NaN</td>\n",
              "      <td>NaN</td>\n",
              "      <td>NaN</td>\n",
              "      <td>NaN</td>\n",
              "      <td>NaN</td>\n",
              "      <td>NaN</td>\n",
              "      <td>NaN</td>\n",
              "      <td>NaN</td>\n",
              "      <td>NaN</td>\n",
              "      <td>NaN</td>\n",
              "      <td>NaN</td>\n",
              "      <td>NaN</td>\n",
              "      <td>NaN</td>\n",
              "      <td>NaN</td>\n",
              "      <td>NaN</td>\n",
              "      <td>NaN</td>\n",
              "      <td>NaN</td>\n",
              "      <td>NaN</td>\n",
              "      <td>NaN</td>\n",
              "      <td>NaN</td>\n",
              "      <td>NaN</td>\n",
              "      <td>NaN</td>\n",
              "      <td>NaN</td>\n",
              "      <td>NaN</td>\n",
              "      <td>NaN</td>\n",
              "      <td>NaN</td>\n",
              "      <td>NaN</td>\n",
              "      <td>...</td>\n",
              "      <td>NaN</td>\n",
              "      <td>NaN</td>\n",
              "      <td>NaN</td>\n",
              "      <td>NaN</td>\n",
              "      <td>NaN</td>\n",
              "      <td>NaN</td>\n",
              "      <td>NaN</td>\n",
              "      <td>NaN</td>\n",
              "      <td>NaN</td>\n",
              "      <td>NaN</td>\n",
              "      <td>NaN</td>\n",
              "      <td>NaN</td>\n",
              "      <td>NaN</td>\n",
              "      <td>NaN</td>\n",
              "      <td>NaN</td>\n",
              "      <td>NaN</td>\n",
              "      <td>NaN</td>\n",
              "      <td>NaN</td>\n",
              "      <td>NaN</td>\n",
              "      <td>NaN</td>\n",
              "      <td>NaN</td>\n",
              "      <td>NaN</td>\n",
              "      <td>NaN</td>\n",
              "      <td>NaN</td>\n",
              "      <td>NaN</td>\n",
              "      <td>NaN</td>\n",
              "      <td>NaN</td>\n",
              "      <td>NaN</td>\n",
              "      <td>NaN</td>\n",
              "      <td>NaN</td>\n",
              "      <td>NaN</td>\n",
              "      <td>NaN</td>\n",
              "      <td>NaN</td>\n",
              "      <td>NaN</td>\n",
              "      <td>NaN</td>\n",
              "      <td>NaN</td>\n",
              "      <td>NaN</td>\n",
              "      <td>NaN</td>\n",
              "      <td>NaN</td>\n",
              "      <td>NaN</td>\n",
              "    </tr>\n",
              "    <tr>\n",
              "      <th>2</th>\n",
              "      <td>2</td>\n",
              "      <td>DRDP (2010) Teacher Training</td>\n",
              "      <td>&lt;h3&gt;&lt;span class=\"subcategory\"&gt;&lt;strong&gt;Teacher ...</td>\n",
              "      <td>University Preparation School in collaboration...</td>\n",
              "      <td>&lt;p&gt;&lt;a href=\"http://www.desiredresults.com\"&gt;www...</td>\n",
              "      <td>False</td>\n",
              "      <td>NaN</td>\n",
              "      <td>NaN</td>\n",
              "      <td>NaN</td>\n",
              "      <td>NaN</td>\n",
              "      <td>NaN</td>\n",
              "      <td>NaN</td>\n",
              "      <td>NaN</td>\n",
              "      <td>NaN</td>\n",
              "      <td>NaN</td>\n",
              "      <td>NaN</td>\n",
              "      <td>NaN</td>\n",
              "      <td>NaN</td>\n",
              "      <td>NaN</td>\n",
              "      <td>NaN</td>\n",
              "      <td>NaN</td>\n",
              "      <td>NaN</td>\n",
              "      <td>NaN</td>\n",
              "      <td>NaN</td>\n",
              "      <td>NaN</td>\n",
              "      <td>NaN</td>\n",
              "      <td>NaN</td>\n",
              "      <td>NaN</td>\n",
              "      <td>NaN</td>\n",
              "      <td>NaN</td>\n",
              "      <td>NaN</td>\n",
              "      <td>NaN</td>\n",
              "      <td>NaN</td>\n",
              "      <td>NaN</td>\n",
              "      <td>NaN</td>\n",
              "      <td>NaN</td>\n",
              "      <td>NaN</td>\n",
              "      <td>NaN</td>\n",
              "      <td>NaN</td>\n",
              "      <td>NaN</td>\n",
              "      <td>...</td>\n",
              "      <td>NaN</td>\n",
              "      <td>NaN</td>\n",
              "      <td>NaN</td>\n",
              "      <td>NaN</td>\n",
              "      <td>NaN</td>\n",
              "      <td>NaN</td>\n",
              "      <td>NaN</td>\n",
              "      <td>NaN</td>\n",
              "      <td>NaN</td>\n",
              "      <td>NaN</td>\n",
              "      <td>NaN</td>\n",
              "      <td>NaN</td>\n",
              "      <td>NaN</td>\n",
              "      <td>NaN</td>\n",
              "      <td>NaN</td>\n",
              "      <td>NaN</td>\n",
              "      <td>NaN</td>\n",
              "      <td>NaN</td>\n",
              "      <td>NaN</td>\n",
              "      <td>NaN</td>\n",
              "      <td>NaN</td>\n",
              "      <td>NaN</td>\n",
              "      <td>NaN</td>\n",
              "      <td>NaN</td>\n",
              "      <td>NaN</td>\n",
              "      <td>NaN</td>\n",
              "      <td>NaN</td>\n",
              "      <td>NaN</td>\n",
              "      <td>NaN</td>\n",
              "      <td>NaN</td>\n",
              "      <td>NaN</td>\n",
              "      <td>NaN</td>\n",
              "      <td>NaN</td>\n",
              "      <td>NaN</td>\n",
              "      <td>NaN</td>\n",
              "      <td>NaN</td>\n",
              "      <td>NaN</td>\n",
              "      <td>NaN</td>\n",
              "      <td>NaN</td>\n",
              "      <td>NaN</td>\n",
              "    </tr>\n",
              "    <tr>\n",
              "      <th>3</th>\n",
              "      <td>3</td>\n",
              "      <td>ITTA Affiliation 2013</td>\n",
              "      <td>&lt;p style=\"margin-bottom: 1.3em; padding-bottom...</td>\n",
              "      <td>NaN</td>\n",
              "      <td>NaN</td>\n",
              "      <td>False</td>\n",
              "      <td>NaN</td>\n",
              "      <td>NaN</td>\n",
              "      <td>NaN</td>\n",
              "      <td>NaN</td>\n",
              "      <td>NaN</td>\n",
              "      <td>NaN</td>\n",
              "      <td>NaN</td>\n",
              "      <td>NaN</td>\n",
              "      <td>NaN</td>\n",
              "      <td>NaN</td>\n",
              "      <td>NaN</td>\n",
              "      <td>NaN</td>\n",
              "      <td>NaN</td>\n",
              "      <td>NaN</td>\n",
              "      <td>NaN</td>\n",
              "      <td>NaN</td>\n",
              "      <td>NaN</td>\n",
              "      <td>NaN</td>\n",
              "      <td>NaN</td>\n",
              "      <td>NaN</td>\n",
              "      <td>NaN</td>\n",
              "      <td>NaN</td>\n",
              "      <td>NaN</td>\n",
              "      <td>NaN</td>\n",
              "      <td>NaN</td>\n",
              "      <td>NaN</td>\n",
              "      <td>NaN</td>\n",
              "      <td>NaN</td>\n",
              "      <td>NaN</td>\n",
              "      <td>NaN</td>\n",
              "      <td>NaN</td>\n",
              "      <td>NaN</td>\n",
              "      <td>NaN</td>\n",
              "      <td>NaN</td>\n",
              "      <td>...</td>\n",
              "      <td>NaN</td>\n",
              "      <td>NaN</td>\n",
              "      <td>NaN</td>\n",
              "      <td>NaN</td>\n",
              "      <td>NaN</td>\n",
              "      <td>NaN</td>\n",
              "      <td>NaN</td>\n",
              "      <td>NaN</td>\n",
              "      <td>NaN</td>\n",
              "      <td>NaN</td>\n",
              "      <td>NaN</td>\n",
              "      <td>NaN</td>\n",
              "      <td>NaN</td>\n",
              "      <td>NaN</td>\n",
              "      <td>NaN</td>\n",
              "      <td>NaN</td>\n",
              "      <td>NaN</td>\n",
              "      <td>NaN</td>\n",
              "      <td>NaN</td>\n",
              "      <td>NaN</td>\n",
              "      <td>NaN</td>\n",
              "      <td>NaN</td>\n",
              "      <td>NaN</td>\n",
              "      <td>NaN</td>\n",
              "      <td>NaN</td>\n",
              "      <td>NaN</td>\n",
              "      <td>NaN</td>\n",
              "      <td>NaN</td>\n",
              "      <td>NaN</td>\n",
              "      <td>NaN</td>\n",
              "      <td>NaN</td>\n",
              "      <td>NaN</td>\n",
              "      <td>NaN</td>\n",
              "      <td>NaN</td>\n",
              "      <td>NaN</td>\n",
              "      <td>NaN</td>\n",
              "      <td>NaN</td>\n",
              "      <td>NaN</td>\n",
              "      <td>NaN</td>\n",
              "      <td>NaN</td>\n",
              "    </tr>\n",
              "    <tr>\n",
              "      <th>4</th>\n",
              "      <td>4</td>\n",
              "      <td>Self Defense for Writers and Filmmakers: For A...</td>\n",
              "      <td>&lt;p&gt;Writers and filmmakers need to understand t...</td>\n",
              "      <td>Arts &amp; Business Council of Greater Boston</td>\n",
              "      <td>&lt;p&gt;&lt;font face=\"Arial\"&gt;&lt;font size=\"2\"&gt;&lt;strong&gt;T...</td>\n",
              "      <td>False</td>\n",
              "      <td>NaN</td>\n",
              "      <td>NaN</td>\n",
              "      <td>NaN</td>\n",
              "      <td>NaN</td>\n",
              "      <td>NaN</td>\n",
              "      <td>NaN</td>\n",
              "      <td>NaN</td>\n",
              "      <td>NaN</td>\n",
              "      <td>NaN</td>\n",
              "      <td>NaN</td>\n",
              "      <td>NaN</td>\n",
              "      <td>NaN</td>\n",
              "      <td>NaN</td>\n",
              "      <td>NaN</td>\n",
              "      <td>NaN</td>\n",
              "      <td>NaN</td>\n",
              "      <td>NaN</td>\n",
              "      <td>NaN</td>\n",
              "      <td>NaN</td>\n",
              "      <td>NaN</td>\n",
              "      <td>NaN</td>\n",
              "      <td>NaN</td>\n",
              "      <td>NaN</td>\n",
              "      <td>NaN</td>\n",
              "      <td>NaN</td>\n",
              "      <td>NaN</td>\n",
              "      <td>NaN</td>\n",
              "      <td>NaN</td>\n",
              "      <td>NaN</td>\n",
              "      <td>NaN</td>\n",
              "      <td>NaN</td>\n",
              "      <td>NaN</td>\n",
              "      <td>NaN</td>\n",
              "      <td>NaN</td>\n",
              "      <td>...</td>\n",
              "      <td>NaN</td>\n",
              "      <td>NaN</td>\n",
              "      <td>NaN</td>\n",
              "      <td>NaN</td>\n",
              "      <td>NaN</td>\n",
              "      <td>NaN</td>\n",
              "      <td>NaN</td>\n",
              "      <td>NaN</td>\n",
              "      <td>NaN</td>\n",
              "      <td>NaN</td>\n",
              "      <td>NaN</td>\n",
              "      <td>NaN</td>\n",
              "      <td>NaN</td>\n",
              "      <td>NaN</td>\n",
              "      <td>NaN</td>\n",
              "      <td>NaN</td>\n",
              "      <td>NaN</td>\n",
              "      <td>NaN</td>\n",
              "      <td>NaN</td>\n",
              "      <td>NaN</td>\n",
              "      <td>NaN</td>\n",
              "      <td>NaN</td>\n",
              "      <td>NaN</td>\n",
              "      <td>NaN</td>\n",
              "      <td>NaN</td>\n",
              "      <td>NaN</td>\n",
              "      <td>NaN</td>\n",
              "      <td>NaN</td>\n",
              "      <td>NaN</td>\n",
              "      <td>NaN</td>\n",
              "      <td>NaN</td>\n",
              "      <td>NaN</td>\n",
              "      <td>NaN</td>\n",
              "      <td>NaN</td>\n",
              "      <td>NaN</td>\n",
              "      <td>NaN</td>\n",
              "      <td>NaN</td>\n",
              "      <td>NaN</td>\n",
              "      <td>NaN</td>\n",
              "      <td>NaN</td>\n",
              "    </tr>\n",
              "  </tbody>\n",
              "</table>\n",
              "<p>5 rows × 148 columns</p>\n",
              "</div>"
            ],
            "text/plain": [
              "   Unnamed: 0  ... Unnamed: 147\n",
              "0           0  ...          NaN\n",
              "1           1  ...          NaN\n",
              "2           2  ...          NaN\n",
              "3           3  ...          NaN\n",
              "4           4  ...          NaN\n",
              "\n",
              "[5 rows x 148 columns]"
            ]
          },
          "metadata": {
            "tags": []
          },
          "execution_count": 129
        }
      ]
    },
    {
      "cell_type": "code",
      "metadata": {
        "colab": {
          "base_uri": "https://localhost:8080/"
        },
        "id": "jJjZAaFo0kgo",
        "outputId": "cc81169d-187b-46c3-c06c-10ea268dc0c1"
      },
      "source": [
        "X=parsed_checked.iloc[:,1:4]\r\n",
        "X.head(5)\r\n",
        "y=parsed_checked.iloc[:,5]\r\n",
        "y.head(5)"
      ],
      "execution_count": null,
      "outputs": [
        {
          "output_type": "execute_result",
          "data": {
            "text/plain": [
              "0     True\n",
              "1    False\n",
              "2    False\n",
              "3    False\n",
              "4    False\n",
              "Name: fraud, dtype: object"
            ]
          },
          "metadata": {
            "tags": []
          },
          "execution_count": 15
        }
      ]
    },
    {
      "cell_type": "code",
      "metadata": {
        "id": "qswfJcHrvks5"
      },
      "source": [
        "import seaborn as sns\r\n",
        "from spacy.util import minibatch\r\n",
        "from sklearn.metrics import accuracy_score\r\n",
        "from sklearn.metrics import confusion_matrix\r\n",
        "from matplotlib import pyplot as plt "
      ],
      "execution_count": null,
      "outputs": []
    },
    {
      "cell_type": "code",
      "metadata": {
        "id": "ets33rjJylgb"
      },
      "source": [
        "import spacy as spacy"
      ],
      "execution_count": null,
      "outputs": []
    },
    {
      "cell_type": "code",
      "metadata": {
        "id": "JPaockMEytyV"
      },
      "source": [
        "from sklearn.model_selection import train_test_split"
      ],
      "execution_count": null,
      "outputs": []
    },
    {
      "cell_type": "code",
      "metadata": {
        "id": "RZvCW39cyamD"
      },
      "source": [
        "nlp=spacy.blank('en')"
      ],
      "execution_count": null,
      "outputs": []
    },
    {
      "cell_type": "code",
      "metadata": {
        "id": "-R0eB4kryuy8"
      },
      "source": [
        "text_cat=nlp.create_pipe('textcat',config=({'exclusive_classes':True,'architecture':'bow'}))"
      ],
      "execution_count": null,
      "outputs": []
    },
    {
      "cell_type": "code",
      "metadata": {
        "id": "z19Rc8ubzVAF"
      },
      "source": [
        "nlp.add_pipe(text_cat)"
      ],
      "execution_count": null,
      "outputs": []
    },
    {
      "cell_type": "code",
      "metadata": {
        "colab": {
          "base_uri": "https://localhost:8080/"
        },
        "id": "TyZb1J-1zZN9",
        "outputId": "32e10e07-bbb9-44a3-f558-4e0831e1f222"
      },
      "source": [
        "text_cat.add_label('not_fraud')\r\n",
        "text_cat.add_label('fraud')"
      ],
      "execution_count": null,
      "outputs": [
        {
          "output_type": "execute_result",
          "data": {
            "text/plain": [
              "1"
            ]
          },
          "metadata": {
            "tags": []
          },
          "execution_count": 26
        }
      ]
    },
    {
      "cell_type": "code",
      "metadata": {
        "colab": {
          "base_uri": "https://localhost:8080/"
        },
        "id": "xhSQXTDtcM0X",
        "outputId": "ecaa4318-c7a1-4bd3-fd6f-aac57f79be14"
      },
      "source": [
        "text_cat"
      ],
      "execution_count": null,
      "outputs": [
        {
          "output_type": "execute_result",
          "data": {
            "text/plain": [
              "<spacy.pipeline.pipes.TextCategorizer at 0x7f5694648908>"
            ]
          },
          "metadata": {
            "tags": []
          },
          "execution_count": 209
        }
      ]
    },
    {
      "cell_type": "code",
      "metadata": {
        "id": "icAmZaQAcOsP"
      },
      "source": [
        ""
      ],
      "execution_count": null,
      "outputs": []
    },
    {
      "cell_type": "code",
      "metadata": {
        "id": "7XXUldKlzjJo"
      },
      "source": [
        "X_train,X_test,y_train,y_test=train_test_split(X,y,test_size=0.2,random_state=20)"
      ],
      "execution_count": null,
      "outputs": []
    },
    {
      "cell_type": "code",
      "metadata": {
        "id": "3lN22dXf3hB2",
        "colab": {
          "base_uri": "https://localhost:8080/"
        },
        "outputId": "a21597c5-1e04-4900-8739-20b7cda0c460"
      },
      "source": [
        "y_train[0:5]"
      ],
      "execution_count": null,
      "outputs": [
        {
          "output_type": "execute_result",
          "data": {
            "text/plain": [
              "10582    False\n",
              "1953     False\n",
              "8823     False\n",
              "4302     False\n",
              "10081    False\n",
              "Name: fraud, dtype: object"
            ]
          },
          "metadata": {
            "tags": []
          },
          "execution_count": 334
        }
      ]
    },
    {
      "cell_type": "code",
      "metadata": {
        "id": "9piIpuZyTzv5"
      },
      "source": [
        ""
      ],
      "execution_count": null,
      "outputs": []
    },
    {
      "cell_type": "code",
      "metadata": {
        "id": "QK2J9mjX1l4V"
      },
      "source": [
        "train_labels=[{'cats':{'fraud':label=='True','not_fraud':label=='False'}} for label in y_train]\r\n",
        "test_labels=[{'cats':{'fraud':label=='True','not_fraud':label=='False'}} for label in y_test]"
      ],
      "execution_count": null,
      "outputs": []
    },
    {
      "cell_type": "code",
      "metadata": {
        "id": "Buxa6jFbhhtO"
      },
      "source": [
        ""
      ],
      "execution_count": null,
      "outputs": []
    },
    {
      "cell_type": "code",
      "metadata": {
        "id": "JKmKsRpGfdFk"
      },
      "source": [
        ""
      ],
      "execution_count": null,
      "outputs": []
    },
    {
      "cell_type": "code",
      "metadata": {
        "colab": {
          "base_uri": "https://localhost:8080/"
        },
        "id": "ZrhWZTdIT_Lw",
        "outputId": "8397ad2b-5c62-48e3-cf39-f4ffe07c5e46"
      },
      "source": [
        "train_labels"
      ],
      "execution_count": null,
      "outputs": [
        {
          "output_type": "execute_result",
          "data": {
            "text/plain": [
              "[{'cats': {'fraud': True, 'not_fraud': False}},\n",
              " {'cats': {'fraud': False, 'not_fraud': True}},\n",
              " {'cats': {'fraud': False, 'not_fraud': False}},\n",
              " {'cats': {'fraud': False, 'not_fraud': True}},\n",
              " {'cats': {'fraud': True, 'not_fraud': False}},\n",
              " {'cats': {'fraud': False, 'not_fraud': True}},\n",
              " {'cats': {'fraud': False, 'not_fraud': True}},\n",
              " {'cats': {'fraud': False, 'not_fraud': True}},\n",
              " {'cats': {'fraud': False, 'not_fraud': True}},\n",
              " {'cats': {'fraud': False, 'not_fraud': True}},\n",
              " {'cats': {'fraud': False, 'not_fraud': True}},\n",
              " {'cats': {'fraud': False, 'not_fraud': True}},\n",
              " {'cats': {'fraud': False, 'not_fraud': True}},\n",
              " {'cats': {'fraud': False, 'not_fraud': True}},\n",
              " {'cats': {'fraud': False, 'not_fraud': True}},\n",
              " {'cats': {'fraud': False, 'not_fraud': True}},\n",
              " {'cats': {'fraud': False, 'not_fraud': True}},\n",
              " {'cats': {'fraud': False, 'not_fraud': True}},\n",
              " {'cats': {'fraud': False, 'not_fraud': True}},\n",
              " {'cats': {'fraud': False, 'not_fraud': True}},\n",
              " {'cats': {'fraud': False, 'not_fraud': True}},\n",
              " {'cats': {'fraud': False, 'not_fraud': True}},\n",
              " {'cats': {'fraud': False, 'not_fraud': True}},\n",
              " {'cats': {'fraud': False, 'not_fraud': True}},\n",
              " {'cats': {'fraud': False, 'not_fraud': True}},\n",
              " {'cats': {'fraud': False, 'not_fraud': True}},\n",
              " {'cats': {'fraud': False, 'not_fraud': True}},\n",
              " {'cats': {'fraud': False, 'not_fraud': True}},\n",
              " {'cats': {'fraud': False, 'not_fraud': True}},\n",
              " {'cats': {'fraud': False, 'not_fraud': True}},\n",
              " {'cats': {'fraud': False, 'not_fraud': True}},\n",
              " {'cats': {'fraud': False, 'not_fraud': True}},\n",
              " {'cats': {'fraud': False, 'not_fraud': True}},\n",
              " {'cats': {'fraud': False, 'not_fraud': True}},\n",
              " {'cats': {'fraud': False, 'not_fraud': True}},\n",
              " {'cats': {'fraud': False, 'not_fraud': True}},\n",
              " {'cats': {'fraud': False, 'not_fraud': True}},\n",
              " {'cats': {'fraud': True, 'not_fraud': False}},\n",
              " {'cats': {'fraud': False, 'not_fraud': True}},\n",
              " {'cats': {'fraud': False, 'not_fraud': True}},\n",
              " {'cats': {'fraud': False, 'not_fraud': True}},\n",
              " {'cats': {'fraud': False, 'not_fraud': True}},\n",
              " {'cats': {'fraud': False, 'not_fraud': True}},\n",
              " {'cats': {'fraud': False, 'not_fraud': True}},\n",
              " {'cats': {'fraud': False, 'not_fraud': True}},\n",
              " {'cats': {'fraud': False, 'not_fraud': True}},\n",
              " {'cats': {'fraud': False, 'not_fraud': True}},\n",
              " {'cats': {'fraud': False, 'not_fraud': True}},\n",
              " {'cats': {'fraud': True, 'not_fraud': False}},\n",
              " {'cats': {'fraud': False, 'not_fraud': True}},\n",
              " {'cats': {'fraud': False, 'not_fraud': True}},\n",
              " {'cats': {'fraud': False, 'not_fraud': True}},\n",
              " {'cats': {'fraud': False, 'not_fraud': True}},\n",
              " {'cats': {'fraud': False, 'not_fraud': True}},\n",
              " {'cats': {'fraud': True, 'not_fraud': False}},\n",
              " {'cats': {'fraud': True, 'not_fraud': False}},\n",
              " {'cats': {'fraud': False, 'not_fraud': True}},\n",
              " {'cats': {'fraud': False, 'not_fraud': True}},\n",
              " {'cats': {'fraud': False, 'not_fraud': True}},\n",
              " {'cats': {'fraud': False, 'not_fraud': True}},\n",
              " {'cats': {'fraud': False, 'not_fraud': True}},\n",
              " {'cats': {'fraud': False, 'not_fraud': True}},\n",
              " {'cats': {'fraud': False, 'not_fraud': True}},\n",
              " {'cats': {'fraud': False, 'not_fraud': True}},\n",
              " {'cats': {'fraud': False, 'not_fraud': True}},\n",
              " {'cats': {'fraud': False, 'not_fraud': True}},\n",
              " {'cats': {'fraud': False, 'not_fraud': True}},\n",
              " {'cats': {'fraud': True, 'not_fraud': False}},\n",
              " {'cats': {'fraud': False, 'not_fraud': True}},\n",
              " {'cats': {'fraud': False, 'not_fraud': True}},\n",
              " {'cats': {'fraud': False, 'not_fraud': True}},\n",
              " {'cats': {'fraud': False, 'not_fraud': True}},\n",
              " {'cats': {'fraud': False, 'not_fraud': True}},\n",
              " {'cats': {'fraud': False, 'not_fraud': True}},\n",
              " {'cats': {'fraud': False, 'not_fraud': True}},\n",
              " {'cats': {'fraud': True, 'not_fraud': False}},\n",
              " {'cats': {'fraud': False, 'not_fraud': True}},\n",
              " {'cats': {'fraud': False, 'not_fraud': True}},\n",
              " {'cats': {'fraud': False, 'not_fraud': True}},\n",
              " {'cats': {'fraud': False, 'not_fraud': True}},\n",
              " {'cats': {'fraud': False, 'not_fraud': True}},\n",
              " {'cats': {'fraud': False, 'not_fraud': True}},\n",
              " {'cats': {'fraud': False, 'not_fraud': True}},\n",
              " {'cats': {'fraud': False, 'not_fraud': True}},\n",
              " {'cats': {'fraud': False, 'not_fraud': True}},\n",
              " {'cats': {'fraud': False, 'not_fraud': True}},\n",
              " {'cats': {'fraud': False, 'not_fraud': True}},\n",
              " {'cats': {'fraud': False, 'not_fraud': True}},\n",
              " {'cats': {'fraud': False, 'not_fraud': True}},\n",
              " {'cats': {'fraud': False, 'not_fraud': True}},\n",
              " {'cats': {'fraud': False, 'not_fraud': True}},\n",
              " {'cats': {'fraud': False, 'not_fraud': True}},\n",
              " {'cats': {'fraud': False, 'not_fraud': True}},\n",
              " {'cats': {'fraud': False, 'not_fraud': True}},\n",
              " {'cats': {'fraud': False, 'not_fraud': True}},\n",
              " {'cats': {'fraud': False, 'not_fraud': True}},\n",
              " {'cats': {'fraud': False, 'not_fraud': True}},\n",
              " {'cats': {'fraud': True, 'not_fraud': False}},\n",
              " {'cats': {'fraud': False, 'not_fraud': True}},\n",
              " {'cats': {'fraud': True, 'not_fraud': False}},\n",
              " {'cats': {'fraud': False, 'not_fraud': True}},\n",
              " {'cats': {'fraud': False, 'not_fraud': True}},\n",
              " {'cats': {'fraud': False, 'not_fraud': True}},\n",
              " {'cats': {'fraud': False, 'not_fraud': True}},\n",
              " {'cats': {'fraud': True, 'not_fraud': False}},\n",
              " {'cats': {'fraud': False, 'not_fraud': True}},\n",
              " {'cats': {'fraud': False, 'not_fraud': True}},\n",
              " {'cats': {'fraud': False, 'not_fraud': True}},\n",
              " {'cats': {'fraud': True, 'not_fraud': False}},\n",
              " {'cats': {'fraud': False, 'not_fraud': True}},\n",
              " {'cats': {'fraud': False, 'not_fraud': True}},\n",
              " {'cats': {'fraud': False, 'not_fraud': True}},\n",
              " {'cats': {'fraud': False, 'not_fraud': True}},\n",
              " {'cats': {'fraud': True, 'not_fraud': False}},\n",
              " {'cats': {'fraud': False, 'not_fraud': True}},\n",
              " {'cats': {'fraud': False, 'not_fraud': True}},\n",
              " {'cats': {'fraud': False, 'not_fraud': True}},\n",
              " {'cats': {'fraud': False, 'not_fraud': True}},\n",
              " {'cats': {'fraud': False, 'not_fraud': True}},\n",
              " {'cats': {'fraud': False, 'not_fraud': True}},\n",
              " {'cats': {'fraud': False, 'not_fraud': True}},\n",
              " {'cats': {'fraud': False, 'not_fraud': True}},\n",
              " {'cats': {'fraud': False, 'not_fraud': True}},\n",
              " {'cats': {'fraud': True, 'not_fraud': False}},\n",
              " {'cats': {'fraud': False, 'not_fraud': True}},\n",
              " {'cats': {'fraud': False, 'not_fraud': True}},\n",
              " {'cats': {'fraud': False, 'not_fraud': True}},\n",
              " {'cats': {'fraud': False, 'not_fraud': True}},\n",
              " {'cats': {'fraud': False, 'not_fraud': True}},\n",
              " {'cats': {'fraud': False, 'not_fraud': True}},\n",
              " {'cats': {'fraud': False, 'not_fraud': True}},\n",
              " {'cats': {'fraud': False, 'not_fraud': True}},\n",
              " {'cats': {'fraud': False, 'not_fraud': True}},\n",
              " {'cats': {'fraud': False, 'not_fraud': True}},\n",
              " {'cats': {'fraud': False, 'not_fraud': True}},\n",
              " {'cats': {'fraud': False, 'not_fraud': True}},\n",
              " {'cats': {'fraud': False, 'not_fraud': True}},\n",
              " {'cats': {'fraud': False, 'not_fraud': True}},\n",
              " {'cats': {'fraud': False, 'not_fraud': True}},\n",
              " {'cats': {'fraud': False, 'not_fraud': True}},\n",
              " {'cats': {'fraud': False, 'not_fraud': True}},\n",
              " {'cats': {'fraud': False, 'not_fraud': True}},\n",
              " {'cats': {'fraud': False, 'not_fraud': True}},\n",
              " {'cats': {'fraud': True, 'not_fraud': False}},\n",
              " {'cats': {'fraud': False, 'not_fraud': True}},\n",
              " {'cats': {'fraud': False, 'not_fraud': True}},\n",
              " {'cats': {'fraud': False, 'not_fraud': True}},\n",
              " {'cats': {'fraud': False, 'not_fraud': True}},\n",
              " {'cats': {'fraud': False, 'not_fraud': True}},\n",
              " {'cats': {'fraud': False, 'not_fraud': True}},\n",
              " {'cats': {'fraud': False, 'not_fraud': True}},\n",
              " {'cats': {'fraud': False, 'not_fraud': True}},\n",
              " {'cats': {'fraud': False, 'not_fraud': True}},\n",
              " {'cats': {'fraud': False, 'not_fraud': True}},\n",
              " {'cats': {'fraud': False, 'not_fraud': True}},\n",
              " {'cats': {'fraud': True, 'not_fraud': False}},\n",
              " {'cats': {'fraud': False, 'not_fraud': True}},\n",
              " {'cats': {'fraud': False, 'not_fraud': True}},\n",
              " {'cats': {'fraud': False, 'not_fraud': True}},\n",
              " {'cats': {'fraud': False, 'not_fraud': True}},\n",
              " {'cats': {'fraud': False, 'not_fraud': True}},\n",
              " {'cats': {'fraud': False, 'not_fraud': True}},\n",
              " {'cats': {'fraud': False, 'not_fraud': True}},\n",
              " {'cats': {'fraud': False, 'not_fraud': True}},\n",
              " {'cats': {'fraud': True, 'not_fraud': False}},\n",
              " {'cats': {'fraud': False, 'not_fraud': True}},\n",
              " {'cats': {'fraud': False, 'not_fraud': True}},\n",
              " {'cats': {'fraud': False, 'not_fraud': True}},\n",
              " {'cats': {'fraud': False, 'not_fraud': True}},\n",
              " {'cats': {'fraud': False, 'not_fraud': True}},\n",
              " {'cats': {'fraud': False, 'not_fraud': True}},\n",
              " {'cats': {'fraud': False, 'not_fraud': True}},\n",
              " {'cats': {'fraud': True, 'not_fraud': False}},\n",
              " {'cats': {'fraud': False, 'not_fraud': True}},\n",
              " {'cats': {'fraud': False, 'not_fraud': True}},\n",
              " {'cats': {'fraud': False, 'not_fraud': True}},\n",
              " {'cats': {'fraud': False, 'not_fraud': True}},\n",
              " {'cats': {'fraud': False, 'not_fraud': True}},\n",
              " {'cats': {'fraud': False, 'not_fraud': True}},\n",
              " {'cats': {'fraud': False, 'not_fraud': True}},\n",
              " {'cats': {'fraud': False, 'not_fraud': True}},\n",
              " {'cats': {'fraud': False, 'not_fraud': True}},\n",
              " {'cats': {'fraud': False, 'not_fraud': True}},\n",
              " {'cats': {'fraud': False, 'not_fraud': True}},\n",
              " {'cats': {'fraud': False, 'not_fraud': True}},\n",
              " {'cats': {'fraud': False, 'not_fraud': True}},\n",
              " {'cats': {'fraud': False, 'not_fraud': True}},\n",
              " {'cats': {'fraud': False, 'not_fraud': True}},\n",
              " {'cats': {'fraud': True, 'not_fraud': False}},\n",
              " {'cats': {'fraud': False, 'not_fraud': True}},\n",
              " {'cats': {'fraud': False, 'not_fraud': True}},\n",
              " {'cats': {'fraud': False, 'not_fraud': True}},\n",
              " {'cats': {'fraud': False, 'not_fraud': True}},\n",
              " {'cats': {'fraud': False, 'not_fraud': True}},\n",
              " {'cats': {'fraud': False, 'not_fraud': False}},\n",
              " {'cats': {'fraud': False, 'not_fraud': True}},\n",
              " {'cats': {'fraud': False, 'not_fraud': True}},\n",
              " {'cats': {'fraud': False, 'not_fraud': True}},\n",
              " {'cats': {'fraud': False, 'not_fraud': True}},\n",
              " {'cats': {'fraud': True, 'not_fraud': False}},\n",
              " {'cats': {'fraud': False, 'not_fraud': True}},\n",
              " {'cats': {'fraud': False, 'not_fraud': True}},\n",
              " {'cats': {'fraud': False, 'not_fraud': False}},\n",
              " {'cats': {'fraud': False, 'not_fraud': True}},\n",
              " {'cats': {'fraud': False, 'not_fraud': True}},\n",
              " {'cats': {'fraud': False, 'not_fraud': True}},\n",
              " {'cats': {'fraud': False, 'not_fraud': True}},\n",
              " {'cats': {'fraud': False, 'not_fraud': True}},\n",
              " {'cats': {'fraud': False, 'not_fraud': True}},\n",
              " {'cats': {'fraud': False, 'not_fraud': True}},\n",
              " {'cats': {'fraud': False, 'not_fraud': True}},\n",
              " {'cats': {'fraud': False, 'not_fraud': True}},\n",
              " {'cats': {'fraud': False, 'not_fraud': True}},\n",
              " {'cats': {'fraud': False, 'not_fraud': True}},\n",
              " {'cats': {'fraud': False, 'not_fraud': True}},\n",
              " {'cats': {'fraud': False, 'not_fraud': True}},\n",
              " {'cats': {'fraud': False, 'not_fraud': True}},\n",
              " {'cats': {'fraud': False, 'not_fraud': True}},\n",
              " {'cats': {'fraud': False, 'not_fraud': True}},\n",
              " {'cats': {'fraud': False, 'not_fraud': True}},\n",
              " {'cats': {'fraud': False, 'not_fraud': True}},\n",
              " {'cats': {'fraud': False, 'not_fraud': True}},\n",
              " {'cats': {'fraud': False, 'not_fraud': True}},\n",
              " {'cats': {'fraud': True, 'not_fraud': False}},\n",
              " {'cats': {'fraud': False, 'not_fraud': True}},\n",
              " {'cats': {'fraud': False, 'not_fraud': True}},\n",
              " {'cats': {'fraud': False, 'not_fraud': True}},\n",
              " {'cats': {'fraud': False, 'not_fraud': True}},\n",
              " {'cats': {'fraud': False, 'not_fraud': True}},\n",
              " {'cats': {'fraud': False, 'not_fraud': True}},\n",
              " {'cats': {'fraud': False, 'not_fraud': True}},\n",
              " {'cats': {'fraud': False, 'not_fraud': True}},\n",
              " {'cats': {'fraud': False, 'not_fraud': True}},\n",
              " {'cats': {'fraud': False, 'not_fraud': True}},\n",
              " {'cats': {'fraud': False, 'not_fraud': True}},\n",
              " {'cats': {'fraud': False, 'not_fraud': True}},\n",
              " {'cats': {'fraud': False, 'not_fraud': True}},\n",
              " {'cats': {'fraud': False, 'not_fraud': True}},\n",
              " {'cats': {'fraud': False, 'not_fraud': True}},\n",
              " {'cats': {'fraud': False, 'not_fraud': True}},\n",
              " {'cats': {'fraud': False, 'not_fraud': True}},\n",
              " {'cats': {'fraud': False, 'not_fraud': False}},\n",
              " {'cats': {'fraud': False, 'not_fraud': True}},\n",
              " {'cats': {'fraud': False, 'not_fraud': True}},\n",
              " {'cats': {'fraud': False, 'not_fraud': True}},\n",
              " {'cats': {'fraud': False, 'not_fraud': True}},\n",
              " {'cats': {'fraud': False, 'not_fraud': True}},\n",
              " {'cats': {'fraud': False, 'not_fraud': True}},\n",
              " {'cats': {'fraud': False, 'not_fraud': True}},\n",
              " {'cats': {'fraud': False, 'not_fraud': True}},\n",
              " {'cats': {'fraud': False, 'not_fraud': True}},\n",
              " {'cats': {'fraud': False, 'not_fraud': True}},\n",
              " {'cats': {'fraud': False, 'not_fraud': True}},\n",
              " {'cats': {'fraud': False, 'not_fraud': True}},\n",
              " {'cats': {'fraud': False, 'not_fraud': True}},\n",
              " {'cats': {'fraud': False, 'not_fraud': True}},\n",
              " {'cats': {'fraud': False, 'not_fraud': True}},\n",
              " {'cats': {'fraud': False, 'not_fraud': True}},\n",
              " {'cats': {'fraud': False, 'not_fraud': True}},\n",
              " {'cats': {'fraud': False, 'not_fraud': True}},\n",
              " {'cats': {'fraud': False, 'not_fraud': True}},\n",
              " {'cats': {'fraud': False, 'not_fraud': True}},\n",
              " {'cats': {'fraud': False, 'not_fraud': True}},\n",
              " {'cats': {'fraud': False, 'not_fraud': True}},\n",
              " {'cats': {'fraud': False, 'not_fraud': True}},\n",
              " {'cats': {'fraud': False, 'not_fraud': True}},\n",
              " {'cats': {'fraud': False, 'not_fraud': True}},\n",
              " {'cats': {'fraud': False, 'not_fraud': True}},\n",
              " {'cats': {'fraud': False, 'not_fraud': True}},\n",
              " {'cats': {'fraud': False, 'not_fraud': True}},\n",
              " {'cats': {'fraud': False, 'not_fraud': True}},\n",
              " {'cats': {'fraud': False, 'not_fraud': True}},\n",
              " {'cats': {'fraud': False, 'not_fraud': True}},\n",
              " {'cats': {'fraud': False, 'not_fraud': True}},\n",
              " {'cats': {'fraud': False, 'not_fraud': True}},\n",
              " {'cats': {'fraud': True, 'not_fraud': False}},\n",
              " {'cats': {'fraud': False, 'not_fraud': True}},\n",
              " {'cats': {'fraud': False, 'not_fraud': True}},\n",
              " {'cats': {'fraud': False, 'not_fraud': True}},\n",
              " {'cats': {'fraud': True, 'not_fraud': False}},\n",
              " {'cats': {'fraud': False, 'not_fraud': True}},\n",
              " {'cats': {'fraud': False, 'not_fraud': True}},\n",
              " {'cats': {'fraud': False, 'not_fraud': True}},\n",
              " {'cats': {'fraud': False, 'not_fraud': True}},\n",
              " {'cats': {'fraud': False, 'not_fraud': True}},\n",
              " {'cats': {'fraud': False, 'not_fraud': True}},\n",
              " {'cats': {'fraud': False, 'not_fraud': True}},\n",
              " {'cats': {'fraud': False, 'not_fraud': True}},\n",
              " {'cats': {'fraud': False, 'not_fraud': True}},\n",
              " {'cats': {'fraud': False, 'not_fraud': True}},\n",
              " {'cats': {'fraud': False, 'not_fraud': True}},\n",
              " {'cats': {'fraud': True, 'not_fraud': False}},\n",
              " {'cats': {'fraud': False, 'not_fraud': True}},\n",
              " {'cats': {'fraud': False, 'not_fraud': True}},\n",
              " {'cats': {'fraud': False, 'not_fraud': True}},\n",
              " {'cats': {'fraud': False, 'not_fraud': True}},\n",
              " {'cats': {'fraud': False, 'not_fraud': True}},\n",
              " {'cats': {'fraud': False, 'not_fraud': True}},\n",
              " {'cats': {'fraud': True, 'not_fraud': False}},\n",
              " {'cats': {'fraud': False, 'not_fraud': True}},\n",
              " {'cats': {'fraud': False, 'not_fraud': True}},\n",
              " {'cats': {'fraud': False, 'not_fraud': True}},\n",
              " {'cats': {'fraud': False, 'not_fraud': True}},\n",
              " {'cats': {'fraud': False, 'not_fraud': True}},\n",
              " {'cats': {'fraud': False, 'not_fraud': True}},\n",
              " {'cats': {'fraud': False, 'not_fraud': True}},\n",
              " {'cats': {'fraud': False, 'not_fraud': True}},\n",
              " {'cats': {'fraud': False, 'not_fraud': True}},\n",
              " {'cats': {'fraud': False, 'not_fraud': True}},\n",
              " {'cats': {'fraud': False, 'not_fraud': True}},\n",
              " {'cats': {'fraud': False, 'not_fraud': True}},\n",
              " {'cats': {'fraud': False, 'not_fraud': True}},\n",
              " {'cats': {'fraud': True, 'not_fraud': False}},\n",
              " {'cats': {'fraud': False, 'not_fraud': True}},\n",
              " {'cats': {'fraud': False, 'not_fraud': True}},\n",
              " {'cats': {'fraud': False, 'not_fraud': True}},\n",
              " {'cats': {'fraud': False, 'not_fraud': True}},\n",
              " {'cats': {'fraud': False, 'not_fraud': True}},\n",
              " {'cats': {'fraud': False, 'not_fraud': True}},\n",
              " {'cats': {'fraud': False, 'not_fraud': True}},\n",
              " {'cats': {'fraud': False, 'not_fraud': True}},\n",
              " {'cats': {'fraud': False, 'not_fraud': True}},\n",
              " {'cats': {'fraud': False, 'not_fraud': True}},\n",
              " {'cats': {'fraud': False, 'not_fraud': True}},\n",
              " {'cats': {'fraud': False, 'not_fraud': True}},\n",
              " {'cats': {'fraud': False, 'not_fraud': True}},\n",
              " {'cats': {'fraud': False, 'not_fraud': True}},\n",
              " {'cats': {'fraud': False, 'not_fraud': True}},\n",
              " {'cats': {'fraud': False, 'not_fraud': True}},\n",
              " {'cats': {'fraud': False, 'not_fraud': True}},\n",
              " {'cats': {'fraud': False, 'not_fraud': True}},\n",
              " {'cats': {'fraud': False, 'not_fraud': True}},\n",
              " {'cats': {'fraud': True, 'not_fraud': False}},\n",
              " {'cats': {'fraud': False, 'not_fraud': True}},\n",
              " {'cats': {'fraud': False, 'not_fraud': True}},\n",
              " {'cats': {'fraud': False, 'not_fraud': True}},\n",
              " {'cats': {'fraud': False, 'not_fraud': True}},\n",
              " {'cats': {'fraud': False, 'not_fraud': True}},\n",
              " {'cats': {'fraud': False, 'not_fraud': True}},\n",
              " {'cats': {'fraud': False, 'not_fraud': True}},\n",
              " {'cats': {'fraud': False, 'not_fraud': True}},\n",
              " {'cats': {'fraud': False, 'not_fraud': True}},\n",
              " {'cats': {'fraud': True, 'not_fraud': False}},\n",
              " {'cats': {'fraud': False, 'not_fraud': True}},\n",
              " {'cats': {'fraud': False, 'not_fraud': True}},\n",
              " {'cats': {'fraud': False, 'not_fraud': True}},\n",
              " {'cats': {'fraud': False, 'not_fraud': True}},\n",
              " {'cats': {'fraud': False, 'not_fraud': True}},\n",
              " {'cats': {'fraud': False, 'not_fraud': True}},\n",
              " {'cats': {'fraud': False, 'not_fraud': True}},\n",
              " {'cats': {'fraud': False, 'not_fraud': True}},\n",
              " {'cats': {'fraud': False, 'not_fraud': True}},\n",
              " {'cats': {'fraud': False, 'not_fraud': True}},\n",
              " {'cats': {'fraud': False, 'not_fraud': True}},\n",
              " {'cats': {'fraud': False, 'not_fraud': True}},\n",
              " {'cats': {'fraud': False, 'not_fraud': True}},\n",
              " {'cats': {'fraud': False, 'not_fraud': True}},\n",
              " {'cats': {'fraud': False, 'not_fraud': True}},\n",
              " {'cats': {'fraud': False, 'not_fraud': True}},\n",
              " {'cats': {'fraud': False, 'not_fraud': True}},\n",
              " {'cats': {'fraud': False, 'not_fraud': True}},\n",
              " {'cats': {'fraud': False, 'not_fraud': True}},\n",
              " {'cats': {'fraud': False, 'not_fraud': True}},\n",
              " {'cats': {'fraud': False, 'not_fraud': True}},\n",
              " {'cats': {'fraud': False, 'not_fraud': True}},\n",
              " {'cats': {'fraud': False, 'not_fraud': True}},\n",
              " {'cats': {'fraud': False, 'not_fraud': True}},\n",
              " {'cats': {'fraud': False, 'not_fraud': True}},\n",
              " {'cats': {'fraud': False, 'not_fraud': True}},\n",
              " {'cats': {'fraud': False, 'not_fraud': True}},\n",
              " {'cats': {'fraud': False, 'not_fraud': True}},\n",
              " {'cats': {'fraud': False, 'not_fraud': True}},\n",
              " {'cats': {'fraud': False, 'not_fraud': True}},\n",
              " {'cats': {'fraud': False, 'not_fraud': True}},\n",
              " {'cats': {'fraud': True, 'not_fraud': False}},\n",
              " {'cats': {'fraud': False, 'not_fraud': True}},\n",
              " {'cats': {'fraud': False, 'not_fraud': True}},\n",
              " {'cats': {'fraud': False, 'not_fraud': True}},\n",
              " {'cats': {'fraud': False, 'not_fraud': True}},\n",
              " {'cats': {'fraud': False, 'not_fraud': True}},\n",
              " {'cats': {'fraud': False, 'not_fraud': True}},\n",
              " {'cats': {'fraud': True, 'not_fraud': False}},\n",
              " {'cats': {'fraud': False, 'not_fraud': True}},\n",
              " {'cats': {'fraud': False, 'not_fraud': True}},\n",
              " {'cats': {'fraud': False, 'not_fraud': True}},\n",
              " {'cats': {'fraud': False, 'not_fraud': True}},\n",
              " {'cats': {'fraud': False, 'not_fraud': True}},\n",
              " {'cats': {'fraud': False, 'not_fraud': True}},\n",
              " {'cats': {'fraud': False, 'not_fraud': True}},\n",
              " {'cats': {'fraud': False, 'not_fraud': True}},\n",
              " {'cats': {'fraud': False, 'not_fraud': True}},\n",
              " {'cats': {'fraud': False, 'not_fraud': True}},\n",
              " {'cats': {'fraud': False, 'not_fraud': True}},\n",
              " {'cats': {'fraud': True, 'not_fraud': False}},\n",
              " {'cats': {'fraud': False, 'not_fraud': True}},\n",
              " {'cats': {'fraud': False, 'not_fraud': True}},\n",
              " {'cats': {'fraud': False, 'not_fraud': True}},\n",
              " {'cats': {'fraud': True, 'not_fraud': False}},\n",
              " {'cats': {'fraud': False, 'not_fraud': True}},\n",
              " {'cats': {'fraud': False, 'not_fraud': True}},\n",
              " {'cats': {'fraud': False, 'not_fraud': True}},\n",
              " {'cats': {'fraud': False, 'not_fraud': True}},\n",
              " {'cats': {'fraud': False, 'not_fraud': True}},\n",
              " {'cats': {'fraud': False, 'not_fraud': True}},\n",
              " {'cats': {'fraud': False, 'not_fraud': True}},\n",
              " {'cats': {'fraud': False, 'not_fraud': True}},\n",
              " {'cats': {'fraud': False, 'not_fraud': True}},\n",
              " {'cats': {'fraud': False, 'not_fraud': True}},\n",
              " {'cats': {'fraud': False, 'not_fraud': True}},\n",
              " {'cats': {'fraud': False, 'not_fraud': True}},\n",
              " {'cats': {'fraud': True, 'not_fraud': False}},\n",
              " {'cats': {'fraud': False, 'not_fraud': True}},\n",
              " {'cats': {'fraud': False, 'not_fraud': True}},\n",
              " {'cats': {'fraud': False, 'not_fraud': True}},\n",
              " {'cats': {'fraud': False, 'not_fraud': True}},\n",
              " {'cats': {'fraud': False, 'not_fraud': True}},\n",
              " {'cats': {'fraud': False, 'not_fraud': True}},\n",
              " {'cats': {'fraud': False, 'not_fraud': True}},\n",
              " {'cats': {'fraud': False, 'not_fraud': True}},\n",
              " {'cats': {'fraud': False, 'not_fraud': True}},\n",
              " {'cats': {'fraud': True, 'not_fraud': False}},\n",
              " {'cats': {'fraud': False, 'not_fraud': False}},\n",
              " {'cats': {'fraud': False, 'not_fraud': True}},\n",
              " {'cats': {'fraud': True, 'not_fraud': False}},\n",
              " {'cats': {'fraud': False, 'not_fraud': True}},\n",
              " {'cats': {'fraud': False, 'not_fraud': True}},\n",
              " {'cats': {'fraud': False, 'not_fraud': True}},\n",
              " {'cats': {'fraud': False, 'not_fraud': True}},\n",
              " {'cats': {'fraud': False, 'not_fraud': True}},\n",
              " {'cats': {'fraud': False, 'not_fraud': True}},\n",
              " {'cats': {'fraud': False, 'not_fraud': True}},\n",
              " {'cats': {'fraud': False, 'not_fraud': True}},\n",
              " {'cats': {'fraud': False, 'not_fraud': True}},\n",
              " {'cats': {'fraud': False, 'not_fraud': True}},\n",
              " {'cats': {'fraud': False, 'not_fraud': True}},\n",
              " {'cats': {'fraud': True, 'not_fraud': False}},\n",
              " {'cats': {'fraud': False, 'not_fraud': True}},\n",
              " {'cats': {'fraud': False, 'not_fraud': True}},\n",
              " {'cats': {'fraud': False, 'not_fraud': True}},\n",
              " {'cats': {'fraud': False, 'not_fraud': True}},\n",
              " {'cats': {'fraud': False, 'not_fraud': True}},\n",
              " {'cats': {'fraud': False, 'not_fraud': True}},\n",
              " {'cats': {'fraud': False, 'not_fraud': True}},\n",
              " {'cats': {'fraud': False, 'not_fraud': True}},\n",
              " {'cats': {'fraud': False, 'not_fraud': True}},\n",
              " {'cats': {'fraud': False, 'not_fraud': True}},\n",
              " {'cats': {'fraud': False, 'not_fraud': True}},\n",
              " {'cats': {'fraud': False, 'not_fraud': True}},\n",
              " {'cats': {'fraud': False, 'not_fraud': True}},\n",
              " {'cats': {'fraud': False, 'not_fraud': True}},\n",
              " {'cats': {'fraud': False, 'not_fraud': True}},\n",
              " {'cats': {'fraud': True, 'not_fraud': False}},\n",
              " {'cats': {'fraud': False, 'not_fraud': True}},\n",
              " {'cats': {'fraud': False, 'not_fraud': True}},\n",
              " {'cats': {'fraud': False, 'not_fraud': True}},\n",
              " {'cats': {'fraud': True, 'not_fraud': False}},\n",
              " {'cats': {'fraud': False, 'not_fraud': True}},\n",
              " {'cats': {'fraud': True, 'not_fraud': False}},\n",
              " {'cats': {'fraud': False, 'not_fraud': True}},\n",
              " {'cats': {'fraud': False, 'not_fraud': True}},\n",
              " {'cats': {'fraud': False, 'not_fraud': True}},\n",
              " {'cats': {'fraud': False, 'not_fraud': True}},\n",
              " {'cats': {'fraud': False, 'not_fraud': True}},\n",
              " {'cats': {'fraud': True, 'not_fraud': False}},\n",
              " {'cats': {'fraud': False, 'not_fraud': True}},\n",
              " {'cats': {'fraud': False, 'not_fraud': True}},\n",
              " {'cats': {'fraud': False, 'not_fraud': True}},\n",
              " {'cats': {'fraud': False, 'not_fraud': True}},\n",
              " {'cats': {'fraud': False, 'not_fraud': True}},\n",
              " {'cats': {'fraud': False, 'not_fraud': True}},\n",
              " {'cats': {'fraud': False, 'not_fraud': True}},\n",
              " {'cats': {'fraud': False, 'not_fraud': True}},\n",
              " {'cats': {'fraud': False, 'not_fraud': True}},\n",
              " {'cats': {'fraud': False, 'not_fraud': True}},\n",
              " {'cats': {'fraud': False, 'not_fraud': True}},\n",
              " {'cats': {'fraud': False, 'not_fraud': True}},\n",
              " {'cats': {'fraud': False, 'not_fraud': True}},\n",
              " {'cats': {'fraud': False, 'not_fraud': True}},\n",
              " {'cats': {'fraud': False, 'not_fraud': True}},\n",
              " {'cats': {'fraud': False, 'not_fraud': True}},\n",
              " {'cats': {'fraud': False, 'not_fraud': True}},\n",
              " {'cats': {'fraud': False, 'not_fraud': True}},\n",
              " {'cats': {'fraud': False, 'not_fraud': True}},\n",
              " {'cats': {'fraud': False, 'not_fraud': True}},\n",
              " {'cats': {'fraud': False, 'not_fraud': True}},\n",
              " {'cats': {'fraud': False, 'not_fraud': True}},\n",
              " {'cats': {'fraud': True, 'not_fraud': False}},\n",
              " {'cats': {'fraud': False, 'not_fraud': True}},\n",
              " {'cats': {'fraud': False, 'not_fraud': True}},\n",
              " {'cats': {'fraud': False, 'not_fraud': True}},\n",
              " {'cats': {'fraud': False, 'not_fraud': True}},\n",
              " {'cats': {'fraud': False, 'not_fraud': True}},\n",
              " {'cats': {'fraud': False, 'not_fraud': True}},\n",
              " {'cats': {'fraud': False, 'not_fraud': True}},\n",
              " {'cats': {'fraud': False, 'not_fraud': True}},\n",
              " {'cats': {'fraud': False, 'not_fraud': True}},\n",
              " {'cats': {'fraud': False, 'not_fraud': True}},\n",
              " {'cats': {'fraud': False, 'not_fraud': True}},\n",
              " {'cats': {'fraud': False, 'not_fraud': True}},\n",
              " {'cats': {'fraud': False, 'not_fraud': True}},\n",
              " {'cats': {'fraud': False, 'not_fraud': True}},\n",
              " {'cats': {'fraud': False, 'not_fraud': True}},\n",
              " {'cats': {'fraud': False, 'not_fraud': True}},\n",
              " {'cats': {'fraud': False, 'not_fraud': True}},\n",
              " {'cats': {'fraud': False, 'not_fraud': True}},\n",
              " {'cats': {'fraud': False, 'not_fraud': True}},\n",
              " {'cats': {'fraud': True, 'not_fraud': False}},\n",
              " {'cats': {'fraud': False, 'not_fraud': True}},\n",
              " {'cats': {'fraud': False, 'not_fraud': True}},\n",
              " {'cats': {'fraud': False, 'not_fraud': True}},\n",
              " {'cats': {'fraud': False, 'not_fraud': True}},\n",
              " {'cats': {'fraud': False, 'not_fraud': True}},\n",
              " {'cats': {'fraud': False, 'not_fraud': True}},\n",
              " {'cats': {'fraud': False, 'not_fraud': True}},\n",
              " {'cats': {'fraud': False, 'not_fraud': True}},\n",
              " {'cats': {'fraud': False, 'not_fraud': True}},\n",
              " {'cats': {'fraud': False, 'not_fraud': True}},\n",
              " {'cats': {'fraud': True, 'not_fraud': False}},\n",
              " {'cats': {'fraud': False, 'not_fraud': True}},\n",
              " {'cats': {'fraud': False, 'not_fraud': True}},\n",
              " {'cats': {'fraud': False, 'not_fraud': True}},\n",
              " {'cats': {'fraud': False, 'not_fraud': True}},\n",
              " {'cats': {'fraud': False, 'not_fraud': True}},\n",
              " {'cats': {'fraud': False, 'not_fraud': True}},\n",
              " {'cats': {'fraud': False, 'not_fraud': True}},\n",
              " {'cats': {'fraud': False, 'not_fraud': True}},\n",
              " {'cats': {'fraud': False, 'not_fraud': True}},\n",
              " {'cats': {'fraud': False, 'not_fraud': True}},\n",
              " {'cats': {'fraud': True, 'not_fraud': False}},\n",
              " {'cats': {'fraud': False, 'not_fraud': True}},\n",
              " {'cats': {'fraud': False, 'not_fraud': True}},\n",
              " {'cats': {'fraud': False, 'not_fraud': True}},\n",
              " {'cats': {'fraud': False, 'not_fraud': True}},\n",
              " {'cats': {'fraud': False, 'not_fraud': True}},\n",
              " {'cats': {'fraud': False, 'not_fraud': True}},\n",
              " {'cats': {'fraud': False, 'not_fraud': True}},\n",
              " {'cats': {'fraud': False, 'not_fraud': True}},\n",
              " {'cats': {'fraud': False, 'not_fraud': True}},\n",
              " {'cats': {'fraud': False, 'not_fraud': True}},\n",
              " {'cats': {'fraud': False, 'not_fraud': True}},\n",
              " {'cats': {'fraud': False, 'not_fraud': True}},\n",
              " {'cats': {'fraud': False, 'not_fraud': True}},\n",
              " {'cats': {'fraud': False, 'not_fraud': True}},\n",
              " {'cats': {'fraud': False, 'not_fraud': True}},\n",
              " {'cats': {'fraud': False, 'not_fraud': True}},\n",
              " {'cats': {'fraud': False, 'not_fraud': True}},\n",
              " {'cats': {'fraud': False, 'not_fraud': True}},\n",
              " {'cats': {'fraud': False, 'not_fraud': True}},\n",
              " {'cats': {'fraud': False, 'not_fraud': True}},\n",
              " {'cats': {'fraud': True, 'not_fraud': False}},\n",
              " {'cats': {'fraud': False, 'not_fraud': True}},\n",
              " {'cats': {'fraud': False, 'not_fraud': True}},\n",
              " {'cats': {'fraud': False, 'not_fraud': True}},\n",
              " {'cats': {'fraud': False, 'not_fraud': True}},\n",
              " {'cats': {'fraud': False, 'not_fraud': True}},\n",
              " {'cats': {'fraud': False, 'not_fraud': True}},\n",
              " {'cats': {'fraud': False, 'not_fraud': True}},\n",
              " {'cats': {'fraud': False, 'not_fraud': True}},\n",
              " {'cats': {'fraud': False, 'not_fraud': True}},\n",
              " {'cats': {'fraud': False, 'not_fraud': True}},\n",
              " {'cats': {'fraud': False, 'not_fraud': True}},\n",
              " {'cats': {'fraud': False, 'not_fraud': True}},\n",
              " {'cats': {'fraud': False, 'not_fraud': False}},\n",
              " {'cats': {'fraud': False, 'not_fraud': True}},\n",
              " {'cats': {'fraud': False, 'not_fraud': True}},\n",
              " {'cats': {'fraud': False, 'not_fraud': True}},\n",
              " {'cats': {'fraud': False, 'not_fraud': True}},\n",
              " {'cats': {'fraud': True, 'not_fraud': False}},\n",
              " {'cats': {'fraud': False, 'not_fraud': True}},\n",
              " {'cats': {'fraud': False, 'not_fraud': True}},\n",
              " {'cats': {'fraud': False, 'not_fraud': True}},\n",
              " {'cats': {'fraud': False, 'not_fraud': True}},\n",
              " {'cats': {'fraud': False, 'not_fraud': True}},\n",
              " {'cats': {'fraud': False, 'not_fraud': True}},\n",
              " {'cats': {'fraud': False, 'not_fraud': True}},\n",
              " {'cats': {'fraud': False, 'not_fraud': True}},\n",
              " {'cats': {'fraud': False, 'not_fraud': True}},\n",
              " {'cats': {'fraud': False, 'not_fraud': True}},\n",
              " {'cats': {'fraud': False, 'not_fraud': True}},\n",
              " {'cats': {'fraud': False, 'not_fraud': True}},\n",
              " {'cats': {'fraud': False, 'not_fraud': True}},\n",
              " {'cats': {'fraud': False, 'not_fraud': True}},\n",
              " {'cats': {'fraud': False, 'not_fraud': True}},\n",
              " {'cats': {'fraud': False, 'not_fraud': True}},\n",
              " {'cats': {'fraud': False, 'not_fraud': True}},\n",
              " {'cats': {'fraud': False, 'not_fraud': True}},\n",
              " {'cats': {'fraud': False, 'not_fraud': True}},\n",
              " {'cats': {'fraud': False, 'not_fraud': True}},\n",
              " {'cats': {'fraud': False, 'not_fraud': True}},\n",
              " {'cats': {'fraud': False, 'not_fraud': True}},\n",
              " {'cats': {'fraud': False, 'not_fraud': True}},\n",
              " {'cats': {'fraud': False, 'not_fraud': True}},\n",
              " {'cats': {'fraud': False, 'not_fraud': True}},\n",
              " {'cats': {'fraud': False, 'not_fraud': True}},\n",
              " {'cats': {'fraud': False, 'not_fraud': True}},\n",
              " {'cats': {'fraud': False, 'not_fraud': True}},\n",
              " {'cats': {'fraud': False, 'not_fraud': True}},\n",
              " {'cats': {'fraud': False, 'not_fraud': True}},\n",
              " {'cats': {'fraud': False, 'not_fraud': True}},\n",
              " {'cats': {'fraud': False, 'not_fraud': True}},\n",
              " {'cats': {'fraud': True, 'not_fraud': False}},\n",
              " {'cats': {'fraud': False, 'not_fraud': True}},\n",
              " {'cats': {'fraud': False, 'not_fraud': True}},\n",
              " {'cats': {'fraud': False, 'not_fraud': True}},\n",
              " {'cats': {'fraud': False, 'not_fraud': True}},\n",
              " {'cats': {'fraud': False, 'not_fraud': True}},\n",
              " {'cats': {'fraud': False, 'not_fraud': True}},\n",
              " {'cats': {'fraud': False, 'not_fraud': True}},\n",
              " {'cats': {'fraud': False, 'not_fraud': True}},\n",
              " {'cats': {'fraud': True, 'not_fraud': False}},\n",
              " {'cats': {'fraud': False, 'not_fraud': True}},\n",
              " {'cats': {'fraud': False, 'not_fraud': True}},\n",
              " {'cats': {'fraud': False, 'not_fraud': True}},\n",
              " {'cats': {'fraud': True, 'not_fraud': False}},\n",
              " {'cats': {'fraud': False, 'not_fraud': True}},\n",
              " {'cats': {'fraud': False, 'not_fraud': True}},\n",
              " {'cats': {'fraud': False, 'not_fraud': True}},\n",
              " {'cats': {'fraud': False, 'not_fraud': True}},\n",
              " {'cats': {'fraud': False, 'not_fraud': True}},\n",
              " {'cats': {'fraud': False, 'not_fraud': True}},\n",
              " {'cats': {'fraud': False, 'not_fraud': True}},\n",
              " {'cats': {'fraud': False, 'not_fraud': True}},\n",
              " {'cats': {'fraud': False, 'not_fraud': True}},\n",
              " {'cats': {'fraud': False, 'not_fraud': True}},\n",
              " {'cats': {'fraud': False, 'not_fraud': True}},\n",
              " {'cats': {'fraud': True, 'not_fraud': False}},\n",
              " {'cats': {'fraud': False, 'not_fraud': True}},\n",
              " {'cats': {'fraud': False, 'not_fraud': True}},\n",
              " {'cats': {'fraud': False, 'not_fraud': True}},\n",
              " {'cats': {'fraud': False, 'not_fraud': True}},\n",
              " {'cats': {'fraud': False, 'not_fraud': True}},\n",
              " {'cats': {'fraud': False, 'not_fraud': True}},\n",
              " {'cats': {'fraud': False, 'not_fraud': True}},\n",
              " {'cats': {'fraud': False, 'not_fraud': True}},\n",
              " {'cats': {'fraud': False, 'not_fraud': True}},\n",
              " {'cats': {'fraud': False, 'not_fraud': True}},\n",
              " {'cats': {'fraud': False, 'not_fraud': True}},\n",
              " {'cats': {'fraud': False, 'not_fraud': True}},\n",
              " {'cats': {'fraud': True, 'not_fraud': False}},\n",
              " {'cats': {'fraud': False, 'not_fraud': True}},\n",
              " {'cats': {'fraud': False, 'not_fraud': True}},\n",
              " {'cats': {'fraud': False, 'not_fraud': True}},\n",
              " {'cats': {'fraud': False, 'not_fraud': True}},\n",
              " {'cats': {'fraud': False, 'not_fraud': True}},\n",
              " {'cats': {'fraud': True, 'not_fraud': False}},\n",
              " {'cats': {'fraud': False, 'not_fraud': True}},\n",
              " {'cats': {'fraud': False, 'not_fraud': True}},\n",
              " {'cats': {'fraud': False, 'not_fraud': True}},\n",
              " {'cats': {'fraud': False, 'not_fraud': True}},\n",
              " {'cats': {'fraud': False, 'not_fraud': True}},\n",
              " {'cats': {'fraud': False, 'not_fraud': True}},\n",
              " {'cats': {'fraud': False, 'not_fraud': True}},\n",
              " {'cats': {'fraud': False, 'not_fraud': True}},\n",
              " {'cats': {'fraud': True, 'not_fraud': False}},\n",
              " {'cats': {'fraud': False, 'not_fraud': True}},\n",
              " {'cats': {'fraud': False, 'not_fraud': True}},\n",
              " {'cats': {'fraud': False, 'not_fraud': True}},\n",
              " {'cats': {'fraud': False, 'not_fraud': True}},\n",
              " {'cats': {'fraud': False, 'not_fraud': True}},\n",
              " {'cats': {'fraud': False, 'not_fraud': True}},\n",
              " {'cats': {'fraud': False, 'not_fraud': True}},\n",
              " {'cats': {'fraud': False, 'not_fraud': True}},\n",
              " {'cats': {'fraud': False, 'not_fraud': True}},\n",
              " {'cats': {'fraud': False, 'not_fraud': True}},\n",
              " {'cats': {'fraud': False, 'not_fraud': True}},\n",
              " {'cats': {'fraud': False, 'not_fraud': True}},\n",
              " {'cats': {'fraud': False, 'not_fraud': True}},\n",
              " {'cats': {'fraud': False, 'not_fraud': True}},\n",
              " {'cats': {'fraud': False, 'not_fraud': True}},\n",
              " {'cats': {'fraud': False, 'not_fraud': True}},\n",
              " {'cats': {'fraud': False, 'not_fraud': True}},\n",
              " {'cats': {'fraud': False, 'not_fraud': True}},\n",
              " {'cats': {'fraud': False, 'not_fraud': True}},\n",
              " {'cats': {'fraud': False, 'not_fraud': True}},\n",
              " {'cats': {'fraud': False, 'not_fraud': True}},\n",
              " {'cats': {'fraud': False, 'not_fraud': True}},\n",
              " {'cats': {'fraud': False, 'not_fraud': True}},\n",
              " {'cats': {'fraud': True, 'not_fraud': False}},\n",
              " {'cats': {'fraud': False, 'not_fraud': True}},\n",
              " {'cats': {'fraud': False, 'not_fraud': True}},\n",
              " {'cats': {'fraud': False, 'not_fraud': True}},\n",
              " {'cats': {'fraud': False, 'not_fraud': True}},\n",
              " {'cats': {'fraud': False, 'not_fraud': True}},\n",
              " {'cats': {'fraud': False, 'not_fraud': True}},\n",
              " {'cats': {'fraud': False, 'not_fraud': True}},\n",
              " {'cats': {'fraud': False, 'not_fraud': True}},\n",
              " {'cats': {'fraud': False, 'not_fraud': True}},\n",
              " {'cats': {'fraud': False, 'not_fraud': True}},\n",
              " {'cats': {'fraud': True, 'not_fraud': False}},\n",
              " {'cats': {'fraud': False, 'not_fraud': True}},\n",
              " {'cats': {'fraud': False, 'not_fraud': True}},\n",
              " {'cats': {'fraud': True, 'not_fraud': False}},\n",
              " {'cats': {'fraud': False, 'not_fraud': True}},\n",
              " {'cats': {'fraud': False, 'not_fraud': True}},\n",
              " {'cats': {'fraud': False, 'not_fraud': True}},\n",
              " {'cats': {'fraud': False, 'not_fraud': True}},\n",
              " {'cats': {'fraud': False, 'not_fraud': True}},\n",
              " {'cats': {'fraud': False, 'not_fraud': True}},\n",
              " {'cats': {'fraud': False, 'not_fraud': True}},\n",
              " {'cats': {'fraud': True, 'not_fraud': False}},\n",
              " {'cats': {'fraud': False, 'not_fraud': True}},\n",
              " {'cats': {'fraud': False, 'not_fraud': True}},\n",
              " {'cats': {'fraud': False, 'not_fraud': True}},\n",
              " {'cats': {'fraud': False, 'not_fraud': True}},\n",
              " {'cats': {'fraud': False, 'not_fraud': True}},\n",
              " {'cats': {'fraud': False, 'not_fraud': True}},\n",
              " {'cats': {'fraud': False, 'not_fraud': True}},\n",
              " {'cats': {'fraud': False, 'not_fraud': True}},\n",
              " {'cats': {'fraud': False, 'not_fraud': True}},\n",
              " {'cats': {'fraud': False, 'not_fraud': True}},\n",
              " {'cats': {'fraud': False, 'not_fraud': True}},\n",
              " {'cats': {'fraud': False, 'not_fraud': True}},\n",
              " {'cats': {'fraud': False, 'not_fraud': True}},\n",
              " {'cats': {'fraud': False, 'not_fraud': True}},\n",
              " {'cats': {'fraud': False, 'not_fraud': True}},\n",
              " {'cats': {'fraud': False, 'not_fraud': True}},\n",
              " {'cats': {'fraud': False, 'not_fraud': True}},\n",
              " {'cats': {'fraud': False, 'not_fraud': True}},\n",
              " {'cats': {'fraud': False, 'not_fraud': True}},\n",
              " {'cats': {'fraud': False, 'not_fraud': True}},\n",
              " {'cats': {'fraud': False, 'not_fraud': True}},\n",
              " {'cats': {'fraud': False, 'not_fraud': True}},\n",
              " {'cats': {'fraud': False, 'not_fraud': True}},\n",
              " {'cats': {'fraud': False, 'not_fraud': True}},\n",
              " {'cats': {'fraud': False, 'not_fraud': True}},\n",
              " {'cats': {'fraud': False, 'not_fraud': True}},\n",
              " {'cats': {'fraud': False, 'not_fraud': True}},\n",
              " {'cats': {'fraud': False, 'not_fraud': True}},\n",
              " {'cats': {'fraud': False, 'not_fraud': True}},\n",
              " {'cats': {'fraud': False, 'not_fraud': True}},\n",
              " {'cats': {'fraud': False, 'not_fraud': True}},\n",
              " {'cats': {'fraud': False, 'not_fraud': True}},\n",
              " {'cats': {'fraud': False, 'not_fraud': True}},\n",
              " {'cats': {'fraud': False, 'not_fraud': True}},\n",
              " {'cats': {'fraud': False, 'not_fraud': True}},\n",
              " {'cats': {'fraud': False, 'not_fraud': True}},\n",
              " {'cats': {'fraud': False, 'not_fraud': True}},\n",
              " {'cats': {'fraud': False, 'not_fraud': True}},\n",
              " {'cats': {'fraud': False, 'not_fraud': True}},\n",
              " {'cats': {'fraud': False, 'not_fraud': True}},\n",
              " {'cats': {'fraud': False, 'not_fraud': True}},\n",
              " {'cats': {'fraud': False, 'not_fraud': True}},\n",
              " {'cats': {'fraud': False, 'not_fraud': True}},\n",
              " {'cats': {'fraud': False, 'not_fraud': True}},\n",
              " {'cats': {'fraud': False, 'not_fraud': True}},\n",
              " {'cats': {'fraud': False, 'not_fraud': True}},\n",
              " {'cats': {'fraud': False, 'not_fraud': True}},\n",
              " {'cats': {'fraud': False, 'not_fraud': True}},\n",
              " {'cats': {'fraud': False, 'not_fraud': True}},\n",
              " {'cats': {'fraud': False, 'not_fraud': True}},\n",
              " {'cats': {'fraud': False, 'not_fraud': True}},\n",
              " {'cats': {'fraud': False, 'not_fraud': True}},\n",
              " {'cats': {'fraud': False, 'not_fraud': True}},\n",
              " {'cats': {'fraud': False, 'not_fraud': True}},\n",
              " {'cats': {'fraud': False, 'not_fraud': True}},\n",
              " {'cats': {'fraud': False, 'not_fraud': False}},\n",
              " {'cats': {'fraud': False, 'not_fraud': True}},\n",
              " {'cats': {'fraud': False, 'not_fraud': True}},\n",
              " {'cats': {'fraud': False, 'not_fraud': True}},\n",
              " {'cats': {'fraud': False, 'not_fraud': True}},\n",
              " {'cats': {'fraud': False, 'not_fraud': True}},\n",
              " {'cats': {'fraud': False, 'not_fraud': True}},\n",
              " {'cats': {'fraud': True, 'not_fraud': False}},\n",
              " {'cats': {'fraud': False, 'not_fraud': True}},\n",
              " {'cats': {'fraud': False, 'not_fraud': True}},\n",
              " {'cats': {'fraud': False, 'not_fraud': True}},\n",
              " {'cats': {'fraud': False, 'not_fraud': True}},\n",
              " {'cats': {'fraud': False, 'not_fraud': True}},\n",
              " {'cats': {'fraud': False, 'not_fraud': True}},\n",
              " {'cats': {'fraud': True, 'not_fraud': False}},\n",
              " {'cats': {'fraud': False, 'not_fraud': True}},\n",
              " {'cats': {'fraud': False, 'not_fraud': True}},\n",
              " {'cats': {'fraud': False, 'not_fraud': True}},\n",
              " {'cats': {'fraud': False, 'not_fraud': True}},\n",
              " {'cats': {'fraud': False, 'not_fraud': True}},\n",
              " {'cats': {'fraud': False, 'not_fraud': True}},\n",
              " {'cats': {'fraud': False, 'not_fraud': True}},\n",
              " {'cats': {'fraud': False, 'not_fraud': True}},\n",
              " {'cats': {'fraud': False, 'not_fraud': True}},\n",
              " {'cats': {'fraud': False, 'not_fraud': True}},\n",
              " {'cats': {'fraud': False, 'not_fraud': True}},\n",
              " {'cats': {'fraud': False, 'not_fraud': True}},\n",
              " {'cats': {'fraud': False, 'not_fraud': True}},\n",
              " {'cats': {'fraud': False, 'not_fraud': True}},\n",
              " {'cats': {'fraud': False, 'not_fraud': True}},\n",
              " {'cats': {'fraud': False, 'not_fraud': True}},\n",
              " {'cats': {'fraud': False, 'not_fraud': True}},\n",
              " {'cats': {'fraud': False, 'not_fraud': True}},\n",
              " {'cats': {'fraud': False, 'not_fraud': True}},\n",
              " {'cats': {'fraud': False, 'not_fraud': True}},\n",
              " {'cats': {'fraud': False, 'not_fraud': True}},\n",
              " {'cats': {'fraud': False, 'not_fraud': True}},\n",
              " {'cats': {'fraud': False, 'not_fraud': True}},\n",
              " {'cats': {'fraud': True, 'not_fraud': False}},\n",
              " {'cats': {'fraud': False, 'not_fraud': True}},\n",
              " {'cats': {'fraud': False, 'not_fraud': True}},\n",
              " {'cats': {'fraud': False, 'not_fraud': True}},\n",
              " {'cats': {'fraud': False, 'not_fraud': True}},\n",
              " {'cats': {'fraud': False, 'not_fraud': True}},\n",
              " {'cats': {'fraud': True, 'not_fraud': False}},\n",
              " {'cats': {'fraud': False, 'not_fraud': True}},\n",
              " {'cats': {'fraud': False, 'not_fraud': True}},\n",
              " {'cats': {'fraud': False, 'not_fraud': True}},\n",
              " {'cats': {'fraud': False, 'not_fraud': True}},\n",
              " {'cats': {'fraud': False, 'not_fraud': True}},\n",
              " {'cats': {'fraud': False, 'not_fraud': True}},\n",
              " {'cats': {'fraud': False, 'not_fraud': True}},\n",
              " {'cats': {'fraud': False, 'not_fraud': True}},\n",
              " {'cats': {'fraud': False, 'not_fraud': True}},\n",
              " {'cats': {'fraud': False, 'not_fraud': True}},\n",
              " {'cats': {'fraud': False, 'not_fraud': True}},\n",
              " {'cats': {'fraud': False, 'not_fraud': True}},\n",
              " {'cats': {'fraud': False, 'not_fraud': False}},\n",
              " {'cats': {'fraud': False, 'not_fraud': True}},\n",
              " {'cats': {'fraud': False, 'not_fraud': True}},\n",
              " {'cats': {'fraud': False, 'not_fraud': True}},\n",
              " {'cats': {'fraud': False, 'not_fraud': True}},\n",
              " {'cats': {'fraud': False, 'not_fraud': True}},\n",
              " {'cats': {'fraud': False, 'not_fraud': True}},\n",
              " {'cats': {'fraud': False, 'not_fraud': True}},\n",
              " {'cats': {'fraud': False, 'not_fraud': True}},\n",
              " {'cats': {'fraud': False, 'not_fraud': True}},\n",
              " {'cats': {'fraud': False, 'not_fraud': True}},\n",
              " {'cats': {'fraud': False, 'not_fraud': True}},\n",
              " {'cats': {'fraud': False, 'not_fraud': True}},\n",
              " {'cats': {'fraud': False, 'not_fraud': True}},\n",
              " {'cats': {'fraud': False, 'not_fraud': True}},\n",
              " {'cats': {'fraud': False, 'not_fraud': True}},\n",
              " {'cats': {'fraud': False, 'not_fraud': True}},\n",
              " {'cats': {'fraud': False, 'not_fraud': True}},\n",
              " {'cats': {'fraud': False, 'not_fraud': True}},\n",
              " {'cats': {'fraud': False, 'not_fraud': True}},\n",
              " {'cats': {'fraud': False, 'not_fraud': True}},\n",
              " {'cats': {'fraud': False, 'not_fraud': True}},\n",
              " {'cats': {'fraud': False, 'not_fraud': True}},\n",
              " {'cats': {'fraud': False, 'not_fraud': True}},\n",
              " {'cats': {'fraud': False, 'not_fraud': True}},\n",
              " {'cats': {'fraud': False, 'not_fraud': True}},\n",
              " {'cats': {'fraud': False, 'not_fraud': True}},\n",
              " {'cats': {'fraud': False, 'not_fraud': True}},\n",
              " {'cats': {'fraud': False, 'not_fraud': True}},\n",
              " {'cats': {'fraud': False, 'not_fraud': True}},\n",
              " {'cats': {'fraud': False, 'not_fraud': True}},\n",
              " {'cats': {'fraud': False, 'not_fraud': True}},\n",
              " {'cats': {'fraud': False, 'not_fraud': True}},\n",
              " {'cats': {'fraud': False, 'not_fraud': True}},\n",
              " {'cats': {'fraud': False, 'not_fraud': True}},\n",
              " {'cats': {'fraud': False, 'not_fraud': True}},\n",
              " {'cats': {'fraud': False, 'not_fraud': True}},\n",
              " {'cats': {'fraud': False, 'not_fraud': True}},\n",
              " {'cats': {'fraud': False, 'not_fraud': True}},\n",
              " {'cats': {'fraud': False, 'not_fraud': True}},\n",
              " {'cats': {'fraud': True, 'not_fraud': False}},\n",
              " {'cats': {'fraud': False, 'not_fraud': True}},\n",
              " {'cats': {'fraud': False, 'not_fraud': True}},\n",
              " {'cats': {'fraud': False, 'not_fraud': True}},\n",
              " {'cats': {'fraud': False, 'not_fraud': True}},\n",
              " {'cats': {'fraud': False, 'not_fraud': True}},\n",
              " {'cats': {'fraud': False, 'not_fraud': True}},\n",
              " {'cats': {'fraud': False, 'not_fraud': True}},\n",
              " {'cats': {'fraud': False, 'not_fraud': True}},\n",
              " {'cats': {'fraud': False, 'not_fraud': True}},\n",
              " {'cats': {'fraud': False, 'not_fraud': True}},\n",
              " {'cats': {'fraud': False, 'not_fraud': True}},\n",
              " {'cats': {'fraud': False, 'not_fraud': True}},\n",
              " {'cats': {'fraud': True, 'not_fraud': False}},\n",
              " {'cats': {'fraud': False, 'not_fraud': True}},\n",
              " {'cats': {'fraud': False, 'not_fraud': True}},\n",
              " {'cats': {'fraud': False, 'not_fraud': True}},\n",
              " {'cats': {'fraud': False, 'not_fraud': True}},\n",
              " {'cats': {'fraud': False, 'not_fraud': True}},\n",
              " {'cats': {'fraud': False, 'not_fraud': True}},\n",
              " {'cats': {'fraud': False, 'not_fraud': True}},\n",
              " {'cats': {'fraud': False, 'not_fraud': True}},\n",
              " {'cats': {'fraud': False, 'not_fraud': True}},\n",
              " {'cats': {'fraud': False, 'not_fraud': True}},\n",
              " {'cats': {'fraud': False, 'not_fraud': True}},\n",
              " {'cats': {'fraud': True, 'not_fraud': False}},\n",
              " {'cats': {'fraud': False, 'not_fraud': True}},\n",
              " {'cats': {'fraud': False, 'not_fraud': True}},\n",
              " {'cats': {'fraud': False, 'not_fraud': True}},\n",
              " {'cats': {'fraud': False, 'not_fraud': True}},\n",
              " {'cats': {'fraud': False, 'not_fraud': True}},\n",
              " {'cats': {'fraud': False, 'not_fraud': True}},\n",
              " {'cats': {'fraud': False, 'not_fraud': True}},\n",
              " {'cats': {'fraud': False, 'not_fraud': True}},\n",
              " {'cats': {'fraud': False, 'not_fraud': True}},\n",
              " {'cats': {'fraud': False, 'not_fraud': True}},\n",
              " {'cats': {'fraud': False, 'not_fraud': True}},\n",
              " {'cats': {'fraud': False, 'not_fraud': True}},\n",
              " {'cats': {'fraud': False, 'not_fraud': True}},\n",
              " {'cats': {'fraud': False, 'not_fraud': True}},\n",
              " {'cats': {'fraud': False, 'not_fraud': False}},\n",
              " {'cats': {'fraud': False, 'not_fraud': True}},\n",
              " {'cats': {'fraud': True, 'not_fraud': False}},\n",
              " {'cats': {'fraud': False, 'not_fraud': True}},\n",
              " {'cats': {'fraud': False, 'not_fraud': True}},\n",
              " {'cats': {'fraud': False, 'not_fraud': True}},\n",
              " {'cats': {'fraud': False, 'not_fraud': True}},\n",
              " {'cats': {'fraud': False, 'not_fraud': True}},\n",
              " {'cats': {'fraud': False, 'not_fraud': True}},\n",
              " {'cats': {'fraud': False, 'not_fraud': True}},\n",
              " {'cats': {'fraud': False, 'not_fraud': True}},\n",
              " {'cats': {'fraud': False, 'not_fraud': True}},\n",
              " {'cats': {'fraud': False, 'not_fraud': True}},\n",
              " {'cats': {'fraud': False, 'not_fraud': True}},\n",
              " {'cats': {'fraud': False, 'not_fraud': True}},\n",
              " {'cats': {'fraud': False, 'not_fraud': True}},\n",
              " {'cats': {'fraud': False, 'not_fraud': True}},\n",
              " {'cats': {'fraud': False, 'not_fraud': True}},\n",
              " {'cats': {'fraud': False, 'not_fraud': True}},\n",
              " {'cats': {'fraud': False, 'not_fraud': True}},\n",
              " {'cats': {'fraud': True, 'not_fraud': False}},\n",
              " {'cats': {'fraud': False, 'not_fraud': True}},\n",
              " {'cats': {'fraud': False, 'not_fraud': True}},\n",
              " {'cats': {'fraud': False, 'not_fraud': True}},\n",
              " {'cats': {'fraud': False, 'not_fraud': True}},\n",
              " {'cats': {'fraud': False, 'not_fraud': True}},\n",
              " {'cats': {'fraud': False, 'not_fraud': True}},\n",
              " {'cats': {'fraud': False, 'not_fraud': True}},\n",
              " {'cats': {'fraud': False, 'not_fraud': True}},\n",
              " {'cats': {'fraud': False, 'not_fraud': True}},\n",
              " {'cats': {'fraud': False, 'not_fraud': True}},\n",
              " {'cats': {'fraud': False, 'not_fraud': True}},\n",
              " {'cats': {'fraud': False, 'not_fraud': True}},\n",
              " {'cats': {'fraud': False, 'not_fraud': True}},\n",
              " {'cats': {'fraud': False, 'not_fraud': True}},\n",
              " {'cats': {'fraud': True, 'not_fraud': False}},\n",
              " {'cats': {'fraud': False, 'not_fraud': True}},\n",
              " {'cats': {'fraud': False, 'not_fraud': True}},\n",
              " {'cats': {'fraud': False, 'not_fraud': True}},\n",
              " {'cats': {'fraud': False, 'not_fraud': True}},\n",
              " {'cats': {'fraud': False, 'not_fraud': True}},\n",
              " {'cats': {'fraud': False, 'not_fraud': True}},\n",
              " {'cats': {'fraud': False, 'not_fraud': True}},\n",
              " {'cats': {'fraud': False, 'not_fraud': True}},\n",
              " {'cats': {'fraud': False, 'not_fraud': True}},\n",
              " {'cats': {'fraud': False, 'not_fraud': True}},\n",
              " {'cats': {'fraud': False, 'not_fraud': True}},\n",
              " {'cats': {'fraud': False, 'not_fraud': True}},\n",
              " {'cats': {'fraud': False, 'not_fraud': True}},\n",
              " {'cats': {'fraud': False, 'not_fraud': True}},\n",
              " {'cats': {'fraud': False, 'not_fraud': True}},\n",
              " {'cats': {'fraud': False, 'not_fraud': True}},\n",
              " {'cats': {'fraud': False, 'not_fraud': True}},\n",
              " {'cats': {'fraud': False, 'not_fraud': True}},\n",
              " {'cats': {'fraud': False, 'not_fraud': False}},\n",
              " {'cats': {'fraud': False, 'not_fraud': True}},\n",
              " {'cats': {'fraud': False, 'not_fraud': False}},\n",
              " {'cats': {'fraud': False, 'not_fraud': True}},\n",
              " {'cats': {'fraud': False, 'not_fraud': True}},\n",
              " {'cats': {'fraud': False, 'not_fraud': True}},\n",
              " {'cats': {'fraud': False, 'not_fraud': True}},\n",
              " {'cats': {'fraud': False, 'not_fraud': True}},\n",
              " {'cats': {'fraud': True, 'not_fraud': False}},\n",
              " {'cats': {'fraud': False, 'not_fraud': True}},\n",
              " {'cats': {'fraud': False, 'not_fraud': True}},\n",
              " {'cats': {'fraud': False, 'not_fraud': True}},\n",
              " {'cats': {'fraud': False, 'not_fraud': True}},\n",
              " {'cats': {'fraud': False, 'not_fraud': True}},\n",
              " {'cats': {'fraud': True, 'not_fraud': False}},\n",
              " {'cats': {'fraud': False, 'not_fraud': True}},\n",
              " {'cats': {'fraud': False, 'not_fraud': True}},\n",
              " {'cats': {'fraud': False, 'not_fraud': True}},\n",
              " {'cats': {'fraud': False, 'not_fraud': True}},\n",
              " {'cats': {'fraud': False, 'not_fraud': True}},\n",
              " {'cats': {'fraud': False, 'not_fraud': True}},\n",
              " {'cats': {'fraud': True, 'not_fraud': False}},\n",
              " {'cats': {'fraud': False, 'not_fraud': False}},\n",
              " {'cats': {'fraud': False, 'not_fraud': True}},\n",
              " {'cats': {'fraud': False, 'not_fraud': True}},\n",
              " {'cats': {'fraud': False, 'not_fraud': True}},\n",
              " {'cats': {'fraud': True, 'not_fraud': False}},\n",
              " {'cats': {'fraud': False, 'not_fraud': True}},\n",
              " {'cats': {'fraud': False, 'not_fraud': True}},\n",
              " {'cats': {'fraud': False, 'not_fraud': True}},\n",
              " {'cats': {'fraud': False, 'not_fraud': False}},\n",
              " {'cats': {'fraud': False, 'not_fraud': True}},\n",
              " {'cats': {'fraud': False, 'not_fraud': True}},\n",
              " {'cats': {'fraud': False, 'not_fraud': True}},\n",
              " {'cats': {'fraud': False, 'not_fraud': True}},\n",
              " {'cats': {'fraud': False, 'not_fraud': True}},\n",
              " {'cats': {'fraud': False, 'not_fraud': True}},\n",
              " {'cats': {'fraud': False, 'not_fraud': True}},\n",
              " {'cats': {'fraud': False, 'not_fraud': True}},\n",
              " {'cats': {'fraud': False, 'not_fraud': True}},\n",
              " {'cats': {'fraud': False, 'not_fraud': True}},\n",
              " {'cats': {'fraud': False, 'not_fraud': True}},\n",
              " {'cats': {'fraud': False, 'not_fraud': True}},\n",
              " {'cats': {'fraud': False, 'not_fraud': True}},\n",
              " {'cats': {'fraud': False, 'not_fraud': True}},\n",
              " {'cats': {'fraud': False, 'not_fraud': True}},\n",
              " {'cats': {'fraud': False, 'not_fraud': True}},\n",
              " {'cats': {'fraud': True, 'not_fraud': False}},\n",
              " {'cats': {'fraud': False, 'not_fraud': True}},\n",
              " {'cats': {'fraud': False, 'not_fraud': True}},\n",
              " {'cats': {'fraud': False, 'not_fraud': True}},\n",
              " {'cats': {'fraud': False, 'not_fraud': True}},\n",
              " {'cats': {'fraud': False, 'not_fraud': True}},\n",
              " {'cats': {'fraud': False, 'not_fraud': True}},\n",
              " ...]"
            ]
          },
          "metadata": {
            "tags": []
          },
          "execution_count": 222
        }
      ]
    },
    {
      "cell_type": "code",
      "metadata": {
        "id": "rf0g14bAUBSC"
      },
      "source": [
        ""
      ],
      "execution_count": null,
      "outputs": []
    },
    {
      "cell_type": "code",
      "metadata": {
        "id": "al89knau3JcC"
      },
      "source": [
        "train_data=list(zip(((X_train['name'].values)[0:99]),(train_labels[0:99])))\r\n",
        "test_data=list((zip((X_test['name'].values)[0:99]),(test_labels[0:99])))"
      ],
      "execution_count": null,
      "outputs": []
    },
    {
      "cell_type": "code",
      "metadata": {
        "id": "XinVHMwV3q3I"
      },
      "source": [
        "def train_model(model,train_data,optimizer, batch_size,epochs=10): \r\n",
        "  losses={}\r\n",
        "  random.seed(1)\r\n",
        "\r\n",
        "  for epoch in range(epochs):\r\n",
        "    random.shuffle(train_data)\r\n",
        "\r\n",
        "    batches=minibatch(train_data,size=batch_size)\r\n",
        "    for batch in batches:\r\n",
        "      texts,labels=zip(*batch)\r\n",
        "\r\n",
        "      model.update(texts,labels,sgd=optimizer,losses=losses)\r\n",
        "    print('Loss:{}'.format(losses['textcat']))\r\n",
        "  return losses['textcat']\r\n"
      ],
      "execution_count": null,
      "outputs": []
    },
    {
      "cell_type": "code",
      "metadata": {
        "colab": {
          "base_uri": "https://localhost:8080/"
        },
        "id": "DZAsPzY47BjS",
        "outputId": "598434a7-0f30-407a-fc7d-5bf41405a5c3"
      },
      "source": [
        "\r\n",
        "optimizer=nlp.begin_training()\r\n",
        "batch_size=5\r\n",
        "\r\n",
        "epochs=10\r\n",
        "\r\n",
        "train_model(nlp,train_data,optimizer,batch_size,epochs)"
      ],
      "execution_count": null,
      "outputs": [
        {
          "output_type": "stream",
          "text": [
            "Loss:0.08963124768342823\n",
            "Loss:0.16832079022424296\n",
            "Loss:0.24127827800111845\n",
            "Loss:0.3102858355268836\n",
            "Loss:0.3708487557596527\n",
            "Loss:0.42933617962989956\n",
            "Loss:0.48143584790523164\n",
            "Loss:0.5293489998148289\n",
            "Loss:0.5755694067847799\n",
            "Loss:0.6183888778250548\n"
          ],
          "name": "stdout"
        },
        {
          "output_type": "execute_result",
          "data": {
            "text/plain": [
              "0.6183888778250548"
            ]
          },
          "metadata": {
            "tags": []
          },
          "execution_count": 232
        }
      ]
    },
    {
      "cell_type": "code",
      "metadata": {
        "colab": {
          "base_uri": "https://localhost:8080/"
        },
        "id": "Mqd_PtKk7kZ4",
        "outputId": "e4c7b4d8-2224-43cc-9a82-3f1d7d9f2cc7"
      },
      "source": [
        "print(train_data[0])"
      ],
      "execution_count": null,
      "outputs": [
        {
          "output_type": "stream",
          "text": [
            "('Manifest Destiny Conference 2010', {'cats': {'fraud': True, 'not_fraud': False}})\n"
          ],
          "name": "stdout"
        }
      ]
    },
    {
      "cell_type": "code",
      "metadata": {
        "colab": {
          "base_uri": "https://localhost:8080/"
        },
        "id": "qzg0cw7f7ytq",
        "outputId": "7add5aac-e2ad-4e19-ecbe-fd43238844b8"
      },
      "source": [
        "sample_test=nlp(train_data[0][0])\r\n",
        "print(sample_test.cats)"
      ],
      "execution_count": null,
      "outputs": [
        {
          "output_type": "stream",
          "text": [
            "{'fraud': 0.6707589626312256, 'not_fraud': 0.3292410373687744}\n"
          ],
          "name": "stdout"
        }
      ]
    },
    {
      "cell_type": "code",
      "metadata": {
        "id": "XZdRPhGJ7_fC"
      },
      "source": [
        "def get_predictions(model,texts):\r\n",
        "  docs=[model.tokenizer(text) for text in texts]\r\n",
        "\r\n",
        "  textcat=model.get_pipe('textcat')\r\n",
        "  scores,_=textcat.predict(docs)\r\n",
        "\r\n",
        "  predicted_labels=scores.argmax(axis=1)\r\n",
        "  predicted_class=[textcat.labels[labels] for labels in predicted_labels]\r\n",
        "  \r\n",
        "  return predicted_labels"
      ],
      "execution_count": null,
      "outputs": []
    },
    {
      "cell_type": "code",
      "metadata": {
        "id": "nDQt-4hpMMVx"
      },
      "source": [
        ""
      ],
      "execution_count": null,
      "outputs": []
    },
    {
      "cell_type": "code",
      "metadata": {
        "id": "ZMiNgcIAp6y2"
      },
      "source": [
        ""
      ],
      "execution_count": null,
      "outputs": []
    },
    {
      "cell_type": "code",
      "metadata": {
        "id": "PtH9gna9ALjq"
      },
      "source": [
        " docs=[text for text in X_train['name']]"
      ],
      "execution_count": null,
      "outputs": []
    },
    {
      "cell_type": "code",
      "metadata": {
        "colab": {
          "base_uri": "https://localhost:8080/",
          "height": 606
        },
        "id": "BD4s9mxi_bWo",
        "outputId": "d7399c9e-74d1-446a-8d6d-4a59153301fd"
      },
      "source": [
        "X_train"
      ],
      "execution_count": null,
      "outputs": [
        {
          "output_type": "execute_result",
          "data": {
            "text/html": [
              "<div>\n",
              "<style scoped>\n",
              "    .dataframe tbody tr th:only-of-type {\n",
              "        vertical-align: middle;\n",
              "    }\n",
              "\n",
              "    .dataframe tbody tr th {\n",
              "        vertical-align: top;\n",
              "    }\n",
              "\n",
              "    .dataframe thead th {\n",
              "        text-align: right;\n",
              "    }\n",
              "</style>\n",
              "<table border=\"1\" class=\"dataframe\">\n",
              "  <thead>\n",
              "    <tr style=\"text-align: right;\">\n",
              "      <th></th>\n",
              "      <th>name</th>\n",
              "      <th>description</th>\n",
              "      <th>org_name</th>\n",
              "    </tr>\n",
              "  </thead>\n",
              "  <tbody>\n",
              "    <tr>\n",
              "      <th>463</th>\n",
              "      <td>LeDiCe GRADUATION PARTY</td>\n",
              "      <td>&lt;p&gt;#YOU MADE IT.. LETS PARTY FOR THE LAST TIME...</td>\n",
              "      <td>LeDiCe</td>\n",
              "    </tr>\n",
              "    <tr>\n",
              "      <th>2697</th>\n",
              "      <td>Shropshire Cadets Concert</td>\n",
              "      <td>&lt;p&gt;&lt;span style=\"color: #222222; font-family: a...</td>\n",
              "      <td>Siobhan Kilbane and Ray Wickson on Behalf of C...</td>\n",
              "    </tr>\n",
              "    <tr>\n",
              "      <th>10484</th>\n",
              "      <td>Wine Down Tour (Labor Day Weekend)</td>\n",
              "      <td>&lt;p&gt;&lt;span style=\"font-size: small;\"&gt;This Labor ...</td>\n",
              "      <td>WineMeDown Events</td>\n",
              "    </tr>\n",
              "    <tr>\n",
              "      <th>10094</th>\n",
              "      <td>RENEGADETHEBEAST AND FRIENDS 2012 CALENDAR</td>\n",
              "      <td>&lt;p&gt;RENEGADETHEBEAST THE HOTTEST DANCER UNDER T...</td>\n",
              "      <td>atlstripper</td>\n",
              "    </tr>\n",
              "    <tr>\n",
              "      <th>3996</th>\n",
              "      <td>Bar club</td>\n",
              "      <td>&lt;p&gt;Bar club&lt;/p&gt;</td>\n",
              "      <td>NaN</td>\n",
              "    </tr>\n",
              "    <tr>\n",
              "      <th>...</th>\n",
              "      <td>...</td>\n",
              "      <td>...</td>\n",
              "      <td>...</td>\n",
              "    </tr>\n",
              "    <tr>\n",
              "      <th>9620</th>\n",
              "      <td>Lead with Your Words: Biblical Principles for ...</td>\n",
              "      <td>&lt;p&gt;&lt;img  alt=\"Bill Harris Poster\" width=\"612\" ...</td>\n",
              "      <td>Wellspring School of Leadership</td>\n",
              "    </tr>\n",
              "    <tr>\n",
              "      <th>7068</th>\n",
              "      <td>BYT Presents: Get Beaujolaid @ 1905</td>\n",
              "      <td>&lt;p style=\"text-align: left;\"&gt;&lt;font size=\"5\"&gt;&lt;b...</td>\n",
              "      <td>BrightestYoungThings.com</td>\n",
              "    </tr>\n",
              "    <tr>\n",
              "      <th>7391</th>\n",
              "      <td>Essence Music Festival 2013</td>\n",
              "      <td>&lt;p&gt;&lt;strong style=\"color: #2c2d2f; font-family:...</td>\n",
              "      <td>Backside Entertainment Powered by The SETNETWORK</td>\n",
              "    </tr>\n",
              "    <tr>\n",
              "      <th>4367</th>\n",
              "      <td>BCAA Leadership Club -Communication with Emoti...</td>\n",
              "      <td>&lt;div style=\"text-align: -webkit-auto;\"&gt;\\n&lt;div ...</td>\n",
              "      <td>BCAA</td>\n",
              "    </tr>\n",
              "    <tr>\n",
              "      <th>10714</th>\n",
              "      <td>A Mary Wigman Dance Evening | Fabián Barba</td>\n",
              "      <td>&lt;p&gt;&lt;span style=\"font-size: medium;\"&gt;During his...</td>\n",
              "      <td>Dance Umbrella 2012</td>\n",
              "    </tr>\n",
              "  </tbody>\n",
              "</table>\n",
              "<p>11469 rows × 3 columns</p>\n",
              "</div>"
            ],
            "text/plain": [
              "                                                    name  ...                                           org_name\n",
              "463                              LeDiCe GRADUATION PARTY  ...                                            LeDiCe \n",
              "2697                           Shropshire Cadets Concert  ...  Siobhan Kilbane and Ray Wickson on Behalf of C...\n",
              "10484                 Wine Down Tour (Labor Day Weekend)  ...                                  WineMeDown Events\n",
              "10094         RENEGADETHEBEAST AND FRIENDS 2012 CALENDAR  ...                                        atlstripper\n",
              "3996                                            Bar club  ...                                                NaN\n",
              "...                                                  ...  ...                                                ...\n",
              "9620   Lead with Your Words: Biblical Principles for ...  ...                    Wellspring School of Leadership\n",
              "7068                 BYT Presents: Get Beaujolaid @ 1905  ...                           BrightestYoungThings.com\n",
              "7391                         Essence Music Festival 2013  ...   Backside Entertainment Powered by The SETNETWORK\n",
              "4367   BCAA Leadership Club -Communication with Emoti...  ...                                               BCAA\n",
              "10714         A Mary Wigman Dance Evening | Fabián Barba  ...                                Dance Umbrella 2012\n",
              "\n",
              "[11469 rows x 3 columns]"
            ]
          },
          "metadata": {
            "tags": []
          },
          "execution_count": 57
        }
      ]
    },
    {
      "cell_type": "code",
      "metadata": {
        "id": "z-Ku1vEDpWXC"
      },
      "source": [
        "train_predictions=get_predictions(nlp,(X_train['name'].values)[0:99])\r\n",
        "test_predictions=get_predictions(nlp,(X_test['name'].values)[0:45])\r\n",
        "train_accuracy=accuracy_score(y_train[0:99],train_predictions)\r\n",
        "test_accuracy=accuracy_score(y_test[0:45],test_predictions)"
      ],
      "execution_count": null,
      "outputs": []
    },
    {
      "cell_type": "code",
      "metadata": {
        "colab": {
          "base_uri": "https://localhost:8080/"
        },
        "id": "gHBvE54FscHR",
        "outputId": "34e2bbd5-505f-4a6c-e81c-074ac98d2204"
      },
      "source": [
        "print(train_accuracy,test_accuracy)"
      ],
      "execution_count": null,
      "outputs": [
        {
          "output_type": "stream",
          "text": [
            "0.0 0.0\n"
          ],
          "name": "stdout"
        }
      ]
    },
    {
      "cell_type": "code",
      "metadata": {
        "colab": {
          "base_uri": "https://localhost:8080/"
        },
        "id": "_Cw58s04smh-",
        "outputId": "25b61d89-7c3a-41d0-f577-f87c880b9cd8"
      },
      "source": [
        "print(np.array(test_predictions))"
      ],
      "execution_count": null,
      "outputs": [
        {
          "output_type": "stream",
          "text": [
            "['not_fraud' 'not_fraud' 'not_fraud' 'not_fraud' 'not_fraud' 'not_fraud'\n",
            " 'not_fraud' 'not_fraud' 'not_fraud' 'not_fraud' 'not_fraud' 'not_fraud'\n",
            " 'not_fraud' 'not_fraud' 'not_fraud' 'not_fraud' 'not_fraud' 'not_fraud'\n",
            " 'not_fraud' 'not_fraud' 'not_fraud' 'not_fraud' 'not_fraud' 'not_fraud'\n",
            " 'not_fraud' 'not_fraud' 'not_fraud' 'not_fraud' 'not_fraud' 'not_fraud'\n",
            " 'not_fraud' 'not_fraud' 'not_fraud' 'not_fraud' 'not_fraud' 'not_fraud'\n",
            " 'not_fraud' 'not_fraud' 'not_fraud' 'not_fraud' 'not_fraud' 'not_fraud'\n",
            " 'not_fraud' 'not_fraud' 'not_fraud']\n"
          ],
          "name": "stdout"
        }
      ]
    },
    {
      "cell_type": "code",
      "metadata": {
        "id": "3D-G37IAt1jJ"
      },
      "source": [
        ""
      ],
      "execution_count": null,
      "outputs": []
    },
    {
      "cell_type": "code",
      "metadata": {
        "id": "xYMVqIyGty4I"
      },
      "source": [
        ""
      ],
      "execution_count": null,
      "outputs": []
    },
    {
      "cell_type": "code",
      "metadata": {
        "id": "ZEouRjLutfa7"
      },
      "source": [
        ""
      ],
      "execution_count": null,
      "outputs": []
    },
    {
      "cell_type": "code",
      "metadata": {
        "colab": {
          "base_uri": "https://localhost:8080/"
        },
        "id": "TPyhAIqws8B_",
        "outputId": "d33ad9b8-d7a6-4269-8154-50f3a097836c"
      },
      "source": [
        "print(y_train[0:45])"
      ],
      "execution_count": null,
      "outputs": [
        {
          "output_type": "stream",
          "text": [
            "463                               True\n",
            "2697                             False\n",
            "10484    wine tasting experiences.</p>\n",
            "10094                            False\n",
            "3996                              True\n",
            "5991                             False\n",
            "2047                             False\n",
            "13774                            False\n",
            "9847                             False\n",
            "12996                            False\n",
            "482                              False\n",
            "10471                            False\n",
            "12807                            False\n",
            "3122                             False\n",
            "9860                             False\n",
            "4907                             False\n",
            "2274                             False\n",
            "3722                             False\n",
            "3978                             False\n",
            "819                              False\n",
            "7823                             False\n",
            "12763                            False\n",
            "7757                             False\n",
            "13426                            False\n",
            "7607                             False\n",
            "9255                             False\n",
            "12193                            False\n",
            "12070                            False\n",
            "7402                             False\n",
            "7514                             False\n",
            "10098                            False\n",
            "12123                            False\n",
            "8951                             False\n",
            "35                               False\n",
            "8881                             False\n",
            "4301                             False\n",
            "7895                             False\n",
            "8265                              True\n",
            "10621                            False\n",
            "13290                            False\n",
            "3580                             False\n",
            "6072                             False\n",
            "895                              False\n",
            "6659                             False\n",
            "6254                             False\n",
            "Name: fraud, dtype: object\n"
          ],
          "name": "stdout"
        }
      ]
    },
    {
      "cell_type": "code",
      "metadata": {
        "id": "INpB9qu2tHFL"
      },
      "source": [
        "train_data=list(zip(((X_train['description'].values)[25:100]),(train_labels[25:100])))\r\n",
        "test_data=list((zip((X_test['description'].values)[25:50]),(test_labels[25:50])))"
      ],
      "execution_count": null,
      "outputs": []
    },
    {
      "cell_type": "code",
      "metadata": {
        "id": "NDbWQCKUvi7O"
      },
      "source": [
        ""
      ],
      "execution_count": null,
      "outputs": []
    },
    {
      "cell_type": "code",
      "metadata": {
        "id": "d10v0pZQvVOQ"
      },
      "source": [
        "train_data_d=list(zip(((X_train['description'].values)),(train_labels)))\r\n",
        "test_data_d=list((zip((X_test['description'].values)),(test_labels)))"
      ],
      "execution_count": null,
      "outputs": []
    },
    {
      "cell_type": "code",
      "metadata": {
        "id": "8L62s8RJAJgo"
      },
      "source": [
        ""
      ],
      "execution_count": null,
      "outputs": []
    },
    {
      "cell_type": "code",
      "metadata": {
        "id": "pROC3iNCAFSR"
      },
      "source": [
        ""
      ],
      "execution_count": null,
      "outputs": []
    },
    {
      "cell_type": "code",
      "metadata": {
        "colab": {
          "base_uri": "https://localhost:8080/"
        },
        "id": "DIq2CsE7uWx6",
        "outputId": "587cbf67-6fe8-494f-ce08-012dc46890c5"
      },
      "source": [
        "\r\n",
        "optimizer_d=nlp.begin_training()\r\n",
        "batch_size=5\r\n",
        "\r\n",
        "epochs=10\r\n",
        "\r\n",
        "train_model(nlp,train_data_d,optimizer_d,batch_size,epochs)"
      ],
      "execution_count": null,
      "outputs": [
        {
          "output_type": "stream",
          "text": [
            "Loss:11.02251581125786\n",
            "Loss:17.73043722358214\n",
            "Loss:21.64153189152224\n",
            "Loss:24.323790010662123\n",
            "Loss:26.549963389481878\n",
            "Loss:28.399137657845085\n",
            "Loss:30.11444793140428\n",
            "Loss:31.6119076214801\n",
            "Loss:32.92711531314343\n",
            "Loss:34.23373766171704\n"
          ],
          "name": "stdout"
        },
        {
          "output_type": "execute_result",
          "data": {
            "text/plain": [
              "34.23373766171704"
            ]
          },
          "metadata": {
            "tags": []
          },
          "execution_count": 29
        }
      ]
    },
    {
      "cell_type": "code",
      "metadata": {
        "id": "2-M-SNHYuuag"
      },
      "source": [
        "train_prediction_d=get_predictions(nlp,((X_train['description'].values)))\r\n",
        "test_predictions_d=get_predictions(nlp,(X_test['description'].values))\r\n",
        "#train_accuracy=accuracy_score(y_train,train_predictions)\r\n",
        "#test_accuracy=accuracy_score(y_test,test_predictions==')"
      ],
      "execution_count": null,
      "outputs": []
    },
    {
      "cell_type": "code",
      "metadata": {
        "colab": {
          "base_uri": "https://localhost:8080/"
        },
        "id": "sQR246LJJdjS",
        "outputId": "b17f9d1f-6f39-4ec5-faab-881894561ae7"
      },
      "source": [
        "print(list(test_predictions_d==(y_test.values=='True'))[0:50])"
      ],
      "execution_count": null,
      "outputs": [
        {
          "output_type": "stream",
          "text": [
            "[True, True, True, True, True, True, True, True, True, True, True, False, True, True, True, True, True, True, True, True, True, True, True, True, True, True, True, True, True, True, True, True, True, True, True, True, True, True, True, True, True, True, True, True, True, True, True, True, True, True]\n"
          ],
          "name": "stdout"
        }
      ]
    },
    {
      "cell_type": "code",
      "metadata": {
        "colab": {
          "base_uri": "https://localhost:8080/"
        },
        "id": "jPHkznUBRQBm",
        "outputId": "a40f7b9c-d9fd-468f-d28a-3048b0f940bb"
      },
      "source": [
        "sum(list(test_predictions_d==(y_test.values=='True'))[0:50])"
      ],
      "execution_count": null,
      "outputs": [
        {
          "output_type": "execute_result",
          "data": {
            "text/plain": [
              "49"
            ]
          },
          "metadata": {
            "tags": []
          },
          "execution_count": 72
        }
      ]
    },
    {
      "cell_type": "code",
      "metadata": {
        "id": "bWN85RGiSX9j"
      },
      "source": [
        ""
      ],
      "execution_count": null,
      "outputs": []
    },
    {
      "cell_type": "code",
      "metadata": {
        "id": "Jk7DBUScRMzs"
      },
      "source": [
        ""
      ],
      "execution_count": null,
      "outputs": []
    },
    {
      "cell_type": "code",
      "metadata": {
        "id": "Rcdw-2HR_JOM"
      },
      "source": [
        "train_accuracy=accuracy_score(y_train.values=='True',train_prediction_d)\r\n",
        "test_accuracy=accuracy_score(y_test.values=='True',test_predictions_d)"
      ],
      "execution_count": null,
      "outputs": []
    },
    {
      "cell_type": "code",
      "metadata": {
        "id": "DIC-lTemTeIz"
      },
      "source": [
        "from sklearn.metrics import precision_score,recall_score"
      ],
      "execution_count": 76,
      "outputs": []
    },
    {
      "cell_type": "code",
      "metadata": {
        "id": "Gdwj9En5UaEJ"
      },
      "source": [
        ""
      ],
      "execution_count": null,
      "outputs": []
    },
    {
      "cell_type": "code",
      "metadata": {
        "colab": {
          "base_uri": "https://localhost:8080/"
        },
        "id": "le_SdsxwThTO",
        "outputId": "7bec0ccd-8448-4329-c3cf-e447aadbf446"
      },
      "source": [
        "precision_score(y_test.values=='True',test_predictions_d)"
      ],
      "execution_count": 75,
      "outputs": [
        {
          "output_type": "execute_result",
          "data": {
            "text/plain": [
              "0.6492537313432836"
            ]
          },
          "metadata": {
            "tags": []
          },
          "execution_count": 75
        }
      ]
    },
    {
      "cell_type": "code",
      "metadata": {
        "colab": {
          "base_uri": "https://localhost:8080/"
        },
        "id": "uTb6WMHpUN57",
        "outputId": "9254d138-109b-4c07-8af7-58d3ba6d2017"
      },
      "source": [
        "recall_score(y_test.values=='True',test_predictions_d)"
      ],
      "execution_count": 77,
      "outputs": [
        {
          "output_type": "execute_result",
          "data": {
            "text/plain": [
              "0.4264705882352941"
            ]
          },
          "metadata": {
            "tags": []
          },
          "execution_count": 77
        }
      ]
    },
    {
      "cell_type": "code",
      "metadata": {
        "id": "nIZP3l21Uh2e"
      },
      "source": [
        ""
      ],
      "execution_count": null,
      "outputs": []
    },
    {
      "cell_type": "code",
      "metadata": {
        "colab": {
          "base_uri": "https://localhost:8080/"
        },
        "id": "_HbhkgThPFyB",
        "outputId": "f611306e-2c58-4e7e-91bd-b550d03cfc68"
      },
      "source": [
        "print('train_accuracy',train_accuracy,'test_accuracy',test_accuracy)"
      ],
      "execution_count": null,
      "outputs": [
        {
          "output_type": "stream",
          "text": [
            "train_accuracy 0.9930600536689183 test_accuracy 0.9393042190969653\n"
          ],
          "name": "stdout"
        }
      ]
    },
    {
      "cell_type": "code",
      "metadata": {
        "id": "kWxFOFqQTDF9"
      },
      "source": [
        ""
      ],
      "execution_count": null,
      "outputs": []
    },
    {
      "cell_type": "code",
      "metadata": {
        "colab": {
          "base_uri": "https://localhost:8080/"
        },
        "id": "4pBlK5I0PV7w",
        "outputId": "eedd17b3-3767-4f34-ea5b-33571751bbea"
      },
      "source": [
        "y_test.values[0:50]"
      ],
      "execution_count": null,
      "outputs": [
        {
          "output_type": "execute_result",
          "data": {
            "text/plain": [
              "array(['False', 'False', 'False', 'False', 'False', 'False', 'False',\n",
              "       'False', 'False', 'False', 'False', 'False', 'False', 'False',\n",
              "       'False', 'False', 'False', 'False', 'False', 'False', 'False',\n",
              "       'False', 'False', 'False', 'False', 'False', 'True', 'False',\n",
              "       'False', 'False', 'False', 'False', 'False', 'False', 'False',\n",
              "       'False', 'False', 'False', 'False', 'False', 'False', 'False',\n",
              "       'False', 'False', 'False', 'False', 'False', 'False', 'False',\n",
              "       'False'], dtype=object)"
            ]
          },
          "metadata": {
            "tags": []
          },
          "execution_count": 64
        }
      ]
    },
    {
      "cell_type": "code",
      "metadata": {
        "id": "aldXRdDsTB5v"
      },
      "source": [
        ""
      ],
      "execution_count": null,
      "outputs": []
    },
    {
      "cell_type": "code",
      "metadata": {
        "colab": {
          "base_uri": "https://localhost:8080/"
        },
        "id": "katX23nQPiKk",
        "outputId": "2ff48a28-6278-41a0-e322-627fe05cb23f"
      },
      "source": [
        "test_predictions_d[0:50]"
      ],
      "execution_count": null,
      "outputs": [
        {
          "output_type": "execute_result",
          "data": {
            "text/plain": [
              "array([0, 0, 0, 0, 0, 0, 0, 0, 0, 0, 0, 1, 0, 0, 0, 0, 0, 0, 0, 0, 0, 0,\n",
              "       0, 0, 0, 0, 1, 0, 0, 0, 0, 0, 0, 0, 0, 0, 0, 0, 0, 0, 0, 0, 0, 0,\n",
              "       0, 0, 0, 0, 0, 0])"
            ]
          },
          "metadata": {
            "tags": []
          },
          "execution_count": 65
        }
      ]
    },
    {
      "cell_type": "code",
      "metadata": {
        "id": "foYdmW08PyKr"
      },
      "source": [
        ""
      ],
      "execution_count": null,
      "outputs": []
    },
    {
      "cell_type": "code",
      "metadata": {
        "id": "klhB8HnLJxHE"
      },
      "source": [
        ""
      ],
      "execution_count": null,
      "outputs": []
    },
    {
      "cell_type": "code",
      "metadata": {
        "id": "4L-YWfRNJC3d"
      },
      "source": [
        ""
      ],
      "execution_count": null,
      "outputs": []
    },
    {
      "cell_type": "code",
      "metadata": {
        "id": "i_6McR3GI7Pj"
      },
      "source": [
        ""
      ],
      "execution_count": null,
      "outputs": []
    },
    {
      "cell_type": "code",
      "metadata": {
        "colab": {
          "base_uri": "https://localhost:8080/",
          "height": 129
        },
        "id": "zX7JZiSbwEKD",
        "outputId": "2d42d932-f792-4e86-c437-1970c096b1cb"
      },
      "source": [
        "X_train['description'].values[~np.array[isinstance(value,str) for value in   X_train['description'].values]]"
      ],
      "execution_count": null,
      "outputs": [
        {
          "output_type": "error",
          "ename": "SyntaxError",
          "evalue": "ignored",
          "traceback": [
            "\u001b[0;36m  File \u001b[0;32m\"<ipython-input-294-f77c834e6d71>\"\u001b[0;36m, line \u001b[0;32m1\u001b[0m\n\u001b[0;31m    X_train['description'].values[~np.array[isinstance(value,str) for value in   X_train['description'].values]]\u001b[0m\n\u001b[0m                                                                    ^\u001b[0m\n\u001b[0;31mSyntaxError\u001b[0m\u001b[0;31m:\u001b[0m invalid syntax\n"
          ]
        }
      ]
    },
    {
      "cell_type": "code",
      "metadata": {
        "id": "NQytk33C0Zv2"
      },
      "source": [
        "checks=([isinstance(value,str) for value in   X_train['description'].values])"
      ],
      "execution_count": null,
      "outputs": []
    },
    {
      "cell_type": "code",
      "metadata": {
        "colab": {
          "base_uri": "https://localhost:8080/"
        },
        "id": "MEw2Lr2O0vT_",
        "outputId": "36983c85-38bb-4656-ea67-458294222604"
      },
      "source": [
        "len(checks)"
      ],
      "execution_count": null,
      "outputs": [
        {
          "output_type": "execute_result",
          "data": {
            "text/plain": [
              "11469"
            ]
          },
          "metadata": {
            "tags": []
          },
          "execution_count": 301
        }
      ]
    },
    {
      "cell_type": "code",
      "metadata": {
        "id": "bvocfN2G0yPr"
      },
      "source": [
        "check_a=np.array(checks)"
      ],
      "execution_count": null,
      "outputs": []
    },
    {
      "cell_type": "code",
      "metadata": {
        "colab": {
          "base_uri": "https://localhost:8080/"
        },
        "id": "KrpeWmjb7uS4",
        "outputId": "743b37f9-f0fd-4bc7-dd63-6e18c89ce597"
      },
      "source": [
        "check_a"
      ],
      "execution_count": null,
      "outputs": [
        {
          "output_type": "execute_result",
          "data": {
            "text/plain": [
              "array([ True,  True,  True, ...,  True,  True,  True])"
            ]
          },
          "metadata": {
            "tags": []
          },
          "execution_count": 319
        }
      ]
    },
    {
      "cell_type": "code",
      "metadata": {
        "id": "XwD4lKFW7wPp"
      },
      "source": [
        ""
      ],
      "execution_count": null,
      "outputs": []
    },
    {
      "cell_type": "code",
      "metadata": {
        "colab": {
          "base_uri": "https://localhost:8080/",
          "height": 35
        },
        "id": "VbgwgmqD04jj",
        "outputId": "30a9f3f9-422d-4ca8-89d7-c44a506d89ac"
      },
      "source": [
        "text[0]"
      ],
      "execution_count": null,
      "outputs": [
        {
          "output_type": "execute_result",
          "data": {
            "application/vnd.google.colaboratory.intrinsic+json": {
              "type": "string"
            },
            "text/plain": [
              "'W'"
            ]
          },
          "metadata": {
            "tags": []
          },
          "execution_count": 323
        }
      ]
    },
    {
      "cell_type": "code",
      "metadata": {
        "colab": {
          "base_uri": "https://localhost:8080/"
        },
        "id": "lYPesecP1wgB",
        "outputId": "d76810df-0f43-4b03-dc24-3746271874e1"
      },
      "source": [
        "for i,no in enumerate(check_a):\r\n",
        "  if no:\r\n",
        "    pass\r\n",
        "  else:\r\n",
        "    print (i,(X_train['description'].values)[i])\r\n"
      ],
      "execution_count": null,
      "outputs": [
        {
          "output_type": "stream",
          "text": [
            "49 nan\n",
            "55 nan\n",
            "65 nan\n",
            "70 nan\n",
            "73 nan\n",
            "104 nan\n",
            "108 nan\n",
            "114 nan\n",
            "142 nan\n",
            "143 nan\n",
            "147 nan\n",
            "172 nan\n",
            "188 nan\n",
            "240 nan\n",
            "257 nan\n",
            "264 nan\n",
            "274 nan\n",
            "319 nan\n",
            "353 nan\n",
            "357 nan\n",
            "363 nan\n",
            "369 nan\n",
            "381 nan\n",
            "393 nan\n",
            "406 nan\n",
            "415 nan\n",
            "429 nan\n",
            "435 nan\n",
            "455 nan\n",
            "473 nan\n",
            "499 nan\n",
            "598 nan\n",
            "600 nan\n",
            "612 nan\n",
            "618 nan\n",
            "621 nan\n",
            "625 nan\n",
            "631 nan\n",
            "638 nan\n",
            "653 nan\n",
            "681 nan\n",
            "688 nan\n",
            "691 nan\n",
            "714 nan\n",
            "740 nan\n",
            "769 nan\n",
            "799 nan\n",
            "803 nan\n",
            "815 nan\n",
            "824 nan\n",
            "831 nan\n",
            "832 nan\n",
            "837 nan\n",
            "875 nan\n",
            "888 nan\n",
            "892 nan\n",
            "897 nan\n",
            "912 nan\n",
            "960 nan\n",
            "967 nan\n",
            "983 nan\n",
            "1012 nan\n",
            "1022 nan\n",
            "1040 nan\n",
            "1042 nan\n",
            "1061 nan\n",
            "1064 nan\n",
            "1066 nan\n",
            "1079 nan\n",
            "1090 nan\n",
            "1094 nan\n",
            "1099 nan\n",
            "1107 nan\n",
            "1121 nan\n",
            "1162 nan\n",
            "1191 nan\n",
            "1218 nan\n",
            "1230 nan\n",
            "1246 nan\n",
            "1259 nan\n",
            "1260 nan\n",
            "1264 nan\n",
            "1268 nan\n",
            "1275 nan\n",
            "1289 nan\n",
            "1315 nan\n",
            "1317 nan\n",
            "1322 nan\n",
            "1352 nan\n",
            "1362 nan\n",
            "1372 nan\n",
            "1376 nan\n",
            "1387 nan\n",
            "1399 nan\n",
            "1437 nan\n",
            "1446 nan\n",
            "1454 nan\n",
            "1457 nan\n",
            "1479 nan\n",
            "1490 nan\n",
            "1502 nan\n",
            "1514 nan\n",
            "1534 nan\n",
            "1576 nan\n",
            "1618 nan\n",
            "1636 nan\n",
            "1666 nan\n",
            "1668 nan\n",
            "1673 nan\n",
            "1682 nan\n",
            "1684 nan\n",
            "1722 nan\n",
            "1725 nan\n",
            "1750 nan\n",
            "1779 nan\n",
            "1780 nan\n",
            "1792 nan\n",
            "1795 nan\n",
            "1800 nan\n",
            "1804 nan\n",
            "1810 nan\n",
            "1811 nan\n",
            "1828 nan\n",
            "1851 nan\n",
            "1863 nan\n",
            "1874 nan\n",
            "1888 nan\n",
            "1895 nan\n",
            "1913 nan\n",
            "1921 nan\n",
            "1941 nan\n",
            "1950 nan\n",
            "2019 nan\n",
            "2030 nan\n",
            "2089 nan\n",
            "2090 nan\n",
            "2123 nan\n",
            "2142 nan\n",
            "2161 nan\n",
            "2172 nan\n",
            "2184 nan\n",
            "2209 nan\n",
            "2236 nan\n",
            "2276 nan\n",
            "2278 nan\n",
            "2340 nan\n",
            "2355 nan\n",
            "2367 nan\n",
            "2376 nan\n",
            "2384 nan\n",
            "2403 nan\n",
            "2432 nan\n",
            "2440 nan\n",
            "2473 nan\n",
            "2502 nan\n",
            "2508 nan\n",
            "2530 nan\n",
            "2531 nan\n",
            "2546 nan\n",
            "2553 nan\n",
            "2564 nan\n",
            "2568 nan\n",
            "2580 nan\n",
            "2586 nan\n",
            "2598 nan\n",
            "2608 nan\n",
            "2628 nan\n",
            "2636 nan\n",
            "2686 nan\n",
            "2701 nan\n",
            "2727 nan\n",
            "2770 nan\n",
            "2771 nan\n",
            "2844 nan\n",
            "2865 nan\n",
            "2880 nan\n",
            "2901 nan\n",
            "2907 nan\n",
            "2911 nan\n",
            "2931 nan\n",
            "2937 nan\n",
            "2955 nan\n",
            "2981 nan\n",
            "2993 nan\n",
            "3001 nan\n",
            "3053 nan\n",
            "3064 nan\n",
            "3097 nan\n",
            "3118 nan\n",
            "3120 nan\n",
            "3140 nan\n",
            "3158 nan\n",
            "3165 nan\n",
            "3183 nan\n",
            "3198 nan\n",
            "3220 nan\n",
            "3228 nan\n",
            "3230 nan\n",
            "3238 nan\n",
            "3298 nan\n",
            "3309 nan\n",
            "3318 nan\n",
            "3321 nan\n",
            "3322 nan\n",
            "3348 nan\n",
            "3385 nan\n",
            "3386 nan\n",
            "3398 nan\n",
            "3400 nan\n",
            "3450 nan\n",
            "3517 nan\n",
            "3547 nan\n",
            "3568 nan\n",
            "3605 nan\n",
            "3614 nan\n",
            "3629 nan\n",
            "3646 nan\n",
            "3653 nan\n",
            "3665 nan\n",
            "3667 nan\n",
            "3733 nan\n",
            "3769 nan\n",
            "3804 nan\n",
            "3809 nan\n",
            "3819 nan\n",
            "3839 nan\n",
            "3844 nan\n",
            "3847 nan\n",
            "3862 nan\n",
            "3872 nan\n",
            "3885 nan\n",
            "3914 nan\n",
            "3928 nan\n",
            "3956 nan\n",
            "4019 nan\n",
            "4028 nan\n",
            "4050 nan\n",
            "4077 nan\n",
            "4148 nan\n",
            "4164 nan\n",
            "4167 nan\n",
            "4174 nan\n",
            "4183 nan\n",
            "4198 nan\n",
            "4206 nan\n",
            "4220 nan\n",
            "4274 nan\n",
            "4275 nan\n",
            "4278 nan\n",
            "4341 nan\n",
            "4376 nan\n",
            "4420 nan\n",
            "4426 nan\n",
            "4486 nan\n",
            "4489 nan\n",
            "4511 nan\n",
            "4559 nan\n",
            "4571 nan\n",
            "4589 nan\n",
            "4593 nan\n",
            "4645 nan\n",
            "4670 nan\n",
            "4682 nan\n",
            "4728 nan\n",
            "4747 nan\n",
            "4760 nan\n",
            "4780 nan\n",
            "4782 nan\n",
            "4786 nan\n",
            "4790 nan\n",
            "4798 nan\n",
            "4806 nan\n",
            "4815 nan\n",
            "4816 nan\n",
            "4822 nan\n",
            "4823 nan\n",
            "4838 nan\n",
            "4841 nan\n",
            "4865 nan\n",
            "4891 nan\n",
            "4906 nan\n",
            "4914 nan\n",
            "4922 nan\n",
            "4924 nan\n",
            "4950 nan\n",
            "4953 nan\n",
            "4963 nan\n",
            "4988 nan\n",
            "4999 nan\n",
            "5006 nan\n",
            "5012 nan\n",
            "5021 nan\n",
            "5048 nan\n",
            "5062 nan\n",
            "5072 nan\n",
            "5087 nan\n",
            "5093 nan\n",
            "5150 nan\n",
            "5164 nan\n",
            "5183 nan\n",
            "5197 nan\n",
            "5207 nan\n",
            "5213 nan\n",
            "5226 nan\n",
            "5233 nan\n",
            "5242 nan\n",
            "5245 nan\n",
            "5266 nan\n",
            "5281 nan\n",
            "5289 nan\n",
            "5332 nan\n",
            "5360 nan\n",
            "5378 nan\n",
            "5436 nan\n",
            "5455 nan\n",
            "5459 nan\n",
            "5461 nan\n",
            "5466 nan\n",
            "5487 nan\n",
            "5513 nan\n",
            "5520 nan\n",
            "5542 nan\n",
            "5552 nan\n",
            "5581 nan\n",
            "5613 nan\n",
            "5621 nan\n",
            "5628 nan\n",
            "5651 nan\n",
            "5655 nan\n",
            "5660 nan\n",
            "5664 nan\n",
            "5665 nan\n",
            "5679 nan\n",
            "5705 nan\n",
            "5707 nan\n",
            "5739 nan\n",
            "5755 nan\n",
            "5762 nan\n",
            "5769 nan\n",
            "5786 nan\n",
            "5794 nan\n",
            "5809 nan\n",
            "5817 nan\n",
            "5836 nan\n",
            "5850 nan\n",
            "5853 nan\n",
            "5883 nan\n",
            "5924 nan\n",
            "5966 nan\n",
            "5988 nan\n",
            "6017 nan\n",
            "6018 nan\n",
            "6043 nan\n",
            "6054 nan\n",
            "6060 nan\n",
            "6076 nan\n",
            "6088 nan\n",
            "6157 nan\n",
            "6169 nan\n",
            "6178 nan\n",
            "6211 nan\n",
            "6215 nan\n",
            "6234 nan\n",
            "6243 nan\n",
            "6244 nan\n",
            "6267 nan\n",
            "6284 nan\n",
            "6297 nan\n",
            "6311 nan\n",
            "6324 nan\n",
            "6329 nan\n",
            "6353 nan\n",
            "6366 nan\n",
            "6378 nan\n",
            "6382 nan\n",
            "6383 nan\n",
            "6402 nan\n",
            "6508 nan\n",
            "6512 nan\n",
            "6527 nan\n",
            "6545 nan\n",
            "6551 nan\n",
            "6585 nan\n",
            "6637 nan\n",
            "6648 nan\n",
            "6657 nan\n",
            "6668 nan\n",
            "6677 nan\n",
            "6702 nan\n",
            "6727 nan\n",
            "6747 nan\n",
            "6798 nan\n",
            "6817 nan\n",
            "6837 nan\n",
            "6860 nan\n",
            "6884 nan\n",
            "6899 nan\n",
            "6923 nan\n",
            "6956 nan\n",
            "6960 nan\n",
            "6961 nan\n",
            "6967 nan\n",
            "7011 nan\n",
            "7016 nan\n",
            "7017 nan\n",
            "7022 nan\n",
            "7052 nan\n",
            "7078 nan\n",
            "7080 nan\n",
            "7125 nan\n",
            "7136 nan\n",
            "7139 nan\n",
            "7150 nan\n",
            "7175 nan\n",
            "7184 nan\n",
            "7192 nan\n",
            "7208 nan\n",
            "7212 nan\n",
            "7224 nan\n",
            "7231 nan\n",
            "7241 nan\n",
            "7286 nan\n",
            "7293 nan\n",
            "7308 nan\n",
            "7330 nan\n",
            "7337 nan\n",
            "7350 nan\n",
            "7404 nan\n",
            "7428 nan\n",
            "7432 nan\n",
            "7459 nan\n",
            "7478 nan\n",
            "7504 nan\n",
            "7525 nan\n",
            "7527 nan\n",
            "7531 nan\n",
            "7547 nan\n",
            "7566 nan\n",
            "7568 nan\n",
            "7591 nan\n",
            "7618 nan\n",
            "7629 nan\n",
            "7630 nan\n",
            "7644 nan\n",
            "7674 nan\n",
            "7696 nan\n",
            "7744 nan\n",
            "7745 nan\n",
            "7746 nan\n",
            "7753 nan\n",
            "7763 nan\n",
            "7768 nan\n",
            "7773 nan\n",
            "7792 nan\n",
            "7795 nan\n",
            "7799 nan\n",
            "7851 nan\n",
            "7888 nan\n",
            "7912 nan\n",
            "7960 nan\n",
            "8001 nan\n",
            "8025 nan\n",
            "8044 nan\n",
            "8064 nan\n",
            "8088 nan\n",
            "8094 nan\n",
            "8095 nan\n",
            "8118 nan\n",
            "8143 nan\n",
            "8149 nan\n",
            "8218 nan\n",
            "8229 nan\n",
            "8247 nan\n",
            "8266 nan\n",
            "8267 nan\n",
            "8269 nan\n",
            "8276 nan\n",
            "8285 nan\n",
            "8289 nan\n",
            "8311 nan\n",
            "8328 nan\n",
            "8333 nan\n",
            "8339 nan\n",
            "8352 nan\n",
            "8392 nan\n",
            "8399 nan\n",
            "8404 nan\n",
            "8405 nan\n",
            "8410 nan\n",
            "8432 nan\n",
            "8434 nan\n",
            "8467 nan\n",
            "8478 nan\n",
            "8498 nan\n",
            "8504 nan\n",
            "8509 nan\n",
            "8510 nan\n",
            "8512 nan\n",
            "8526 nan\n",
            "8537 nan\n",
            "8624 nan\n",
            "8649 nan\n",
            "8650 nan\n",
            "8659 nan\n",
            "8666 nan\n",
            "8678 nan\n",
            "8694 nan\n",
            "8707 nan\n",
            "8731 nan\n",
            "8744 nan\n",
            "8754 nan\n",
            "8824 nan\n",
            "8846 nan\n",
            "8864 nan\n",
            "8867 nan\n",
            "8899 nan\n",
            "8919 nan\n",
            "8932 nan\n",
            "8939 nan\n",
            "8954 nan\n",
            "8956 nan\n",
            "8964 nan\n",
            "8980 nan\n",
            "9002 nan\n",
            "9005 nan\n",
            "9049 nan\n",
            "9050 nan\n",
            "9104 nan\n",
            "9140 nan\n",
            "9145 nan\n",
            "9170 nan\n",
            "9228 nan\n",
            "9252 nan\n",
            "9273 nan\n",
            "9297 nan\n",
            "9298 nan\n",
            "9309 nan\n",
            "9332 nan\n",
            "9347 nan\n",
            "9359 nan\n",
            "9375 nan\n",
            "9395 nan\n",
            "9398 nan\n",
            "9402 nan\n",
            "9414 nan\n",
            "9421 nan\n",
            "9450 nan\n",
            "9461 nan\n",
            "9488 nan\n",
            "9499 nan\n",
            "9501 nan\n",
            "9520 nan\n",
            "9545 nan\n",
            "9580 nan\n",
            "9581 nan\n",
            "9587 nan\n",
            "9590 nan\n",
            "9619 nan\n",
            "9636 nan\n",
            "9683 nan\n",
            "9698 nan\n",
            "9717 nan\n",
            "9721 nan\n",
            "9732 nan\n",
            "9733 nan\n",
            "9787 nan\n",
            "9816 nan\n",
            "9830 nan\n",
            "9831 nan\n",
            "9843 nan\n",
            "9858 nan\n",
            "9868 nan\n",
            "9879 nan\n",
            "9903 nan\n",
            "9928 nan\n",
            "9952 nan\n",
            "9965 nan\n",
            "9983 nan\n",
            "9987 nan\n",
            "10012 nan\n",
            "10023 nan\n",
            "10057 nan\n",
            "10101 nan\n",
            "10123 nan\n",
            "10138 nan\n",
            "10148 nan\n",
            "10155 nan\n",
            "10196 nan\n",
            "10253 nan\n",
            "10254 nan\n",
            "10258 nan\n",
            "10286 nan\n",
            "10287 nan\n",
            "10304 nan\n",
            "10312 nan\n",
            "10319 nan\n",
            "10341 nan\n",
            "10344 nan\n",
            "10345 nan\n",
            "10355 nan\n",
            "10356 nan\n",
            "10376 nan\n",
            "10388 nan\n",
            "10408 nan\n",
            "10435 nan\n",
            "10441 nan\n",
            "10455 nan\n",
            "10469 nan\n",
            "10490 nan\n",
            "10505 nan\n",
            "10517 nan\n",
            "10537 nan\n",
            "10565 nan\n",
            "10589 nan\n",
            "10626 nan\n",
            "10627 nan\n",
            "10643 nan\n",
            "10648 nan\n",
            "10652 nan\n",
            "10657 nan\n",
            "10661 nan\n",
            "10708 nan\n",
            "10738 nan\n",
            "10755 nan\n",
            "10764 nan\n",
            "10796 nan\n",
            "10799 nan\n",
            "10810 nan\n",
            "10842 nan\n",
            "10843 nan\n",
            "10865 nan\n",
            "10874 nan\n",
            "10876 nan\n",
            "10921 nan\n",
            "10930 nan\n",
            "10931 nan\n",
            "10947 nan\n",
            "10978 nan\n",
            "11020 nan\n",
            "11052 nan\n",
            "11054 nan\n",
            "11078 nan\n",
            "11079 nan\n",
            "11092 nan\n",
            "11124 nan\n",
            "11180 nan\n",
            "11203 nan\n",
            "11230 nan\n",
            "11236 nan\n",
            "11260 nan\n",
            "11275 nan\n",
            "11289 nan\n",
            "11323 nan\n",
            "11344 nan\n",
            "11352 nan\n",
            "11353 nan\n",
            "11355 nan\n",
            "11364 nan\n",
            "11387 nan\n",
            "11408 nan\n",
            "11421 nan\n",
            "11434 nan\n",
            "11446 nan\n"
          ],
          "name": "stdout"
        }
      ]
    },
    {
      "cell_type": "code",
      "metadata": {
        "id": "cQPS7L-x3LGm"
      },
      "source": [
        ""
      ],
      "execution_count": null,
      "outputs": []
    },
    {
      "cell_type": "code",
      "metadata": {
        "id": "HVz0WCuV3HaR"
      },
      "source": [
        ""
      ],
      "execution_count": null,
      "outputs": []
    },
    {
      "cell_type": "code",
      "metadata": {
        "id": "EkAvxzVb2LL2"
      },
      "source": [
        ""
      ],
      "execution_count": null,
      "outputs": []
    },
    {
      "cell_type": "code",
      "metadata": {
        "colab": {
          "base_uri": "https://localhost:8080/"
        },
        "id": "VuHdmtyB1eSK",
        "outputId": "d0be050c-f04e-40f0-82f8-0c38ba160634"
      },
      "source": [
        "errors"
      ],
      "execution_count": null,
      "outputs": [
        {
          "output_type": "execute_result",
          "data": {
            "text/plain": [
              "array([nan, nan, nan, nan, nan, nan, nan, nan, nan, nan, nan, nan, nan,\n",
              "       nan, nan, nan, nan, nan, nan, nan, nan, nan, nan, nan, nan, nan,\n",
              "       nan, nan, nan, nan, nan, nan, nan, nan, nan, nan, nan, nan, nan,\n",
              "       nan, nan, nan, nan, nan, nan, nan, nan, nan, nan, nan, nan, nan,\n",
              "       nan, nan, nan, nan, nan, nan, nan, nan, nan, nan, nan, nan, nan,\n",
              "       nan, nan, nan, nan, nan, nan, nan, nan, nan, nan, nan, nan, nan,\n",
              "       nan, nan, nan, nan, nan, nan, nan, nan, nan, nan, nan, nan, nan,\n",
              "       nan, nan, nan, nan, nan, nan, nan, nan, nan, nan, nan, nan, nan,\n",
              "       nan, nan, nan, nan, nan, nan, nan, nan, nan, nan, nan, nan, nan,\n",
              "       nan, nan, nan, nan, nan, nan, nan, nan, nan, nan, nan, nan, nan,\n",
              "       nan, nan, nan, nan, nan, nan, nan, nan, nan, nan, nan, nan, nan,\n",
              "       nan, nan, nan, nan, nan, nan, nan, nan, nan, nan, nan, nan, nan,\n",
              "       nan, nan, nan, nan, nan, nan, nan, nan, nan, nan, nan, nan, nan,\n",
              "       nan, nan, nan, nan, nan, nan, nan, nan, nan, nan, nan, nan, nan,\n",
              "       nan, nan, nan, nan, nan, nan, nan, nan, nan, nan, nan, nan, nan,\n",
              "       nan, nan, nan, nan, nan, nan, nan, nan, nan, nan, nan, nan, nan,\n",
              "       nan, nan, nan, nan, nan, nan, nan, nan, nan, nan, nan, nan, nan,\n",
              "       nan, nan, nan, nan, nan, nan, nan, nan, nan, nan, nan, nan, nan,\n",
              "       nan, nan, nan, nan, nan, nan, nan, nan, nan, nan, nan, nan, nan,\n",
              "       nan, nan, nan, nan, nan, nan, nan, nan, nan, nan, nan, nan, nan,\n",
              "       nan, nan, nan, nan, nan, nan, nan, nan, nan, nan, nan, nan, nan,\n",
              "       nan, nan, nan, nan, nan, nan, nan, nan, nan, nan, nan, nan, nan,\n",
              "       nan, nan, nan, nan, nan, nan, nan, nan, nan, nan, nan, nan, nan,\n",
              "       nan, nan, nan, nan, nan, nan, nan, nan, nan, nan, nan, nan, nan,\n",
              "       nan, nan, nan, nan, nan, nan, nan, nan, nan, nan, nan, nan, nan,\n",
              "       nan, nan, nan, nan, nan, nan, nan, nan, nan, nan, nan, nan, nan,\n",
              "       nan, nan, nan, nan, nan, nan, nan, nan, nan, nan, nan, nan, nan,\n",
              "       nan, nan, nan, nan, nan, nan, nan, nan, nan, nan, nan, nan, nan,\n",
              "       nan, nan, nan, nan, nan, nan, nan, nan, nan, nan, nan, nan, nan,\n",
              "       nan, nan, nan, nan, nan, nan, nan, nan, nan, nan, nan, nan, nan,\n",
              "       nan, nan, nan, nan, nan, nan, nan, nan, nan, nan, nan, nan, nan,\n",
              "       nan, nan, nan, nan, nan, nan, nan, nan, nan, nan, nan, nan, nan,\n",
              "       nan, nan, nan, nan, nan, nan, nan, nan, nan, nan, nan, nan, nan,\n",
              "       nan, nan, nan, nan, nan, nan, nan, nan, nan, nan, nan, nan, nan,\n",
              "       nan, nan, nan, nan, nan, nan, nan, nan, nan, nan, nan, nan, nan,\n",
              "       nan, nan, nan, nan, nan, nan, nan, nan, nan, nan, nan, nan, nan,\n",
              "       nan, nan, nan, nan, nan, nan, nan, nan, nan, nan, nan, nan, nan,\n",
              "       nan, nan, nan, nan, nan, nan, nan, nan, nan, nan, nan, nan, nan,\n",
              "       nan, nan, nan, nan, nan, nan, nan, nan, nan, nan, nan, nan, nan,\n",
              "       nan, nan, nan, nan, nan, nan, nan, nan, nan, nan, nan, nan, nan,\n",
              "       nan, nan, nan, nan, nan, nan, nan, nan, nan, nan, nan, nan, nan,\n",
              "       nan, nan, nan, nan, nan, nan, nan, nan, nan, nan, nan, nan, nan,\n",
              "       nan, nan, nan, nan, nan, nan, nan, nan, nan, nan, nan, nan, nan,\n",
              "       nan, nan, nan, nan, nan, nan, nan, nan, nan, nan, nan, nan, nan,\n",
              "       nan, nan, nan, nan, nan, nan, nan, nan, nan, nan, nan, nan, nan,\n",
              "       nan, nan, nan, nan, nan, nan, nan, nan, nan, nan, nan, nan, nan,\n",
              "       nan, nan, nan, nan, nan, nan, nan, nan, nan, nan, nan, nan, nan,\n",
              "       nan, nan, nan, nan, nan, nan, nan, nan, nan, nan, nan, nan, nan,\n",
              "       nan, nan, nan, nan, nan, nan, nan, nan, nan, nan, nan, nan, nan,\n",
              "       nan, nan, nan, nan, nan, nan, nan, nan, nan, nan, nan, nan, nan,\n",
              "       nan, nan, nan, nan, nan, nan, nan, nan, nan, nan, nan, nan, nan],\n",
              "      dtype=object)"
            ]
          },
          "metadata": {
            "tags": []
          },
          "execution_count": 312
        }
      ]
    },
    {
      "cell_type": "code",
      "metadata": {
        "colab": {
          "base_uri": "https://localhost:8080/",
          "height": 35
        },
        "id": "0JZxiyKL1_7I",
        "outputId": "7063b809-fa99-4eff-c056-d5efa18ab930"
      },
      "source": [
        "text"
      ],
      "execution_count": null,
      "outputs": [
        {
          "output_type": "execute_result",
          "data": {
            "application/vnd.google.colaboratory.intrinsic+json": {
              "type": "string"
            },
            "text/plain": [
              "'Weed Tools'"
            ]
          },
          "metadata": {
            "tags": []
          },
          "execution_count": 324
        }
      ]
    },
    {
      "cell_type": "code",
      "metadata": {
        "id": "Y-IcQEWr88Fx"
      },
      "source": [
        ""
      ],
      "execution_count": null,
      "outputs": []
    },
    {
      "cell_type": "code",
      "metadata": {
        "id": "9TcWLny_1l0D"
      },
      "source": [
        "text=pd.read_csv('/content/data/text2.csv')"
      ],
      "execution_count": null,
      "outputs": []
    },
    {
      "cell_type": "code",
      "metadata": {
        "colab": {
          "base_uri": "https://localhost:8080/",
          "height": 163
        },
        "id": "SuNPbvu61AFM",
        "outputId": "fa699c45-1307-4bb2-b86d-b998f64c5685"
      },
      "source": [
        "nlp.tokenizer(errors[0])"
      ],
      "execution_count": null,
      "outputs": [
        {
          "output_type": "error",
          "ename": "TypeError",
          "evalue": "ignored",
          "traceback": [
            "\u001b[0;31m---------------------------------------------------------------------------\u001b[0m",
            "\u001b[0;31mTypeError\u001b[0m                                 Traceback (most recent call last)",
            "\u001b[0;32m<ipython-input-311-b00a1e753d1b>\u001b[0m in \u001b[0;36m<module>\u001b[0;34m()\u001b[0m\n\u001b[0;32m----> 1\u001b[0;31m \u001b[0mnlp\u001b[0m\u001b[0;34m.\u001b[0m\u001b[0mtokenizer\u001b[0m\u001b[0;34m(\u001b[0m\u001b[0merrors\u001b[0m\u001b[0;34m[\u001b[0m\u001b[0;36m0\u001b[0m\u001b[0;34m]\u001b[0m\u001b[0;34m)\u001b[0m\u001b[0;34m\u001b[0m\u001b[0;34m\u001b[0m\u001b[0m\n\u001b[0m",
            "\u001b[0;31mTypeError\u001b[0m: Argument 'string' has incorrect type (expected str, got float)"
          ]
        }
      ]
    }
  ]
}