{
 "cells": [
  {
   "cell_type": "code",
   "execution_count": 42,
   "metadata": {},
   "outputs": [],
   "source": [
    "import pandas as pd\n",
    "import numpy as np\n",
    "import pickle\n",
    "from pymongo import MongoClient"
   ]
  },
  {
   "cell_type": "code",
   "execution_count": 43,
   "metadata": {},
   "outputs": [],
   "source": [
    "import json"
   ]
  },
  {
   "cell_type": "code",
   "execution_count": 44,
   "metadata": {},
   "outputs": [],
   "source": [
    "client = MongoClient('localhost', 27017)\n",
    "db = client['test_database']\n",
    "test_collection = db['test_collection']"
   ]
  },
  {
   "cell_type": "code",
   "execution_count": 45,
   "metadata": {},
   "outputs": [],
   "source": [
    "#client.drop_database('test_database')"
   ]
  },
  {
   "cell_type": "code",
   "execution_count": 46,
   "metadata": {},
   "outputs": [],
   "source": [
    "#client.database_names()"
   ]
  },
  {
   "cell_type": "code",
   "execution_count": 47,
   "metadata": {},
   "outputs": [],
   "source": [
    "#df = pd.read_json('test.json')"
   ]
  },
  {
   "cell_type": "code",
   "execution_count": 48,
   "metadata": {},
   "outputs": [],
   "source": [
    "#df"
   ]
  },
  {
   "cell_type": "code",
   "execution_count": 49,
   "metadata": {},
   "outputs": [],
   "source": [
    "#d=df.to_dict('records')[0]"
   ]
  },
  {
   "cell_type": "code",
   "execution_count": 50,
   "metadata": {},
   "outputs": [],
   "source": [
    "#test_collection.insert_one(d)"
   ]
  },
  {
   "cell_type": "code",
   "execution_count": 51,
   "metadata": {},
   "outputs": [],
   "source": [
    "#test_collection.find()"
   ]
  },
  {
   "cell_type": "code",
   "execution_count": 52,
   "metadata": {},
   "outputs": [
    {
     "data": {
      "text/plain": [
       "<pymongo.cursor.Cursor at 0x7f14cc647250>"
      ]
     },
     "execution_count": 52,
     "metadata": {},
     "output_type": "execute_result"
    }
   ],
   "source": [
    "db.test_collection.find().limit(2)"
   ]
  },
  {
   "cell_type": "code",
   "execution_count": 53,
   "metadata": {},
   "outputs": [],
   "source": [
    "#db.test_collection.find_one()"
   ]
  },
  {
   "cell_type": "code",
   "execution_count": 54,
   "metadata": {},
   "outputs": [],
   "source": [
    "import api_client"
   ]
  },
  {
   "cell_type": "code",
   "execution_count": 55,
   "metadata": {},
   "outputs": [],
   "source": [
    "api = api_client.EventAPIClient()"
   ]
  },
  {
   "cell_type": "code",
   "execution_count": 56,
   "metadata": {},
   "outputs": [],
   "source": [
    "test = api.get_data()"
   ]
  },
  {
   "cell_type": "code",
   "execution_count": 57,
   "metadata": {},
   "outputs": [
    {
     "name": "stdout",
     "output_type": "stream",
     "text": [
      "Received data:\n",
      "[{'body_length': 4552, 'channels': 8, 'country': 'US', 'currency': 'USD', 'delivery_method': 1.0, 'description': '<p style=\"text-align: center;\"><span style=\"font-size: medium; font-family: arial, helvetica, sans-serif;\">Our speaker at this event will be:</span></p>\\r\\n<p style=\"text-align: center;\"><span style=\"font-size: medium;\"><img src=\"http://m.c.lnkd.licdn.com/mpr/mpr/shrink_200_200/p/2/000/1f4/345/1d34128.jpg\" alt=\"\" width=\"200\" height=\"200\" />\\xa0</span></p>\\r\\n<p style=\"text-align: center;\"><span style=\"font-size: medium;\">\\xa0</span><strong style=\"font-size: medium;\"><span style=\"font-family: arial, helvetica, sans-serif;\">Alan Chung</span></strong></p>\\r\\n<p style=\"text-align: center;\"><span style=\"font-size: medium;\"><strong><span style=\"font-family: arial, helvetica, sans-serif;\">Angel Investor, Founder of iAmaze, Zenbe, CEO at Perka</span></strong></span></p>\\r\\n<p style=\"text-align: center;\"><span style=\"font-size: medium;\"><a href=\"http://www.linkedin.com/in/alanchung1\">http://www.linkedin.com/in/alanchung1</a></span></p>\\r\\n<p style=\"text-align: center;\"><span style=\"font-family: arial, helvetica, sans-serif; font-size: medium;\">\\xa0</span></p>\\r\\n<p style=\"text-align: center;\"><span style=\"font-family: arial, helvetica, sans-serif; font-size: medium;\">\"</span><span style=\"color: #333333; font-family: Arial, sans-serif; font-size: 13.333333015441895px; line-height: 17px; text-align: left;\">I love building startups from the ground up. Coming up with the idea, refining it, building the team, and solving problems. I\\'ve been very lucky, I\\'ve worked with really amazing people and built some really great products. I\\'m excited to keep learning, doing and having fun.</span></p>\\r\\n<p><br style=\"color: #333333; font-family: Arial, sans-serif; font-size: 13.333333015441895px; line-height: 17px;\" /><span style=\"color: #333333; font-family: Arial, sans-serif; font-size: 13.333333015441895px; line-height: 17px;\">I\\'m a mentor at ER Accelerator in NYC, www.eranyc.com. I am also an angel investor with more than a dozen investments, including 5 YC companies. Besides startups I am passionate about photography and travel.</span><br style=\"color: #333333; font-family: Arial, sans-serif; font-size: 13.333333015441895px; line-height: 17px;\" /><br style=\"color: #333333; font-family: Arial, sans-serif; font-size: 13.333333015441895px; line-height: 17px;\" /></p>\\r\\n<p style=\"text-align: center;\"><span style=\"font-family: arial, helvetica, sans-serif; font-size: medium;\"><span style=\"color: #333333; font-family: Arial, sans-serif; font-size: 13.333333015441895px; line-height: 17px; text-align: left;\">Specialties:Building software startups. Spotting new technology trends. Bringing together great teams to build innovative products.</span>\"</span></p>\\r\\n<p style=\"text-align: center;\"><span style=\"font-family: arial, helvetica, sans-serif; font-size: medium;\"><br /></span></p>\\r\\n<p style=\"text-align: center;\"><span style=\"font-family: arial, helvetica, sans-serif; font-size: medium;\"><br /></span></p>\\r\\n<p style=\"text-align: center;\"><span style=\"font-size: medium; font-family: arial, helvetica, sans-serif;\"><strong style=\"font-size: medium;\">To pitch your startup at this event, please apply at:\\xa0</strong></span></p>\\r\\n<p style=\"text-align: center;\"><span style=\"font-size: medium;\"><a href=\"http://bit.ly/16OPUYP\">http://bit.ly/16OPUYP</a></span></p>\\r\\n<p style=\"text-align: center;\"><span style=\"font-size: medium;\">\\xa0</span><span style=\"font-size: medium;\">\\xa0</span></p>\\r\\n<p style=\"text-align: center;\"><span style=\"font-size: medium; font-family: arial, helvetica, sans-serif;\"><strong>Format</strong>: Introductions, Q&amp;A, 5 Pitches and Feedback.</span></p>\\r\\n<p style=\"text-align: center;\"><span style=\"font-size: medium;\">\\xa0</span></p>\\r\\n<p style=\"text-align: center;\"><span style=\"font-size: medium; font-family: arial, helvetica, sans-serif;\"><a style=\"font-size: medium;\" href=\"http://eranyc.com\">http://eranyc.com</a></span></p>\\r\\n<p style=\"text-align: center;\"><span style=\"font-size: medium; font-family: arial, helvetica, sans-serif;\"><br /></span></p>\\r\\n<p style=\"text-align: center;\"><span style=\"font-size: medium; font-family: arial, helvetica, sans-serif;\">To hear about future events, please sign up at <a href=\"http://eranyc.com\">http://eranyc.com</a></span></p>\\r\\n<p style=\"text-align: center;\"><span style=\"font-size: medium; font-family: arial, helvetica, sans-serif;\">Organizer: <a href=\"http://muratak.com\">Murat Aktihanoglu</a> (<a href=\"http://twitter.com/muratny\">@muratny</a>)</span></p>\\r\\n<p style=\"color: #000000; text-align: center;\"><span style=\"font-size: medium; font-family: arial, helvetica, sans-serif;\">\\xa0</span></p>', 'email_domain': 'unype.com', 'event_created': 1369237105, 'event_end': 1372131000, 'event_published': 1369237468.0, 'event_start': 1372122000, 'fb_published': 1, 'has_analytics': 0, 'has_header': 1.0, 'has_logo': 1, 'listed': 'y', 'name': 'Entrepreneurs Roundtable 59', 'name_length': 27, 'object_id': 6781999, 'org_desc': '<p><a href=\"http://eranyc.com\" target=\"_blank\">eranyc.com</a><br /><a href=\"http://muratak.com\" target=\"_blank\">muratak.com</a></p>', 'org_facebook': 0.0, 'org_name': 'Murat Aktihanoglu', 'org_twitter': 0.0, 'payee_name': 'Entrepreneurs Roundtable Accelerator, LLC', 'payout_type': 'CHECK', 'previous_payouts': [{'name': 'Holoscape Inc.', 'created': '2010-06-12 01:10:34', 'country': 'US', 'amount': 2330.0, 'state': 'NY', 'address': '2350 Broadway Apt 639A', 'uid': 74200, 'event': 666004, 'zip_code': '10024'}, {'name': 'Holoscape Inc.', 'created': '2010-07-26 01:10:43', 'country': 'US', 'amount': 300.0, 'state': 'NY', 'address': '2350 Broadway Suite 639A', 'uid': 74200, 'event': 747540, 'zip_code': '10024'}, {'name': 'Holoscape Inc.', 'created': '2010-07-31 01:10:54', 'country': 'US', 'amount': 2270.0, 'state': 'NY', 'address': '2350 Broadway Apt 639A', 'uid': 74200, 'event': 749431, 'zip_code': '10024'}, {'name': 'Holoscape Inc.', 'created': '2010-09-05 01:10:10', 'country': 'US', 'amount': 200.0, 'state': 'NY', 'address': '2350 Broadway Suite 639A', 'uid': 74200, 'event': 776827, 'zip_code': '10024'}, {'name': 'Holoscape Inc.', 'created': '2010-10-24 01:10:13', 'country': 'US', 'amount': 1545.0, 'state': 'NY', 'address': '2350 Broadway Apt 639A', 'uid': 74200, 'event': 783571, 'zip_code': '10024'}, {'name': 'Holoscape Inc.', 'created': '2010-11-13 01:11:33', 'country': 'US', 'amount': 350.0, 'state': 'NY', 'address': '2350 Broadway Suite 639A', 'uid': 74200, 'event': 916573, 'zip_code': '10024'}, {'name': 'Holoscape Inc.', 'created': '2010-12-06 01:12:43', 'country': 'US', 'amount': 55.0, 'state': 'NY', 'address': '2350 Broadway Suite 639A', 'uid': 74200, 'event': 974427, 'zip_code': '10024'}, {'name': 'Holoscape Inc.', 'created': '2010-12-18 01:11:29', 'country': 'US', 'amount': 300.0, 'state': 'NY', 'address': '2350 Broadway Suite 639A', 'uid': 74200, 'event': 1018341, 'zip_code': '10024'}, {'name': 'Holoscape Inc.', 'created': '2011-01-15 01:12:18', 'country': 'US', 'amount': 150.0, 'state': 'NY', 'address': '2350 Broadway Suite 639A', 'uid': 74200, 'event': 1120075, 'zip_code': '10024'}, {'name': 'Holoscape Inc.', 'created': '2011-02-22 01:12:27', 'country': 'US', 'amount': 400.0, 'state': 'NY', 'address': '2350 Broadway Suite 639A', 'uid': 74200, 'event': 1191561, 'zip_code': '10024'}, {'name': 'Holoscape Inc.', 'created': '2011-03-28 01:12:55', 'country': 'US', 'amount': 425.0, 'state': 'NY', 'address': '2350 Broadway Suite 639A', 'uid': 74200, 'event': 1394921, 'zip_code': '10024'}, {'name': 'Holoscape Inc.', 'created': '2011-04-25 01:14:27', 'country': 'US', 'amount': 350.0, 'state': 'NY', 'address': '2350 Broadway Suite 639A', 'uid': 74200, 'event': 1489197, 'zip_code': '10024'}, {'name': 'Holoscape Inc.', 'created': '2011-05-30 01:12:58', 'country': 'US', 'amount': 425.0, 'state': 'NY', 'address': '2350 Broadway Apt 639A', 'uid': 74200, 'event': 1459889, 'zip_code': '10024'}, {'name': 'Entrepreneurs Roundtable Accelerator, LLC', 'created': '2011-07-04 01:11:31', 'country': 'US', 'amount': 475.0, 'state': 'NY', 'address': '2350 Broadway Suite 639A', 'uid': 74200, 'event': 1738667, 'zip_code': '10024'}, {'name': 'Holoscape Inc.', 'created': '2011-07-17 01:11:25', 'country': 'US', 'amount': 2275.0, 'state': 'NY', 'address': '2350 Broadway Suite 639A', 'uid': 74200, 'event': 1850613, 'zip_code': '10024'}, {'name': 'Holoscape Inc.', 'created': '2011-08-02 01:11:11', 'country': 'US', 'amount': 100.0, 'state': 'NY', 'address': '2350 Broadway Suite 639A', 'uid': 74200, 'event': 1924369, 'zip_code': '10024'}, {'name': 'Holoscape Inc.', 'created': '2011-08-22 01:11:06', 'country': 'US', 'amount': 600.0, 'state': 'NY', 'address': '2350 Broadway Suite 639A', 'uid': 74200, 'event': 1936581, 'zip_code': '10024'}, {'name': 'Entrepreneurs Roundtable Accelerator, LLC', 'created': '2011-10-02 01:11:04', 'country': 'US', 'amount': 100.0, 'state': 'NY', 'address': '2350 Broadway Suite 639A', 'uid': 74200, 'event': 2052463, 'zip_code': '10024'}, {'name': 'Entrepreneurs Roundtable Accelerator LLC', 'created': '2011-10-18 01:12:23', 'country': 'US', 'amount': 600.0, 'state': 'NY', 'address': '2350 Broadway Suite 639A', 'uid': 74200, 'event': 2282920, 'zip_code': '10024'}, {'name': 'Entrepreneurs Roundtable Accelerator, LLC', 'created': '2011-10-30 01:11:20', 'country': 'US', 'amount': 225.0, 'state': 'NY', 'address': '2350 Broadway Suite 639A', 'uid': 74200, 'event': 2249750, 'zip_code': '10024'}, {'name': 'Entrepreneurs Roundtable Accelerator LLC', 'created': '2011-11-15 03:12:00', 'country': 'US', 'amount': 300.0, 'state': 'NY', 'address': '2350 Broadway Suite 639A', 'uid': 74200, 'event': 2373226, 'zip_code': '10024'}, {'name': 'Entrepreneurs Roundtable Accelerator, LLC', 'created': '2011-11-19 03:12:41', 'country': 'US', 'amount': 200.0, 'state': 'NY', 'address': '2350 Broadway Suite 639A', 'uid': 74200, 'event': 2311668, 'zip_code': '10024'}, {'name': 'Entrepreneurs Roundtable Accelerator, LLC', 'created': '2011-12-17 03:12:26', 'country': 'US', 'amount': 325.0, 'state': 'NY', 'address': '2350 Broadway Suite 639A', 'uid': 74200, 'event': 2311672, 'zip_code': '10024'}, {'name': 'Entrepreneurs Roundtable Accelerator, LLC', 'created': '2012-01-28 03:11:34', 'country': 'US', 'amount': 375.0, 'state': 'NY', 'address': '2350 Broadway Suite 639A', 'uid': 74200, 'event': 2709919, 'zip_code': '10024'}, {'name': 'Holoscape Inc.', 'created': '2012-02-11 03:11:48', 'country': 'US', 'amount': 1870.0, 'state': 'NY', 'address': '2350 Broadway Apt 639A', 'uid': 74200, 'event': 2833963, 'zip_code': '10024'}, {'name': 'Holoscape Inc.', 'created': '2012-02-21 03:11:48', 'country': 'US', 'amount': 135.0, 'state': 'NY', 'address': '2350 Broadway Apt 639A', 'uid': 74200, 'event': 2626639, 'zip_code': '10024'}, {'name': 'Entrepreneurs Roundtable Accelerator, LLC', 'created': '2012-02-28 03:13:09', 'country': 'US', 'amount': 250.0, 'state': 'NY', 'address': '2350 Broadway Suite 639A', 'uid': 74200, 'event': 2796823, 'zip_code': '10024'}, {'name': 'Entrepreneurs Roundtable Accelerator, LLC', 'created': '2012-03-27 03:13:17', 'country': 'US', 'amount': 175.0, 'state': 'NY', 'address': '2350 Broadway Suite 639A', 'uid': 74200, 'event': 2846563, 'zip_code': '10024'}, {'name': 'Entrepreneurs Roundtable Accelerator LLC', 'created': '2012-04-10 03:13:22', 'country': 'US', 'amount': 100.0, 'state': 'NY', 'address': '2350 Broadway Suite 639A', 'uid': 74200, 'event': 3239887, 'zip_code': '10024'}, {'name': 'Entrepreneurs Roundtable Accelerator, LLC', 'created': '2012-04-17 03:13:04', 'country': 'US', 'amount': 165.0, 'state': 'NY', 'address': '2350 Broadway Apt 639A', 'uid': 74200, 'event': 3217391, 'zip_code': '10024'}, {'name': 'Entrepreneurs Roundtable Accelerator LLC', 'created': '2012-04-17 03:13:47', 'country': 'US', 'amount': 200.0, 'state': 'NY', 'address': '2350 Broadway Suite 639A', 'uid': 74200, 'event': 3225661, 'zip_code': '10024'}, {'name': 'Entrepreneurs Roundtable Accelerator, LLC', 'created': '2012-04-24 03:14:43', 'country': 'US', 'amount': 75.0, 'state': 'NY', 'address': '2350 Broadway Suite 639A', 'uid': 74200, 'event': 3272389, 'zip_code': '10024'}, {'name': 'Entrepreneurs Roundtable Accelerator, LLC', 'created': '2012-06-04 03:13:21', 'country': 'US', 'amount': 250.0, 'state': 'NY', 'address': '2350 Broadway Suite 639A', 'uid': 74200, 'event': 3441739, 'zip_code': '10024'}, {'name': 'Entrepreneurs Roundtable Accelerator, LLC', 'created': '2012-07-01 03:12:49', 'country': 'US', 'amount': 225.0, 'state': 'NY', 'address': '2350 Broadway Suite 639A', 'uid': 74200, 'event': 3673050, 'zip_code': '10024'}, {'name': 'Entrepreneurs Roundtable Accelerator, LLC', 'created': '2012-08-05 03:14:55', 'country': 'US', 'amount': 175.0, 'state': 'NY', 'address': '2350 Broadway Suite 639A', 'uid': 74200, 'event': 3885492, 'zip_code': '10024'}, {'name': 'Entrepreneurs Roundtable Accelerator, LLC', 'created': '2012-08-27 03:14:17', 'country': 'US', 'amount': 1525.0, 'state': 'NY', 'address': '2350 Broadway Suite 639A', 'uid': 74200, 'event': 3958706, 'zip_code': '10024'}, {'name': 'Entrepreneurs Roundtable Accelerator, LLC', 'created': '2012-10-02 03:16:37', 'country': 'US', 'amount': 225.0, 'state': 'NY', 'address': '2350 Broadway Suite 639A', 'uid': 74200, 'event': 4186572, 'zip_code': '10024'}, {'name': 'Entrepreneurs Roundtable Accelerator, LLC', 'created': '2012-10-21 03:16:07', 'country': 'US', 'amount': 225.0, 'state': 'NY', 'address': '2350 Broadway Suite 639A', 'uid': 74200, 'event': 4472862, 'zip_code': '10024'}, {'name': 'Entrepreneurs Roundtable Accelerator, LLC', 'created': '2012-10-29 03:17:50', 'country': 'US', 'amount': 100.0, 'state': 'NY', 'address': '2350 Broadway Suite 639A', 'uid': 74200, 'event': 4619654, 'zip_code': '10024'}, {'name': 'Entrepreneurs Roundtable Accelerator, LLC', 'created': '2012-11-10 03:17:17', 'country': 'US', 'amount': 100.0, 'state': 'NY', 'address': '2350 Broadway Suite 639A', 'uid': 74200, 'event': 4675253, 'zip_code': '10024'}, {'name': 'Entrepreneurs Roundtable Accelerator, LLC', 'created': '2012-12-02 03:15:00', 'country': 'US', 'amount': 150.0, 'state': 'NY', 'address': '2350 Broadway Suite 639A', 'uid': 74200, 'event': 4597796, 'zip_code': '10024'}, {'name': 'Entrepreneurs Roundtable Accelerator, LLC', 'created': '2013-01-27 03:11:29', 'country': 'US', 'amount': 400.0, 'state': 'NY', 'address': '2350 Broadway Suite 639A', 'uid': 74200, 'event': 5120544, 'zip_code': '10024'}, {'name': 'Entrepreneurs Roundtable Accelerator, LLC', 'created': '2013-03-02 03:12:51', 'country': 'US', 'amount': 400.0, 'state': 'NY', 'address': '2350 Broadway Suite 639A', 'uid': 74200, 'event': 5192956, 'zip_code': '10024'}, {'name': 'Entrepreneurs Roundtable Accelerator, LLC', 'created': '2013-03-18 03:14:14', 'country': 'US', 'amount': 200.0, 'state': 'NY', 'address': '2350 Broadway Suite 639A', 'uid': 74200, 'event': 5633274, 'zip_code': '10024'}, {'name': 'Entrepreneurs Roundtable Accelerator, LLC', 'created': '2013-04-08 03:17:04', 'country': 'US', 'amount': 325.0, 'state': 'NY', 'address': '2350 Broadway Suite 639A', 'uid': 74200, 'event': 5633662, 'zip_code': '10024'}, {'name': 'Entrepreneurs Roundtable Accelerator, LLC', 'created': '2013-04-20 03:25:28', 'country': 'US', 'amount': 100.0, 'state': 'NY', 'address': '2350 Broadway Suite 639A', 'uid': 74200, 'event': 5886515, 'zip_code': '10024'}, {'name': 'Entrepreneurs Roundtable Accelerator, LLC', 'created': '2013-05-20 03:20:17', 'country': 'US', 'amount': 175.0, 'state': 'NY', 'address': '2350 Broadway Suite 639A', 'uid': 74200, 'event': 6362433, 'zip_code': '10024'}], 'sale_duration': 33.0, 'show_map': 1, 'ticket_types': [{'event_id': 6781999, 'cost': 0.0, 'availability': 1, 'quantity_total': 175}, {'event_id': 6781999, 'cost': 25.0, 'availability': 1, 'quantity_total': 100}], 'user_age': 1895, 'user_created': 1205511597, 'user_type': 3, 'venue_address': '1290 6th Avenue', 'venue_country': 'US', 'venue_latitude': 40.7607997, 'venue_longitude': -73.9796117, 'venue_name': 'Microsoft', 'venue_state': 'NY', 'sequence_number': 3072}]\n",
      "\n",
      "inserted\n",
      "calculated: 0.4497816593886463\n"
     ]
    }
   ],
   "source": [
    "api.save_to_database(test)"
   ]
  },
  {
   "cell_type": "code",
   "execution_count": 58,
   "metadata": {},
   "outputs": [
    {
     "data": {
      "text/plain": [
       "dict"
      ]
     },
     "execution_count": 58,
     "metadata": {},
     "output_type": "execute_result"
    }
   ],
   "source": [
    "type(test[0])"
   ]
  },
  {
   "cell_type": "code",
   "execution_count": 59,
   "metadata": {},
   "outputs": [],
   "source": [
    "def get_transform_data_dict(data_path):\n",
    "    #data = pd.read_json(data_path)\n",
    "    data = pd.DataFrame.from_dict([data_path])\n",
    "    required_columns=['body_length', 'channels', 'delivery_method', 'event_published',\n",
    "        'fb_published', 'has_analytics', 'has_logo',\n",
    "        'name_length', 'num_order', 'num_payouts', 'org_facebook',\n",
    "        'org_twitter', 'sale_duration', 'sale_duration2', 'show_map',\n",
    "        'user_age', 'user_created', 'user_type']\n",
    "    if 'acct_type' in data.columns:\n",
    "        data['is_fraud'] = data['acct_type'].apply(lambda x: 1 if 'fraud' in x else 0)\n",
    "    else:\n",
    "        data['is_fraud']=data.iloc[:, 0].apply(lambda x: 'unknown')\n",
    "    for col in required_columns:\n",
    "        if col not in data.columns:\n",
    "                data[col] = data.iloc[:, 0].apply(lambda x: 0)\n",
    "    data_model=data[required_columns]\n",
    "    \n",
    "    y = data['is_fraud']\n",
    "    X = data_model\n",
    "    return X, y"
   ]
  },
  {
   "cell_type": "code",
   "execution_count": 60,
   "metadata": {},
   "outputs": [
    {
     "data": {
      "text/plain": [
       "32"
      ]
     },
     "execution_count": 60,
     "metadata": {},
     "output_type": "execute_result"
    }
   ],
   "source": [
    "db.test_collection.count_documents({})"
   ]
  },
  {
   "cell_type": "code",
   "execution_count": 61,
   "metadata": {},
   "outputs": [],
   "source": [
    "#db.test_collection.find_one()"
   ]
  },
  {
   "cell_type": "code",
   "execution_count": 62,
   "metadata": {},
   "outputs": [],
   "source": [
    "#api.collect()"
   ]
  },
  {
   "cell_type": "code",
   "execution_count": 63,
   "metadata": {},
   "outputs": [
    {
     "name": "stderr",
     "output_type": "stream",
     "text": [
      "/home/aydin/anaconda3/lib/python3.7/site-packages/ipykernel_launcher.py:1: DeprecationWarning: count is deprecated. Use estimated_document_count or count_documents instead. Please note that $where must be replaced by $expr, $near must be replaced by $geoWithin with $center, and $nearSphere must be replaced by $geoWithin with $centerSphere\n",
      "  \"\"\"Entry point for launching an IPython kernel.\n"
     ]
    },
    {
     "data": {
      "text/plain": [
       "32"
      ]
     },
     "execution_count": 63,
     "metadata": {},
     "output_type": "execute_result"
    }
   ],
   "source": [
    "db.test_collection.count()"
   ]
  },
  {
   "cell_type": "code",
   "execution_count": 64,
   "metadata": {},
   "outputs": [],
   "source": [
    "# for x in db.test_collection.find({}):\n",
    "#     print(x)\n",
    "to_predict = db.test_collection.find({'fraud_prob': {'$exists': True}})"
   ]
  },
  {
   "cell_type": "code",
   "execution_count": 65,
   "metadata": {},
   "outputs": [
    {
     "data": {
      "text/plain": [
       "{'_id': ObjectId('5fdd268de20cae43704fb31a'),\n",
       " 'body_length': 7085,\n",
       " 'channels': 8,\n",
       " 'country': 'CA',\n",
       " 'currency': 'CAD',\n",
       " 'delivery_method': 0.0,\n",
       " 'description': '<p class=\"MsoNormal\" style=\"font-family: \\'Helvetica Neue\\', Helvetica, Arial, sans-serif; font-size: 13px;\"><span style=\"font-family: Verdana, sans-serif; font-size: 10pt;\">Cette formation a été conçue pour vous donner une longueur d\\'avance dans l\\'adoption des pratiques agiles avec Microsoft Team Foundation Server 2012. Team Foundation Server (couramment abrégé à TFS) est la plateforme serveur de Visual Studio. Il est destiné pour le développement logiciel collaboratif et il offre la gestion des sources, la gestion des \"build\", le suivi des éléments de travail et des rapports de contrôle.</span></p>\\r\\n<p class=\"MsoNormal\" style=\"font-family: \\'Helvetica Neue\\', Helvetica, Arial, sans-serif; font-size: 13px;\"><span style=\"font-size: 10pt; font-family: Verdana, sans-serif;\">Tout au long de la journée, nous allons examiner comment personnaliser votre serveur Team Foundation Server pour adopter un cadre agile qui conduit à l\\'amélioration continue. Apprenez à combiner efficacement Scrum et les tableaux de collaboration pour créer un processus agile sur mesure pour votre organisation.</span></p>\\r\\n<p class=\"MsoNormal\" style=\"font-family: \\'Helvetica Neue\\', Helvetica, Arial, sans-serif; font-size: 13px;\"><span style=\"font-size: 10pt; font-family: Verdana, sans-serif;\">Ne manquez pas cette formation. Vouz apprendrez comment améliorer votre processus existant et repartirez avec des idées pratiques qui vous permettront de conduire ces changements dans votre organisation. Nous allons explorer les pratiques bien connues telles que Lean, Kanban, théorie des contraintes, et bien sûr, les principes agiles. Armé des outils et des apprentissages acquis, vous pouvez vous attendre à voir des améliorations importantes et mesurables dans votre processus de développement en aussi peu que 3-6 mois.</span></p>\\r\\n<p class=\"MsoNormal\" style=\"font-family: \\'Helvetica Neue\\', Helvetica, Arial, sans-serif; font-size: 13px;\"><span style=\"font-size: x-large;\"><strong><span style=\"font-family: Arial, sans-serif;\">Public cible</span></strong></span></p>\\r\\n<ul style=\"font-family: \\'Helvetica Neue\\', Helvetica, Arial, sans-serif; font-size: 13px; line-height: 20.796875px; margin-top: 0in;\" type=\"disc\">\\r\\n<li class=\"MsoNormal\"><span style=\"font-size: 10pt; font-family: Verdana, sans-serif;\">Directeurs du développement logiciels, chefs d\\'équipe, architectes logiciels, chef développeurs et toutes personnes qui aspirent à devenir efficace en utilisant le développement logiciel agile.</span></li>\\r\\n</ul>\\r\\n<p class=\"MsoNormal\" style=\"font-family: \\'Helvetica Neue\\', Helvetica, Arial, sans-serif; font-size: 13px;\"><span style=\"font-size: 10pt; font-family: Verdana, sans-serif;\"><strong><span style=\"font-family: Arial, sans-serif;\">Pré requis</span></strong></span></p>\\r\\n<ul style=\"font-family: \\'Helvetica Neue\\', Helvetica, Arial, sans-serif; font-size: 13px; line-height: 20.796875px; margin-top: 0in;\" type=\"disc\">\\r\\n<li class=\"MsoNormal\"><span style=\"font-size: 10pt; font-family: Verdana, sans-serif;\">Une expérience concrète avec la construction de logiciels</span><span style=\"font-size: 10pt; font-family: Verdana, sans-serif;\">\\xa0</span></li>\\r\\n</ul>\\r\\n<ul style=\"font-family: \\'Helvetica Neue\\', Helvetica, Arial, sans-serif; font-size: 13px; line-height: 20.796875px; margin-top: 0in;\" type=\"disc\">\\r\\n<li class=\"MsoNormal\"><span style=\"font-size: 10pt; font-family: Verdana, sans-serif;\">Une compréhension minimale des pratiques agiles</span></li>\\r\\n</ul>\\r\\n<h1 style=\"font-size: 26px; line-height: 28px; margin: 0px; padding-bottom: 5px; font-family: \\'Helvetica Neue\\', Helvetica, Arial, sans-serif;\"><span style=\"font-family: Arial, sans-serif; font-size: x-large;\">Détails du cours</span></h1>\\r\\n<ul style=\"font-family: \\'Helvetica Neue\\', Helvetica, Arial, sans-serif; font-size: 13px; line-height: 20.796875px; margin-top: 0in;\" type=\"disc\">\\r\\n<li class=\"MsoNormal\" style=\"margin-top: 12pt;\"><span style=\"font-size: 11pt; font-family: Calibri, sans-serif;\" lang=\"EN-US\">PERSONNALISATION DE TFS</span></li>\\r\\n<ul style=\"margin-top: 0in;\" type=\"circle\">\\r\\n<li class=\"MsoNormal\"><strong><span style=\"font-size: 11pt; font-family: Calibri, sans-serif;\">Gabarit de processus (Process Template)</span></strong><span style=\"font-size: 11pt; font-family: Calibri, sans-serif;\">: Formaliser comment mettre en œuvre l’agilité</span></li>\\r\\n<li class=\"MsoNormal\"><strong><span style=\"font-size: 11pt; font-family: Calibri, sans-serif;\">Élément de travail (Work items)</span></strong><span style=\"font-size: 11pt; font-family: Calibri, sans-serif;\">: Discuter de la structure, des champs et des flux de travail</span></li>\\r\\n<li class=\"MsoNormal\"><strong><span style=\"font-size: 11pt; font-family: Calibri, sans-serif;\">Gestion visuelle</span></strong><span style=\"font-size: 11pt; font-family: Calibri, sans-serif;\">: Simplifier TFS et la mise en œuvre de l’agilité</span></li>\\r\\n</ul>\\r\\n</ul>\\r\\n<ul style=\"font-family: \\'Helvetica Neue\\', Helvetica, Arial, sans-serif; font-size: 13px; line-height: 20.796875px; margin-top: 0in;\" type=\"disc\">\\r\\n<li class=\"MsoNormal\"><span style=\"font-size: 11pt; font-family: Calibri, sans-serif;\" lang=\"EN-US\">DEVELOPPEMENT LOGICIEL ITERATIF</span></li>\\r\\n<ul style=\"margin-top: 0in;\" type=\"circle\">\\r\\n<li class=\"MsoNormal\"><strong><span style=\"font-size: 11pt; font-family: Calibri, sans-serif;\">Scrum</span></strong><span style=\"font-size: 11pt; font-family: Calibri, sans-serif;\">: Formaliser un cadre itératif pour la gestion</span></li>\\r\\n<li class=\"MsoNormal\"><strong><span style=\"font-size: 11pt; font-family: Calibri, sans-serif;\" lang=\"EN-US\">User Story</span></strong><span style=\"font-size: 11pt; font-family: Calibri, sans-serif;\" lang=\"EN-US\">: Satisfaire les désirs</span></li>\\r\\n<li class=\"MsoNormal\"><strong><span style=\"font-size: 11pt; font-family: Calibri, sans-serif;\" lang=\"EN-US\">Backlog</span></strong><span style=\"font-size: 11pt; font-family: Calibri, sans-serif;\" lang=\"EN-US\">: Prioriser les\\xa0désirs collaborativement</span></li>\\r\\n<li class=\"MsoNormal\"><strong><span style=\"font-size: 11pt; font-family: Calibri, sans-serif;\" lang=\"EN-US\">Planning</span></strong><span style=\"font-size: 11pt; font-family: Calibri, sans-serif;\" lang=\"EN-US\">: Livrer un ensemble coherent de fonctionalités</span></li>\\r\\n</ul>\\r\\n</ul>\\r\\n<ul style=\"font-family: \\'Helvetica Neue\\', Helvetica, Arial, sans-serif; font-size: 13px; line-height: 20.796875px; margin-top: 0in;\" type=\"disc\">\\r\\n<li><span style=\"font-family: Calibri, sans-serif; font-size: 11pt;\">TABLEAU DE COLLABORATION</span></li>\\r\\n<ul style=\"margin-top: 0in;\" type=\"circle\">\\r\\n<li><strong style=\"font-size: 1.1em;\"><span style=\"font-size: 11pt; font-family: Calibri, sans-serif;\">Worflow</span></strong><span style=\"font-size: 11pt; font-family: Calibri, sans-serif;\">: Illustrer le flux de travail</span></li>\\r\\n<li><span style=\"font-size: 11pt; font-family: Calibri, sans-serif;\"><strong>Signal</strong>: Formaliser les règles de collaboration</span></li>\\r\\n<li><span style=\"font-size: 11pt; font-family: Calibri, sans-serif;\"><strong>Gestion visuelle</strong>: Suivre le travail et collaborer</span></li>\\r\\n</ul>\\r\\n</ul>',\n",
       " 'email_domain': 'mariocardinal.com',\n",
       " 'event_created': 1364965532,\n",
       " 'event_end': 1369265400,\n",
       " 'event_published': 1364965855.0,\n",
       " 'event_start': 1369236600,\n",
       " 'fb_published': 0,\n",
       " 'has_analytics': 0,\n",
       " 'has_header': 0.0,\n",
       " 'has_logo': 1,\n",
       " 'listed': 'y',\n",
       " 'name': \"TEAM FOUNDATION TOUR: Maitriser l'agilité avec l'outillage Microsoft\",\n",
       " 'name_length': 68,\n",
       " 'object_id': 6098291,\n",
       " 'org_desc': '<p style=\"margin: 0px; padding: 0px 0px 8px; line-height: 1.3em; color: #666666; font-family: \\'Helvetica Neue\\', Helvetica, Arial, sans-serif; font-size: 12px;\">Mario Cardinal est un coach agile spécialisé en architecture logicielle.\\xa0Il possède plus de vingt années d\\'expérience en conception de systèmes d\\'information d\\'envergure.\\xa0Il est l’auteur du livre « Executable Specifications with Scrum ». Ses amis aiment à le décrire comme quelqu\\'un qui sait extraire l\\'essentiel d\\'une situation compliquée, trier les idées fondamentales des distractions connexes, et fournir un résumé facile à comprendre.</p>\\r\\n<p style=\"margin: 0px; padding: 0px 0px 8px; line-height: 1.3em; color: #666666; font-family: \\'Helvetica Neue\\', Helvetica, Arial, sans-serif; font-size: 12px;\">Il présente régulièrement sur l’architecture et l’agilité lors de conférences internationales. Depuis 2004, il anime le Visual Studio Talk Show, un podcast portant sur l’architecture logicielle.\\xa0Il dirige le groupe d’architecture de la communauté .NET montréalaise et est « tech chair » de la piste d’architecture pour la conférence DevTeach.</p>\\r\\n<p style=\"margin: 0px; padding: 0px 0px 8px; line-height: 1.3em; color: #666666; font-family: \\'Helvetica Neue\\', Helvetica, Arial, sans-serif; font-size: 12px;\">Pour la huitième année consécutive, il a reçu de Microsoft le prix Most Valuable Professional (MVP). Ce prix récompense des individus reconnus, crédibles et disponibles, qui démontrent une expertise technique et qui participent activement à des communautés afin de partager leur savoir-faire et leurs compétences pour aider les autres à se réaliser.</p>\\r\\n<p style=\"margin: 0px; padding: 0px 0px 8px; line-height: 1.3em; color: #666666; font-family: \\'Helvetica Neue\\', Helvetica, Arial, sans-serif; font-size: 12px;\">Mario est titulaire d’un baccalauréat en génie informatique et d’une maîtrise en management de la technologie de l’École Polytechnique de Montréal. Il a également obtenu les certifications suivantes : Certified ScrumMaster (CSM) et Microsoft Certified Technology Specialist avec Team Foundation Server.</p>',\n",
       " 'org_facebook': 0.0,\n",
       " 'org_name': 'Mario Cardinal',\n",
       " 'org_twitter': 0.0,\n",
       " 'payee_name': '',\n",
       " 'payout_type': 'ACH',\n",
       " 'previous_payouts': [{'name': '',\n",
       "   'created': '2011-12-19 03:10:48',\n",
       "   'country': 'CA',\n",
       "   'amount': 3304.11,\n",
       "   'state': '',\n",
       "   'address': '',\n",
       "   'uid': 2021210,\n",
       "   'event': 2329056,\n",
       "   'zip_code': ''}],\n",
       " 'sale_duration': 50.0,\n",
       " 'show_map': 1,\n",
       " 'ticket_types': [{'event_id': 6098291,\n",
       "   'cost': 470.0,\n",
       "   'availability': 1,\n",
       "   'quantity_total': 30}],\n",
       " 'user_age': 1307,\n",
       " 'user_created': 1251988266,\n",
       " 'user_type': 4,\n",
       " 'venue_address': '2815 LAURIER BOUL',\n",
       " 'venue_country': 'CA',\n",
       " 'venue_latitude': 46.8032826,\n",
       " 'venue_longitude': -71.242796,\n",
       " 'venue_name': 'Hotel Classique',\n",
       " 'venue_state': 'Quebec',\n",
       " 'sequence_number': 3025,\n",
       " 'fraud_prob': 0.5429403202328966}"
      ]
     },
     "execution_count": 65,
     "metadata": {},
     "output_type": "execute_result"
    }
   ],
   "source": [
    "to_predict.next()"
   ]
  },
  {
   "cell_type": "code",
   "execution_count": 69,
   "metadata": {},
   "outputs": [],
   "source": [
    "# for x in db.test_collection.find({'fraud_prob': {'$exists': True}}):\n",
    "#     print(x)"
   ]
  },
  {
   "cell_type": "code",
   "execution_count": null,
   "metadata": {},
   "outputs": [],
   "source": []
  },
  {
   "cell_type": "code",
   "execution_count": 85,
   "metadata": {},
   "outputs": [],
   "source": [
    "myquery = { \"sequence_number\": 3075}"
   ]
  },
  {
   "cell_type": "code",
   "execution_count": 93,
   "metadata": {},
   "outputs": [],
   "source": [
    "mydoc = db.test_collection.find(myquery)"
   ]
  },
  {
   "cell_type": "code",
   "execution_count": 100,
   "metadata": {},
   "outputs": [],
   "source": [
    "for x in mydoc:\n",
    "    x['fraud_prob']"
   ]
  },
  {
   "cell_type": "code",
   "execution_count": 101,
   "metadata": {},
   "outputs": [
    {
     "data": {
      "text/plain": [
       "0.3231441048034934"
      ]
     },
     "execution_count": 101,
     "metadata": {},
     "output_type": "execute_result"
    }
   ],
   "source": [
    "x['fraud_prob']"
   ]
  },
  {
   "cell_type": "code",
   "execution_count": 98,
   "metadata": {},
   "outputs": [
    {
     "data": {
      "text/plain": [
       "dict_keys(['_id', 'body_length', 'channels', 'country', 'currency', 'delivery_method', 'description', 'email_domain', 'event_created', 'event_end', 'event_published', 'event_start', 'fb_published', 'has_analytics', 'has_header', 'has_logo', 'listed', 'name', 'name_length', 'object_id', 'org_desc', 'org_facebook', 'org_name', 'org_twitter', 'payee_name', 'payout_type', 'previous_payouts', 'sale_duration', 'show_map', 'ticket_types', 'user_age', 'user_created', 'user_type', 'venue_address', 'venue_country', 'venue_latitude', 'venue_longitude', 'venue_name', 'venue_state', 'sequence_number', 'fraud_prob'])"
      ]
     },
     "execution_count": 98,
     "metadata": {},
     "output_type": "execute_result"
    }
   ],
   "source": [
    "x.keys()"
   ]
  },
  {
   "cell_type": "code",
   "execution_count": 99,
   "metadata": {},
   "outputs": [
    {
     "data": {
      "text/plain": [
       "0.3231441048034934"
      ]
     },
     "execution_count": 99,
     "metadata": {},
     "output_type": "execute_result"
    }
   ],
   "source": [
    "x['fraud_prob']"
   ]
  },
  {
   "cell_type": "code",
   "execution_count": 110,
   "metadata": {},
   "outputs": [],
   "source": [
    "myquery2 = { \"user_\": 6478667}"
   ]
  },
  {
   "cell_type": "code",
   "execution_count": 111,
   "metadata": {},
   "outputs": [],
   "source": [
    "mydoc2 = db.test_collection.find(myquery2)"
   ]
  },
  {
   "cell_type": "code",
   "execution_count": 112,
   "metadata": {},
   "outputs": [],
   "source": [
    "for y in mydoc2:\n",
    "    y['fraud_prob']"
   ]
  },
  {
   "cell_type": "code",
   "execution_count": 113,
   "metadata": {},
   "outputs": [
    {
     "ename": "NameError",
     "evalue": "name 'y' is not defined",
     "output_type": "error",
     "traceback": [
      "\u001b[0;31m---------------------------------------------------------------------------\u001b[0m",
      "\u001b[0;31mNameError\u001b[0m                                 Traceback (most recent call last)",
      "\u001b[0;32m<ipython-input-113-e1bc9c2513d2>\u001b[0m in \u001b[0;36m<module>\u001b[0;34m\u001b[0m\n\u001b[0;32m----> 1\u001b[0;31m \u001b[0my\u001b[0m\u001b[0;34m[\u001b[0m\u001b[0;34m'fraud_prob'\u001b[0m\u001b[0;34m]\u001b[0m\u001b[0;34m\u001b[0m\u001b[0;34m\u001b[0m\u001b[0m\n\u001b[0m",
      "\u001b[0;31mNameError\u001b[0m: name 'y' is not defined"
     ]
    }
   ],
   "source": [
    "y['fraud_prob']"
   ]
  },
  {
   "cell_type": "code",
   "execution_count": null,
   "metadata": {},
   "outputs": [],
   "source": []
  }
 ],
 "metadata": {
  "kernelspec": {
   "display_name": "Python 3",
   "language": "python",
   "name": "python3"
  },
  "language_info": {
   "codemirror_mode": {
    "name": "ipython",
    "version": 3
   },
   "file_extension": ".py",
   "mimetype": "text/x-python",
   "name": "python",
   "nbconvert_exporter": "python",
   "pygments_lexer": "ipython3",
   "version": "3.7.7"
  }
 },
 "nbformat": 4,
 "nbformat_minor": 4
}
