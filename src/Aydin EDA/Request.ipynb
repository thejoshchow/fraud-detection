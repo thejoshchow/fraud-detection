{
 "cells": [
  {
   "cell_type": "code",
   "execution_count": 1,
   "metadata": {},
   "outputs": [],
   "source": [
    "import time\n",
    "import requests\n",
    "import pymongo"
   ]
  },
  {
   "cell_type": "code",
   "execution_count": 2,
   "metadata": {},
   "outputs": [],
   "source": [
    "import pandas as pd\n",
    "import numpy as np"
   ]
  },
  {
   "cell_type": "code",
   "execution_count": 3,
   "metadata": {},
   "outputs": [],
   "source": [
    "import pickle"
   ]
  },
  {
   "cell_type": "code",
   "execution_count": 4,
   "metadata": {},
   "outputs": [],
   "source": [
    "# next_sequence_number=0\n",
    "# api_url='https://hxobin8em5.execute-api.us-west-2.amazonaws.com/api/'\n",
    "# api_key='vYm9mTUuspeyAWH1v-acfoTlck-tCxwTw9YfCynC'\n",
    "# stor={}\n",
    "# payload = {'api_key': api_key,\n",
    "#                        'sequence_number': next_sequence_number}\n",
    "# response = requests.post(api_url, json=payload)\n",
    "# data = response.json()\n",
    "# stor[next_sequence_number] = data\n",
    "# next_sequence_number = data['_next_sequence_number']"
   ]
  },
  {
   "cell_type": "code",
   "execution_count": 5,
   "metadata": {},
   "outputs": [],
   "source": [
    "def get_data():\n",
    "    api_url='https://hxobin8em5.execute-api.us-west-2.amazonaws.com/api/'\n",
    "    api_key='vYm9mTUuspeyAWH1v-acfoTlck-tCxwTw9YfCynC'\n",
    "    next_sequence_number=0\n",
    "    payload = {'api_key': api_key,\n",
    "                   'sequence_number': 0}\n",
    "    response = requests.post(api_url, json=payload)\n",
    "    data = response.json()\n",
    "    stor=pd.DataFrame.from_dict(data['data'])\n",
    "    arr=[0,]\n",
    "    for i in range(1500,1800):\n",
    "        \n",
    "        \"\"\"Fetch data from the API.\"\"\"\n",
    "        payload = {'api_key': api_key,\n",
    "                   'sequence_number': i}\n",
    "        response = requests.post(api_url, json=payload)\n",
    "        temp_data = response.json()\n",
    "        temp_df=pd.DataFrame.from_dict(temp_data['data'])\n",
    "        stor=pd.concat([stor,temp_df])\n",
    "        next_sequence_number = data['_next_sequence_number']\n",
    "        arr.append(next_sequence_number)\n",
    "    return stor"
   ]
  },
  {
   "cell_type": "code",
   "execution_count": 6,
   "metadata": {},
   "outputs": [],
   "source": [
    "a = get_data()"
   ]
  },
  {
   "cell_type": "code",
   "execution_count": 38,
   "metadata": {},
   "outputs": [],
   "source": [
    "a=a.drop_duplicates('sequence_number')"
   ]
  },
  {
   "cell_type": "code",
   "execution_count": 39,
   "metadata": {},
   "outputs": [],
   "source": [
    "df=a"
   ]
  },
  {
   "cell_type": "code",
   "execution_count": 40,
   "metadata": {},
   "outputs": [
    {
     "data": {
      "text/plain": [
       "(12, 44)"
      ]
     },
     "execution_count": 40,
     "metadata": {},
     "output_type": "execute_result"
    }
   ],
   "source": [
    "df.shape"
   ]
  },
  {
   "cell_type": "code",
   "execution_count": 41,
   "metadata": {},
   "outputs": [],
   "source": [
    "if 'acct_type' not in df.columns:\n",
    "                df['acct_type'] = df.iloc[:, 0].apply(lambda x: 'unknown')\n",
    "df['is_fraud'] = df['acct_type'].apply(lambda x: 1 if 'fraud' else ('unknown' if 'unknown' else 0))     "
   ]
  },
  {
   "cell_type": "code",
   "execution_count": 42,
   "metadata": {},
   "outputs": [],
   "source": [
    "required_columns=['body_length', 'channels', 'delivery_method', 'event_published',\n",
    "       'fb_published', 'has_analytics', 'has_logo',\n",
    "       'name_length', 'num_order', 'num_payouts', 'org_facebook',\n",
    "       'org_twitter', 'sale_duration', 'sale_duration2', 'show_map',\n",
    "       'user_age', 'user_created', 'user_type']"
   ]
  },
  {
   "cell_type": "code",
   "execution_count": 43,
   "metadata": {},
   "outputs": [
    {
     "data": {
      "text/plain": [
       "18"
      ]
     },
     "execution_count": 43,
     "metadata": {},
     "output_type": "execute_result"
    }
   ],
   "source": [
    "len(required_columns)"
   ]
  },
  {
   "cell_type": "code",
   "execution_count": 44,
   "metadata": {},
   "outputs": [],
   "source": [
    "for col in required_columns:\n",
    "        if col not in df.columns:\n",
    "                df[col] = df.iloc[:, 0].apply(lambda x: 0)"
   ]
  },
  {
   "cell_type": "code",
   "execution_count": 45,
   "metadata": {},
   "outputs": [],
   "source": [
    "X=df[required_columns]"
   ]
  },
  {
   "cell_type": "code",
   "execution_count": 46,
   "metadata": {},
   "outputs": [
    {
     "data": {
      "text/plain": [
       "(12, 18)"
      ]
     },
     "execution_count": 46,
     "metadata": {},
     "output_type": "execute_result"
    }
   ],
   "source": [
    "X.shape"
   ]
  },
  {
   "cell_type": "code",
   "execution_count": 47,
   "metadata": {},
   "outputs": [
    {
     "data": {
      "text/plain": [
       "1"
      ]
     },
     "execution_count": 47,
     "metadata": {},
     "output_type": "execute_result"
    }
   ],
   "source": [
    "df.acct_type.nunique()"
   ]
  },
  {
   "cell_type": "code",
   "execution_count": 16,
   "metadata": {},
   "outputs": [],
   "source": [
    "model_rf = pickle.load(open('rf.pkl','rb'))"
   ]
  },
  {
   "cell_type": "code",
   "execution_count": 48,
   "metadata": {},
   "outputs": [],
   "source": [
    "y_rf = model_rf.predict(X)"
   ]
  },
  {
   "cell_type": "code",
   "execution_count": 49,
   "metadata": {},
   "outputs": [
    {
     "data": {
      "text/plain": [
       "array([0, 1, 0, 0, 0, 0, 1, 0, 0, 0, 1, 1])"
      ]
     },
     "execution_count": 49,
     "metadata": {},
     "output_type": "execute_result"
    }
   ],
   "source": [
    "y_rf"
   ]
  },
  {
   "cell_type": "code",
   "execution_count": 50,
   "metadata": {},
   "outputs": [
    {
     "data": {
      "text/plain": [
       "4"
      ]
     },
     "execution_count": 50,
     "metadata": {},
     "output_type": "execute_result"
    }
   ],
   "source": [
    "sum(y_rf)"
   ]
  },
  {
   "cell_type": "code",
   "execution_count": 51,
   "metadata": {},
   "outputs": [],
   "source": [
    "y_rf_prob = model_rf.predict_proba(X)"
   ]
  },
  {
   "cell_type": "code",
   "execution_count": 52,
   "metadata": {},
   "outputs": [
    {
     "data": {
      "text/plain": [
       "12"
      ]
     },
     "execution_count": 52,
     "metadata": {},
     "output_type": "execute_result"
    }
   ],
   "source": [
    "len(y_rf_prob)"
   ]
  },
  {
   "cell_type": "code",
   "execution_count": 53,
   "metadata": {},
   "outputs": [],
   "source": [
    "test=df.reset_index()"
   ]
  },
  {
   "cell_type": "code",
   "execution_count": 54,
   "metadata": {},
   "outputs": [],
   "source": [
    "test.to_json('test_script_examples.json')"
   ]
  },
  {
   "cell_type": "code",
   "execution_count": null,
   "metadata": {},
   "outputs": [],
   "source": []
  }
 ],
 "metadata": {
  "kernelspec": {
   "display_name": "Python 3",
   "language": "python",
   "name": "python3"
  },
  "language_info": {
   "codemirror_mode": {
    "name": "ipython",
    "version": 3
   },
   "file_extension": ".py",
   "mimetype": "text/x-python",
   "name": "python",
   "nbconvert_exporter": "python",
   "pygments_lexer": "ipython3",
   "version": "3.7.7"
  }
 },
 "nbformat": 4,
 "nbformat_minor": 4
}
