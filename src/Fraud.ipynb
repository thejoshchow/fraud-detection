{
  "nbformat": 4,
  "nbformat_minor": 0,
  "metadata": {
    "colab": {
      "name": "Fraud.ipynb",
      "provenance": [],
      "collapsed_sections": [],
      "authorship_tag": "ABX9TyM0x6P3Bxl5snmHJmQ2H8gc",
      "include_colab_link": true
    },
    "kernelspec": {
      "name": "python3",
      "display_name": "Python 3"
    },
    "accelerator": "GPU"
  },
  "cells": [
    {
      "cell_type": "markdown",
      "metadata": {
        "id": "view-in-github",
        "colab_type": "text"
      },
      "source": [
        "<a href=\"https://colab.research.google.com/github/thejoshchow/fraud-detection/blob/ops/src/Fraud.ipynb\" target=\"_parent\"><img src=\"https://colab.research.google.com/assets/colab-badge.svg\" alt=\"Open In Colab\"/></a>"
      ]
    },
    {
      "cell_type": "code",
      "metadata": {
        "id": "-qnXBeNe8T_F"
      },
      "source": [
        ""
      ],
      "execution_count": null,
      "outputs": []
    },
    {
      "cell_type": "markdown",
      "metadata": {
        "id": "FpulQbqMXNKE"
      },
      "source": [
        "https://dataaspirant.com/build-email-spam-classification-model-spacy-python/"
      ]
    },
    {
      "cell_type": "code",
      "metadata": {
        "id": "kWg3o19uXMhL"
      },
      "source": [
        "import pandas as pd"
      ],
      "execution_count": null,
      "outputs": []
    },
    {
      "cell_type": "markdown",
      "metadata": {
        "id": "JKhbys4fXJsj"
      },
      "source": [
        ""
      ]
    },
    {
      "cell_type": "code",
      "metadata": {
        "id": "Q593o9l4Ag6Z"
      },
      "source": [
        "import random"
      ],
      "execution_count": null,
      "outputs": []
    },
    {
      "cell_type": "code",
      "metadata": {
        "id": "xhYfAH8u7p37"
      },
      "source": [
        ""
      ],
      "execution_count": null,
      "outputs": []
    },
    {
      "cell_type": "markdown",
      "metadata": {
        "id": "4gNIbG6eXSc4"
      },
      "source": [
        "The json read was not used. Instead see below the read of text2.csv"
      ]
    },
    {
      "cell_type": "code",
      "metadata": {
        "id": "bgW_WZsHAblQ"
      },
      "source": [
        "fraud=pd.read_csv('/content/data/data.json')"
      ],
      "execution_count": null,
      "outputs": []
    },
    {
      "cell_type": "code",
      "metadata": {
        "id": "KOVJG5l8DBkf"
      },
      "source": [
        "import numpy as np\r\n",
        "import pandas as pd"
      ],
      "execution_count": null,
      "outputs": []
    },
    {
      "cell_type": "code",
      "metadata": {
        "id": "VjHnhVcQn41A"
      },
      "source": [
        ""
      ],
      "execution_count": null,
      "outputs": []
    },
    {
      "cell_type": "code",
      "metadata": {
        "id": "RqmE87OyAXP-",
        "colab": {
          "base_uri": "https://localhost:8080/"
        },
        "outputId": "076e67e7-b07d-48a3-f6ee-49a426b41a9f"
      },
      "source": [
        "parsed=pd.read_csv('/content/data/text2.csv')"
      ],
      "execution_count": null,
      "outputs": [
        {
          "output_type": "stream",
          "text": [
            "/usr/local/lib/python3.6/dist-packages/IPython/core/interactiveshell.py:2718: DtypeWarning: Columns (9,10,11,12,13,14,15,16,17,18,19,20,21,22,23,24,25,26,27,28,29,30,31,32,33,34,35,36,37,38,39,40,41,42,43,44,45,46,47,48,49,50,51,52,53,54,55,56,57,58,59,60,61,62,63,64,65,66,67,68,69,70,71,72,73,74,75,76,77,78,79,80,81,82,83,84,85,86,87,88,89,90,91,92,93,94,95,96,97,98,99,100,101,102,103,104,105,106,107,108,109,110,111,112,113,114,115,116,117,118,119,120,121,122,123,124,125,126,127,128,129,130,131,132,133,134,135,136,137,138,139,140,141,142,143,144,145,146,147) have mixed types.Specify dtype option on import or set low_memory=False.\n",
            "  interactivity=interactivity, compiler=compiler, result=result)\n"
          ],
          "name": "stderr"
        }
      ]
    },
    {
      "cell_type": "markdown",
      "metadata": {
        "id": "WrV3Ac9CXdwi"
      },
      "source": [
        "drop nan rows"
      ]
    },
    {
      "cell_type": "code",
      "metadata": {
        "id": "X5PVRqHz9RsP"
      },
      "source": [
        "checks_all=([isinstance(value,str) for value in   parsed['description'].values])"
      ],
      "execution_count": null,
      "outputs": []
    },
    {
      "cell_type": "code",
      "metadata": {
        "id": "e2PkMxs39-k2"
      },
      "source": [
        "parsed_checked=parsed[checks_all]"
      ],
      "execution_count": null,
      "outputs": []
    },
    {
      "cell_type": "markdown",
      "metadata": {
        "id": "-LiO6NngXlFx"
      },
      "source": [
        "The label column becomes y"
      ]
    },
    {
      "cell_type": "code",
      "metadata": {
        "colab": {
          "base_uri": "https://localhost:8080/"
        },
        "id": "jJjZAaFo0kgo",
        "outputId": "cc81169d-187b-46c3-c06c-10ea268dc0c1"
      },
      "source": [
        "X=parsed_checked.iloc[:,1:4]\r\n",
        "X.head(5)\r\n",
        "y=parsed_checked.iloc[:,5]\r\n",
        "y.head(5)"
      ],
      "execution_count": null,
      "outputs": [
        {
          "output_type": "execute_result",
          "data": {
            "text/plain": [
              "0     True\n",
              "1    False\n",
              "2    False\n",
              "3    False\n",
              "4    False\n",
              "Name: fraud, dtype: object"
            ]
          },
          "metadata": {
            "tags": []
          },
          "execution_count": 15
        }
      ]
    },
    {
      "cell_type": "code",
      "metadata": {
        "id": "qswfJcHrvks5"
      },
      "source": [
        "import seaborn as sns\r\n",
        "from spacy.util import minibatch\r\n",
        "from sklearn.metrics import accuracy_score\r\n",
        "from sklearn.metrics import confusion_matrix\r\n",
        "from matplotlib import pyplot as plt "
      ],
      "execution_count": null,
      "outputs": []
    },
    {
      "cell_type": "code",
      "metadata": {
        "id": "ets33rjJylgb"
      },
      "source": [
        "import spacy as spacy"
      ],
      "execution_count": null,
      "outputs": []
    },
    {
      "cell_type": "code",
      "metadata": {
        "id": "JPaockMEytyV"
      },
      "source": [
        "from sklearn.model_selection import train_test_split"
      ],
      "execution_count": null,
      "outputs": []
    },
    {
      "cell_type": "code",
      "metadata": {
        "id": "RZvCW39cyamD"
      },
      "source": [
        "nlp=spacy.blank('en')"
      ],
      "execution_count": null,
      "outputs": []
    },
    {
      "cell_type": "code",
      "metadata": {
        "id": "-R0eB4kryuy8"
      },
      "source": [
        "text_cat=nlp.create_pipe('textcat',config=({'exclusive_classes':True,'architecture':'bow'}))"
      ],
      "execution_count": null,
      "outputs": []
    },
    {
      "cell_type": "code",
      "metadata": {
        "id": "z19Rc8ubzVAF"
      },
      "source": [
        "nlp.add_pipe(text_cat)"
      ],
      "execution_count": null,
      "outputs": []
    },
    {
      "cell_type": "code",
      "metadata": {
        "colab": {
          "base_uri": "https://localhost:8080/"
        },
        "id": "TyZb1J-1zZN9",
        "outputId": "32e10e07-bbb9-44a3-f558-4e0831e1f222"
      },
      "source": [
        "text_cat.add_label('not_fraud')\r\n",
        "text_cat.add_label('fraud')"
      ],
      "execution_count": null,
      "outputs": [
        {
          "output_type": "execute_result",
          "data": {
            "text/plain": [
              "1"
            ]
          },
          "metadata": {
            "tags": []
          },
          "execution_count": 26
        }
      ]
    },
    {
      "cell_type": "code",
      "metadata": {
        "colab": {
          "base_uri": "https://localhost:8080/"
        },
        "id": "xhSQXTDtcM0X",
        "outputId": "ecaa4318-c7a1-4bd3-fd6f-aac57f79be14"
      },
      "source": [
        "text_cat"
      ],
      "execution_count": null,
      "outputs": [
        {
          "output_type": "execute_result",
          "data": {
            "text/plain": [
              "<spacy.pipeline.pipes.TextCategorizer at 0x7f5694648908>"
            ]
          },
          "metadata": {
            "tags": []
          },
          "execution_count": 209
        }
      ]
    },
    {
      "cell_type": "code",
      "metadata": {
        "id": "icAmZaQAcOsP"
      },
      "source": [
        ""
      ],
      "execution_count": null,
      "outputs": []
    },
    {
      "cell_type": "markdown",
      "metadata": {
        "id": "xdXCUNJJXwM_"
      },
      "source": [
        "Split inputs intro training and test groups"
      ]
    },
    {
      "cell_type": "code",
      "metadata": {
        "id": "7XXUldKlzjJo"
      },
      "source": [
        "X_train,X_test,y_train,y_test=train_test_split(X,y,test_size=0.2,random_state=20)"
      ],
      "execution_count": null,
      "outputs": []
    },
    {
      "cell_type": "code",
      "metadata": {
        "id": "3lN22dXf3hB2",
        "colab": {
          "base_uri": "https://localhost:8080/"
        },
        "outputId": "a21597c5-1e04-4900-8739-20b7cda0c460"
      },
      "source": [
        "y_train[0:5]"
      ],
      "execution_count": null,
      "outputs": [
        {
          "output_type": "execute_result",
          "data": {
            "text/plain": [
              "10582    False\n",
              "1953     False\n",
              "8823     False\n",
              "4302     False\n",
              "10081    False\n",
              "Name: fraud, dtype: object"
            ]
          },
          "metadata": {
            "tags": []
          },
          "execution_count": 334
        }
      ]
    },
    {
      "cell_type": "code",
      "metadata": {
        "id": "9piIpuZyTzv5"
      },
      "source": [
        ""
      ],
      "execution_count": null,
      "outputs": []
    },
    {
      "cell_type": "code",
      "metadata": {
        "id": "QK2J9mjX1l4V"
      },
      "source": [
        "train_labels=[{'cats':{'fraud':label=='True','not_fraud':label=='False'}} for label in y_train]\r\n",
        "test_labels=[{'cats':{'fraud':label=='True','not_fraud':label=='False'}} for label in y_test]"
      ],
      "execution_count": null,
      "outputs": []
    },
    {
      "cell_type": "code",
      "metadata": {
        "colab": {
          "base_uri": "https://localhost:8080/"
        },
        "id": "ZrhWZTdIT_Lw",
        "outputId": "8397ad2b-5c62-48e3-cf39-f4ffe07c5e46"
      },
      "source": [
        "train_labels"
      ],
      "execution_count": null,
      "outputs": [
        {
          "output_type": "execute_result",
          "data": {
            "text/plain": [
              "[{'cats': {'fraud': True, 'not_fraud': False}},\n",
              " {'cats': {'fraud': False, 'not_fraud': True}},\n",
              " {'cats': {'fraud': False, 'not_fraud': False}},\n",
              " {'cats': {'fraud': False, 'not_fraud': True}},\n",
              " {'cats': {'fraud': True, 'not_fraud': False}},\n",
              " {'cats': {'fraud': False, 'not_fraud': True}},\n",
              " {'cats': {'fraud': False, 'not_fraud': True}},\n",
              " {'cats': {'fraud': False, 'not_fraud': True}},\n",
              " {'cats': {'fraud': False, 'not_fraud': True}},\n",
              " {'cats': {'fraud': False, 'not_fraud': True}},\n",
              " {'cats': {'fraud': False, 'not_fraud': True}},\n",
              " {'cats': {'fraud': False, 'not_fraud': True}},\n",
              " {'cats': {'fraud': False, 'not_fraud': True}},\n",
              " {'cats': {'fraud': False, 'not_fraud': True}},\n",
              " {'cats': {'fraud': False, 'not_fraud': True}},\n",
              " {'cats': {'fraud': False, 'not_fraud': True}},\n",
              " {'cats': {'fraud': False, 'not_fraud': True}},\n",
              " {'cats': {'fraud': False, 'not_fraud': True}},\n",
              " {'cats': {'fraud': False, 'not_fraud': True}},\n",
              " {'cats': {'fraud': False, 'not_fraud': True}},\n",
              " {'cats': {'fraud': False, 'not_fraud': True}},\n",
              " {'cats': {'fraud': False, 'not_fraud': True}},\n",
              " {'cats': {'fraud': False, 'not_fraud': True}},\n",
              " {'cats': {'fraud': False, 'not_fraud': True}},\n",
              " {'cats': {'fraud': False, 'not_fraud': True}},\n",
              " {'cats': {'fraud': False, 'not_fraud': True}},\n",
              " {'cats': {'fraud': False, 'not_fraud': True}},\n",
              " {'cats': {'fraud': False, 'not_fraud': True}},\n",
              " {'cats': {'fraud': False, 'not_fraud': True}},\n",
              " {'cats': {'fraud': False, 'not_fraud': True}},\n",
              " {'cats': {'fraud': False, 'not_fraud': True}},\n",
              " {'cats': {'fraud': False, 'not_fraud': True}},\n",
              " {'cats': {'fraud': False, 'not_fraud': True}},\n",
              " {'cats': {'fraud': False, 'not_fraud': True}},\n",
              " {'cats': {'fraud': False, 'not_fraud': True}},\n",
              " {'cats': {'fraud': False, 'not_fraud': True}},\n",
              " {'cats': {'fraud': False, 'not_fraud': True}},\n",
              " {'cats': {'fraud': True, 'not_fraud': False}},\n",
              " {'cats': {'fraud': False, 'not_fraud': True}},\n",
              " {'cats': {'fraud': False, 'not_fraud': True}},\n",
              " {'cats': {'fraud': False, 'not_fraud': True}},\n",
              " {'cats': {'fraud': False, 'not_fraud': True}},\n",
              " {'cats': {'fraud': False, 'not_fraud': True}},\n",
              " {'cats': {'fraud': False, 'not_fraud': True}},\n",
              " {'cats': {'fraud': False, 'not_fraud': True}},\n",
              " {'cats': {'fraud': False, 'not_fraud': True}},\n",
              " {'cats': {'fraud': False, 'not_fraud': True}},\n",
              " {'cats': {'fraud': False, 'not_fraud': True}},\n",
              " {'cats': {'fraud': True, 'not_fraud': False}},\n",
              " {'cats': {'fraud': False, 'not_fraud': True}},\n",
              " {'cats': {'fraud': False, 'not_fraud': True}},\n",
              " {'cats': {'fraud': False, 'not_fraud': True}},\n",
              " {'cats': {'fraud': False, 'not_fraud': True}},\n",
              " {'cats': {'fraud': False, 'not_fraud': True}},\n",
              " {'cats': {'fraud': True, 'not_fraud': False}},\n",
              " {'cats': {'fraud': True, 'not_fraud': False}},\n",
              " {'cats': {'fraud': False, 'not_fraud': True}},\n",
              " {'cats': {'fraud': False, 'not_fraud': True}},\n",
              " {'cats': {'fraud': False, 'not_fraud': True}},\n",
              " {'cats': {'fraud': False, 'not_fraud': True}},\n",
              " {'cats': {'fraud': False, 'not_fraud': True}},\n",
              " {'cats': {'fraud': False, 'not_fraud': True}},\n",
              " {'cats': {'fraud': False, 'not_fraud': True}},\n",
              " {'cats': {'fraud': False, 'not_fraud': True}},\n",
              " {'cats': {'fraud': False, 'not_fraud': True}},\n",
              " {'cats': {'fraud': False, 'not_fraud': True}},\n",
              " {'cats': {'fraud': False, 'not_fraud': True}},\n",
              " {'cats': {'fraud': True, 'not_fraud': False}},\n",
              " {'cats': {'fraud': False, 'not_fraud': True}},\n",
              " {'cats': {'fraud': False, 'not_fraud': True}},\n",
              " {'cats': {'fraud': False, 'not_fraud': True}},\n",
              " {'cats': {'fraud': False, 'not_fraud': True}},\n",
              " {'cats': {'fraud': False, 'not_fraud': True}},\n",
              " {'cats': {'fraud': False, 'not_fraud': True}},\n",
              " {'cats': {'fraud': False, 'not_fraud': True}},\n",
              " {'cats': {'fraud': True, 'not_fraud': False}},\n",
              " {'cats': {'fraud': False, 'not_fraud': True}},\n",
              " {'cats': {'fraud': False, 'not_fraud': True}},\n",
              " {'cats': {'fraud': False, 'not_fraud': True}},\n",
              " {'cats': {'fraud': False, 'not_fraud': True}},\n",
              " {'cats': {'fraud': False, 'not_fraud': True}},\n",
              " {'cats': {'fraud': False, 'not_fraud': True}},\n",
              " {'cats': {'fraud': False, 'not_fraud': True}},\n",
              " {'cats': {'fraud': False, 'not_fraud': True}},\n",
              " {'cats': {'fraud': False, 'not_fraud': True}},\n",
              " {'cats': {'fraud': False, 'not_fraud': True}},\n",
              " {'cats': {'fraud': False, 'not_fraud': True}},\n",
              " {'cats': {'fraud': False, 'not_fraud': True}},\n",
              " {'cats': {'fraud': False, 'not_fraud': True}},\n",
              " {'cats': {'fraud': False, 'not_fraud': True}},\n",
              " {'cats': {'fraud': False, 'not_fraud': True}},\n",
              " {'cats': {'fraud': False, 'not_fraud': True}},\n",
              " {'cats': {'fraud': False, 'not_fraud': True}},\n",
              " {'cats': {'fraud': False, 'not_fraud': True}},\n",
              " {'cats': {'fraud': False, 'not_fraud': True}},\n",
              " {'cats': {'fraud': False, 'not_fraud': True}},\n",
              " {'cats': {'fraud': False, 'not_fraud': True}},\n",
              " {'cats': {'fraud': True, 'not_fraud': False}},\n",
              " {'cats': {'fraud': False, 'not_fraud': True}},\n",
              " {'cats': {'fraud': True, 'not_fraud': False}},\n",
              " {'cats': {'fraud': False, 'not_fraud': True}},\n",
              " {'cats': {'fraud': False, 'not_fraud': True}},\n",
              " {'cats': {'fraud': False, 'not_fraud': True}},\n",
              " {'cats': {'fraud': False, 'not_fraud': True}},\n",
              " {'cats': {'fraud': True, 'not_fraud': False}},\n",
              " {'cats': {'fraud': False, 'not_fraud': True}},\n",
              " {'cats': {'fraud': False, 'not_fraud': True}},\n",
              " {'cats': {'fraud': False, 'not_fraud': True}},\n",
              " {'cats': {'fraud': True, 'not_fraud': False}},\n",
              " {'cats': {'fraud': False, 'not_fraud': True}},\n",
              " {'cats': {'fraud': False, 'not_fraud': True}},\n",
              " {'cats': {'fraud': False, 'not_fraud': True}},\n",
              " {'cats': {'fraud': False, 'not_fraud': True}},\n",
              " {'cats': {'fraud': True, 'not_fraud': False}},\n",
              " {'cats': {'fraud': False, 'not_fraud': True}},\n",
              " {'cats': {'fraud': False, 'not_fraud': True}},\n",
              " {'cats': {'fraud': False, 'not_fraud': True}},\n",
              " {'cats': {'fraud': False, 'not_fraud': True}},\n",
              " {'cats': {'fraud': False, 'not_fraud': True}},\n",
              " {'cats': {'fraud': False, 'not_fraud': True}},\n",
              " {'cats': {'fraud': False, 'not_fraud': True}},\n",
              " {'cats': {'fraud': False, 'not_fraud': True}},\n",
              " {'cats': {'fraud': False, 'not_fraud': True}},\n",
              " {'cats': {'fraud': True, 'not_fraud': False}},\n",
              " {'cats': {'fraud': False, 'not_fraud': True}},\n",
              " {'cats': {'fraud': False, 'not_fraud': True}},\n",
              " {'cats': {'fraud': False, 'not_fraud': True}},\n",
              " {'cats': {'fraud': False, 'not_fraud': True}},\n",
              " {'cats': {'fraud': False, 'not_fraud': True}},\n",
              " {'cats': {'fraud': False, 'not_fraud': True}},\n",
              " {'cats': {'fraud': False, 'not_fraud': True}},\n",
              " {'cats': {'fraud': False, 'not_fraud': True}},\n",
              " {'cats': {'fraud': False, 'not_fraud': True}},\n",
              " {'cats': {'fraud': False, 'not_fraud': True}},\n",
              " {'cats': {'fraud': False, 'not_fraud': True}},\n",
              " {'cats': {'fraud': False, 'not_fraud': True}},\n",
              " {'cats': {'fraud': False, 'not_fraud': True}},\n",
              " {'cats': {'fraud': False, 'not_fraud': True}},\n",
              " {'cats': {'fraud': False, 'not_fraud': True}},\n",
              " {'cats': {'fraud': False, 'not_fraud': True}},\n",
              " {'cats': {'fraud': False, 'not_fraud': True}},\n",
              " {'cats': {'fraud': False, 'not_fraud': True}},\n",
              " {'cats': {'fraud': False, 'not_fraud': True}},\n",
              " {'cats': {'fraud': True, 'not_fraud': False}},\n",
              " {'cats': {'fraud': False, 'not_fraud': True}},\n",
              " {'cats': {'fraud': False, 'not_fraud': True}},\n",
              " {'cats': {'fraud': False, 'not_fraud': True}},\n",
              " {'cats': {'fraud': False, 'not_fraud': True}},\n",
              " {'cats': {'fraud': False, 'not_fraud': True}},\n",
              " {'cats': {'fraud': False, 'not_fraud': True}},\n",
              " {'cats': {'fraud': False, 'not_fraud': True}},\n",
              " {'cats': {'fraud': False, 'not_fraud': True}},\n",
              " {'cats': {'fraud': False, 'not_fraud': True}},\n",
              " {'cats': {'fraud': False, 'not_fraud': True}},\n",
              " {'cats': {'fraud': False, 'not_fraud': True}},\n",
              " {'cats': {'fraud': True, 'not_fraud': False}},\n",
              " {'cats': {'fraud': False, 'not_fraud': True}},\n",
              " {'cats': {'fraud': False, 'not_fraud': True}},\n",
              " {'cats': {'fraud': False, 'not_fraud': True}},\n",
              " {'cats': {'fraud': False, 'not_fraud': True}},\n",
              " {'cats': {'fraud': False, 'not_fraud': True}},\n",
              " {'cats': {'fraud': False, 'not_fraud': True}},\n",
              " {'cats': {'fraud': False, 'not_fraud': True}},\n",
              " {'cats': {'fraud': False, 'not_fraud': True}},\n",
              " {'cats': {'fraud': True, 'not_fraud': False}},\n",
              " {'cats': {'fraud': False, 'not_fraud': True}},\n",
              " {'cats': {'fraud': False, 'not_fraud': True}},\n",
              " {'cats': {'fraud': False, 'not_fraud': True}},\n",
              " {'cats': {'fraud': False, 'not_fraud': True}},\n",
              " {'cats': {'fraud': False, 'not_fraud': True}},\n",
              " {'cats': {'fraud': False, 'not_fraud': True}},\n",
              " {'cats': {'fraud': False, 'not_fraud': True}},\n",
              " {'cats': {'fraud': True, 'not_fraud': False}},\n",
              " {'cats': {'fraud': False, 'not_fraud': True}},\n",
              " {'cats': {'fraud': False, 'not_fraud': True}},\n",
              " {'cats': {'fraud': False, 'not_fraud': True}},\n",
              " {'cats': {'fraud': False, 'not_fraud': True}},\n",
              " {'cats': {'fraud': False, 'not_fraud': True}},\n",
              " {'cats': {'fraud': False, 'not_fraud': True}},\n",
              " {'cats': {'fraud': False, 'not_fraud': True}},\n",
              " {'cats': {'fraud': False, 'not_fraud': True}},\n",
              " {'cats': {'fraud': False, 'not_fraud': True}},\n",
              " {'cats': {'fraud': False, 'not_fraud': True}},\n",
              " {'cats': {'fraud': False, 'not_fraud': True}},\n",
              " {'cats': {'fraud': False, 'not_fraud': True}},\n",
              " {'cats': {'fraud': False, 'not_fraud': True}},\n",
              " {'cats': {'fraud': False, 'not_fraud': True}},\n",
              " {'cats': {'fraud': False, 'not_fraud': True}},\n",
              " {'cats': {'fraud': True, 'not_fraud': False}},\n",
              " {'cats': {'fraud': False, 'not_fraud': True}},\n",
              " {'cats': {'fraud': False, 'not_fraud': True}},\n",
              " {'cats': {'fraud': False, 'not_fraud': True}},\n",
              " {'cats': {'fraud': False, 'not_fraud': True}},\n",
              " {'cats': {'fraud': False, 'not_fraud': True}},\n",
              " {'cats': {'fraud': False, 'not_fraud': False}},\n",
              " {'cats': {'fraud': False, 'not_fraud': True}},\n",
              " {'cats': {'fraud': False, 'not_fraud': True}},\n",
              " {'cats': {'fraud': False, 'not_fraud': True}},\n",
              " {'cats': {'fraud': False, 'not_fraud': True}},\n",
              " {'cats': {'fraud': True, 'not_fraud': False}},\n",
              " {'cats': {'fraud': False, 'not_fraud': True}},\n",
              " {'cats': {'fraud': False, 'not_fraud': True}},\n",
              " {'cats': {'fraud': False, 'not_fraud': False}},\n",
              " {'cats': {'fraud': False, 'not_fraud': True}},\n",
              " {'cats': {'fraud': False, 'not_fraud': True}},\n",
              " {'cats': {'fraud': False, 'not_fraud': True}},\n",
              " {'cats': {'fraud': False, 'not_fraud': True}},\n",
              " {'cats': {'fraud': False, 'not_fraud': True}},\n",
              " {'cats': {'fraud': False, 'not_fraud': True}},\n",
              " {'cats': {'fraud': False, 'not_fraud': True}},\n",
              " {'cats': {'fraud': False, 'not_fraud': True}},\n",
              " {'cats': {'fraud': False, 'not_fraud': True}},\n",
              " {'cats': {'fraud': False, 'not_fraud': True}},\n",
              " {'cats': {'fraud': False, 'not_fraud': True}},\n",
              " {'cats': {'fraud': False, 'not_fraud': True}},\n",
              " {'cats': {'fraud': False, 'not_fraud': True}},\n",
              " {'cats': {'fraud': False, 'not_fraud': True}},\n",
              " {'cats': {'fraud': False, 'not_fraud': True}},\n",
              " {'cats': {'fraud': False, 'not_fraud': True}},\n",
              " {'cats': {'fraud': False, 'not_fraud': True}},\n",
              " {'cats': {'fraud': False, 'not_fraud': True}},\n",
              " {'cats': {'fraud': False, 'not_fraud': True}},\n",
              " {'cats': {'fraud': False, 'not_fraud': True}},\n",
              " {'cats': {'fraud': True, 'not_fraud': False}},\n",
              " {'cats': {'fraud': False, 'not_fraud': True}},\n",
              " {'cats': {'fraud': False, 'not_fraud': True}},\n",
              " {'cats': {'fraud': False, 'not_fraud': True}},\n",
              " {'cats': {'fraud': False, 'not_fraud': True}},\n",
              " {'cats': {'fraud': False, 'not_fraud': True}},\n",
              " {'cats': {'fraud': False, 'not_fraud': True}},\n",
              " {'cats': {'fraud': False, 'not_fraud': True}},\n",
              " {'cats': {'fraud': False, 'not_fraud': True}},\n",
              " {'cats': {'fraud': False, 'not_fraud': True}},\n",
              " {'cats': {'fraud': False, 'not_fraud': True}},\n",
              " {'cats': {'fraud': False, 'not_fraud': True}},\n",
              " {'cats': {'fraud': False, 'not_fraud': True}},\n",
              " {'cats': {'fraud': False, 'not_fraud': True}},\n",
              " {'cats': {'fraud': False, 'not_fraud': True}},\n",
              " {'cats': {'fraud': False, 'not_fraud': True}},\n",
              " {'cats': {'fraud': False, 'not_fraud': True}},\n",
              " {'cats': {'fraud': False, 'not_fraud': True}},\n",
              " {'cats': {'fraud': False, 'not_fraud': False}},\n",
              " {'cats': {'fraud': False, 'not_fraud': True}},\n",
              " {'cats': {'fraud': False, 'not_fraud': True}},\n",
              " {'cats': {'fraud': False, 'not_fraud': True}},\n",
              " {'cats': {'fraud': False, 'not_fraud': True}},\n",
              " {'cats': {'fraud': False, 'not_fraud': True}},\n",
              " {'cats': {'fraud': False, 'not_fraud': True}},\n",
              " {'cats': {'fraud': False, 'not_fraud': True}},\n",
              " {'cats': {'fraud': False, 'not_fraud': True}},\n",
              " {'cats': {'fraud': False, 'not_fraud': True}},\n",
              " {'cats': {'fraud': False, 'not_fraud': True}},\n",
              " {'cats': {'fraud': False, 'not_fraud': True}},\n",
              " {'cats': {'fraud': False, 'not_fraud': True}},\n",
              " {'cats': {'fraud': False, 'not_fraud': True}},\n",
              " {'cats': {'fraud': False, 'not_fraud': True}},\n",
              " {'cats': {'fraud': False, 'not_fraud': True}},\n",
              " {'cats': {'fraud': False, 'not_fraud': True}},\n",
              " {'cats': {'fraud': False, 'not_fraud': True}},\n",
              " {'cats': {'fraud': False, 'not_fraud': True}},\n",
              " {'cats': {'fraud': False, 'not_fraud': True}},\n",
              " {'cats': {'fraud': False, 'not_fraud': True}},\n",
              " {'cats': {'fraud': False, 'not_fraud': True}},\n",
              " {'cats': {'fraud': False, 'not_fraud': True}},\n",
              " {'cats': {'fraud': False, 'not_fraud': True}},\n",
              " {'cats': {'fraud': False, 'not_fraud': True}},\n",
              " {'cats': {'fraud': False, 'not_fraud': True}},\n",
              " {'cats': {'fraud': False, 'not_fraud': True}},\n",
              " {'cats': {'fraud': False, 'not_fraud': True}},\n",
              " {'cats': {'fraud': False, 'not_fraud': True}},\n",
              " {'cats': {'fraud': False, 'not_fraud': True}},\n",
              " {'cats': {'fraud': False, 'not_fraud': True}},\n",
              " {'cats': {'fraud': False, 'not_fraud': True}},\n",
              " {'cats': {'fraud': False, 'not_fraud': True}},\n",
              " {'cats': {'fraud': False, 'not_fraud': True}},\n",
              " {'cats': {'fraud': True, 'not_fraud': False}},\n",
              " {'cats': {'fraud': False, 'not_fraud': True}},\n",
              " {'cats': {'fraud': False, 'not_fraud': True}},\n",
              " {'cats': {'fraud': False, 'not_fraud': True}},\n",
              " {'cats': {'fraud': True, 'not_fraud': False}},\n",
              " {'cats': {'fraud': False, 'not_fraud': True}},\n",
              " {'cats': {'fraud': False, 'not_fraud': True}},\n",
              " {'cats': {'fraud': False, 'not_fraud': True}},\n",
              " {'cats': {'fraud': False, 'not_fraud': True}},\n",
              " {'cats': {'fraud': False, 'not_fraud': True}},\n",
              " {'cats': {'fraud': False, 'not_fraud': True}},\n",
              " {'cats': {'fraud': False, 'not_fraud': True}},\n",
              " {'cats': {'fraud': False, 'not_fraud': True}},\n",
              " {'cats': {'fraud': False, 'not_fraud': True}},\n",
              " {'cats': {'fraud': False, 'not_fraud': True}},\n",
              " {'cats': {'fraud': False, 'not_fraud': True}},\n",
              " {'cats': {'fraud': True, 'not_fraud': False}},\n",
              " {'cats': {'fraud': False, 'not_fraud': True}},\n",
              " {'cats': {'fraud': False, 'not_fraud': True}},\n",
              " {'cats': {'fraud': False, 'not_fraud': True}},\n",
              " {'cats': {'fraud': False, 'not_fraud': True}},\n",
              " {'cats': {'fraud': False, 'not_fraud': True}},\n",
              " {'cats': {'fraud': False, 'not_fraud': True}},\n",
              " {'cats': {'fraud': True, 'not_fraud': False}},\n",
              " {'cats': {'fraud': False, 'not_fraud': True}},\n",
              " {'cats': {'fraud': False, 'not_fraud': True}},\n",
              " {'cats': {'fraud': False, 'not_fraud': True}},\n",
              " {'cats': {'fraud': False, 'not_fraud': True}},\n",
              " {'cats': {'fraud': False, 'not_fraud': True}},\n",
              " {'cats': {'fraud': False, 'not_fraud': True}},\n",
              " {'cats': {'fraud': False, 'not_fraud': True}},\n",
              " {'cats': {'fraud': False, 'not_fraud': True}},\n",
              " {'cats': {'fraud': False, 'not_fraud': True}},\n",
              " {'cats': {'fraud': False, 'not_fraud': True}},\n",
              " {'cats': {'fraud': False, 'not_fraud': True}},\n",
              " {'cats': {'fraud': False, 'not_fraud': True}},\n",
              " {'cats': {'fraud': False, 'not_fraud': True}},\n",
              " {'cats': {'fraud': True, 'not_fraud': False}},\n",
              " {'cats': {'fraud': False, 'not_fraud': True}},\n",
              " {'cats': {'fraud': False, 'not_fraud': True}},\n",
              " {'cats': {'fraud': False, 'not_fraud': True}},\n",
              " {'cats': {'fraud': False, 'not_fraud': True}},\n",
              " {'cats': {'fraud': False, 'not_fraud': True}},\n",
              " {'cats': {'fraud': False, 'not_fraud': True}},\n",
              " {'cats': {'fraud': False, 'not_fraud': True}},\n",
              " {'cats': {'fraud': False, 'not_fraud': True}},\n",
              " {'cats': {'fraud': False, 'not_fraud': True}},\n",
              " {'cats': {'fraud': False, 'not_fraud': True}},\n",
              " {'cats': {'fraud': False, 'not_fraud': True}},\n",
              " {'cats': {'fraud': False, 'not_fraud': True}},\n",
              " {'cats': {'fraud': False, 'not_fraud': True}},\n",
              " {'cats': {'fraud': False, 'not_fraud': True}},\n",
              " {'cats': {'fraud': False, 'not_fraud': True}},\n",
              " {'cats': {'fraud': False, 'not_fraud': True}},\n",
              " {'cats': {'fraud': False, 'not_fraud': True}},\n",
              " {'cats': {'fraud': False, 'not_fraud': True}},\n",
              " {'cats': {'fraud': False, 'not_fraud': True}},\n",
              " {'cats': {'fraud': True, 'not_fraud': False}},\n",
              " {'cats': {'fraud': False, 'not_fraud': True}},\n",
              " {'cats': {'fraud': False, 'not_fraud': True}},\n",
              " {'cats': {'fraud': False, 'not_fraud': True}},\n",
              " {'cats': {'fraud': False, 'not_fraud': True}},\n",
              " {'cats': {'fraud': False, 'not_fraud': True}},\n",
              " {'cats': {'fraud': False, 'not_fraud': True}},\n",
              " {'cats': {'fraud': False, 'not_fraud': True}},\n",
              " {'cats': {'fraud': False, 'not_fraud': True}},\n",
              " {'cats': {'fraud': False, 'not_fraud': True}},\n",
              " {'cats': {'fraud': True, 'not_fraud': False}},\n",
              " {'cats': {'fraud': False, 'not_fraud': True}},\n",
              " {'cats': {'fraud': False, 'not_fraud': True}},\n",
              " {'cats': {'fraud': False, 'not_fraud': True}},\n",
              " {'cats': {'fraud': False, 'not_fraud': True}},\n",
              " {'cats': {'fraud': False, 'not_fraud': True}},\n",
              " {'cats': {'fraud': False, 'not_fraud': True}},\n",
              " {'cats': {'fraud': False, 'not_fraud': True}},\n",
              " {'cats': {'fraud': False, 'not_fraud': True}},\n",
              " {'cats': {'fraud': False, 'not_fraud': True}},\n",
              " {'cats': {'fraud': False, 'not_fraud': True}},\n",
              " {'cats': {'fraud': False, 'not_fraud': True}},\n",
              " {'cats': {'fraud': False, 'not_fraud': True}},\n",
              " {'cats': {'fraud': False, 'not_fraud': True}},\n",
              " {'cats': {'fraud': False, 'not_fraud': True}},\n",
              " {'cats': {'fraud': False, 'not_fraud': True}},\n",
              " {'cats': {'fraud': False, 'not_fraud': True}},\n",
              " {'cats': {'fraud': False, 'not_fraud': True}},\n",
              " {'cats': {'fraud': False, 'not_fraud': True}},\n",
              " {'cats': {'fraud': False, 'not_fraud': True}},\n",
              " {'cats': {'fraud': False, 'not_fraud': True}},\n",
              " {'cats': {'fraud': False, 'not_fraud': True}},\n",
              " {'cats': {'fraud': False, 'not_fraud': True}},\n",
              " {'cats': {'fraud': False, 'not_fraud': True}},\n",
              " {'cats': {'fraud': False, 'not_fraud': True}},\n",
              " {'cats': {'fraud': False, 'not_fraud': True}},\n",
              " {'cats': {'fraud': False, 'not_fraud': True}},\n",
              " {'cats': {'fraud': False, 'not_fraud': True}},\n",
              " {'cats': {'fraud': False, 'not_fraud': True}},\n",
              " {'cats': {'fraud': False, 'not_fraud': True}},\n",
              " {'cats': {'fraud': False, 'not_fraud': True}},\n",
              " {'cats': {'fraud': False, 'not_fraud': True}},\n",
              " {'cats': {'fraud': True, 'not_fraud': False}},\n",
              " {'cats': {'fraud': False, 'not_fraud': True}},\n",
              " {'cats': {'fraud': False, 'not_fraud': True}},\n",
              " {'cats': {'fraud': False, 'not_fraud': True}},\n",
              " {'cats': {'fraud': False, 'not_fraud': True}},\n",
              " {'cats': {'fraud': False, 'not_fraud': True}},\n",
              " {'cats': {'fraud': False, 'not_fraud': True}},\n",
              " {'cats': {'fraud': True, 'not_fraud': False}},\n",
              " {'cats': {'fraud': False, 'not_fraud': True}},\n",
              " {'cats': {'fraud': False, 'not_fraud': True}},\n",
              " {'cats': {'fraud': False, 'not_fraud': True}},\n",
              " {'cats': {'fraud': False, 'not_fraud': True}},\n",
              " {'cats': {'fraud': False, 'not_fraud': True}},\n",
              " {'cats': {'fraud': False, 'not_fraud': True}},\n",
              " {'cats': {'fraud': False, 'not_fraud': True}},\n",
              " {'cats': {'fraud': False, 'not_fraud': True}},\n",
              " {'cats': {'fraud': False, 'not_fraud': True}},\n",
              " {'cats': {'fraud': False, 'not_fraud': True}},\n",
              " {'cats': {'fraud': False, 'not_fraud': True}},\n",
              " {'cats': {'fraud': True, 'not_fraud': False}},\n",
              " {'cats': {'fraud': False, 'not_fraud': True}},\n",
              " {'cats': {'fraud': False, 'not_fraud': True}},\n",
              " {'cats': {'fraud': False, 'not_fraud': True}},\n",
              " {'cats': {'fraud': True, 'not_fraud': False}},\n",
              " {'cats': {'fraud': False, 'not_fraud': True}},\n",
              " {'cats': {'fraud': False, 'not_fraud': True}},\n",
              " {'cats': {'fraud': False, 'not_fraud': True}},\n",
              " {'cats': {'fraud': False, 'not_fraud': True}},\n",
              " {'cats': {'fraud': False, 'not_fraud': True}},\n",
              " {'cats': {'fraud': False, 'not_fraud': True}},\n",
              " {'cats': {'fraud': False, 'not_fraud': True}},\n",
              " {'cats': {'fraud': False, 'not_fraud': True}},\n",
              " {'cats': {'fraud': False, 'not_fraud': True}},\n",
              " {'cats': {'fraud': False, 'not_fraud': True}},\n",
              " {'cats': {'fraud': False, 'not_fraud': True}},\n",
              " {'cats': {'fraud': False, 'not_fraud': True}},\n",
              " {'cats': {'fraud': True, 'not_fraud': False}},\n",
              " {'cats': {'fraud': False, 'not_fraud': True}},\n",
              " {'cats': {'fraud': False, 'not_fraud': True}},\n",
              " {'cats': {'fraud': False, 'not_fraud': True}},\n",
              " {'cats': {'fraud': False, 'not_fraud': True}},\n",
              " {'cats': {'fraud': False, 'not_fraud': True}},\n",
              " {'cats': {'fraud': False, 'not_fraud': True}},\n",
              " {'cats': {'fraud': False, 'not_fraud': True}},\n",
              " {'cats': {'fraud': False, 'not_fraud': True}},\n",
              " {'cats': {'fraud': False, 'not_fraud': True}},\n",
              " {'cats': {'fraud': True, 'not_fraud': False}},\n",
              " {'cats': {'fraud': False, 'not_fraud': False}},\n",
              " {'cats': {'fraud': False, 'not_fraud': True}},\n",
              " {'cats': {'fraud': True, 'not_fraud': False}},\n",
              " {'cats': {'fraud': False, 'not_fraud': True}},\n",
              " {'cats': {'fraud': False, 'not_fraud': True}},\n",
              " {'cats': {'fraud': False, 'not_fraud': True}},\n",
              " {'cats': {'fraud': False, 'not_fraud': True}},\n",
              " {'cats': {'fraud': False, 'not_fraud': True}},\n",
              " {'cats': {'fraud': False, 'not_fraud': True}},\n",
              " {'cats': {'fraud': False, 'not_fraud': True}},\n",
              " {'cats': {'fraud': False, 'not_fraud': True}},\n",
              " {'cats': {'fraud': False, 'not_fraud': True}},\n",
              " {'cats': {'fraud': False, 'not_fraud': True}},\n",
              " {'cats': {'fraud': False, 'not_fraud': True}},\n",
              " {'cats': {'fraud': True, 'not_fraud': False}},\n",
              " {'cats': {'fraud': False, 'not_fraud': True}},\n",
              " {'cats': {'fraud': False, 'not_fraud': True}},\n",
              " {'cats': {'fraud': False, 'not_fraud': True}},\n",
              " {'cats': {'fraud': False, 'not_fraud': True}},\n",
              " {'cats': {'fraud': False, 'not_fraud': True}},\n",
              " {'cats': {'fraud': False, 'not_fraud': True}},\n",
              " {'cats': {'fraud': False, 'not_fraud': True}},\n",
              " {'cats': {'fraud': False, 'not_fraud': True}},\n",
              " {'cats': {'fraud': False, 'not_fraud': True}},\n",
              " {'cats': {'fraud': False, 'not_fraud': True}},\n",
              " {'cats': {'fraud': False, 'not_fraud': True}},\n",
              " {'cats': {'fraud': False, 'not_fraud': True}},\n",
              " {'cats': {'fraud': False, 'not_fraud': True}},\n",
              " {'cats': {'fraud': False, 'not_fraud': True}},\n",
              " {'cats': {'fraud': False, 'not_fraud': True}},\n",
              " {'cats': {'fraud': True, 'not_fraud': False}},\n",
              " {'cats': {'fraud': False, 'not_fraud': True}},\n",
              " {'cats': {'fraud': False, 'not_fraud': True}},\n",
              " {'cats': {'fraud': False, 'not_fraud': True}},\n",
              " {'cats': {'fraud': True, 'not_fraud': False}},\n",
              " {'cats': {'fraud': False, 'not_fraud': True}},\n",
              " {'cats': {'fraud': True, 'not_fraud': False}},\n",
              " {'cats': {'fraud': False, 'not_fraud': True}},\n",
              " {'cats': {'fraud': False, 'not_fraud': True}},\n",
              " {'cats': {'fraud': False, 'not_fraud': True}},\n",
              " {'cats': {'fraud': False, 'not_fraud': True}},\n",
              " {'cats': {'fraud': False, 'not_fraud': True}},\n",
              " {'cats': {'fraud': True, 'not_fraud': False}},\n",
              " {'cats': {'fraud': False, 'not_fraud': True}},\n",
              " {'cats': {'fraud': False, 'not_fraud': True}},\n",
              " {'cats': {'fraud': False, 'not_fraud': True}},\n",
              " {'cats': {'fraud': False, 'not_fraud': True}},\n",
              " {'cats': {'fraud': False, 'not_fraud': True}},\n",
              " {'cats': {'fraud': False, 'not_fraud': True}},\n",
              " {'cats': {'fraud': False, 'not_fraud': True}},\n",
              " {'cats': {'fraud': False, 'not_fraud': True}},\n",
              " {'cats': {'fraud': False, 'not_fraud': True}},\n",
              " {'cats': {'fraud': False, 'not_fraud': True}},\n",
              " {'cats': {'fraud': False, 'not_fraud': True}},\n",
              " {'cats': {'fraud': False, 'not_fraud': True}},\n",
              " {'cats': {'fraud': False, 'not_fraud': True}},\n",
              " {'cats': {'fraud': False, 'not_fraud': True}},\n",
              " {'cats': {'fraud': False, 'not_fraud': True}},\n",
              " {'cats': {'fraud': False, 'not_fraud': True}},\n",
              " {'cats': {'fraud': False, 'not_fraud': True}},\n",
              " {'cats': {'fraud': False, 'not_fraud': True}},\n",
              " {'cats': {'fraud': False, 'not_fraud': True}},\n",
              " {'cats': {'fraud': False, 'not_fraud': True}},\n",
              " {'cats': {'fraud': False, 'not_fraud': True}},\n",
              " {'cats': {'fraud': False, 'not_fraud': True}},\n",
              " {'cats': {'fraud': True, 'not_fraud': False}},\n",
              " {'cats': {'fraud': False, 'not_fraud': True}},\n",
              " {'cats': {'fraud': False, 'not_fraud': True}},\n",
              " {'cats': {'fraud': False, 'not_fraud': True}},\n",
              " {'cats': {'fraud': False, 'not_fraud': True}},\n",
              " {'cats': {'fraud': False, 'not_fraud': True}},\n",
              " {'cats': {'fraud': False, 'not_fraud': True}},\n",
              " {'cats': {'fraud': False, 'not_fraud': True}},\n",
              " {'cats': {'fraud': False, 'not_fraud': True}},\n",
              " {'cats': {'fraud': False, 'not_fraud': True}},\n",
              " {'cats': {'fraud': False, 'not_fraud': True}},\n",
              " {'cats': {'fraud': False, 'not_fraud': True}},\n",
              " {'cats': {'fraud': False, 'not_fraud': True}},\n",
              " {'cats': {'fraud': False, 'not_fraud': True}},\n",
              " {'cats': {'fraud': False, 'not_fraud': True}},\n",
              " {'cats': {'fraud': False, 'not_fraud': True}},\n",
              " {'cats': {'fraud': False, 'not_fraud': True}},\n",
              " {'cats': {'fraud': False, 'not_fraud': True}},\n",
              " {'cats': {'fraud': False, 'not_fraud': True}},\n",
              " {'cats': {'fraud': False, 'not_fraud': True}},\n",
              " {'cats': {'fraud': True, 'not_fraud': False}},\n",
              " {'cats': {'fraud': False, 'not_fraud': True}},\n",
              " {'cats': {'fraud': False, 'not_fraud': True}},\n",
              " {'cats': {'fraud': False, 'not_fraud': True}},\n",
              " {'cats': {'fraud': False, 'not_fraud': True}},\n",
              " {'cats': {'fraud': False, 'not_fraud': True}},\n",
              " {'cats': {'fraud': False, 'not_fraud': True}},\n",
              " {'cats': {'fraud': False, 'not_fraud': True}},\n",
              " {'cats': {'fraud': False, 'not_fraud': True}},\n",
              " {'cats': {'fraud': False, 'not_fraud': True}},\n",
              " {'cats': {'fraud': False, 'not_fraud': True}},\n",
              " {'cats': {'fraud': True, 'not_fraud': False}},\n",
              " {'cats': {'fraud': False, 'not_fraud': True}},\n",
              " {'cats': {'fraud': False, 'not_fraud': True}},\n",
              " {'cats': {'fraud': False, 'not_fraud': True}},\n",
              " {'cats': {'fraud': False, 'not_fraud': True}},\n",
              " {'cats': {'fraud': False, 'not_fraud': True}},\n",
              " {'cats': {'fraud': False, 'not_fraud': True}},\n",
              " {'cats': {'fraud': False, 'not_fraud': True}},\n",
              " {'cats': {'fraud': False, 'not_fraud': True}},\n",
              " {'cats': {'fraud': False, 'not_fraud': True}},\n",
              " {'cats': {'fraud': False, 'not_fraud': True}},\n",
              " {'cats': {'fraud': True, 'not_fraud': False}},\n",
              " {'cats': {'fraud': False, 'not_fraud': True}},\n",
              " {'cats': {'fraud': False, 'not_fraud': True}},\n",
              " {'cats': {'fraud': False, 'not_fraud': True}},\n",
              " {'cats': {'fraud': False, 'not_fraud': True}},\n",
              " {'cats': {'fraud': False, 'not_fraud': True}},\n",
              " {'cats': {'fraud': False, 'not_fraud': True}},\n",
              " {'cats': {'fraud': False, 'not_fraud': True}},\n",
              " {'cats': {'fraud': False, 'not_fraud': True}},\n",
              " {'cats': {'fraud': False, 'not_fraud': True}},\n",
              " {'cats': {'fraud': False, 'not_fraud': True}},\n",
              " {'cats': {'fraud': False, 'not_fraud': True}},\n",
              " {'cats': {'fraud': False, 'not_fraud': True}},\n",
              " {'cats': {'fraud': False, 'not_fraud': True}},\n",
              " {'cats': {'fraud': False, 'not_fraud': True}},\n",
              " {'cats': {'fraud': False, 'not_fraud': True}},\n",
              " {'cats': {'fraud': False, 'not_fraud': True}},\n",
              " {'cats': {'fraud': False, 'not_fraud': True}},\n",
              " {'cats': {'fraud': False, 'not_fraud': True}},\n",
              " {'cats': {'fraud': False, 'not_fraud': True}},\n",
              " {'cats': {'fraud': False, 'not_fraud': True}},\n",
              " {'cats': {'fraud': True, 'not_fraud': False}},\n",
              " {'cats': {'fraud': False, 'not_fraud': True}},\n",
              " {'cats': {'fraud': False, 'not_fraud': True}},\n",
              " {'cats': {'fraud': False, 'not_fraud': True}},\n",
              " {'cats': {'fraud': False, 'not_fraud': True}},\n",
              " {'cats': {'fraud': False, 'not_fraud': True}},\n",
              " {'cats': {'fraud': False, 'not_fraud': True}},\n",
              " {'cats': {'fraud': False, 'not_fraud': True}},\n",
              " {'cats': {'fraud': False, 'not_fraud': True}},\n",
              " {'cats': {'fraud': False, 'not_fraud': True}},\n",
              " {'cats': {'fraud': False, 'not_fraud': True}},\n",
              " {'cats': {'fraud': False, 'not_fraud': True}},\n",
              " {'cats': {'fraud': False, 'not_fraud': True}},\n",
              " {'cats': {'fraud': False, 'not_fraud': False}},\n",
              " {'cats': {'fraud': False, 'not_fraud': True}},\n",
              " {'cats': {'fraud': False, 'not_fraud': True}},\n",
              " {'cats': {'fraud': False, 'not_fraud': True}},\n",
              " {'cats': {'fraud': False, 'not_fraud': True}},\n",
              " {'cats': {'fraud': True, 'not_fraud': False}},\n",
              " {'cats': {'fraud': False, 'not_fraud': True}},\n",
              " {'cats': {'fraud': False, 'not_fraud': True}},\n",
              " {'cats': {'fraud': False, 'not_fraud': True}},\n",
              " {'cats': {'fraud': False, 'not_fraud': True}},\n",
              " {'cats': {'fraud': False, 'not_fraud': True}},\n",
              " {'cats': {'fraud': False, 'not_fraud': True}},\n",
              " {'cats': {'fraud': False, 'not_fraud': True}},\n",
              " {'cats': {'fraud': False, 'not_fraud': True}},\n",
              " {'cats': {'fraud': False, 'not_fraud': True}},\n",
              " {'cats': {'fraud': False, 'not_fraud': True}},\n",
              " {'cats': {'fraud': False, 'not_fraud': True}},\n",
              " {'cats': {'fraud': False, 'not_fraud': True}},\n",
              " {'cats': {'fraud': False, 'not_fraud': True}},\n",
              " {'cats': {'fraud': False, 'not_fraud': True}},\n",
              " {'cats': {'fraud': False, 'not_fraud': True}},\n",
              " {'cats': {'fraud': False, 'not_fraud': True}},\n",
              " {'cats': {'fraud': False, 'not_fraud': True}},\n",
              " {'cats': {'fraud': False, 'not_fraud': True}},\n",
              " {'cats': {'fraud': False, 'not_fraud': True}},\n",
              " {'cats': {'fraud': False, 'not_fraud': True}},\n",
              " {'cats': {'fraud': False, 'not_fraud': True}},\n",
              " {'cats': {'fraud': False, 'not_fraud': True}},\n",
              " {'cats': {'fraud': False, 'not_fraud': True}},\n",
              " {'cats': {'fraud': False, 'not_fraud': True}},\n",
              " {'cats': {'fraud': False, 'not_fraud': True}},\n",
              " {'cats': {'fraud': False, 'not_fraud': True}},\n",
              " {'cats': {'fraud': False, 'not_fraud': True}},\n",
              " {'cats': {'fraud': False, 'not_fraud': True}},\n",
              " {'cats': {'fraud': False, 'not_fraud': True}},\n",
              " {'cats': {'fraud': False, 'not_fraud': True}},\n",
              " {'cats': {'fraud': False, 'not_fraud': True}},\n",
              " {'cats': {'fraud': False, 'not_fraud': True}},\n",
              " {'cats': {'fraud': True, 'not_fraud': False}},\n",
              " {'cats': {'fraud': False, 'not_fraud': True}},\n",
              " {'cats': {'fraud': False, 'not_fraud': True}},\n",
              " {'cats': {'fraud': False, 'not_fraud': True}},\n",
              " {'cats': {'fraud': False, 'not_fraud': True}},\n",
              " {'cats': {'fraud': False, 'not_fraud': True}},\n",
              " {'cats': {'fraud': False, 'not_fraud': True}},\n",
              " {'cats': {'fraud': False, 'not_fraud': True}},\n",
              " {'cats': {'fraud': False, 'not_fraud': True}},\n",
              " {'cats': {'fraud': True, 'not_fraud': False}},\n",
              " {'cats': {'fraud': False, 'not_fraud': True}},\n",
              " {'cats': {'fraud': False, 'not_fraud': True}},\n",
              " {'cats': {'fraud': False, 'not_fraud': True}},\n",
              " {'cats': {'fraud': True, 'not_fraud': False}},\n",
              " {'cats': {'fraud': False, 'not_fraud': True}},\n",
              " {'cats': {'fraud': False, 'not_fraud': True}},\n",
              " {'cats': {'fraud': False, 'not_fraud': True}},\n",
              " {'cats': {'fraud': False, 'not_fraud': True}},\n",
              " {'cats': {'fraud': False, 'not_fraud': True}},\n",
              " {'cats': {'fraud': False, 'not_fraud': True}},\n",
              " {'cats': {'fraud': False, 'not_fraud': True}},\n",
              " {'cats': {'fraud': False, 'not_fraud': True}},\n",
              " {'cats': {'fraud': False, 'not_fraud': True}},\n",
              " {'cats': {'fraud': False, 'not_fraud': True}},\n",
              " {'cats': {'fraud': False, 'not_fraud': True}},\n",
              " {'cats': {'fraud': True, 'not_fraud': False}},\n",
              " {'cats': {'fraud': False, 'not_fraud': True}},\n",
              " {'cats': {'fraud': False, 'not_fraud': True}},\n",
              " {'cats': {'fraud': False, 'not_fraud': True}},\n",
              " {'cats': {'fraud': False, 'not_fraud': True}},\n",
              " {'cats': {'fraud': False, 'not_fraud': True}},\n",
              " {'cats': {'fraud': False, 'not_fraud': True}},\n",
              " {'cats': {'fraud': False, 'not_fraud': True}},\n",
              " {'cats': {'fraud': False, 'not_fraud': True}},\n",
              " {'cats': {'fraud': False, 'not_fraud': True}},\n",
              " {'cats': {'fraud': False, 'not_fraud': True}},\n",
              " {'cats': {'fraud': False, 'not_fraud': True}},\n",
              " {'cats': {'fraud': False, 'not_fraud': True}},\n",
              " {'cats': {'fraud': True, 'not_fraud': False}},\n",
              " {'cats': {'fraud': False, 'not_fraud': True}},\n",
              " {'cats': {'fraud': False, 'not_fraud': True}},\n",
              " {'cats': {'fraud': False, 'not_fraud': True}},\n",
              " {'cats': {'fraud': False, 'not_fraud': True}},\n",
              " {'cats': {'fraud': False, 'not_fraud': True}},\n",
              " {'cats': {'fraud': True, 'not_fraud': False}},\n",
              " {'cats': {'fraud': False, 'not_fraud': True}},\n",
              " {'cats': {'fraud': False, 'not_fraud': True}},\n",
              " {'cats': {'fraud': False, 'not_fraud': True}},\n",
              " {'cats': {'fraud': False, 'not_fraud': True}},\n",
              " {'cats': {'fraud': False, 'not_fraud': True}},\n",
              " {'cats': {'fraud': False, 'not_fraud': True}},\n",
              " {'cats': {'fraud': False, 'not_fraud': True}},\n",
              " {'cats': {'fraud': False, 'not_fraud': True}},\n",
              " {'cats': {'fraud': True, 'not_fraud': False}},\n",
              " {'cats': {'fraud': False, 'not_fraud': True}},\n",
              " {'cats': {'fraud': False, 'not_fraud': True}},\n",
              " {'cats': {'fraud': False, 'not_fraud': True}},\n",
              " {'cats': {'fraud': False, 'not_fraud': True}},\n",
              " {'cats': {'fraud': False, 'not_fraud': True}},\n",
              " {'cats': {'fraud': False, 'not_fraud': True}},\n",
              " {'cats': {'fraud': False, 'not_fraud': True}},\n",
              " {'cats': {'fraud': False, 'not_fraud': True}},\n",
              " {'cats': {'fraud': False, 'not_fraud': True}},\n",
              " {'cats': {'fraud': False, 'not_fraud': True}},\n",
              " {'cats': {'fraud': False, 'not_fraud': True}},\n",
              " {'cats': {'fraud': False, 'not_fraud': True}},\n",
              " {'cats': {'fraud': False, 'not_fraud': True}},\n",
              " {'cats': {'fraud': False, 'not_fraud': True}},\n",
              " {'cats': {'fraud': False, 'not_fraud': True}},\n",
              " {'cats': {'fraud': False, 'not_fraud': True}},\n",
              " {'cats': {'fraud': False, 'not_fraud': True}},\n",
              " {'cats': {'fraud': False, 'not_fraud': True}},\n",
              " {'cats': {'fraud': False, 'not_fraud': True}},\n",
              " {'cats': {'fraud': False, 'not_fraud': True}},\n",
              " {'cats': {'fraud': False, 'not_fraud': True}},\n",
              " {'cats': {'fraud': False, 'not_fraud': True}},\n",
              " {'cats': {'fraud': False, 'not_fraud': True}},\n",
              " {'cats': {'fraud': True, 'not_fraud': False}},\n",
              " {'cats': {'fraud': False, 'not_fraud': True}},\n",
              " {'cats': {'fraud': False, 'not_fraud': True}},\n",
              " {'cats': {'fraud': False, 'not_fraud': True}},\n",
              " {'cats': {'fraud': False, 'not_fraud': True}},\n",
              " {'cats': {'fraud': False, 'not_fraud': True}},\n",
              " {'cats': {'fraud': False, 'not_fraud': True}},\n",
              " {'cats': {'fraud': False, 'not_fraud': True}},\n",
              " {'cats': {'fraud': False, 'not_fraud': True}},\n",
              " {'cats': {'fraud': False, 'not_fraud': True}},\n",
              " {'cats': {'fraud': False, 'not_fraud': True}},\n",
              " {'cats': {'fraud': True, 'not_fraud': False}},\n",
              " {'cats': {'fraud': False, 'not_fraud': True}},\n",
              " {'cats': {'fraud': False, 'not_fraud': True}},\n",
              " {'cats': {'fraud': True, 'not_fraud': False}},\n",
              " {'cats': {'fraud': False, 'not_fraud': True}},\n",
              " {'cats': {'fraud': False, 'not_fraud': True}},\n",
              " {'cats': {'fraud': False, 'not_fraud': True}},\n",
              " {'cats': {'fraud': False, 'not_fraud': True}},\n",
              " {'cats': {'fraud': False, 'not_fraud': True}},\n",
              " {'cats': {'fraud': False, 'not_fraud': True}},\n",
              " {'cats': {'fraud': False, 'not_fraud': True}},\n",
              " {'cats': {'fraud': True, 'not_fraud': False}},\n",
              " {'cats': {'fraud': False, 'not_fraud': True}},\n",
              " {'cats': {'fraud': False, 'not_fraud': True}},\n",
              " {'cats': {'fraud': False, 'not_fraud': True}},\n",
              " {'cats': {'fraud': False, 'not_fraud': True}},\n",
              " {'cats': {'fraud': False, 'not_fraud': True}},\n",
              " {'cats': {'fraud': False, 'not_fraud': True}},\n",
              " {'cats': {'fraud': False, 'not_fraud': True}},\n",
              " {'cats': {'fraud': False, 'not_fraud': True}},\n",
              " {'cats': {'fraud': False, 'not_fraud': True}},\n",
              " {'cats': {'fraud': False, 'not_fraud': True}},\n",
              " {'cats': {'fraud': False, 'not_fraud': True}},\n",
              " {'cats': {'fraud': False, 'not_fraud': True}},\n",
              " {'cats': {'fraud': False, 'not_fraud': True}},\n",
              " {'cats': {'fraud': False, 'not_fraud': True}},\n",
              " {'cats': {'fraud': False, 'not_fraud': True}},\n",
              " {'cats': {'fraud': False, 'not_fraud': True}},\n",
              " {'cats': {'fraud': False, 'not_fraud': True}},\n",
              " {'cats': {'fraud': False, 'not_fraud': True}},\n",
              " {'cats': {'fraud': False, 'not_fraud': True}},\n",
              " {'cats': {'fraud': False, 'not_fraud': True}},\n",
              " {'cats': {'fraud': False, 'not_fraud': True}},\n",
              " {'cats': {'fraud': False, 'not_fraud': True}},\n",
              " {'cats': {'fraud': False, 'not_fraud': True}},\n",
              " {'cats': {'fraud': False, 'not_fraud': True}},\n",
              " {'cats': {'fraud': False, 'not_fraud': True}},\n",
              " {'cats': {'fraud': False, 'not_fraud': True}},\n",
              " {'cats': {'fraud': False, 'not_fraud': True}},\n",
              " {'cats': {'fraud': False, 'not_fraud': True}},\n",
              " {'cats': {'fraud': False, 'not_fraud': True}},\n",
              " {'cats': {'fraud': False, 'not_fraud': True}},\n",
              " {'cats': {'fraud': False, 'not_fraud': True}},\n",
              " {'cats': {'fraud': False, 'not_fraud': True}},\n",
              " {'cats': {'fraud': False, 'not_fraud': True}},\n",
              " {'cats': {'fraud': False, 'not_fraud': True}},\n",
              " {'cats': {'fraud': False, 'not_fraud': True}},\n",
              " {'cats': {'fraud': False, 'not_fraud': True}},\n",
              " {'cats': {'fraud': False, 'not_fraud': True}},\n",
              " {'cats': {'fraud': False, 'not_fraud': True}},\n",
              " {'cats': {'fraud': False, 'not_fraud': True}},\n",
              " {'cats': {'fraud': False, 'not_fraud': True}},\n",
              " {'cats': {'fraud': False, 'not_fraud': True}},\n",
              " {'cats': {'fraud': False, 'not_fraud': True}},\n",
              " {'cats': {'fraud': False, 'not_fraud': True}},\n",
              " {'cats': {'fraud': False, 'not_fraud': True}},\n",
              " {'cats': {'fraud': False, 'not_fraud': True}},\n",
              " {'cats': {'fraud': False, 'not_fraud': True}},\n",
              " {'cats': {'fraud': False, 'not_fraud': True}},\n",
              " {'cats': {'fraud': False, 'not_fraud': True}},\n",
              " {'cats': {'fraud': False, 'not_fraud': True}},\n",
              " {'cats': {'fraud': False, 'not_fraud': True}},\n",
              " {'cats': {'fraud': False, 'not_fraud': True}},\n",
              " {'cats': {'fraud': False, 'not_fraud': True}},\n",
              " {'cats': {'fraud': False, 'not_fraud': True}},\n",
              " {'cats': {'fraud': False, 'not_fraud': True}},\n",
              " {'cats': {'fraud': False, 'not_fraud': True}},\n",
              " {'cats': {'fraud': False, 'not_fraud': False}},\n",
              " {'cats': {'fraud': False, 'not_fraud': True}},\n",
              " {'cats': {'fraud': False, 'not_fraud': True}},\n",
              " {'cats': {'fraud': False, 'not_fraud': True}},\n",
              " {'cats': {'fraud': False, 'not_fraud': True}},\n",
              " {'cats': {'fraud': False, 'not_fraud': True}},\n",
              " {'cats': {'fraud': False, 'not_fraud': True}},\n",
              " {'cats': {'fraud': True, 'not_fraud': False}},\n",
              " {'cats': {'fraud': False, 'not_fraud': True}},\n",
              " {'cats': {'fraud': False, 'not_fraud': True}},\n",
              " {'cats': {'fraud': False, 'not_fraud': True}},\n",
              " {'cats': {'fraud': False, 'not_fraud': True}},\n",
              " {'cats': {'fraud': False, 'not_fraud': True}},\n",
              " {'cats': {'fraud': False, 'not_fraud': True}},\n",
              " {'cats': {'fraud': True, 'not_fraud': False}},\n",
              " {'cats': {'fraud': False, 'not_fraud': True}},\n",
              " {'cats': {'fraud': False, 'not_fraud': True}},\n",
              " {'cats': {'fraud': False, 'not_fraud': True}},\n",
              " {'cats': {'fraud': False, 'not_fraud': True}},\n",
              " {'cats': {'fraud': False, 'not_fraud': True}},\n",
              " {'cats': {'fraud': False, 'not_fraud': True}},\n",
              " {'cats': {'fraud': False, 'not_fraud': True}},\n",
              " {'cats': {'fraud': False, 'not_fraud': True}},\n",
              " {'cats': {'fraud': False, 'not_fraud': True}},\n",
              " {'cats': {'fraud': False, 'not_fraud': True}},\n",
              " {'cats': {'fraud': False, 'not_fraud': True}},\n",
              " {'cats': {'fraud': False, 'not_fraud': True}},\n",
              " {'cats': {'fraud': False, 'not_fraud': True}},\n",
              " {'cats': {'fraud': False, 'not_fraud': True}},\n",
              " {'cats': {'fraud': False, 'not_fraud': True}},\n",
              " {'cats': {'fraud': False, 'not_fraud': True}},\n",
              " {'cats': {'fraud': False, 'not_fraud': True}},\n",
              " {'cats': {'fraud': False, 'not_fraud': True}},\n",
              " {'cats': {'fraud': False, 'not_fraud': True}},\n",
              " {'cats': {'fraud': False, 'not_fraud': True}},\n",
              " {'cats': {'fraud': False, 'not_fraud': True}},\n",
              " {'cats': {'fraud': False, 'not_fraud': True}},\n",
              " {'cats': {'fraud': False, 'not_fraud': True}},\n",
              " {'cats': {'fraud': True, 'not_fraud': False}},\n",
              " {'cats': {'fraud': False, 'not_fraud': True}},\n",
              " {'cats': {'fraud': False, 'not_fraud': True}},\n",
              " {'cats': {'fraud': False, 'not_fraud': True}},\n",
              " {'cats': {'fraud': False, 'not_fraud': True}},\n",
              " {'cats': {'fraud': False, 'not_fraud': True}},\n",
              " {'cats': {'fraud': True, 'not_fraud': False}},\n",
              " {'cats': {'fraud': False, 'not_fraud': True}},\n",
              " {'cats': {'fraud': False, 'not_fraud': True}},\n",
              " {'cats': {'fraud': False, 'not_fraud': True}},\n",
              " {'cats': {'fraud': False, 'not_fraud': True}},\n",
              " {'cats': {'fraud': False, 'not_fraud': True}},\n",
              " {'cats': {'fraud': False, 'not_fraud': True}},\n",
              " {'cats': {'fraud': False, 'not_fraud': True}},\n",
              " {'cats': {'fraud': False, 'not_fraud': True}},\n",
              " {'cats': {'fraud': False, 'not_fraud': True}},\n",
              " {'cats': {'fraud': False, 'not_fraud': True}},\n",
              " {'cats': {'fraud': False, 'not_fraud': True}},\n",
              " {'cats': {'fraud': False, 'not_fraud': True}},\n",
              " {'cats': {'fraud': False, 'not_fraud': False}},\n",
              " {'cats': {'fraud': False, 'not_fraud': True}},\n",
              " {'cats': {'fraud': False, 'not_fraud': True}},\n",
              " {'cats': {'fraud': False, 'not_fraud': True}},\n",
              " {'cats': {'fraud': False, 'not_fraud': True}},\n",
              " {'cats': {'fraud': False, 'not_fraud': True}},\n",
              " {'cats': {'fraud': False, 'not_fraud': True}},\n",
              " {'cats': {'fraud': False, 'not_fraud': True}},\n",
              " {'cats': {'fraud': False, 'not_fraud': True}},\n",
              " {'cats': {'fraud': False, 'not_fraud': True}},\n",
              " {'cats': {'fraud': False, 'not_fraud': True}},\n",
              " {'cats': {'fraud': False, 'not_fraud': True}},\n",
              " {'cats': {'fraud': False, 'not_fraud': True}},\n",
              " {'cats': {'fraud': False, 'not_fraud': True}},\n",
              " {'cats': {'fraud': False, 'not_fraud': True}},\n",
              " {'cats': {'fraud': False, 'not_fraud': True}},\n",
              " {'cats': {'fraud': False, 'not_fraud': True}},\n",
              " {'cats': {'fraud': False, 'not_fraud': True}},\n",
              " {'cats': {'fraud': False, 'not_fraud': True}},\n",
              " {'cats': {'fraud': False, 'not_fraud': True}},\n",
              " {'cats': {'fraud': False, 'not_fraud': True}},\n",
              " {'cats': {'fraud': False, 'not_fraud': True}},\n",
              " {'cats': {'fraud': False, 'not_fraud': True}},\n",
              " {'cats': {'fraud': False, 'not_fraud': True}},\n",
              " {'cats': {'fraud': False, 'not_fraud': True}},\n",
              " {'cats': {'fraud': False, 'not_fraud': True}},\n",
              " {'cats': {'fraud': False, 'not_fraud': True}},\n",
              " {'cats': {'fraud': False, 'not_fraud': True}},\n",
              " {'cats': {'fraud': False, 'not_fraud': True}},\n",
              " {'cats': {'fraud': False, 'not_fraud': True}},\n",
              " {'cats': {'fraud': False, 'not_fraud': True}},\n",
              " {'cats': {'fraud': False, 'not_fraud': True}},\n",
              " {'cats': {'fraud': False, 'not_fraud': True}},\n",
              " {'cats': {'fraud': False, 'not_fraud': True}},\n",
              " {'cats': {'fraud': False, 'not_fraud': True}},\n",
              " {'cats': {'fraud': False, 'not_fraud': True}},\n",
              " {'cats': {'fraud': False, 'not_fraud': True}},\n",
              " {'cats': {'fraud': False, 'not_fraud': True}},\n",
              " {'cats': {'fraud': False, 'not_fraud': True}},\n",
              " {'cats': {'fraud': False, 'not_fraud': True}},\n",
              " {'cats': {'fraud': True, 'not_fraud': False}},\n",
              " {'cats': {'fraud': False, 'not_fraud': True}},\n",
              " {'cats': {'fraud': False, 'not_fraud': True}},\n",
              " {'cats': {'fraud': False, 'not_fraud': True}},\n",
              " {'cats': {'fraud': False, 'not_fraud': True}},\n",
              " {'cats': {'fraud': False, 'not_fraud': True}},\n",
              " {'cats': {'fraud': False, 'not_fraud': True}},\n",
              " {'cats': {'fraud': False, 'not_fraud': True}},\n",
              " {'cats': {'fraud': False, 'not_fraud': True}},\n",
              " {'cats': {'fraud': False, 'not_fraud': True}},\n",
              " {'cats': {'fraud': False, 'not_fraud': True}},\n",
              " {'cats': {'fraud': False, 'not_fraud': True}},\n",
              " {'cats': {'fraud': False, 'not_fraud': True}},\n",
              " {'cats': {'fraud': True, 'not_fraud': False}},\n",
              " {'cats': {'fraud': False, 'not_fraud': True}},\n",
              " {'cats': {'fraud': False, 'not_fraud': True}},\n",
              " {'cats': {'fraud': False, 'not_fraud': True}},\n",
              " {'cats': {'fraud': False, 'not_fraud': True}},\n",
              " {'cats': {'fraud': False, 'not_fraud': True}},\n",
              " {'cats': {'fraud': False, 'not_fraud': True}},\n",
              " {'cats': {'fraud': False, 'not_fraud': True}},\n",
              " {'cats': {'fraud': False, 'not_fraud': True}},\n",
              " {'cats': {'fraud': False, 'not_fraud': True}},\n",
              " {'cats': {'fraud': False, 'not_fraud': True}},\n",
              " {'cats': {'fraud': False, 'not_fraud': True}},\n",
              " {'cats': {'fraud': True, 'not_fraud': False}},\n",
              " {'cats': {'fraud': False, 'not_fraud': True}},\n",
              " {'cats': {'fraud': False, 'not_fraud': True}},\n",
              " {'cats': {'fraud': False, 'not_fraud': True}},\n",
              " {'cats': {'fraud': False, 'not_fraud': True}},\n",
              " {'cats': {'fraud': False, 'not_fraud': True}},\n",
              " {'cats': {'fraud': False, 'not_fraud': True}},\n",
              " {'cats': {'fraud': False, 'not_fraud': True}},\n",
              " {'cats': {'fraud': False, 'not_fraud': True}},\n",
              " {'cats': {'fraud': False, 'not_fraud': True}},\n",
              " {'cats': {'fraud': False, 'not_fraud': True}},\n",
              " {'cats': {'fraud': False, 'not_fraud': True}},\n",
              " {'cats': {'fraud': False, 'not_fraud': True}},\n",
              " {'cats': {'fraud': False, 'not_fraud': True}},\n",
              " {'cats': {'fraud': False, 'not_fraud': True}},\n",
              " {'cats': {'fraud': False, 'not_fraud': False}},\n",
              " {'cats': {'fraud': False, 'not_fraud': True}},\n",
              " {'cats': {'fraud': True, 'not_fraud': False}},\n",
              " {'cats': {'fraud': False, 'not_fraud': True}},\n",
              " {'cats': {'fraud': False, 'not_fraud': True}},\n",
              " {'cats': {'fraud': False, 'not_fraud': True}},\n",
              " {'cats': {'fraud': False, 'not_fraud': True}},\n",
              " {'cats': {'fraud': False, 'not_fraud': True}},\n",
              " {'cats': {'fraud': False, 'not_fraud': True}},\n",
              " {'cats': {'fraud': False, 'not_fraud': True}},\n",
              " {'cats': {'fraud': False, 'not_fraud': True}},\n",
              " {'cats': {'fraud': False, 'not_fraud': True}},\n",
              " {'cats': {'fraud': False, 'not_fraud': True}},\n",
              " {'cats': {'fraud': False, 'not_fraud': True}},\n",
              " {'cats': {'fraud': False, 'not_fraud': True}},\n",
              " {'cats': {'fraud': False, 'not_fraud': True}},\n",
              " {'cats': {'fraud': False, 'not_fraud': True}},\n",
              " {'cats': {'fraud': False, 'not_fraud': True}},\n",
              " {'cats': {'fraud': False, 'not_fraud': True}},\n",
              " {'cats': {'fraud': False, 'not_fraud': True}},\n",
              " {'cats': {'fraud': True, 'not_fraud': False}},\n",
              " {'cats': {'fraud': False, 'not_fraud': True}},\n",
              " {'cats': {'fraud': False, 'not_fraud': True}},\n",
              " {'cats': {'fraud': False, 'not_fraud': True}},\n",
              " {'cats': {'fraud': False, 'not_fraud': True}},\n",
              " {'cats': {'fraud': False, 'not_fraud': True}},\n",
              " {'cats': {'fraud': False, 'not_fraud': True}},\n",
              " {'cats': {'fraud': False, 'not_fraud': True}},\n",
              " {'cats': {'fraud': False, 'not_fraud': True}},\n",
              " {'cats': {'fraud': False, 'not_fraud': True}},\n",
              " {'cats': {'fraud': False, 'not_fraud': True}},\n",
              " {'cats': {'fraud': False, 'not_fraud': True}},\n",
              " {'cats': {'fraud': False, 'not_fraud': True}},\n",
              " {'cats': {'fraud': False, 'not_fraud': True}},\n",
              " {'cats': {'fraud': False, 'not_fraud': True}},\n",
              " {'cats': {'fraud': True, 'not_fraud': False}},\n",
              " {'cats': {'fraud': False, 'not_fraud': True}},\n",
              " {'cats': {'fraud': False, 'not_fraud': True}},\n",
              " {'cats': {'fraud': False, 'not_fraud': True}},\n",
              " {'cats': {'fraud': False, 'not_fraud': True}},\n",
              " {'cats': {'fraud': False, 'not_fraud': True}},\n",
              " {'cats': {'fraud': False, 'not_fraud': True}},\n",
              " {'cats': {'fraud': False, 'not_fraud': True}},\n",
              " {'cats': {'fraud': False, 'not_fraud': True}},\n",
              " {'cats': {'fraud': False, 'not_fraud': True}},\n",
              " {'cats': {'fraud': False, 'not_fraud': True}},\n",
              " {'cats': {'fraud': False, 'not_fraud': True}},\n",
              " {'cats': {'fraud': False, 'not_fraud': True}},\n",
              " {'cats': {'fraud': False, 'not_fraud': True}},\n",
              " {'cats': {'fraud': False, 'not_fraud': True}},\n",
              " {'cats': {'fraud': False, 'not_fraud': True}},\n",
              " {'cats': {'fraud': False, 'not_fraud': True}},\n",
              " {'cats': {'fraud': False, 'not_fraud': True}},\n",
              " {'cats': {'fraud': False, 'not_fraud': True}},\n",
              " {'cats': {'fraud': False, 'not_fraud': False}},\n",
              " {'cats': {'fraud': False, 'not_fraud': True}},\n",
              " {'cats': {'fraud': False, 'not_fraud': False}},\n",
              " {'cats': {'fraud': False, 'not_fraud': True}},\n",
              " {'cats': {'fraud': False, 'not_fraud': True}},\n",
              " {'cats': {'fraud': False, 'not_fraud': True}},\n",
              " {'cats': {'fraud': False, 'not_fraud': True}},\n",
              " {'cats': {'fraud': False, 'not_fraud': True}},\n",
              " {'cats': {'fraud': True, 'not_fraud': False}},\n",
              " {'cats': {'fraud': False, 'not_fraud': True}},\n",
              " {'cats': {'fraud': False, 'not_fraud': True}},\n",
              " {'cats': {'fraud': False, 'not_fraud': True}},\n",
              " {'cats': {'fraud': False, 'not_fraud': True}},\n",
              " {'cats': {'fraud': False, 'not_fraud': True}},\n",
              " {'cats': {'fraud': True, 'not_fraud': False}},\n",
              " {'cats': {'fraud': False, 'not_fraud': True}},\n",
              " {'cats': {'fraud': False, 'not_fraud': True}},\n",
              " {'cats': {'fraud': False, 'not_fraud': True}},\n",
              " {'cats': {'fraud': False, 'not_fraud': True}},\n",
              " {'cats': {'fraud': False, 'not_fraud': True}},\n",
              " {'cats': {'fraud': False, 'not_fraud': True}},\n",
              " {'cats': {'fraud': True, 'not_fraud': False}},\n",
              " {'cats': {'fraud': False, 'not_fraud': False}},\n",
              " {'cats': {'fraud': False, 'not_fraud': True}},\n",
              " {'cats': {'fraud': False, 'not_fraud': True}},\n",
              " {'cats': {'fraud': False, 'not_fraud': True}},\n",
              " {'cats': {'fraud': True, 'not_fraud': False}},\n",
              " {'cats': {'fraud': False, 'not_fraud': True}},\n",
              " {'cats': {'fraud': False, 'not_fraud': True}},\n",
              " {'cats': {'fraud': False, 'not_fraud': True}},\n",
              " {'cats': {'fraud': False, 'not_fraud': False}},\n",
              " {'cats': {'fraud': False, 'not_fraud': True}},\n",
              " {'cats': {'fraud': False, 'not_fraud': True}},\n",
              " {'cats': {'fraud': False, 'not_fraud': True}},\n",
              " {'cats': {'fraud': False, 'not_fraud': True}},\n",
              " {'cats': {'fraud': False, 'not_fraud': True}},\n",
              " {'cats': {'fraud': False, 'not_fraud': True}},\n",
              " {'cats': {'fraud': False, 'not_fraud': True}},\n",
              " {'cats': {'fraud': False, 'not_fraud': True}},\n",
              " {'cats': {'fraud': False, 'not_fraud': True}},\n",
              " {'cats': {'fraud': False, 'not_fraud': True}},\n",
              " {'cats': {'fraud': False, 'not_fraud': True}},\n",
              " {'cats': {'fraud': False, 'not_fraud': True}},\n",
              " {'cats': {'fraud': False, 'not_fraud': True}},\n",
              " {'cats': {'fraud': False, 'not_fraud': True}},\n",
              " {'cats': {'fraud': False, 'not_fraud': True}},\n",
              " {'cats': {'fraud': False, 'not_fraud': True}},\n",
              " {'cats': {'fraud': True, 'not_fraud': False}},\n",
              " {'cats': {'fraud': False, 'not_fraud': True}},\n",
              " {'cats': {'fraud': False, 'not_fraud': True}},\n",
              " {'cats': {'fraud': False, 'not_fraud': True}},\n",
              " {'cats': {'fraud': False, 'not_fraud': True}},\n",
              " {'cats': {'fraud': False, 'not_fraud': True}},\n",
              " {'cats': {'fraud': False, 'not_fraud': True}},\n",
              " ...]"
            ]
          },
          "metadata": {
            "tags": []
          },
          "execution_count": 222
        }
      ]
    },
    {
      "cell_type": "code",
      "metadata": {
        "id": "rf0g14bAUBSC"
      },
      "source": [
        ""
      ],
      "execution_count": null,
      "outputs": []
    },
    {
      "cell_type": "code",
      "metadata": {
        "id": "al89knau3JcC"
      },
      "source": [
        "train_data=list(zip(((X_train['name'].values)[0:99]),(train_labels[0:99])))\r\n",
        "test_data=list((zip((X_test['name'].values)[0:99]),(test_labels[0:99])))"
      ],
      "execution_count": null,
      "outputs": []
    },
    {
      "cell_type": "code",
      "metadata": {
        "id": "XinVHMwV3q3I"
      },
      "source": [
        "def train_model(model,train_data,optimizer, batch_size,epochs=10): \r\n",
        "  losses={}\r\n",
        "  random.seed(1)\r\n",
        "\r\n",
        "  for epoch in range(epochs):\r\n",
        "    random.shuffle(train_data)\r\n",
        "\r\n",
        "    batches=minibatch(train_data,size=batch_size)\r\n",
        "    for batch in batches:\r\n",
        "      texts,labels=zip(*batch)\r\n",
        "\r\n",
        "      model.update(texts,labels,sgd=optimizer,losses=losses)\r\n",
        "    print('Loss:{}'.format(losses['textcat']))\r\n",
        "  return losses['textcat']\r\n"
      ],
      "execution_count": null,
      "outputs": []
    },
    {
      "cell_type": "markdown",
      "metadata": {
        "id": "l0XXAO_ZX7tp"
      },
      "source": [
        "Training using the name column"
      ]
    },
    {
      "cell_type": "code",
      "metadata": {
        "colab": {
          "base_uri": "https://localhost:8080/"
        },
        "id": "DZAsPzY47BjS",
        "outputId": "598434a7-0f30-407a-fc7d-5bf41405a5c3"
      },
      "source": [
        "\r\n",
        "optimizer=nlp.begin_training()\r\n",
        "batch_size=5\r\n",
        "\r\n",
        "epochs=10\r\n",
        "\r\n",
        "train_model(nlp,train_data,optimizer,batch_size,epochs)"
      ],
      "execution_count": null,
      "outputs": [
        {
          "output_type": "stream",
          "text": [
            "Loss:0.08963124768342823\n",
            "Loss:0.16832079022424296\n",
            "Loss:0.24127827800111845\n",
            "Loss:0.3102858355268836\n",
            "Loss:0.3708487557596527\n",
            "Loss:0.42933617962989956\n",
            "Loss:0.48143584790523164\n",
            "Loss:0.5293489998148289\n",
            "Loss:0.5755694067847799\n",
            "Loss:0.6183888778250548\n"
          ],
          "name": "stdout"
        },
        {
          "output_type": "execute_result",
          "data": {
            "text/plain": [
              "0.6183888778250548"
            ]
          },
          "metadata": {
            "tags": []
          },
          "execution_count": 232
        }
      ]
    },
    {
      "cell_type": "code",
      "metadata": {
        "colab": {
          "base_uri": "https://localhost:8080/"
        },
        "id": "Mqd_PtKk7kZ4",
        "outputId": "e4c7b4d8-2224-43cc-9a82-3f1d7d9f2cc7"
      },
      "source": [
        "print(train_data[0])"
      ],
      "execution_count": null,
      "outputs": [
        {
          "output_type": "stream",
          "text": [
            "('Manifest Destiny Conference 2010', {'cats': {'fraud': True, 'not_fraud': False}})\n"
          ],
          "name": "stdout"
        }
      ]
    },
    {
      "cell_type": "code",
      "metadata": {
        "colab": {
          "base_uri": "https://localhost:8080/"
        },
        "id": "qzg0cw7f7ytq",
        "outputId": "7add5aac-e2ad-4e19-ecbe-fd43238844b8"
      },
      "source": [
        "sample_test=nlp(train_data[0][0])\r\n",
        "print(sample_test.cats)"
      ],
      "execution_count": null,
      "outputs": [
        {
          "output_type": "stream",
          "text": [
            "{'fraud': 0.6707589626312256, 'not_fraud': 0.3292410373687744}\n"
          ],
          "name": "stdout"
        }
      ]
    },
    {
      "cell_type": "code",
      "metadata": {
        "id": "XZdRPhGJ7_fC"
      },
      "source": [
        "def get_predictions(model,texts):\r\n",
        "  docs=[model.tokenizer(text) for text in texts]\r\n",
        "\r\n",
        "  textcat=model.get_pipe('textcat')\r\n",
        "  scores,_=textcat.predict(docs)\r\n",
        "\r\n",
        "  predicted_labels=scores.argmax(axis=1)\r\n",
        "  predicted_class=[textcat.labels[labels] for labels in predicted_labels]\r\n",
        "  \r\n",
        "  return predicted_labels"
      ],
      "execution_count": null,
      "outputs": []
    },
    {
      "cell_type": "code",
      "metadata": {
        "id": "nDQt-4hpMMVx"
      },
      "source": [
        ""
      ],
      "execution_count": null,
      "outputs": []
    },
    {
      "cell_type": "code",
      "metadata": {
        "id": "ZMiNgcIAp6y2"
      },
      "source": [
        ""
      ],
      "execution_count": null,
      "outputs": []
    },
    {
      "cell_type": "code",
      "metadata": {
        "id": "PtH9gna9ALjq"
      },
      "source": [
        " docs=[text for text in X_train['name']]"
      ],
      "execution_count": null,
      "outputs": []
    },
    {
      "cell_type": "code",
      "metadata": {
        "colab": {
          "base_uri": "https://localhost:8080/",
          "height": 606
        },
        "id": "BD4s9mxi_bWo",
        "outputId": "d7399c9e-74d1-446a-8d6d-4a59153301fd"
      },
      "source": [
        "X_train"
      ],
      "execution_count": null,
      "outputs": [
        {
          "output_type": "execute_result",
          "data": {
            "text/html": [
              "<div>\n",
              "<style scoped>\n",
              "    .dataframe tbody tr th:only-of-type {\n",
              "        vertical-align: middle;\n",
              "    }\n",
              "\n",
              "    .dataframe tbody tr th {\n",
              "        vertical-align: top;\n",
              "    }\n",
              "\n",
              "    .dataframe thead th {\n",
              "        text-align: right;\n",
              "    }\n",
              "</style>\n",
              "<table border=\"1\" class=\"dataframe\">\n",
              "  <thead>\n",
              "    <tr style=\"text-align: right;\">\n",
              "      <th></th>\n",
              "      <th>name</th>\n",
              "      <th>description</th>\n",
              "      <th>org_name</th>\n",
              "    </tr>\n",
              "  </thead>\n",
              "  <tbody>\n",
              "    <tr>\n",
              "      <th>463</th>\n",
              "      <td>LeDiCe GRADUATION PARTY</td>\n",
              "      <td>&lt;p&gt;#YOU MADE IT.. LETS PARTY FOR THE LAST TIME...</td>\n",
              "      <td>LeDiCe</td>\n",
              "    </tr>\n",
              "    <tr>\n",
              "      <th>2697</th>\n",
              "      <td>Shropshire Cadets Concert</td>\n",
              "      <td>&lt;p&gt;&lt;span style=\"color: #222222; font-family: a...</td>\n",
              "      <td>Siobhan Kilbane and Ray Wickson on Behalf of C...</td>\n",
              "    </tr>\n",
              "    <tr>\n",
              "      <th>10484</th>\n",
              "      <td>Wine Down Tour (Labor Day Weekend)</td>\n",
              "      <td>&lt;p&gt;&lt;span style=\"font-size: small;\"&gt;This Labor ...</td>\n",
              "      <td>WineMeDown Events</td>\n",
              "    </tr>\n",
              "    <tr>\n",
              "      <th>10094</th>\n",
              "      <td>RENEGADETHEBEAST AND FRIENDS 2012 CALENDAR</td>\n",
              "      <td>&lt;p&gt;RENEGADETHEBEAST THE HOTTEST DANCER UNDER T...</td>\n",
              "      <td>atlstripper</td>\n",
              "    </tr>\n",
              "    <tr>\n",
              "      <th>3996</th>\n",
              "      <td>Bar club</td>\n",
              "      <td>&lt;p&gt;Bar club&lt;/p&gt;</td>\n",
              "      <td>NaN</td>\n",
              "    </tr>\n",
              "    <tr>\n",
              "      <th>...</th>\n",
              "      <td>...</td>\n",
              "      <td>...</td>\n",
              "      <td>...</td>\n",
              "    </tr>\n",
              "    <tr>\n",
              "      <th>9620</th>\n",
              "      <td>Lead with Your Words: Biblical Principles for ...</td>\n",
              "      <td>&lt;p&gt;&lt;img  alt=\"Bill Harris Poster\" width=\"612\" ...</td>\n",
              "      <td>Wellspring School of Leadership</td>\n",
              "    </tr>\n",
              "    <tr>\n",
              "      <th>7068</th>\n",
              "      <td>BYT Presents: Get Beaujolaid @ 1905</td>\n",
              "      <td>&lt;p style=\"text-align: left;\"&gt;&lt;font size=\"5\"&gt;&lt;b...</td>\n",
              "      <td>BrightestYoungThings.com</td>\n",
              "    </tr>\n",
              "    <tr>\n",
              "      <th>7391</th>\n",
              "      <td>Essence Music Festival 2013</td>\n",
              "      <td>&lt;p&gt;&lt;strong style=\"color: #2c2d2f; font-family:...</td>\n",
              "      <td>Backside Entertainment Powered by The SETNETWORK</td>\n",
              "    </tr>\n",
              "    <tr>\n",
              "      <th>4367</th>\n",
              "      <td>BCAA Leadership Club -Communication with Emoti...</td>\n",
              "      <td>&lt;div style=\"text-align: -webkit-auto;\"&gt;\\n&lt;div ...</td>\n",
              "      <td>BCAA</td>\n",
              "    </tr>\n",
              "    <tr>\n",
              "      <th>10714</th>\n",
              "      <td>A Mary Wigman Dance Evening | Fabián Barba</td>\n",
              "      <td>&lt;p&gt;&lt;span style=\"font-size: medium;\"&gt;During his...</td>\n",
              "      <td>Dance Umbrella 2012</td>\n",
              "    </tr>\n",
              "  </tbody>\n",
              "</table>\n",
              "<p>11469 rows × 3 columns</p>\n",
              "</div>"
            ],
            "text/plain": [
              "                                                    name  ...                                           org_name\n",
              "463                              LeDiCe GRADUATION PARTY  ...                                            LeDiCe \n",
              "2697                           Shropshire Cadets Concert  ...  Siobhan Kilbane and Ray Wickson on Behalf of C...\n",
              "10484                 Wine Down Tour (Labor Day Weekend)  ...                                  WineMeDown Events\n",
              "10094         RENEGADETHEBEAST AND FRIENDS 2012 CALENDAR  ...                                        atlstripper\n",
              "3996                                            Bar club  ...                                                NaN\n",
              "...                                                  ...  ...                                                ...\n",
              "9620   Lead with Your Words: Biblical Principles for ...  ...                    Wellspring School of Leadership\n",
              "7068                 BYT Presents: Get Beaujolaid @ 1905  ...                           BrightestYoungThings.com\n",
              "7391                         Essence Music Festival 2013  ...   Backside Entertainment Powered by The SETNETWORK\n",
              "4367   BCAA Leadership Club -Communication with Emoti...  ...                                               BCAA\n",
              "10714         A Mary Wigman Dance Evening | Fabián Barba  ...                                Dance Umbrella 2012\n",
              "\n",
              "[11469 rows x 3 columns]"
            ]
          },
          "metadata": {
            "tags": []
          },
          "execution_count": 57
        }
      ]
    },
    {
      "cell_type": "code",
      "metadata": {
        "id": "z-Ku1vEDpWXC"
      },
      "source": [
        "train_predictions=get_predictions(nlp,(X_train['name'].values)[0:99])\r\n",
        "test_predictions=get_predictions(nlp,(X_test['name'].values)[0:45])\r\n",
        "train_accuracy=accuracy_score(y_train[0:99],train_predictions)\r\n",
        "test_accuracy=accuracy_score(y_test[0:45],test_predictions)"
      ],
      "execution_count": null,
      "outputs": []
    },
    {
      "cell_type": "code",
      "metadata": {
        "colab": {
          "base_uri": "https://localhost:8080/"
        },
        "id": "gHBvE54FscHR",
        "outputId": "34e2bbd5-505f-4a6c-e81c-074ac98d2204"
      },
      "source": [
        "print(train_accuracy,test_accuracy)"
      ],
      "execution_count": null,
      "outputs": [
        {
          "output_type": "stream",
          "text": [
            "0.0 0.0\n"
          ],
          "name": "stdout"
        }
      ]
    },
    {
      "cell_type": "code",
      "metadata": {
        "colab": {
          "base_uri": "https://localhost:8080/"
        },
        "id": "_Cw58s04smh-",
        "outputId": "25b61d89-7c3a-41d0-f577-f87c880b9cd8"
      },
      "source": [
        "print(np.array(test_predictions))"
      ],
      "execution_count": null,
      "outputs": [
        {
          "output_type": "stream",
          "text": [
            "['not_fraud' 'not_fraud' 'not_fraud' 'not_fraud' 'not_fraud' 'not_fraud'\n",
            " 'not_fraud' 'not_fraud' 'not_fraud' 'not_fraud' 'not_fraud' 'not_fraud'\n",
            " 'not_fraud' 'not_fraud' 'not_fraud' 'not_fraud' 'not_fraud' 'not_fraud'\n",
            " 'not_fraud' 'not_fraud' 'not_fraud' 'not_fraud' 'not_fraud' 'not_fraud'\n",
            " 'not_fraud' 'not_fraud' 'not_fraud' 'not_fraud' 'not_fraud' 'not_fraud'\n",
            " 'not_fraud' 'not_fraud' 'not_fraud' 'not_fraud' 'not_fraud' 'not_fraud'\n",
            " 'not_fraud' 'not_fraud' 'not_fraud' 'not_fraud' 'not_fraud' 'not_fraud'\n",
            " 'not_fraud' 'not_fraud' 'not_fraud']\n"
          ],
          "name": "stdout"
        }
      ]
    },
    {
      "cell_type": "code",
      "metadata": {
        "id": "3D-G37IAt1jJ"
      },
      "source": [
        ""
      ],
      "execution_count": null,
      "outputs": []
    },
    {
      "cell_type": "code",
      "metadata": {
        "id": "xYMVqIyGty4I"
      },
      "source": [
        ""
      ],
      "execution_count": null,
      "outputs": []
    },
    {
      "cell_type": "code",
      "metadata": {
        "id": "ZEouRjLutfa7"
      },
      "source": [
        ""
      ],
      "execution_count": null,
      "outputs": []
    },
    {
      "cell_type": "code",
      "metadata": {
        "colab": {
          "base_uri": "https://localhost:8080/"
        },
        "id": "TPyhAIqws8B_",
        "outputId": "d33ad9b8-d7a6-4269-8154-50f3a097836c"
      },
      "source": [
        "print(y_train[0:45])"
      ],
      "execution_count": null,
      "outputs": [
        {
          "output_type": "stream",
          "text": [
            "463                               True\n",
            "2697                             False\n",
            "10484    wine tasting experiences.</p>\n",
            "10094                            False\n",
            "3996                              True\n",
            "5991                             False\n",
            "2047                             False\n",
            "13774                            False\n",
            "9847                             False\n",
            "12996                            False\n",
            "482                              False\n",
            "10471                            False\n",
            "12807                            False\n",
            "3122                             False\n",
            "9860                             False\n",
            "4907                             False\n",
            "2274                             False\n",
            "3722                             False\n",
            "3978                             False\n",
            "819                              False\n",
            "7823                             False\n",
            "12763                            False\n",
            "7757                             False\n",
            "13426                            False\n",
            "7607                             False\n",
            "9255                             False\n",
            "12193                            False\n",
            "12070                            False\n",
            "7402                             False\n",
            "7514                             False\n",
            "10098                            False\n",
            "12123                            False\n",
            "8951                             False\n",
            "35                               False\n",
            "8881                             False\n",
            "4301                             False\n",
            "7895                             False\n",
            "8265                              True\n",
            "10621                            False\n",
            "13290                            False\n",
            "3580                             False\n",
            "6072                             False\n",
            "895                              False\n",
            "6659                             False\n",
            "6254                             False\n",
            "Name: fraud, dtype: object\n"
          ],
          "name": "stdout"
        }
      ]
    },
    {
      "cell_type": "code",
      "metadata": {
        "id": "INpB9qu2tHFL"
      },
      "source": [
        "train_data=list(zip(((X_train['description'].values)[25:100]),(train_labels[25:100])))\r\n",
        "test_data=list((zip((X_test['description'].values)[25:50]),(test_labels[25:50])))"
      ],
      "execution_count": null,
      "outputs": []
    },
    {
      "cell_type": "code",
      "metadata": {
        "id": "NDbWQCKUvi7O"
      },
      "source": [
        ""
      ],
      "execution_count": null,
      "outputs": []
    },
    {
      "cell_type": "markdown",
      "metadata": {
        "id": "vPBa6KiKYC4z"
      },
      "source": [
        "Training using the description column"
      ]
    },
    {
      "cell_type": "code",
      "metadata": {
        "id": "d10v0pZQvVOQ"
      },
      "source": [
        "train_data_d=list(zip(((X_train['description'].values)),(train_labels)))\r\n",
        "test_data_d=list((zip((X_test['description'].values)),(test_labels)))"
      ],
      "execution_count": null,
      "outputs": []
    },
    {
      "cell_type": "code",
      "metadata": {
        "colab": {
          "base_uri": "https://localhost:8080/"
        },
        "id": "DIq2CsE7uWx6",
        "outputId": "587cbf67-6fe8-494f-ce08-012dc46890c5"
      },
      "source": [
        "\r\n",
        "optimizer_d=nlp.begin_training()\r\n",
        "batch_size=5\r\n",
        "\r\n",
        "epochs=10\r\n",
        "\r\n",
        "train_model(nlp,train_data_d,optimizer_d,batch_size,epochs)"
      ],
      "execution_count": null,
      "outputs": [
        {
          "output_type": "stream",
          "text": [
            "Loss:11.02251581125786\n",
            "Loss:17.73043722358214\n",
            "Loss:21.64153189152224\n",
            "Loss:24.323790010662123\n",
            "Loss:26.549963389481878\n",
            "Loss:28.399137657845085\n",
            "Loss:30.11444793140428\n",
            "Loss:31.6119076214801\n",
            "Loss:32.92711531314343\n",
            "Loss:34.23373766171704\n"
          ],
          "name": "stdout"
        },
        {
          "output_type": "execute_result",
          "data": {
            "text/plain": [
              "34.23373766171704"
            ]
          },
          "metadata": {
            "tags": []
          },
          "execution_count": 29
        }
      ]
    },
    {
      "cell_type": "code",
      "metadata": {
        "id": "2-M-SNHYuuag"
      },
      "source": [
        "train_prediction_d=get_predictions(nlp,((X_train['description'].values)))\r\n",
        "test_predictions_d=get_predictions(nlp,(X_test['description'].values))\r\n",
        "#train_accuracy=accuracy_score(y_train,train_predictions)\r\n",
        "#test_accuracy=accuracy_score(y_test,test_predictions==')"
      ],
      "execution_count": null,
      "outputs": []
    },
    {
      "cell_type": "code",
      "metadata": {
        "colab": {
          "base_uri": "https://localhost:8080/"
        },
        "id": "sQR246LJJdjS",
        "outputId": "b17f9d1f-6f39-4ec5-faab-881894561ae7"
      },
      "source": [
        "print(list(test_predictions_d==(y_test.values=='True'))[0:50])"
      ],
      "execution_count": null,
      "outputs": [
        {
          "output_type": "stream",
          "text": [
            "[True, True, True, True, True, True, True, True, True, True, True, False, True, True, True, True, True, True, True, True, True, True, True, True, True, True, True, True, True, True, True, True, True, True, True, True, True, True, True, True, True, True, True, True, True, True, True, True, True, True]\n"
          ],
          "name": "stdout"
        }
      ]
    },
    {
      "cell_type": "code",
      "metadata": {
        "colab": {
          "base_uri": "https://localhost:8080/"
        },
        "id": "jPHkznUBRQBm",
        "outputId": "a40f7b9c-d9fd-468f-d28a-3048b0f940bb"
      },
      "source": [
        "sum(list(test_predictions_d==(y_test.values=='True'))[0:50])"
      ],
      "execution_count": null,
      "outputs": [
        {
          "output_type": "execute_result",
          "data": {
            "text/plain": [
              "49"
            ]
          },
          "metadata": {
            "tags": []
          },
          "execution_count": 72
        }
      ]
    },
    {
      "cell_type": "code",
      "metadata": {
        "id": "Rcdw-2HR_JOM"
      },
      "source": [
        "train_accuracy=accuracy_score(y_train.values=='True',train_prediction_d)\r\n",
        "test_accuracy=accuracy_score(y_test.values=='True',test_predictions_d)"
      ],
      "execution_count": null,
      "outputs": []
    },
    {
      "cell_type": "code",
      "metadata": {
        "id": "DIC-lTemTeIz"
      },
      "source": [
        "from sklearn.metrics import precision_score,recall_score"
      ],
      "execution_count": 76,
      "outputs": []
    },
    {
      "cell_type": "code",
      "metadata": {
        "colab": {
          "base_uri": "https://localhost:8080/"
        },
        "id": "le_SdsxwThTO",
        "outputId": "7bec0ccd-8448-4329-c3cf-e447aadbf446"
      },
      "source": [
        "precision_score(y_test.values=='True',test_predictions_d)"
      ],
      "execution_count": 75,
      "outputs": [
        {
          "output_type": "execute_result",
          "data": {
            "text/plain": [
              "0.6492537313432836"
            ]
          },
          "metadata": {
            "tags": []
          },
          "execution_count": 75
        }
      ]
    },
    {
      "cell_type": "code",
      "metadata": {
        "colab": {
          "base_uri": "https://localhost:8080/"
        },
        "id": "uTb6WMHpUN57",
        "outputId": "9254d138-109b-4c07-8af7-58d3ba6d2017"
      },
      "source": [
        "recall_score(y_test.values=='True',test_predictions_d)"
      ],
      "execution_count": 77,
      "outputs": [
        {
          "output_type": "execute_result",
          "data": {
            "text/plain": [
              "0.4264705882352941"
            ]
          },
          "metadata": {
            "tags": []
          },
          "execution_count": 77
        }
      ]
    },
    {
      "cell_type": "code",
      "metadata": {
        "id": "nIZP3l21Uh2e"
      },
      "source": [
        ""
      ],
      "execution_count": null,
      "outputs": []
    },
    {
      "cell_type": "code",
      "metadata": {
        "colab": {
          "base_uri": "https://localhost:8080/"
        },
        "id": "_HbhkgThPFyB",
        "outputId": "f611306e-2c58-4e7e-91bd-b550d03cfc68"
      },
      "source": [
        "print('train_accuracy',train_accuracy,'test_accuracy',test_accuracy)"
      ],
      "execution_count": null,
      "outputs": [
        {
          "output_type": "stream",
          "text": [
            "train_accuracy 0.9930600536689183 test_accuracy 0.9393042190969653\n"
          ],
          "name": "stdout"
        }
      ]
    }
  ]
}