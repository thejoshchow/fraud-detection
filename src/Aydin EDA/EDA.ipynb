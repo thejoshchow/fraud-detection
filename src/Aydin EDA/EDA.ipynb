{
 "cells": [
  {
   "cell_type": "code",
   "execution_count": 1,
   "metadata": {},
   "outputs": [],
   "source": [
    "import pandas as pd\n",
    "import numpy as np\n",
    "import matplotlib.pyplot as plt\n",
    "import seaborn as sns"
   ]
  },
  {
   "cell_type": "code",
   "execution_count": 2,
   "metadata": {},
   "outputs": [],
   "source": [
    "from sklearn.decomposition import PCA"
   ]
  },
  {
   "cell_type": "code",
   "execution_count": 3,
   "metadata": {},
   "outputs": [],
   "source": [
    "from sklearn.model_selection import train_test_split\n",
    "from sklearn.metrics import confusion_matrix, f1_score, precision_score, recall_score, roc_curve, classification_report\n",
    "from sklearn.ensemble import RandomForestClassifier, GradientBoostingClassifier"
   ]
  },
  {
   "cell_type": "code",
   "execution_count": 4,
   "metadata": {},
   "outputs": [],
   "source": [
    "def get_data(data_path):\n",
    "    \"\"\"Takes filepath to raw data, transforms it, and returns\n",
    "    \"\"\"\n",
    "    df = pd.read_json(data_path)\n",
    "    return df"
   ]
  },
  {
   "cell_type": "code",
   "execution_count": 5,
   "metadata": {},
   "outputs": [],
   "source": [
    "data = get_data('../../data/data.json')"
   ]
  },
  {
   "cell_type": "code",
   "execution_count": 6,
   "metadata": {},
   "outputs": [
    {
     "data": {
      "text/html": [
       "<div>\n",
       "<style scoped>\n",
       "    .dataframe tbody tr th:only-of-type {\n",
       "        vertical-align: middle;\n",
       "    }\n",
       "\n",
       "    .dataframe tbody tr th {\n",
       "        vertical-align: top;\n",
       "    }\n",
       "\n",
       "    .dataframe thead th {\n",
       "        text-align: right;\n",
       "    }\n",
       "</style>\n",
       "<table border=\"1\" class=\"dataframe\">\n",
       "  <thead>\n",
       "    <tr style=\"text-align: right;\">\n",
       "      <th></th>\n",
       "      <th>acct_type</th>\n",
       "      <th>approx_payout_date</th>\n",
       "      <th>body_length</th>\n",
       "      <th>channels</th>\n",
       "      <th>country</th>\n",
       "      <th>currency</th>\n",
       "      <th>delivery_method</th>\n",
       "      <th>description</th>\n",
       "      <th>email_domain</th>\n",
       "      <th>event_created</th>\n",
       "      <th>...</th>\n",
       "      <th>ticket_types</th>\n",
       "      <th>user_age</th>\n",
       "      <th>user_created</th>\n",
       "      <th>user_type</th>\n",
       "      <th>venue_address</th>\n",
       "      <th>venue_country</th>\n",
       "      <th>venue_latitude</th>\n",
       "      <th>venue_longitude</th>\n",
       "      <th>venue_name</th>\n",
       "      <th>venue_state</th>\n",
       "    </tr>\n",
       "  </thead>\n",
       "  <tbody>\n",
       "    <tr>\n",
       "      <th>0</th>\n",
       "      <td>fraudster_event</td>\n",
       "      <td>1266062400</td>\n",
       "      <td>3852</td>\n",
       "      <td>5</td>\n",
       "      <td>US</td>\n",
       "      <td>USD</td>\n",
       "      <td>0.0</td>\n",
       "      <td>&lt;p&gt;&lt;a href=\"http://s432.photobucket.com/albums...</td>\n",
       "      <td>gmail.com</td>\n",
       "      <td>1262739706</td>\n",
       "      <td>...</td>\n",
       "      <td>[{'event_id': 527017, 'cost': 25.0, 'availabil...</td>\n",
       "      <td>36</td>\n",
       "      <td>1259613950</td>\n",
       "      <td>1</td>\n",
       "      <td>717 Washington Avenue</td>\n",
       "      <td>US</td>\n",
       "      <td>25.777471</td>\n",
       "      <td>-80.133433</td>\n",
       "      <td>INK Nightclub - South Beach</td>\n",
       "      <td>FL</td>\n",
       "    </tr>\n",
       "    <tr>\n",
       "      <th>1</th>\n",
       "      <td>premium</td>\n",
       "      <td>1296720000</td>\n",
       "      <td>3499</td>\n",
       "      <td>0</td>\n",
       "      <td>US</td>\n",
       "      <td>USD</td>\n",
       "      <td>1.0</td>\n",
       "      <td>&lt;p&gt;Join us for a quick, one-night, community-b...</td>\n",
       "      <td>ruf.org</td>\n",
       "      <td>1293832670</td>\n",
       "      <td>...</td>\n",
       "      <td>[{'event_id': 786878, 'cost': 35.0, 'availabil...</td>\n",
       "      <td>149</td>\n",
       "      <td>1280942776</td>\n",
       "      <td>3</td>\n",
       "      <td></td>\n",
       "      <td>US</td>\n",
       "      <td>32.776566</td>\n",
       "      <td>-79.930922</td>\n",
       "      <td>The Charleston, SC area</td>\n",
       "      <td>SC</td>\n",
       "    </tr>\n",
       "    <tr>\n",
       "      <th>2</th>\n",
       "      <td>premium</td>\n",
       "      <td>1296172800</td>\n",
       "      <td>2601</td>\n",
       "      <td>8</td>\n",
       "      <td>US</td>\n",
       "      <td>USD</td>\n",
       "      <td>1.0</td>\n",
       "      <td>&lt;h3&gt;&lt;span class=\"subcategory\"&gt;&lt;strong&gt;Teacher ...</td>\n",
       "      <td>pvsd.k12.ca.us</td>\n",
       "      <td>1291090956</td>\n",
       "      <td>...</td>\n",
       "      <td>[{'event_id': 787337, 'cost': 93.51, 'availabi...</td>\n",
       "      <td>214</td>\n",
       "      <td>1272559388</td>\n",
       "      <td>3</td>\n",
       "      <td>10100 Pioneer Blvd Suite 100</td>\n",
       "      <td>US</td>\n",
       "      <td>33.944201</td>\n",
       "      <td>-118.080419</td>\n",
       "      <td>Los Angeles County Office of Education</td>\n",
       "      <td>CA</td>\n",
       "    </tr>\n",
       "    <tr>\n",
       "      <th>3</th>\n",
       "      <td>premium</td>\n",
       "      <td>1388966400</td>\n",
       "      <td>12347</td>\n",
       "      <td>6</td>\n",
       "      <td>IE</td>\n",
       "      <td>EUR</td>\n",
       "      <td>1.0</td>\n",
       "      <td>&lt;p style=\"margin-bottom: 1.3em; padding-bottom...</td>\n",
       "      <td>irishtabletennis.com</td>\n",
       "      <td>1360681570</td>\n",
       "      <td>...</td>\n",
       "      <td>[{'event_id': 885645, 'cost': 25.0, 'availabil...</td>\n",
       "      <td>889</td>\n",
       "      <td>1283870102</td>\n",
       "      <td>3</td>\n",
       "      <td></td>\n",
       "      <td>None</td>\n",
       "      <td>NaN</td>\n",
       "      <td>NaN</td>\n",
       "      <td>None</td>\n",
       "      <td>None</td>\n",
       "    </tr>\n",
       "    <tr>\n",
       "      <th>4</th>\n",
       "      <td>premium</td>\n",
       "      <td>1297900800</td>\n",
       "      <td>2417</td>\n",
       "      <td>11</td>\n",
       "      <td>US</td>\n",
       "      <td>USD</td>\n",
       "      <td>0.0</td>\n",
       "      <td>&lt;p&gt;Writers and filmmakers need to understand t...</td>\n",
       "      <td>artsandbusinesscouncil.org</td>\n",
       "      <td>1291994666</td>\n",
       "      <td>...</td>\n",
       "      <td>[{'event_id': 1114349, 'cost': 150.0, 'availab...</td>\n",
       "      <td>35</td>\n",
       "      <td>1288984065</td>\n",
       "      <td>3</td>\n",
       "      <td>One Marina Park Drive</td>\n",
       "      <td>US</td>\n",
       "      <td>42.353848</td>\n",
       "      <td>-71.044276</td>\n",
       "      <td>Fish &amp; Richardson</td>\n",
       "      <td>MA</td>\n",
       "    </tr>\n",
       "  </tbody>\n",
       "</table>\n",
       "<p>5 rows × 44 columns</p>\n",
       "</div>"
      ],
      "text/plain": [
       "         acct_type  approx_payout_date  body_length  channels country  \\\n",
       "0  fraudster_event          1266062400         3852         5      US   \n",
       "1          premium          1296720000         3499         0      US   \n",
       "2          premium          1296172800         2601         8      US   \n",
       "3          premium          1388966400        12347         6      IE   \n",
       "4          premium          1297900800         2417        11      US   \n",
       "\n",
       "  currency  delivery_method  \\\n",
       "0      USD              0.0   \n",
       "1      USD              1.0   \n",
       "2      USD              1.0   \n",
       "3      EUR              1.0   \n",
       "4      USD              0.0   \n",
       "\n",
       "                                         description  \\\n",
       "0  <p><a href=\"http://s432.photobucket.com/albums...   \n",
       "1  <p>Join us for a quick, one-night, community-b...   \n",
       "2  <h3><span class=\"subcategory\"><strong>Teacher ...   \n",
       "3  <p style=\"margin-bottom: 1.3em; padding-bottom...   \n",
       "4  <p>Writers and filmmakers need to understand t...   \n",
       "\n",
       "                 email_domain  event_created  ...  \\\n",
       "0                   gmail.com     1262739706  ...   \n",
       "1                     ruf.org     1293832670  ...   \n",
       "2              pvsd.k12.ca.us     1291090956  ...   \n",
       "3        irishtabletennis.com     1360681570  ...   \n",
       "4  artsandbusinesscouncil.org     1291994666  ...   \n",
       "\n",
       "                                        ticket_types  user_age  user_created  \\\n",
       "0  [{'event_id': 527017, 'cost': 25.0, 'availabil...        36    1259613950   \n",
       "1  [{'event_id': 786878, 'cost': 35.0, 'availabil...       149    1280942776   \n",
       "2  [{'event_id': 787337, 'cost': 93.51, 'availabi...       214    1272559388   \n",
       "3  [{'event_id': 885645, 'cost': 25.0, 'availabil...       889    1283870102   \n",
       "4  [{'event_id': 1114349, 'cost': 150.0, 'availab...        35    1288984065   \n",
       "\n",
       "   user_type                 venue_address  venue_country  venue_latitude  \\\n",
       "0          1         717 Washington Avenue             US       25.777471   \n",
       "1          3                                           US       32.776566   \n",
       "2          3  10100 Pioneer Blvd Suite 100             US       33.944201   \n",
       "3          3                                         None             NaN   \n",
       "4          3        One Marina Park Drive              US       42.353848   \n",
       "\n",
       "   venue_longitude                              venue_name venue_state  \n",
       "0       -80.133433             INK Nightclub - South Beach          FL  \n",
       "1       -79.930922                 The Charleston, SC area          SC  \n",
       "2      -118.080419  Los Angeles County Office of Education          CA  \n",
       "3              NaN                                    None        None  \n",
       "4       -71.044276                       Fish & Richardson          MA  \n",
       "\n",
       "[5 rows x 44 columns]"
      ]
     },
     "execution_count": 6,
     "metadata": {},
     "output_type": "execute_result"
    }
   ],
   "source": [
    "data.head()"
   ]
  },
  {
   "cell_type": "code",
   "execution_count": 7,
   "metadata": {},
   "outputs": [
    {
     "name": "stdout",
     "output_type": "stream",
     "text": [
      "<class 'pandas.core.frame.DataFrame'>\n",
      "RangeIndex: 14337 entries, 0 to 14336\n",
      "Data columns (total 44 columns):\n",
      " #   Column              Non-Null Count  Dtype  \n",
      "---  ------              --------------  -----  \n",
      " 0   acct_type           14337 non-null  object \n",
      " 1   approx_payout_date  14337 non-null  int64  \n",
      " 2   body_length         14337 non-null  int64  \n",
      " 3   channels            14337 non-null  int64  \n",
      " 4   country             14256 non-null  object \n",
      " 5   currency            14337 non-null  object \n",
      " 6   delivery_method     14321 non-null  float64\n",
      " 7   description         14337 non-null  object \n",
      " 8   email_domain        14337 non-null  object \n",
      " 9   event_created       14337 non-null  int64  \n",
      " 10  event_end           14337 non-null  int64  \n",
      " 11  event_published     14238 non-null  float64\n",
      " 12  event_start         14337 non-null  int64  \n",
      " 13  fb_published        14337 non-null  int64  \n",
      " 14  gts                 14337 non-null  float64\n",
      " 15  has_analytics       14337 non-null  int64  \n",
      " 16  has_header          8928 non-null   float64\n",
      " 17  has_logo            14337 non-null  int64  \n",
      " 18  listed              14337 non-null  object \n",
      " 19  name                14337 non-null  object \n",
      " 20  name_length         14337 non-null  int64  \n",
      " 21  num_order           14337 non-null  int64  \n",
      " 22  num_payouts         14337 non-null  int64  \n",
      " 23  object_id           14337 non-null  int64  \n",
      " 24  org_desc            14337 non-null  object \n",
      " 25  org_facebook        14278 non-null  float64\n",
      " 26  org_name            14337 non-null  object \n",
      " 27  org_twitter         14278 non-null  float64\n",
      " 28  payee_name          14337 non-null  object \n",
      " 29  payout_type         14337 non-null  object \n",
      " 30  previous_payouts    14337 non-null  object \n",
      " 31  sale_duration       14182 non-null  float64\n",
      " 32  sale_duration2      14337 non-null  int64  \n",
      " 33  show_map            14337 non-null  int64  \n",
      " 34  ticket_types        14337 non-null  object \n",
      " 35  user_age            14337 non-null  int64  \n",
      " 36  user_created        14337 non-null  int64  \n",
      " 37  user_type           14337 non-null  int64  \n",
      " 38  venue_address       14337 non-null  object \n",
      " 39  venue_country       13261 non-null  object \n",
      " 40  venue_latitude      13261 non-null  float64\n",
      " 41  venue_longitude     13261 non-null  float64\n",
      " 42  venue_name          13261 non-null  object \n",
      " 43  venue_state         13261 non-null  object \n",
      "dtypes: float64(9), int64(18), object(17)\n",
      "memory usage: 4.8+ MB\n"
     ]
    }
   ],
   "source": [
    "data.info()"
   ]
  },
  {
   "cell_type": "code",
   "execution_count": 8,
   "metadata": {},
   "outputs": [
    {
     "name": "stdout",
     "output_type": "stream",
     "text": [
      "country              81\n",
      "delivery_method      16\n",
      "event_published      99\n",
      "has_header         5409\n",
      "org_facebook         59\n",
      "org_twitter          59\n",
      "sale_duration       155\n",
      "venue_country      1076\n",
      "venue_latitude     1076\n",
      "venue_longitude    1076\n",
      "venue_name         1076\n",
      "venue_state        1076\n",
      "dtype: int64\n"
     ]
    }
   ],
   "source": [
    "rows_with_null=data.isnull().sum()[data.isnull().sum()!=0]\n",
    "print(rows_with_null)"
   ]
  },
  {
   "cell_type": "code",
   "execution_count": 9,
   "metadata": {},
   "outputs": [
    {
     "data": {
      "text/plain": [
       "premium             12373\n",
       "fraudster_event       851\n",
       "fraudster             437\n",
       "spammer_limited       218\n",
       "spammer_warn          144\n",
       "tos_warn               91\n",
       "spammer_noinvite       84\n",
       "tos_lock               77\n",
       "locked                 54\n",
       "fraudster_att           5\n",
       "spammer_web             2\n",
       "spammer                 1\n",
       "Name: acct_type, dtype: int64"
      ]
     },
     "execution_count": 9,
     "metadata": {},
     "output_type": "execute_result"
    }
   ],
   "source": [
    "data['acct_type'].value_counts()"
   ]
  },
  {
   "cell_type": "code",
   "execution_count": 10,
   "metadata": {},
   "outputs": [],
   "source": [
    "data['is_fraud'] = data['acct_type'].apply(lambda x: True if 'fraud' in x else False)"
   ]
  },
  {
   "cell_type": "code",
   "execution_count": 11,
   "metadata": {},
   "outputs": [
    {
     "data": {
      "text/plain": [
       "False    13044\n",
       "True      1293\n",
       "Name: is_fraud, dtype: int64"
      ]
     },
     "execution_count": 11,
     "metadata": {},
     "output_type": "execute_result"
    }
   ],
   "source": [
    "data.is_fraud.value_counts()"
   ]
  },
  {
   "cell_type": "code",
   "execution_count": 12,
   "metadata": {},
   "outputs": [],
   "source": [
    "fraud_acc = data[data['is_fraud']==True]"
   ]
  },
  {
   "cell_type": "code",
   "execution_count": 13,
   "metadata": {},
   "outputs": [],
   "source": [
    "non_fraud_acc = data[data['is_fraud']==False]"
   ]
  },
  {
   "cell_type": "code",
   "execution_count": 14,
   "metadata": {},
   "outputs": [
    {
     "data": {
      "text/plain": [
       "Index(['acct_type', 'approx_payout_date', 'body_length', 'channels', 'country',\n",
       "       'currency', 'delivery_method', 'description', 'email_domain',\n",
       "       'event_created', 'event_end', 'event_published', 'event_start',\n",
       "       'fb_published', 'gts', 'has_analytics', 'has_header', 'has_logo',\n",
       "       'listed', 'name', 'name_length', 'num_order', 'num_payouts',\n",
       "       'object_id', 'org_desc', 'org_facebook', 'org_name', 'org_twitter',\n",
       "       'payee_name', 'payout_type', 'previous_payouts', 'sale_duration',\n",
       "       'sale_duration2', 'show_map', 'ticket_types', 'user_age',\n",
       "       'user_created', 'user_type', 'venue_address', 'venue_country',\n",
       "       'venue_latitude', 'venue_longitude', 'venue_name', 'venue_state',\n",
       "       'is_fraud'],\n",
       "      dtype='object')"
      ]
     },
     "execution_count": 14,
     "metadata": {},
     "output_type": "execute_result"
    }
   ],
   "source": [
    "fraud_acc.columns"
   ]
  },
  {
   "cell_type": "code",
   "execution_count": 15,
   "metadata": {},
   "outputs": [
    {
     "data": {
      "text/html": [
       "<div>\n",
       "<style scoped>\n",
       "    .dataframe tbody tr th:only-of-type {\n",
       "        vertical-align: middle;\n",
       "    }\n",
       "\n",
       "    .dataframe tbody tr th {\n",
       "        vertical-align: top;\n",
       "    }\n",
       "\n",
       "    .dataframe thead th {\n",
       "        text-align: right;\n",
       "    }\n",
       "</style>\n",
       "<table border=\"1\" class=\"dataframe\">\n",
       "  <thead>\n",
       "    <tr style=\"text-align: right;\">\n",
       "      <th></th>\n",
       "      <th>acct_type</th>\n",
       "      <th>approx_payout_date</th>\n",
       "      <th>body_length</th>\n",
       "      <th>channels</th>\n",
       "      <th>country</th>\n",
       "      <th>currency</th>\n",
       "      <th>delivery_method</th>\n",
       "      <th>description</th>\n",
       "      <th>email_domain</th>\n",
       "      <th>event_created</th>\n",
       "      <th>...</th>\n",
       "      <th>user_age</th>\n",
       "      <th>user_created</th>\n",
       "      <th>user_type</th>\n",
       "      <th>venue_address</th>\n",
       "      <th>venue_country</th>\n",
       "      <th>venue_latitude</th>\n",
       "      <th>venue_longitude</th>\n",
       "      <th>venue_name</th>\n",
       "      <th>venue_state</th>\n",
       "      <th>is_fraud</th>\n",
       "    </tr>\n",
       "  </thead>\n",
       "  <tbody>\n",
       "    <tr>\n",
       "      <th>0</th>\n",
       "      <td>fraudster_event</td>\n",
       "      <td>1266062400</td>\n",
       "      <td>3852</td>\n",
       "      <td>5</td>\n",
       "      <td>US</td>\n",
       "      <td>USD</td>\n",
       "      <td>0.0</td>\n",
       "      <td>&lt;p&gt;&lt;a href=\"http://s432.photobucket.com/albums...</td>\n",
       "      <td>gmail.com</td>\n",
       "      <td>1262739706</td>\n",
       "      <td>...</td>\n",
       "      <td>36</td>\n",
       "      <td>1259613950</td>\n",
       "      <td>1</td>\n",
       "      <td>717 Washington Avenue</td>\n",
       "      <td>US</td>\n",
       "      <td>25.777471</td>\n",
       "      <td>-80.133433</td>\n",
       "      <td>INK Nightclub - South Beach</td>\n",
       "      <td>FL</td>\n",
       "      <td>True</td>\n",
       "    </tr>\n",
       "    <tr>\n",
       "      <th>26</th>\n",
       "      <td>fraudster</td>\n",
       "      <td>1299607200</td>\n",
       "      <td>870</td>\n",
       "      <td>11</td>\n",
       "      <td>US</td>\n",
       "      <td>USD</td>\n",
       "      <td>0.0</td>\n",
       "      <td>&lt;h1 class=\"post\"&gt;Welcome&lt;/h1&gt;\\r\\n&lt;p&gt; &lt;/p&gt;\\r\\n&lt;...</td>\n",
       "      <td>hotmail.com</td>\n",
       "      <td>1299171416</td>\n",
       "      <td>...</td>\n",
       "      <td>42</td>\n",
       "      <td>1295576777</td>\n",
       "      <td>3</td>\n",
       "      <td>400 Fifth Avenue</td>\n",
       "      <td>US</td>\n",
       "      <td>40.750228</td>\n",
       "      <td>-73.983714</td>\n",
       "      <td>The Setai</td>\n",
       "      <td>NY</td>\n",
       "      <td>True</td>\n",
       "    </tr>\n",
       "    <tr>\n",
       "      <th>51</th>\n",
       "      <td>fraudster_event</td>\n",
       "      <td>1329465600</td>\n",
       "      <td>536</td>\n",
       "      <td>6</td>\n",
       "      <td>US</td>\n",
       "      <td>USD</td>\n",
       "      <td>0.0</td>\n",
       "      <td>&lt;p&gt;&lt;span style=\"font-size: x-large;\"&gt;Okay ever...</td>\n",
       "      <td>cox.net</td>\n",
       "      <td>1317544696</td>\n",
       "      <td>...</td>\n",
       "      <td>77</td>\n",
       "      <td>1310957994</td>\n",
       "      <td>1</td>\n",
       "      <td>404 euclid ave</td>\n",
       "      <td>US</td>\n",
       "      <td>32.702072</td>\n",
       "      <td>-117.085088</td>\n",
       "      <td>The Jacobs Center at Market Creek</td>\n",
       "      <td>CA</td>\n",
       "      <td>True</td>\n",
       "    </tr>\n",
       "    <tr>\n",
       "      <th>54</th>\n",
       "      <td>fraudster</td>\n",
       "      <td>1312761600</td>\n",
       "      <td>3081</td>\n",
       "      <td>11</td>\n",
       "      <td></td>\n",
       "      <td>GBP</td>\n",
       "      <td>0.0</td>\n",
       "      <td>&lt;h3&gt;&lt;strong&gt;&lt;strong&gt;&lt;span style=\"font-family: ...</td>\n",
       "      <td>hotmail.co.uk</td>\n",
       "      <td>1311717051</td>\n",
       "      <td>...</td>\n",
       "      <td>0</td>\n",
       "      <td>1311717050</td>\n",
       "      <td>1</td>\n",
       "      <td>Hammersmith Road</td>\n",
       "      <td></td>\n",
       "      <td>0.000000</td>\n",
       "      <td>0.000000</td>\n",
       "      <td>Olympia Exhibition Hall</td>\n",
       "      <td></td>\n",
       "      <td>True</td>\n",
       "    </tr>\n",
       "    <tr>\n",
       "      <th>70</th>\n",
       "      <td>fraudster</td>\n",
       "      <td>1322895600</td>\n",
       "      <td>0</td>\n",
       "      <td>13</td>\n",
       "      <td>US</td>\n",
       "      <td>USD</td>\n",
       "      <td>0.0</td>\n",
       "      <td></td>\n",
       "      <td>yahoo.com</td>\n",
       "      <td>1316795942</td>\n",
       "      <td>...</td>\n",
       "      <td>0</td>\n",
       "      <td>1316795486</td>\n",
       "      <td>1</td>\n",
       "      <td>5801 Security Blvd</td>\n",
       "      <td>US</td>\n",
       "      <td>39.308752</td>\n",
       "      <td>-76.716174</td>\n",
       "      <td></td>\n",
       "      <td>MD</td>\n",
       "      <td>True</td>\n",
       "    </tr>\n",
       "  </tbody>\n",
       "</table>\n",
       "<p>5 rows × 45 columns</p>\n",
       "</div>"
      ],
      "text/plain": [
       "          acct_type  approx_payout_date  body_length  channels country  \\\n",
       "0   fraudster_event          1266062400         3852         5      US   \n",
       "26        fraudster          1299607200          870        11      US   \n",
       "51  fraudster_event          1329465600          536         6      US   \n",
       "54        fraudster          1312761600         3081        11           \n",
       "70        fraudster          1322895600            0        13      US   \n",
       "\n",
       "   currency  delivery_method  \\\n",
       "0       USD              0.0   \n",
       "26      USD              0.0   \n",
       "51      USD              0.0   \n",
       "54      GBP              0.0   \n",
       "70      USD              0.0   \n",
       "\n",
       "                                          description   email_domain  \\\n",
       "0   <p><a href=\"http://s432.photobucket.com/albums...      gmail.com   \n",
       "26  <h1 class=\"post\">Welcome</h1>\\r\\n<p> </p>\\r\\n<...    hotmail.com   \n",
       "51  <p><span style=\"font-size: x-large;\">Okay ever...        cox.net   \n",
       "54  <h3><strong><strong><span style=\"font-family: ...  hotmail.co.uk   \n",
       "70                                                         yahoo.com   \n",
       "\n",
       "    event_created  ...  user_age  user_created  user_type  \\\n",
       "0      1262739706  ...        36    1259613950          1   \n",
       "26     1299171416  ...        42    1295576777          3   \n",
       "51     1317544696  ...        77    1310957994          1   \n",
       "54     1311717051  ...         0    1311717050          1   \n",
       "70     1316795942  ...         0    1316795486          1   \n",
       "\n",
       "            venue_address  venue_country  venue_latitude  venue_longitude  \\\n",
       "0   717 Washington Avenue             US       25.777471       -80.133433   \n",
       "26       400 Fifth Avenue             US       40.750228       -73.983714   \n",
       "51         404 euclid ave             US       32.702072      -117.085088   \n",
       "54       Hammersmith Road                       0.000000         0.000000   \n",
       "70     5801 Security Blvd             US       39.308752       -76.716174   \n",
       "\n",
       "                           venue_name venue_state is_fraud  \n",
       "0         INK Nightclub - South Beach          FL     True  \n",
       "26                          The Setai          NY     True  \n",
       "51  The Jacobs Center at Market Creek          CA     True  \n",
       "54            Olympia Exhibition Hall                 True  \n",
       "70                                             MD     True  \n",
       "\n",
       "[5 rows x 45 columns]"
      ]
     },
     "execution_count": 15,
     "metadata": {},
     "output_type": "execute_result"
    }
   ],
   "source": [
    "fraud_acc.head()"
   ]
  },
  {
   "cell_type": "code",
   "execution_count": 16,
   "metadata": {},
   "outputs": [
    {
     "data": {
      "text/plain": [
       "<matplotlib.axes._subplots.AxesSubplot at 0x7f7aef3077d0>"
      ]
     },
     "execution_count": 16,
     "metadata": {},
     "output_type": "execute_result"
    },
    {
     "data": {
      "image/png": "[encoded data removed]",
      "text/plain": [
       "<Figure size 432x288 with 1 Axes>"
      ]
     },
     "metadata": {
      "needs_background": "light"
     },
     "output_type": "display_data"
    }
   ],
   "source": [
    "sns.boxplot(x=\"user_age\", data=fraud_acc)"
   ]
  },
  {
   "cell_type": "code",
   "execution_count": 17,
   "metadata": {},
   "outputs": [
    {
     "data": {
      "text/plain": [
       "<matplotlib.axes._subplots.AxesSubplot at 0x7f7aeece8950>"
      ]
     },
     "execution_count": 17,
     "metadata": {},
     "output_type": "execute_result"
    },
    {
     "data": {
      "image/png": "[encoded data removed]",
      "text/plain": [
       "<Figure size 432x288 with 1 Axes>"
      ]
     },
     "metadata": {
      "needs_background": "light"
     },
     "output_type": "display_data"
    }
   ],
   "source": [
    "sns.boxplot(x=\"user_age\", data=non_fraud_acc)"
   ]
  },
  {
   "cell_type": "code",
   "execution_count": 18,
   "metadata": {},
   "outputs": [
    {
     "data": {
      "text/plain": [
       "0       725\n",
       "1        36\n",
       "2        26\n",
       "5        19\n",
       "18       18\n",
       "       ... \n",
       "115       1\n",
       "117       1\n",
       "118       1\n",
       "301       1\n",
       "1834      1\n",
       "Name: user_age, Length: 197, dtype: int64"
      ]
     },
     "execution_count": 18,
     "metadata": {},
     "output_type": "execute_result"
    }
   ],
   "source": [
    "fraud_acc.user_age.value_counts()"
   ]
  },
  {
   "cell_type": "code",
   "execution_count": 19,
   "metadata": {},
   "outputs": [
    {
     "data": {
      "text/plain": [
       "[None]"
      ]
     },
     "execution_count": 19,
     "metadata": {},
     "output_type": "execute_result"
    },
    {
     "data": {
      "image/png": "[encoded data removed]",
      "text/plain": [
       "<Figure size 432x288 with 1 Axes>"
      ]
     },
     "metadata": {
      "needs_background": "light"
     },
     "output_type": "display_data"
    }
   ],
   "source": [
    "ax=sns.distplot(fraud_acc.user_age)\n",
    "ax.set(xscale='log')"
   ]
  },
  {
   "cell_type": "code",
   "execution_count": 20,
   "metadata": {},
   "outputs": [
    {
     "data": {
      "text/plain": [
       "[None]"
      ]
     },
     "execution_count": 20,
     "metadata": {},
     "output_type": "execute_result"
    },
    {
     "data": {
      "image/png": "[encoded data removed]",
      "text/plain": [
       "<Figure size 432x288 with 1 Axes>"
      ]
     },
     "metadata": {
      "needs_background": "light"
     },
     "output_type": "display_data"
    }
   ],
   "source": [
    "\n",
    "ax=fraud_acc.user_age.hist(bins=25)\n",
    "ax.set(yscale='log')"
   ]
  },
  {
   "cell_type": "code",
   "execution_count": 21,
   "metadata": {},
   "outputs": [
    {
     "data": {
      "text/plain": [
       "[None]"
      ]
     },
     "execution_count": 21,
     "metadata": {},
     "output_type": "execute_result"
    },
    {
     "data": {
      "image/png": "[encoded data removed]",
      "text/plain": [
       "<Figure size 432x288 with 1 Axes>"
      ]
     },
     "metadata": {
      "needs_background": "light"
     },
     "output_type": "display_data"
    }
   ],
   "source": [
    "ax=non_fraud_acc.user_age.hist(bins=25)\n",
    "ax.set(yscale='log')"
   ]
  },
  {
   "cell_type": "code",
   "execution_count": 22,
   "metadata": {},
   "outputs": [
    {
     "data": {
      "image/png": "[encoded data removed]",
      "text/plain": [
       "<Figure size 1440x720 with 1 Axes>"
      ]
     },
     "metadata": {
      "needs_background": "light"
     },
     "output_type": "display_data"
    }
   ],
   "source": [
    "fig, ax = plt.subplots(1,1, figsize=(20,10))\n",
    "ax=sns.boxenplot(y='user_age',x=\"acct_type\", data=data)"
   ]
  },
  {
   "cell_type": "code",
   "execution_count": 23,
   "metadata": {},
   "outputs": [
    {
     "data": {
      "image/png": "[encoded data removed]",
      "text/plain": [
       "<Figure size 1440x720 with 1 Axes>"
      ]
     },
     "metadata": {
      "needs_background": "light"
     },
     "output_type": "display_data"
    }
   ],
   "source": [
    "fig, ax = plt.subplots(1,1, figsize=(20,10))\n",
    "ax=sns.boxenplot(y='user_age',x=\"is_fraud\", data=data)"
   ]
  },
  {
   "cell_type": "code",
   "execution_count": 24,
   "metadata": {},
   "outputs": [
    {
     "data": {
      "text/plain": [
       "1    835\n",
       "0    458\n",
       "Name: has_logo, dtype: int64"
      ]
     },
     "execution_count": 24,
     "metadata": {},
     "output_type": "execute_result"
    }
   ],
   "source": [
    "fraud_acc.has_logo.value_counts()"
   ]
  },
  {
   "cell_type": "code",
   "execution_count": 25,
   "metadata": {},
   "outputs": [
    {
     "data": {
      "text/plain": [
       "1    11238\n",
       "0     1806\n",
       "Name: has_logo, dtype: int64"
      ]
     },
     "execution_count": 25,
     "metadata": {},
     "output_type": "execute_result"
    }
   ],
   "source": [
    "non_fraud_acc.has_logo.value_counts()"
   ]
  },
  {
   "cell_type": "code",
   "execution_count": 27,
   "metadata": {},
   "outputs": [
    {
     "data": {
      "image/png": "[encoded data removed]",
      "text/plain": [
       "<Figure size 1440x720 with 1 Axes>"
      ]
     },
     "metadata": {
      "needs_background": "light"
     },
     "output_type": "display_data"
    }
   ],
   "source": [
    "fig, ax = plt.subplots(1,1, figsize=(20,10))\n",
    "ax=sns.boxenplot(y='num_order',x=\"is_fraud\", data=data)"
   ]
  },
  {
   "cell_type": "code",
   "execution_count": 28,
   "metadata": {},
   "outputs": [
    {
     "data": {
      "image/png": "[encoded data removed]",
      "text/plain": [
       "<Figure size 1440x720 with 1 Axes>"
      ]
     },
     "metadata": {
      "needs_background": "light"
     },
     "output_type": "display_data"
    }
   ],
   "source": [
    "fig, ax = plt.subplots(1,1, figsize=(20,10))\n",
    "ax=sns.boxenplot(y='currency',x=\"is_fraud\", data=data)"
   ]
  },
  {
   "cell_type": "code",
   "execution_count": 29,
   "metadata": {},
   "outputs": [
    {
     "data": {
      "text/plain": [
       "USD    8838\n",
       "GBP    1879\n",
       "CAD    1280\n",
       "AUD     767\n",
       "EUR     225\n",
       "NZD      55\n",
       "Name: currency, dtype: int64"
      ]
     },
     "execution_count": 29,
     "metadata": {},
     "output_type": "execute_result"
    }
   ],
   "source": [
    "non_fraud_acc.currency.value_counts()"
   ]
  },
  {
   "cell_type": "code",
   "execution_count": 30,
   "metadata": {},
   "outputs": [
    {
     "data": {
      "text/plain": [
       "USD    858\n",
       "GBP    343\n",
       "CAD     42\n",
       "EUR     37\n",
       "AUD     12\n",
       "MXN      1\n",
       "Name: currency, dtype: int64"
      ]
     },
     "execution_count": 30,
     "metadata": {},
     "output_type": "execute_result"
    }
   ],
   "source": [
    "fraud_acc.currency.value_counts()"
   ]
  },
  {
   "cell_type": "code",
   "execution_count": 31,
   "metadata": {},
   "outputs": [
    {
     "data": {
      "image/png": "[encoded data removed]",
      "text/plain": [
       "<Figure size 1440x720 with 1 Axes>"
      ]
     },
     "metadata": {
      "needs_background": "light"
     },
     "output_type": "display_data"
    }
   ],
   "source": [
    "fig, ax = plt.subplots(1,1, figsize=(20,10))\n",
    "ax=sns.countplot(x='country', data=non_fraud_acc)"
   ]
  },
  {
   "cell_type": "code",
   "execution_count": 32,
   "metadata": {},
   "outputs": [
    {
     "data": {
      "image/png": "[encoded data removed]",
      "text/plain": [
       "<Figure size 1440x720 with 1 Axes>"
      ]
     },
     "metadata": {
      "needs_background": "light"
     },
     "output_type": "display_data"
    }
   ],
   "source": [
    "fig, ax = plt.subplots(1,1, figsize=(20,10))\n",
    "ax=sns.countplot(x='country', data=fraud_acc)"
   ]
  },
  {
   "cell_type": "code",
   "execution_count": 33,
   "metadata": {},
   "outputs": [
    {
     "data": {
      "text/plain": [
       "[None]"
      ]
     },
     "execution_count": 33,
     "metadata": {},
     "output_type": "execute_result"
    },
    {
     "data": {
      "image/png": "[encoded data removed]",
      "text/plain": [
       "<Figure size 1440x720 with 1 Axes>"
      ]
     },
     "metadata": {
      "needs_background": "light"
     },
     "output_type": "display_data"
    }
   ],
   "source": [
    "#fig, ax = plt.subplots(1,1, figsize=(20,10))\n",
    "#ax=sns.plot(x='country', hue='is_fraud',data=data, stacked=True)\n",
    "df_plot = data.groupby(['country', 'is_fraud']).size().reset_index().pivot(columns='is_fraud', index='country', values=0)\n",
    "ax = df_plot.plot(kind='bar', stacked=True, figsize=(20,10))\n",
    "ax.set(yscale='log')"
   ]
  },
  {
   "cell_type": "code",
   "execution_count": 34,
   "metadata": {},
   "outputs": [
    {
     "data": {
      "text/plain": [
       "event_created        -0.006436\n",
       "venue_latitude        0.010126\n",
       "gts                  -0.017875\n",
       "object_id             0.026721\n",
       "event_end            -0.042553\n",
       "approx_payout_date   -0.042553\n",
       "event_start          -0.044995\n",
       "venue_longitude       0.066057\n",
       "show_map             -0.076217\n",
       "event_published      -0.077322\n",
       "num_order            -0.078008\n",
       "has_header           -0.082101\n",
       "num_payouts          -0.083433\n",
       "has_analytics        -0.084626\n",
       "fb_published         -0.099143\n",
       "body_length          -0.118308\n",
       "name_length          -0.158447\n",
       "channels             -0.165358\n",
       "has_logo             -0.169485\n",
       "sale_duration        -0.179512\n",
       "sale_duration2       -0.179550\n",
       "org_facebook         -0.181792\n",
       "user_created          0.184360\n",
       "delivery_method      -0.194046\n",
       "org_twitter          -0.205692\n",
       "user_type            -0.213911\n",
       "user_age             -0.215929\n",
       "is_fraud              1.000000\n",
       "Name: is_fraud, dtype: float64"
      ]
     },
     "execution_count": 34,
     "metadata": {},
     "output_type": "execute_result"
    }
   ],
   "source": [
    "data.corr()['is_fraud'][np.argsort(abs(data.corr()['is_fraud']))]"
   ]
  },
  {
   "cell_type": "code",
   "execution_count": 35,
   "metadata": {},
   "outputs": [
    {
     "data": {
      "text/plain": [
       "['body_length',\n",
       " 'channels',\n",
       " 'delivery_method',\n",
       " 'event_published',\n",
       " 'fb_published',\n",
       " 'has_analytics',\n",
       " 'has_header',\n",
       " 'has_logo',\n",
       " 'name_length',\n",
       " 'num_order',\n",
       " 'num_payouts',\n",
       " 'org_facebook',\n",
       " 'org_twitter',\n",
       " 'sale_duration',\n",
       " 'sale_duration2',\n",
       " 'show_map',\n",
       " 'user_age',\n",
       " 'user_created',\n",
       " 'user_type',\n",
       " 'is_fraud']"
      ]
     },
     "execution_count": 35,
     "metadata": {},
     "output_type": "execute_result"
    }
   ],
   "source": [
    "cols=list((data.corr()[abs(data.corr()['is_fraud'])>0.07][['is_fraud']]).index)\n",
    "cols"
   ]
  },
  {
   "cell_type": "code",
   "execution_count": 36,
   "metadata": {},
   "outputs": [
    {
     "data": {
      "text/plain": [
       "Text(0.5, 1.0, 'Correlation betwen columns')"
      ]
     },
     "execution_count": 36,
     "metadata": {},
     "output_type": "execute_result"
    },
    {
     "data": {
      "image/png": "[encoded data removed]",
      "text/plain": [
       "<Figure size 1296x720 with 2 Axes>"
      ]
     },
     "metadata": {
      "needs_background": "light"
     },
     "output_type": "display_data"
    }
   ],
   "source": [
    "plt.figure(figsize=(18,10))\n",
    "sns.heatmap(data.corr(),cmap='Greens',annot=False)\n",
    "plt.title('Correlation betwen columns')"
   ]
  },
  {
   "cell_type": "code",
   "execution_count": 37,
   "metadata": {},
   "outputs": [
    {
     "data": {
      "text/html": [
       "<div>\n",
       "<style scoped>\n",
       "    .dataframe tbody tr th:only-of-type {\n",
       "        vertical-align: middle;\n",
       "    }\n",
       "\n",
       "    .dataframe tbody tr th {\n",
       "        vertical-align: top;\n",
       "    }\n",
       "\n",
       "    .dataframe thead th {\n",
       "        text-align: right;\n",
       "    }\n",
       "</style>\n",
       "<table border=\"1\" class=\"dataframe\">\n",
       "  <thead>\n",
       "    <tr style=\"text-align: right;\">\n",
       "      <th></th>\n",
       "      <th>event_created</th>\n",
       "      <th>event_end</th>\n",
       "      <th>event_published</th>\n",
       "      <th>event_start</th>\n",
       "    </tr>\n",
       "  </thead>\n",
       "  <tbody>\n",
       "    <tr>\n",
       "      <th>0</th>\n",
       "      <td>1262739706</td>\n",
       "      <td>1265630400</td>\n",
       "      <td>1.263110e+09</td>\n",
       "      <td>1265594400</td>\n",
       "    </tr>\n",
       "    <tr>\n",
       "      <th>1</th>\n",
       "      <td>1293832670</td>\n",
       "      <td>1296288000</td>\n",
       "      <td>1.293833e+09</td>\n",
       "      <td>1296255600</td>\n",
       "    </tr>\n",
       "    <tr>\n",
       "      <th>2</th>\n",
       "      <td>1291090956</td>\n",
       "      <td>1295740800</td>\n",
       "      <td>1.291092e+09</td>\n",
       "      <td>1295713800</td>\n",
       "    </tr>\n",
       "    <tr>\n",
       "      <th>3</th>\n",
       "      <td>1360681570</td>\n",
       "      <td>1388534400</td>\n",
       "      <td>1.360683e+09</td>\n",
       "      <td>1360702800</td>\n",
       "    </tr>\n",
       "    <tr>\n",
       "      <th>4</th>\n",
       "      <td>1291994666</td>\n",
       "      <td>1297468800</td>\n",
       "      <td>1.291995e+09</td>\n",
       "      <td>1297440000</td>\n",
       "    </tr>\n",
       "    <tr>\n",
       "      <th>...</th>\n",
       "      <td>...</td>\n",
       "      <td>...</td>\n",
       "      <td>...</td>\n",
       "      <td>...</td>\n",
       "    </tr>\n",
       "    <tr>\n",
       "      <th>14332</th>\n",
       "      <td>1360297993</td>\n",
       "      <td>1361257200</td>\n",
       "      <td>1.360299e+09</td>\n",
       "      <td>1361232000</td>\n",
       "    </tr>\n",
       "    <tr>\n",
       "      <th>14333</th>\n",
       "      <td>1360367042</td>\n",
       "      <td>1365134400</td>\n",
       "      <td>1.360370e+09</td>\n",
       "      <td>1365123600</td>\n",
       "    </tr>\n",
       "    <tr>\n",
       "      <th>14334</th>\n",
       "      <td>1360600330</td>\n",
       "      <td>1368349200</td>\n",
       "      <td>1.361337e+09</td>\n",
       "      <td>1368327600</td>\n",
       "    </tr>\n",
       "    <tr>\n",
       "      <th>14335</th>\n",
       "      <td>1360376285</td>\n",
       "      <td>1360929600</td>\n",
       "      <td>1.360377e+09</td>\n",
       "      <td>1360890000</td>\n",
       "    </tr>\n",
       "    <tr>\n",
       "      <th>14336</th>\n",
       "      <td>1360686846</td>\n",
       "      <td>1362888000</td>\n",
       "      <td>1.360687e+09</td>\n",
       "      <td>1360740600</td>\n",
       "    </tr>\n",
       "  </tbody>\n",
       "</table>\n",
       "<p>14337 rows × 4 columns</p>\n",
       "</div>"
      ],
      "text/plain": [
       "       event_created   event_end  event_published  event_start\n",
       "0         1262739706  1265630400     1.263110e+09   1265594400\n",
       "1         1293832670  1296288000     1.293833e+09   1296255600\n",
       "2         1291090956  1295740800     1.291092e+09   1295713800\n",
       "3         1360681570  1388534400     1.360683e+09   1360702800\n",
       "4         1291994666  1297468800     1.291995e+09   1297440000\n",
       "...              ...         ...              ...          ...\n",
       "14332     1360297993  1361257200     1.360299e+09   1361232000\n",
       "14333     1360367042  1365134400     1.360370e+09   1365123600\n",
       "14334     1360600330  1368349200     1.361337e+09   1368327600\n",
       "14335     1360376285  1360929600     1.360377e+09   1360890000\n",
       "14336     1360686846  1362888000     1.360687e+09   1360740600\n",
       "\n",
       "[14337 rows x 4 columns]"
      ]
     },
     "execution_count": 37,
     "metadata": {},
     "output_type": "execute_result"
    }
   ],
   "source": [
    "data[['event_created', \n",
    "        'event_end', \n",
    "        'event_published', \n",
    "        'event_start']]"
   ]
  },
  {
   "cell_type": "markdown",
   "metadata": {},
   "source": [
    "PCA"
   ]
  },
  {
   "cell_type": "code",
   "execution_count": 38,
   "metadata": {},
   "outputs": [],
   "source": [
    "simple_PCA = PCA(n_components=5)"
   ]
  },
  {
   "cell_type": "code",
   "execution_count": 39,
   "metadata": {},
   "outputs": [],
   "source": [
    "#simple_PCA.fit(data)"
   ]
  },
  {
   "cell_type": "markdown",
   "metadata": {},
   "source": [
    "Keeping only numerical values"
   ]
  },
  {
   "cell_type": "code",
   "execution_count": 40,
   "metadata": {},
   "outputs": [
    {
     "name": "stdout",
     "output_type": "stream",
     "text": [
      "<class 'pandas.core.frame.DataFrame'>\n",
      "RangeIndex: 14337 entries, 0 to 14336\n",
      "Data columns (total 45 columns):\n",
      " #   Column              Non-Null Count  Dtype  \n",
      "---  ------              --------------  -----  \n",
      " 0   acct_type           14337 non-null  object \n",
      " 1   approx_payout_date  14337 non-null  int64  \n",
      " 2   body_length         14337 non-null  int64  \n",
      " 3   channels            14337 non-null  int64  \n",
      " 4   country             14256 non-null  object \n",
      " 5   currency            14337 non-null  object \n",
      " 6   delivery_method     14321 non-null  float64\n",
      " 7   description         14337 non-null  object \n",
      " 8   email_domain        14337 non-null  object \n",
      " 9   event_created       14337 non-null  int64  \n",
      " 10  event_end           14337 non-null  int64  \n",
      " 11  event_published     14238 non-null  float64\n",
      " 12  event_start         14337 non-null  int64  \n",
      " 13  fb_published        14337 non-null  int64  \n",
      " 14  gts                 14337 non-null  float64\n",
      " 15  has_analytics       14337 non-null  int64  \n",
      " 16  has_header          8928 non-null   float64\n",
      " 17  has_logo            14337 non-null  int64  \n",
      " 18  listed              14337 non-null  object \n",
      " 19  name                14337 non-null  object \n",
      " 20  name_length         14337 non-null  int64  \n",
      " 21  num_order           14337 non-null  int64  \n",
      " 22  num_payouts         14337 non-null  int64  \n",
      " 23  object_id           14337 non-null  int64  \n",
      " 24  org_desc            14337 non-null  object \n",
      " 25  org_facebook        14278 non-null  float64\n",
      " 26  org_name            14337 non-null  object \n",
      " 27  org_twitter         14278 non-null  float64\n",
      " 28  payee_name          14337 non-null  object \n",
      " 29  payout_type         14337 non-null  object \n",
      " 30  previous_payouts    14337 non-null  object \n",
      " 31  sale_duration       14182 non-null  float64\n",
      " 32  sale_duration2      14337 non-null  int64  \n",
      " 33  show_map            14337 non-null  int64  \n",
      " 34  ticket_types        14337 non-null  object \n",
      " 35  user_age            14337 non-null  int64  \n",
      " 36  user_created        14337 non-null  int64  \n",
      " 37  user_type           14337 non-null  int64  \n",
      " 38  venue_address       14337 non-null  object \n",
      " 39  venue_country       13261 non-null  object \n",
      " 40  venue_latitude      13261 non-null  float64\n",
      " 41  venue_longitude     13261 non-null  float64\n",
      " 42  venue_name          13261 non-null  object \n",
      " 43  venue_state         13261 non-null  object \n",
      " 44  is_fraud            14337 non-null  bool   \n",
      "dtypes: bool(1), float64(9), int64(18), object(17)\n",
      "memory usage: 4.8+ MB\n"
     ]
    }
   ],
   "source": [
    "data.info()"
   ]
  },
  {
   "cell_type": "markdown",
   "metadata": {},
   "source": [
    "### Random Forest"
   ]
  },
  {
   "cell_type": "code",
   "execution_count": 41,
   "metadata": {},
   "outputs": [],
   "source": [
    "data_model=data[cols]"
   ]
  },
  {
   "cell_type": "code",
   "execution_count": 42,
   "metadata": {},
   "outputs": [
    {
     "data": {
      "text/plain": [
       "0.0    7124\n",
       "1.0    1804\n",
       "Name: has_header, dtype: int64"
      ]
     },
     "execution_count": 42,
     "metadata": {},
     "output_type": "execute_result"
    }
   ],
   "source": [
    "data_model.has_header.value_counts()"
   ]
  },
  {
   "cell_type": "code",
   "execution_count": 43,
   "metadata": {},
   "outputs": [
    {
     "data": {
      "text/plain": [
       "Index(['body_length', 'channels', 'delivery_method', 'event_published',\n",
       "       'fb_published', 'has_analytics', 'has_header', 'has_logo',\n",
       "       'name_length', 'num_order', 'num_payouts', 'org_facebook',\n",
       "       'org_twitter', 'sale_duration', 'sale_duration2', 'show_map',\n",
       "       'user_age', 'user_created', 'user_type', 'is_fraud'],\n",
       "      dtype='object')"
      ]
     },
     "execution_count": 43,
     "metadata": {},
     "output_type": "execute_result"
    }
   ],
   "source": [
    "data_model.columns"
   ]
  },
  {
   "cell_type": "code",
   "execution_count": 44,
   "metadata": {},
   "outputs": [],
   "source": [
    "data_model=data_model.drop('has_header',axis=1)"
   ]
  },
  {
   "cell_type": "code",
   "execution_count": 45,
   "metadata": {},
   "outputs": [
    {
     "name": "stdout",
     "output_type": "stream",
     "text": [
      "<class 'pandas.core.frame.DataFrame'>\n",
      "RangeIndex: 14337 entries, 0 to 14336\n",
      "Data columns (total 19 columns):\n",
      " #   Column           Non-Null Count  Dtype  \n",
      "---  ------           --------------  -----  \n",
      " 0   body_length      14337 non-null  int64  \n",
      " 1   channels         14337 non-null  int64  \n",
      " 2   delivery_method  14321 non-null  float64\n",
      " 3   event_published  14238 non-null  float64\n",
      " 4   fb_published     14337 non-null  int64  \n",
      " 5   has_analytics    14337 non-null  int64  \n",
      " 6   has_logo         14337 non-null  int64  \n",
      " 7   name_length      14337 non-null  int64  \n",
      " 8   num_order        14337 non-null  int64  \n",
      " 9   num_payouts      14337 non-null  int64  \n",
      " 10  org_facebook     14278 non-null  float64\n",
      " 11  org_twitter      14278 non-null  float64\n",
      " 12  sale_duration    14182 non-null  float64\n",
      " 13  sale_duration2   14337 non-null  int64  \n",
      " 14  show_map         14337 non-null  int64  \n",
      " 15  user_age         14337 non-null  int64  \n",
      " 16  user_created     14337 non-null  int64  \n",
      " 17  user_type        14337 non-null  int64  \n",
      " 18  is_fraud         14337 non-null  bool   \n",
      "dtypes: bool(1), float64(5), int64(13)\n",
      "memory usage: 2.0 MB\n"
     ]
    }
   ],
   "source": [
    "data_model.info()"
   ]
  },
  {
   "cell_type": "code",
   "execution_count": 46,
   "metadata": {},
   "outputs": [
    {
     "data": {
      "text/html": [
       "<div>\n",
       "<style scoped>\n",
       "    .dataframe tbody tr th:only-of-type {\n",
       "        vertical-align: middle;\n",
       "    }\n",
       "\n",
       "    .dataframe tbody tr th {\n",
       "        vertical-align: top;\n",
       "    }\n",
       "\n",
       "    .dataframe thead th {\n",
       "        text-align: right;\n",
       "    }\n",
       "</style>\n",
       "<table border=\"1\" class=\"dataframe\">\n",
       "  <thead>\n",
       "    <tr style=\"text-align: right;\">\n",
       "      <th></th>\n",
       "      <th>body_length</th>\n",
       "      <th>channels</th>\n",
       "      <th>delivery_method</th>\n",
       "      <th>event_published</th>\n",
       "      <th>fb_published</th>\n",
       "      <th>has_analytics</th>\n",
       "      <th>has_logo</th>\n",
       "      <th>name_length</th>\n",
       "      <th>num_order</th>\n",
       "      <th>num_payouts</th>\n",
       "      <th>org_facebook</th>\n",
       "      <th>org_twitter</th>\n",
       "      <th>sale_duration</th>\n",
       "      <th>sale_duration2</th>\n",
       "      <th>show_map</th>\n",
       "      <th>user_age</th>\n",
       "      <th>user_created</th>\n",
       "      <th>user_type</th>\n",
       "      <th>is_fraud</th>\n",
       "    </tr>\n",
       "  </thead>\n",
       "  <tbody>\n",
       "    <tr>\n",
       "      <th>0</th>\n",
       "      <td>3852</td>\n",
       "      <td>5</td>\n",
       "      <td>0.0</td>\n",
       "      <td>1.263110e+09</td>\n",
       "      <td>0</td>\n",
       "      <td>0</td>\n",
       "      <td>0</td>\n",
       "      <td>60</td>\n",
       "      <td>0</td>\n",
       "      <td>0</td>\n",
       "      <td>0.0</td>\n",
       "      <td>0.0</td>\n",
       "      <td>29.0</td>\n",
       "      <td>33</td>\n",
       "      <td>1</td>\n",
       "      <td>36</td>\n",
       "      <td>1259613950</td>\n",
       "      <td>1</td>\n",
       "      <td>True</td>\n",
       "    </tr>\n",
       "    <tr>\n",
       "      <th>1</th>\n",
       "      <td>3499</td>\n",
       "      <td>0</td>\n",
       "      <td>1.0</td>\n",
       "      <td>1.293833e+09</td>\n",
       "      <td>0</td>\n",
       "      <td>0</td>\n",
       "      <td>1</td>\n",
       "      <td>27</td>\n",
       "      <td>23</td>\n",
       "      <td>1</td>\n",
       "      <td>0.0</td>\n",
       "      <td>12.0</td>\n",
       "      <td>28.0</td>\n",
       "      <td>28</td>\n",
       "      <td>0</td>\n",
       "      <td>149</td>\n",
       "      <td>1280942776</td>\n",
       "      <td>3</td>\n",
       "      <td>False</td>\n",
       "    </tr>\n",
       "    <tr>\n",
       "      <th>2</th>\n",
       "      <td>2601</td>\n",
       "      <td>8</td>\n",
       "      <td>1.0</td>\n",
       "      <td>1.291092e+09</td>\n",
       "      <td>0</td>\n",
       "      <td>0</td>\n",
       "      <td>0</td>\n",
       "      <td>28</td>\n",
       "      <td>19</td>\n",
       "      <td>4</td>\n",
       "      <td>0.0</td>\n",
       "      <td>0.0</td>\n",
       "      <td>54.0</td>\n",
       "      <td>54</td>\n",
       "      <td>0</td>\n",
       "      <td>214</td>\n",
       "      <td>1272559388</td>\n",
       "      <td>3</td>\n",
       "      <td>False</td>\n",
       "    </tr>\n",
       "    <tr>\n",
       "      <th>3</th>\n",
       "      <td>12347</td>\n",
       "      <td>6</td>\n",
       "      <td>1.0</td>\n",
       "      <td>1.360683e+09</td>\n",
       "      <td>0</td>\n",
       "      <td>0</td>\n",
       "      <td>1</td>\n",
       "      <td>21</td>\n",
       "      <td>39</td>\n",
       "      <td>16</td>\n",
       "      <td>0.0</td>\n",
       "      <td>0.0</td>\n",
       "      <td>0.0</td>\n",
       "      <td>0</td>\n",
       "      <td>0</td>\n",
       "      <td>889</td>\n",
       "      <td>1283870102</td>\n",
       "      <td>3</td>\n",
       "      <td>False</td>\n",
       "    </tr>\n",
       "    <tr>\n",
       "      <th>4</th>\n",
       "      <td>2417</td>\n",
       "      <td>11</td>\n",
       "      <td>0.0</td>\n",
       "      <td>1.291995e+09</td>\n",
       "      <td>1</td>\n",
       "      <td>0</td>\n",
       "      <td>0</td>\n",
       "      <td>66</td>\n",
       "      <td>30</td>\n",
       "      <td>0</td>\n",
       "      <td>0.0</td>\n",
       "      <td>0.0</td>\n",
       "      <td>63.0</td>\n",
       "      <td>63</td>\n",
       "      <td>0</td>\n",
       "      <td>35</td>\n",
       "      <td>1288984065</td>\n",
       "      <td>3</td>\n",
       "      <td>False</td>\n",
       "    </tr>\n",
       "    <tr>\n",
       "      <th>...</th>\n",
       "      <td>...</td>\n",
       "      <td>...</td>\n",
       "      <td>...</td>\n",
       "      <td>...</td>\n",
       "      <td>...</td>\n",
       "      <td>...</td>\n",
       "      <td>...</td>\n",
       "      <td>...</td>\n",
       "      <td>...</td>\n",
       "      <td>...</td>\n",
       "      <td>...</td>\n",
       "      <td>...</td>\n",
       "      <td>...</td>\n",
       "      <td>...</td>\n",
       "      <td>...</td>\n",
       "      <td>...</td>\n",
       "      <td>...</td>\n",
       "      <td>...</td>\n",
       "      <td>...</td>\n",
       "    </tr>\n",
       "    <tr>\n",
       "      <th>14332</th>\n",
       "      <td>667</td>\n",
       "      <td>0</td>\n",
       "      <td>0.0</td>\n",
       "      <td>1.360299e+09</td>\n",
       "      <td>0</td>\n",
       "      <td>0</td>\n",
       "      <td>1</td>\n",
       "      <td>27</td>\n",
       "      <td>0</td>\n",
       "      <td>0</td>\n",
       "      <td>0.0</td>\n",
       "      <td>0.0</td>\n",
       "      <td>11.0</td>\n",
       "      <td>11</td>\n",
       "      <td>1</td>\n",
       "      <td>0</td>\n",
       "      <td>1360297993</td>\n",
       "      <td>1</td>\n",
       "      <td>True</td>\n",
       "    </tr>\n",
       "    <tr>\n",
       "      <th>14333</th>\n",
       "      <td>5812</td>\n",
       "      <td>5</td>\n",
       "      <td>1.0</td>\n",
       "      <td>1.360370e+09</td>\n",
       "      <td>0</td>\n",
       "      <td>0</td>\n",
       "      <td>0</td>\n",
       "      <td>42</td>\n",
       "      <td>33</td>\n",
       "      <td>4</td>\n",
       "      <td>0.0</td>\n",
       "      <td>0.0</td>\n",
       "      <td>55.0</td>\n",
       "      <td>55</td>\n",
       "      <td>1</td>\n",
       "      <td>1374</td>\n",
       "      <td>1241625346</td>\n",
       "      <td>4</td>\n",
       "      <td>False</td>\n",
       "    </tr>\n",
       "    <tr>\n",
       "      <th>14334</th>\n",
       "      <td>557</td>\n",
       "      <td>13</td>\n",
       "      <td>0.0</td>\n",
       "      <td>1.361337e+09</td>\n",
       "      <td>1</td>\n",
       "      <td>0</td>\n",
       "      <td>1</td>\n",
       "      <td>67</td>\n",
       "      <td>1</td>\n",
       "      <td>0</td>\n",
       "      <td>0.0</td>\n",
       "      <td>0.0</td>\n",
       "      <td>81.0</td>\n",
       "      <td>89</td>\n",
       "      <td>1</td>\n",
       "      <td>84</td>\n",
       "      <td>1353386971</td>\n",
       "      <td>4</td>\n",
       "      <td>False</td>\n",
       "    </tr>\n",
       "    <tr>\n",
       "      <th>14335</th>\n",
       "      <td>10873</td>\n",
       "      <td>8</td>\n",
       "      <td>0.0</td>\n",
       "      <td>1.360377e+09</td>\n",
       "      <td>0</td>\n",
       "      <td>0</td>\n",
       "      <td>1</td>\n",
       "      <td>54</td>\n",
       "      <td>2</td>\n",
       "      <td>101</td>\n",
       "      <td>0.0</td>\n",
       "      <td>0.0</td>\n",
       "      <td>6.0</td>\n",
       "      <td>6</td>\n",
       "      <td>1</td>\n",
       "      <td>812</td>\n",
       "      <td>1290204991</td>\n",
       "      <td>3</td>\n",
       "      <td>False</td>\n",
       "    </tr>\n",
       "    <tr>\n",
       "      <th>14336</th>\n",
       "      <td>0</td>\n",
       "      <td>0</td>\n",
       "      <td>0.0</td>\n",
       "      <td>1.360687e+09</td>\n",
       "      <td>0</td>\n",
       "      <td>0</td>\n",
       "      <td>1</td>\n",
       "      <td>11</td>\n",
       "      <td>2</td>\n",
       "      <td>0</td>\n",
       "      <td>0.0</td>\n",
       "      <td>0.0</td>\n",
       "      <td>0.0</td>\n",
       "      <td>0</td>\n",
       "      <td>1</td>\n",
       "      <td>0</td>\n",
       "      <td>1360686845</td>\n",
       "      <td>1</td>\n",
       "      <td>True</td>\n",
       "    </tr>\n",
       "  </tbody>\n",
       "</table>\n",
       "<p>14337 rows × 19 columns</p>\n",
       "</div>"
      ],
      "text/plain": [
       "       body_length  channels  delivery_method  event_published  fb_published  \\\n",
       "0             3852         5              0.0     1.263110e+09             0   \n",
       "1             3499         0              1.0     1.293833e+09             0   \n",
       "2             2601         8              1.0     1.291092e+09             0   \n",
       "3            12347         6              1.0     1.360683e+09             0   \n",
       "4             2417        11              0.0     1.291995e+09             1   \n",
       "...            ...       ...              ...              ...           ...   \n",
       "14332          667         0              0.0     1.360299e+09             0   \n",
       "14333         5812         5              1.0     1.360370e+09             0   \n",
       "14334          557        13              0.0     1.361337e+09             1   \n",
       "14335        10873         8              0.0     1.360377e+09             0   \n",
       "14336            0         0              0.0     1.360687e+09             0   \n",
       "\n",
       "       has_analytics  has_logo  name_length  num_order  num_payouts  \\\n",
       "0                  0         0           60          0            0   \n",
       "1                  0         1           27         23            1   \n",
       "2                  0         0           28         19            4   \n",
       "3                  0         1           21         39           16   \n",
       "4                  0         0           66         30            0   \n",
       "...              ...       ...          ...        ...          ...   \n",
       "14332              0         1           27          0            0   \n",
       "14333              0         0           42         33            4   \n",
       "14334              0         1           67          1            0   \n",
       "14335              0         1           54          2          101   \n",
       "14336              0         1           11          2            0   \n",
       "\n",
       "       org_facebook  org_twitter  sale_duration  sale_duration2  show_map  \\\n",
       "0               0.0          0.0           29.0              33         1   \n",
       "1               0.0         12.0           28.0              28         0   \n",
       "2               0.0          0.0           54.0              54         0   \n",
       "3               0.0          0.0            0.0               0         0   \n",
       "4               0.0          0.0           63.0              63         0   \n",
       "...             ...          ...            ...             ...       ...   \n",
       "14332           0.0          0.0           11.0              11         1   \n",
       "14333           0.0          0.0           55.0              55         1   \n",
       "14334           0.0          0.0           81.0              89         1   \n",
       "14335           0.0          0.0            6.0               6         1   \n",
       "14336           0.0          0.0            0.0               0         1   \n",
       "\n",
       "       user_age  user_created  user_type  is_fraud  \n",
       "0            36    1259613950          1      True  \n",
       "1           149    1280942776          3     False  \n",
       "2           214    1272559388          3     False  \n",
       "3           889    1283870102          3     False  \n",
       "4            35    1288984065          3     False  \n",
       "...         ...           ...        ...       ...  \n",
       "14332         0    1360297993          1      True  \n",
       "14333      1374    1241625346          4     False  \n",
       "14334        84    1353386971          4     False  \n",
       "14335       812    1290204991          3     False  \n",
       "14336         0    1360686845          1      True  \n",
       "\n",
       "[14337 rows x 19 columns]"
      ]
     },
     "execution_count": 46,
     "metadata": {},
     "output_type": "execute_result"
    }
   ],
   "source": [
    "data_model"
   ]
  },
  {
   "cell_type": "code",
   "execution_count": 47,
   "metadata": {},
   "outputs": [],
   "source": [
    "data_model=data_model.dropna()"
   ]
  },
  {
   "cell_type": "code",
   "execution_count": 48,
   "metadata": {},
   "outputs": [],
   "source": [
    "X = data_model.drop('is_fraud', axis =1)\n",
    "y = data_model['is_fraud']\n",
    "\n",
    "X_train, X_test, y_train, y_test = train_test_split(X, y, test_size=0.2, random_state=15, stratify = y)"
   ]
  },
  {
   "cell_type": "code",
   "execution_count": 84,
   "metadata": {},
   "outputs": [
    {
     "data": {
      "text/plain": [
       "RandomForestClassifier()"
      ]
     },
     "execution_count": 84,
     "metadata": {},
     "output_type": "execute_result"
    }
   ],
   "source": [
    "clf = RandomForestClassifier(n_estimators=100)\n",
    "clf.fit(X_train, y_train)"
   ]
  },
  {
   "cell_type": "code",
   "execution_count": 85,
   "metadata": {},
   "outputs": [],
   "source": [
    "y_pred=clf.predict(X_test)"
   ]
  },
  {
   "cell_type": "code",
   "execution_count": 86,
   "metadata": {},
   "outputs": [
    {
     "name": "stdout",
     "output_type": "stream",
     "text": [
      "              precision    recall  f1-score   support\n",
      "\n",
      "       False       0.98      0.99      0.99      2601\n",
      "        True       0.89      0.80      0.84       226\n",
      "\n",
      "    accuracy                           0.98      2827\n",
      "   macro avg       0.94      0.90      0.92      2827\n",
      "weighted avg       0.98      0.98      0.98      2827\n",
      "\n"
     ]
    }
   ],
   "source": [
    "print(classification_report(y_test, y_pred))"
   ]
  },
  {
   "cell_type": "code",
   "execution_count": 87,
   "metadata": {},
   "outputs": [
    {
     "data": {
      "text/plain": [
       "array([[2579,   22],\n",
       "       [  45,  181]])"
      ]
     },
     "execution_count": 87,
     "metadata": {},
     "output_type": "execute_result"
    }
   ],
   "source": [
    "confusion_matrix(y_test, y_pred)"
   ]
  },
  {
   "cell_type": "code",
   "execution_count": 88,
   "metadata": {},
   "outputs": [],
   "source": [
    "def confmat(true_labels, predicted_labels, columns, colour ='magma_r', size = (14,7)):\n",
    "    \"\"\"\n",
    "    confmat: creates a confusion matrix from the true_labels and predicted_labels\n",
    "    \"\"\"\n",
    "    cm = confusion_matrix(true_labels, predicted_labels) \n",
    "    cm_df = pd.DataFrame(cm,\n",
    "    index = [col for col in columns], \n",
    "    columns = [col for col in columns])\n",
    "    fig=plt.figure(figsize=(14,10))\n",
    "    sns.heatmap(cm_df, annot = True, fmt='g', linewidths=.2)\n",
    "    plt.title('Confusion Matrix', fontsize = 20)\n",
    "    plt.ylabel('True label', fontsize = 18)\n",
    "    plt.xlabel('Predicted label', fontsize = 18)\n",
    "    plt.tick_params(axis='both', labelsize=14)\n",
    "    plt.show()\n",
    "    return fig"
   ]
  },
  {
   "cell_type": "code",
   "execution_count": 54,
   "metadata": {},
   "outputs": [
    {
     "data": {
      "image/png": "[encoded data removed]",
      "text/plain": [
       "<Figure size 1008x720 with 2 Axes>"
      ]
     },
     "metadata": {
      "needs_background": "light"
     },
     "output_type": "display_data"
    }
   ],
   "source": [
    "ax=confmat(y_test, y_pred,[False, True])"
   ]
  },
  {
   "cell_type": "code",
   "execution_count": 95,
   "metadata": {},
   "outputs": [],
   "source": [
    "grb = GradientBoostingClassifier(n_estimators=750, learning_rate=0.02, max_depth=4)"
   ]
  },
  {
   "cell_type": "code",
   "execution_count": 96,
   "metadata": {},
   "outputs": [
    {
     "data": {
      "text/plain": [
       "GradientBoostingClassifier(learning_rate=0.02, max_depth=4, n_estimators=750)"
      ]
     },
     "execution_count": 96,
     "metadata": {},
     "output_type": "execute_result"
    }
   ],
   "source": [
    "grb.fit(X_train, y_train)"
   ]
  },
  {
   "cell_type": "code",
   "execution_count": 97,
   "metadata": {},
   "outputs": [],
   "source": [
    "y_grb=clf.predict(X_test)"
   ]
  },
  {
   "cell_type": "code",
   "execution_count": 98,
   "metadata": {},
   "outputs": [
    {
     "name": "stdout",
     "output_type": "stream",
     "text": [
      "              precision    recall  f1-score   support\n",
      "\n",
      "       False       0.98      0.99      0.99      2601\n",
      "        True       0.89      0.80      0.84       226\n",
      "\n",
      "    accuracy                           0.98      2827\n",
      "   macro avg       0.94      0.90      0.92      2827\n",
      "weighted avg       0.98      0.98      0.98      2827\n",
      "\n"
     ]
    }
   ],
   "source": [
    "print(classification_report(y_test, y_grb))"
   ]
  },
  {
   "cell_type": "code",
   "execution_count": 99,
   "metadata": {},
   "outputs": [],
   "source": [
    "fpr, tpr, thresholds = roc_curve(y_test, y_pred)\n",
    "fpr_grb, tpr_grb, thresholds_grb = roc_curve(y_test, y_grb)"
   ]
  },
  {
   "cell_type": "code",
   "execution_count": 100,
   "metadata": {},
   "outputs": [
    {
     "data": {
      "text/plain": [
       "<matplotlib.legend.Legend at 0x7f7aeb08e490>"
      ]
     },
     "execution_count": 100,
     "metadata": {},
     "output_type": "execute_result"
    },
    {
     "data": {
      "image/png": "[encoded data removed]",
      "text/plain": [
       "<Figure size 432x288 with 1 Axes>"
      ]
     },
     "metadata": {
      "needs_background": "light"
     },
     "output_type": "display_data"
    }
   ],
   "source": [
    "plt.figure(1)\n",
    "plt.plot([0, 1], [0, 1], 'k--')\n",
    "plt.plot(fpr, tpr, label='Random Forest')\n",
    "plt.plot(fpr_grb, tpr_grb, 'k--', label='Gradient Boosting')\n",
    "plt.xlabel('False positive rate')\n",
    "plt.ylabel('True positive rate')\n",
    "plt.title('ROC curve')\n",
    "plt.legend(loc='best')"
   ]
  },
  {
   "cell_type": "code",
   "execution_count": null,
   "metadata": {},
   "outputs": [],
   "source": []
  }
 ],
 "metadata": {
  "kernelspec": {
   "display_name": "Python 3",
   "language": "python",
   "name": "python3"
  },
  "language_info": {
   "codemirror_mode": {
    "name": "ipython",
    "version": 3
   },
   "file_extension": ".py",
   "mimetype": "text/x-python",
   "name": "python",
   "nbconvert_exporter": "python",
   "pygments_lexer": "ipython3",
   "version": "3.7.7"
  }
 },
 "nbformat": 4,
 "nbformat_minor": 4
}
