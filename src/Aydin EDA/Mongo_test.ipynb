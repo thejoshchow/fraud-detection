{
 "cells": [
  {
   "cell_type": "code",
   "execution_count": 1,
   "metadata": {},
   "outputs": [],
   "source": [
    "import pandas as pd\n",
    "import numpy as np\n",
    "import pickle\n",
    "from pymongo import MongoClient"
   ]
  },
  {
   "cell_type": "code",
   "execution_count": 2,
   "metadata": {},
   "outputs": [],
   "source": [
    "import json"
   ]
  },
  {
   "cell_type": "code",
   "execution_count": 3,
   "metadata": {},
   "outputs": [],
   "source": [
    "client = MongoClient('localhost', 27017)\n",
    "db = client['test_database']\n",
    "test_collection = db['test_collection']"
   ]
  },
  {
   "cell_type": "code",
   "execution_count": 4,
   "metadata": {},
   "outputs": [],
   "source": [
    "#client.drop_database('test_database')"
   ]
  },
  {
   "cell_type": "code",
   "execution_count": 5,
   "metadata": {},
   "outputs": [],
   "source": [
    "#client.database_names()"
   ]
  },
  {
   "cell_type": "code",
   "execution_count": 6,
   "metadata": {},
   "outputs": [],
   "source": [
    "#df = pd.read_json('test.json')"
   ]
  },
  {
   "cell_type": "code",
   "execution_count": 7,
   "metadata": {},
   "outputs": [],
   "source": [
    "#df"
   ]
  },
  {
   "cell_type": "code",
   "execution_count": 8,
   "metadata": {},
   "outputs": [],
   "source": [
    "#d=df.to_dict('records')[0]"
   ]
  },
  {
   "cell_type": "code",
   "execution_count": 9,
   "metadata": {},
   "outputs": [],
   "source": [
    "#test_collection.insert_one(d)"
   ]
  },
  {
   "cell_type": "code",
   "execution_count": 10,
   "metadata": {},
   "outputs": [],
   "source": [
    "#test_collection.find()"
   ]
  },
  {
   "cell_type": "code",
   "execution_count": 11,
   "metadata": {},
   "outputs": [
    {
     "data": {
      "text/plain": [
       "<pymongo.cursor.Cursor at 0x7f61bb001e50>"
      ]
     },
     "execution_count": 11,
     "metadata": {},
     "output_type": "execute_result"
    }
   ],
   "source": [
    "db.test_collection.find().limit(2)"
   ]
  },
  {
   "cell_type": "code",
   "execution_count": 12,
   "metadata": {},
   "outputs": [
    {
     "data": {
      "text/plain": [
       "{'_id': ObjectId('5fdd268de20cae43704fb31a'),\n",
       " 'body_length': 7085,\n",
       " 'channels': 8,\n",
       " 'country': 'CA',\n",
       " 'currency': 'CAD',\n",
       " 'delivery_method': 0.0,\n",
       " 'description': '<p class=\"MsoNormal\" style=\"font-family: \\'Helvetica Neue\\', Helvetica, Arial, sans-serif; font-size: 13px;\"><span style=\"font-family: Verdana, sans-serif; font-size: 10pt;\">Cette formation a été conçue pour vous donner une longueur d\\'avance dans l\\'adoption des pratiques agiles avec Microsoft Team Foundation Server 2012. Team Foundation Server (couramment abrégé à TFS) est la plateforme serveur de Visual Studio. Il est destiné pour le développement logiciel collaboratif et il offre la gestion des sources, la gestion des \"build\", le suivi des éléments de travail et des rapports de contrôle.</span></p>\\r\\n<p class=\"MsoNormal\" style=\"font-family: \\'Helvetica Neue\\', Helvetica, Arial, sans-serif; font-size: 13px;\"><span style=\"font-size: 10pt; font-family: Verdana, sans-serif;\">Tout au long de la journée, nous allons examiner comment personnaliser votre serveur Team Foundation Server pour adopter un cadre agile qui conduit à l\\'amélioration continue. Apprenez à combiner efficacement Scrum et les tableaux de collaboration pour créer un processus agile sur mesure pour votre organisation.</span></p>\\r\\n<p class=\"MsoNormal\" style=\"font-family: \\'Helvetica Neue\\', Helvetica, Arial, sans-serif; font-size: 13px;\"><span style=\"font-size: 10pt; font-family: Verdana, sans-serif;\">Ne manquez pas cette formation. Vouz apprendrez comment améliorer votre processus existant et repartirez avec des idées pratiques qui vous permettront de conduire ces changements dans votre organisation. Nous allons explorer les pratiques bien connues telles que Lean, Kanban, théorie des contraintes, et bien sûr, les principes agiles. Armé des outils et des apprentissages acquis, vous pouvez vous attendre à voir des améliorations importantes et mesurables dans votre processus de développement en aussi peu que 3-6 mois.</span></p>\\r\\n<p class=\"MsoNormal\" style=\"font-family: \\'Helvetica Neue\\', Helvetica, Arial, sans-serif; font-size: 13px;\"><span style=\"font-size: x-large;\"><strong><span style=\"font-family: Arial, sans-serif;\">Public cible</span></strong></span></p>\\r\\n<ul style=\"font-family: \\'Helvetica Neue\\', Helvetica, Arial, sans-serif; font-size: 13px; line-height: 20.796875px; margin-top: 0in;\" type=\"disc\">\\r\\n<li class=\"MsoNormal\"><span style=\"font-size: 10pt; font-family: Verdana, sans-serif;\">Directeurs du développement logiciels, chefs d\\'équipe, architectes logiciels, chef développeurs et toutes personnes qui aspirent à devenir efficace en utilisant le développement logiciel agile.</span></li>\\r\\n</ul>\\r\\n<p class=\"MsoNormal\" style=\"font-family: \\'Helvetica Neue\\', Helvetica, Arial, sans-serif; font-size: 13px;\"><span style=\"font-size: 10pt; font-family: Verdana, sans-serif;\"><strong><span style=\"font-family: Arial, sans-serif;\">Pré requis</span></strong></span></p>\\r\\n<ul style=\"font-family: \\'Helvetica Neue\\', Helvetica, Arial, sans-serif; font-size: 13px; line-height: 20.796875px; margin-top: 0in;\" type=\"disc\">\\r\\n<li class=\"MsoNormal\"><span style=\"font-size: 10pt; font-family: Verdana, sans-serif;\">Une expérience concrète avec la construction de logiciels</span><span style=\"font-size: 10pt; font-family: Verdana, sans-serif;\">\\xa0</span></li>\\r\\n</ul>\\r\\n<ul style=\"font-family: \\'Helvetica Neue\\', Helvetica, Arial, sans-serif; font-size: 13px; line-height: 20.796875px; margin-top: 0in;\" type=\"disc\">\\r\\n<li class=\"MsoNormal\"><span style=\"font-size: 10pt; font-family: Verdana, sans-serif;\">Une compréhension minimale des pratiques agiles</span></li>\\r\\n</ul>\\r\\n<h1 style=\"font-size: 26px; line-height: 28px; margin: 0px; padding-bottom: 5px; font-family: \\'Helvetica Neue\\', Helvetica, Arial, sans-serif;\"><span style=\"font-family: Arial, sans-serif; font-size: x-large;\">Détails du cours</span></h1>\\r\\n<ul style=\"font-family: \\'Helvetica Neue\\', Helvetica, Arial, sans-serif; font-size: 13px; line-height: 20.796875px; margin-top: 0in;\" type=\"disc\">\\r\\n<li class=\"MsoNormal\" style=\"margin-top: 12pt;\"><span style=\"font-size: 11pt; font-family: Calibri, sans-serif;\" lang=\"EN-US\">PERSONNALISATION DE TFS</span></li>\\r\\n<ul style=\"margin-top: 0in;\" type=\"circle\">\\r\\n<li class=\"MsoNormal\"><strong><span style=\"font-size: 11pt; font-family: Calibri, sans-serif;\">Gabarit de processus (Process Template)</span></strong><span style=\"font-size: 11pt; font-family: Calibri, sans-serif;\">: Formaliser comment mettre en œuvre l’agilité</span></li>\\r\\n<li class=\"MsoNormal\"><strong><span style=\"font-size: 11pt; font-family: Calibri, sans-serif;\">Élément de travail (Work items)</span></strong><span style=\"font-size: 11pt; font-family: Calibri, sans-serif;\">: Discuter de la structure, des champs et des flux de travail</span></li>\\r\\n<li class=\"MsoNormal\"><strong><span style=\"font-size: 11pt; font-family: Calibri, sans-serif;\">Gestion visuelle</span></strong><span style=\"font-size: 11pt; font-family: Calibri, sans-serif;\">: Simplifier TFS et la mise en œuvre de l’agilité</span></li>\\r\\n</ul>\\r\\n</ul>\\r\\n<ul style=\"font-family: \\'Helvetica Neue\\', Helvetica, Arial, sans-serif; font-size: 13px; line-height: 20.796875px; margin-top: 0in;\" type=\"disc\">\\r\\n<li class=\"MsoNormal\"><span style=\"font-size: 11pt; font-family: Calibri, sans-serif;\" lang=\"EN-US\">DEVELOPPEMENT LOGICIEL ITERATIF</span></li>\\r\\n<ul style=\"margin-top: 0in;\" type=\"circle\">\\r\\n<li class=\"MsoNormal\"><strong><span style=\"font-size: 11pt; font-family: Calibri, sans-serif;\">Scrum</span></strong><span style=\"font-size: 11pt; font-family: Calibri, sans-serif;\">: Formaliser un cadre itératif pour la gestion</span></li>\\r\\n<li class=\"MsoNormal\"><strong><span style=\"font-size: 11pt; font-family: Calibri, sans-serif;\" lang=\"EN-US\">User Story</span></strong><span style=\"font-size: 11pt; font-family: Calibri, sans-serif;\" lang=\"EN-US\">: Satisfaire les désirs</span></li>\\r\\n<li class=\"MsoNormal\"><strong><span style=\"font-size: 11pt; font-family: Calibri, sans-serif;\" lang=\"EN-US\">Backlog</span></strong><span style=\"font-size: 11pt; font-family: Calibri, sans-serif;\" lang=\"EN-US\">: Prioriser les\\xa0désirs collaborativement</span></li>\\r\\n<li class=\"MsoNormal\"><strong><span style=\"font-size: 11pt; font-family: Calibri, sans-serif;\" lang=\"EN-US\">Planning</span></strong><span style=\"font-size: 11pt; font-family: Calibri, sans-serif;\" lang=\"EN-US\">: Livrer un ensemble coherent de fonctionalités</span></li>\\r\\n</ul>\\r\\n</ul>\\r\\n<ul style=\"font-family: \\'Helvetica Neue\\', Helvetica, Arial, sans-serif; font-size: 13px; line-height: 20.796875px; margin-top: 0in;\" type=\"disc\">\\r\\n<li><span style=\"font-family: Calibri, sans-serif; font-size: 11pt;\">TABLEAU DE COLLABORATION</span></li>\\r\\n<ul style=\"margin-top: 0in;\" type=\"circle\">\\r\\n<li><strong style=\"font-size: 1.1em;\"><span style=\"font-size: 11pt; font-family: Calibri, sans-serif;\">Worflow</span></strong><span style=\"font-size: 11pt; font-family: Calibri, sans-serif;\">: Illustrer le flux de travail</span></li>\\r\\n<li><span style=\"font-size: 11pt; font-family: Calibri, sans-serif;\"><strong>Signal</strong>: Formaliser les règles de collaboration</span></li>\\r\\n<li><span style=\"font-size: 11pt; font-family: Calibri, sans-serif;\"><strong>Gestion visuelle</strong>: Suivre le travail et collaborer</span></li>\\r\\n</ul>\\r\\n</ul>',\n",
       " 'email_domain': 'mariocardinal.com',\n",
       " 'event_created': 1364965532,\n",
       " 'event_end': 1369265400,\n",
       " 'event_published': 1364965855.0,\n",
       " 'event_start': 1369236600,\n",
       " 'fb_published': 0,\n",
       " 'has_analytics': 0,\n",
       " 'has_header': 0.0,\n",
       " 'has_logo': 1,\n",
       " 'listed': 'y',\n",
       " 'name': \"TEAM FOUNDATION TOUR: Maitriser l'agilité avec l'outillage Microsoft\",\n",
       " 'name_length': 68,\n",
       " 'object_id': 6098291,\n",
       " 'org_desc': '<p style=\"margin: 0px; padding: 0px 0px 8px; line-height: 1.3em; color: #666666; font-family: \\'Helvetica Neue\\', Helvetica, Arial, sans-serif; font-size: 12px;\">Mario Cardinal est un coach agile spécialisé en architecture logicielle.\\xa0Il possède plus de vingt années d\\'expérience en conception de systèmes d\\'information d\\'envergure.\\xa0Il est l’auteur du livre « Executable Specifications with Scrum ». Ses amis aiment à le décrire comme quelqu\\'un qui sait extraire l\\'essentiel d\\'une situation compliquée, trier les idées fondamentales des distractions connexes, et fournir un résumé facile à comprendre.</p>\\r\\n<p style=\"margin: 0px; padding: 0px 0px 8px; line-height: 1.3em; color: #666666; font-family: \\'Helvetica Neue\\', Helvetica, Arial, sans-serif; font-size: 12px;\">Il présente régulièrement sur l’architecture et l’agilité lors de conférences internationales. Depuis 2004, il anime le Visual Studio Talk Show, un podcast portant sur l’architecture logicielle.\\xa0Il dirige le groupe d’architecture de la communauté .NET montréalaise et est « tech chair » de la piste d’architecture pour la conférence DevTeach.</p>\\r\\n<p style=\"margin: 0px; padding: 0px 0px 8px; line-height: 1.3em; color: #666666; font-family: \\'Helvetica Neue\\', Helvetica, Arial, sans-serif; font-size: 12px;\">Pour la huitième année consécutive, il a reçu de Microsoft le prix Most Valuable Professional (MVP). Ce prix récompense des individus reconnus, crédibles et disponibles, qui démontrent une expertise technique et qui participent activement à des communautés afin de partager leur savoir-faire et leurs compétences pour aider les autres à se réaliser.</p>\\r\\n<p style=\"margin: 0px; padding: 0px 0px 8px; line-height: 1.3em; color: #666666; font-family: \\'Helvetica Neue\\', Helvetica, Arial, sans-serif; font-size: 12px;\">Mario est titulaire d’un baccalauréat en génie informatique et d’une maîtrise en management de la technologie de l’École Polytechnique de Montréal. Il a également obtenu les certifications suivantes : Certified ScrumMaster (CSM) et Microsoft Certified Technology Specialist avec Team Foundation Server.</p>',\n",
       " 'org_facebook': 0.0,\n",
       " 'org_name': 'Mario Cardinal',\n",
       " 'org_twitter': 0.0,\n",
       " 'payee_name': '',\n",
       " 'payout_type': 'ACH',\n",
       " 'previous_payouts': [{'name': '',\n",
       "   'created': '2011-12-19 03:10:48',\n",
       "   'country': 'CA',\n",
       "   'amount': 3304.11,\n",
       "   'state': '',\n",
       "   'address': '',\n",
       "   'uid': 2021210,\n",
       "   'event': 2329056,\n",
       "   'zip_code': ''}],\n",
       " 'sale_duration': 50.0,\n",
       " 'show_map': 1,\n",
       " 'ticket_types': [{'event_id': 6098291,\n",
       "   'cost': 470.0,\n",
       "   'availability': 1,\n",
       "   'quantity_total': 30}],\n",
       " 'user_age': 1307,\n",
       " 'user_created': 1251988266,\n",
       " 'user_type': 4,\n",
       " 'venue_address': '2815 LAURIER BOUL',\n",
       " 'venue_country': 'CA',\n",
       " 'venue_latitude': 46.8032826,\n",
       " 'venue_longitude': -71.242796,\n",
       " 'venue_name': 'Hotel Classique',\n",
       " 'venue_state': 'Quebec',\n",
       " 'sequence_number': 3025,\n",
       " 'fraud_prob': 0.5429403202328966}"
      ]
     },
     "execution_count": 12,
     "metadata": {},
     "output_type": "execute_result"
    }
   ],
   "source": [
    "db.test_collection.find_one()"
   ]
  },
  {
   "cell_type": "code",
   "execution_count": 13,
   "metadata": {},
   "outputs": [],
   "source": [
    "import api_client"
   ]
  },
  {
   "cell_type": "code",
   "execution_count": 14,
   "metadata": {},
   "outputs": [],
   "source": [
    "api = api_client.EventAPIClient()"
   ]
  },
  {
   "cell_type": "code",
   "execution_count": 15,
   "metadata": {},
   "outputs": [],
   "source": [
    "test = api.get_data()"
   ]
  },
  {
   "cell_type": "code",
   "execution_count": 16,
   "metadata": {},
   "outputs": [
    {
     "name": "stdout",
     "output_type": "stream",
     "text": [
      "Received data:\n",
      "[{'body_length': 3290, 'channels': 0, 'country': 'GB', 'currency': 'GBP', 'delivery_method': 1.0, 'description': '<p><strong style=\"font-family: arial, helvetica, sans-serif; font-size: medium;\">Join us</strong><span style=\"font-family: arial, helvetica, sans-serif; font-size: medium;\">&nbsp;on the 27th September in Leicester and be&nbsp;</span><strong style=\"font-family: arial, helvetica, sans-serif; font-size: medium;\">informed</strong><span style=\"font-family: arial, helvetica, sans-serif; font-size: medium;\">&nbsp;by hearing about how Prison Fellowship is working smarter in a changing prison landscape,&nbsp;</span><strong style=\"font-family: arial, helvetica, sans-serif; font-size: medium;\">equipped</strong><span style=\"font-family: arial, helvetica, sans-serif; font-size: medium;\">&nbsp;through our workshops and by meeting volunteers, trustees and paid staff and be&nbsp;</span><strong style=\"font-family: arial, helvetica, sans-serif; font-size: medium;\">inspired</strong><span style=\"font-family: arial, helvetica, sans-serif; font-size: medium;\">&nbsp;by our guest speakers and by sharing stories with each other. Book your place now!</span></p>\\r\\n<p>&nbsp;</p>\\r\\n<p><strong style=\"color: #ff0000;\"><span style=\"font-size: x-large;\">Please book your workshops using the link on the booking confirmation page.</span></strong></p>\\r\\n<p>&nbsp;</p>\\r\\n<p><span style=\"font-size: medium; font-family: arial, helvetica, sans-serif;\"><strong>Reflex - From trackies and trainers to character and community: Why young offenders need your help growing up</strong></span></p>\\r\\n<p><span style=\"font-size: medium;\">This workshop will focus on the hallmarks of young people, the transition to adulthood and the coming of age crisis that exists within our culture which can often be a contributory factor to offending.&nbsp;</span></p>\\r\\n<p>&nbsp;</p>\\r\\n<p><span style=\"font-size: medium;\"><strong>Creative Prayer</strong></span></p>\\r\\n<p><span style=\"font-size: medium;\">Does your prayer group need a bit of inspiration? Join us in learning new techniques for your groups&rsquo; prayer life. The Midlands Conference workshop is entitled: Acts of Prayer to Strengthen and Equip You with Lynn Hotton.</span></p>\\r\\n<p>&nbsp;</p>\\r\\n<p><span style=\"font-size: medium;\"><strong>Letter Writing - You&rsquo;ll be surprised what a few words can do to a prisoner</strong></span></p>\\r\\n<p><span style=\"font-size: medium;\">Our letter writing workshops are a great chance for you to become fully trained in letter writing and ready to start making an impact in prisoners\\' lives. This workshop will be lively, engaging and informative and through it you will not just learn the basics, but also how powerful your letters will be to a prisoner who has little or no other contact with the outside world.</span></p>\\r\\n<p>&nbsp;</p>\\r\\n<p><span style=\"font-size: medium;\"><strong>Sharing your Story</strong></span></p>\\r\\n<p><span style=\"font-size: medium;\">Sharing your story - how to communicate effectively and passionately about the transformation of prisoners lives through the work of Prison Fellowship. In this workshop Stewart Bewley will build your confidence and transform your presentation techniques. (Stewart Bewley is the Founder and Director of Amplify Presentations Limited. Stewart trained at Queen Mary, University of London (BA Hons) and The Birmingham School of Acting for Stage, Screen and Broadcast)</span></p>', 'email_domain': 'prisonfellowship.org.uk', 'event_created': 1365690392, 'event_end': 1380326400, 'event_published': 1369822531.0, 'event_start': 1380299400, 'fb_published': 0, 'has_analytics': 0, 'has_header': 0.0, 'has_logo': 1, 'listed': 'y', 'name': 'Prison Fellowship Midlands Conference', 'name_length': 37, 'object_id': 6224365, 'org_desc': '', 'org_facebook': 31.0, 'org_name': 'Prison Fellowship England & Wales', 'org_twitter': 14.0, 'payee_name': '', 'payout_type': 'ACH', 'previous_payouts': [], 'sale_duration': 121.0, 'show_map': 1, 'ticket_types': [{'event_id': 6224365, 'cost': 22.85, 'availability': 1, 'quantity_total': 250}, {'event_id': 6224365, 'cost': 0.0, 'availability': 1, 'quantity_total': 100}, {'event_id': 6224365, 'cost': 46.35, 'availability': 1, 'quantity_total': 10}, {'event_id': 6224365, 'cost': 0.0, 'availability': 1, 'quantity_total': 10}], 'user_age': 0, 'user_created': 1365690391, 'user_type': 3, 'venue_address': '7 Peacock Lane', 'venue_country': 'GB', 'venue_latitude': 52.6345954, 'venue_longitude': -1.1369888, 'venue_name': 'St Martins House', 'venue_state': 'Leicester', 'sequence_number': 3029}]\n",
      "\n"
     ]
    },
    {
     "ename": "TypeError",
     "evalue": "list indices must be integers or slices, not str",
     "output_type": "error",
     "traceback": [
      "\u001b[0;31m---------------------------------------------------------------------------\u001b[0m",
      "\u001b[0;31mTypeError\u001b[0m                                 Traceback (most recent call last)",
      "\u001b[0;32m<ipython-input-16-6d99c72288da>\u001b[0m in \u001b[0;36m<module>\u001b[0;34m\u001b[0m\n\u001b[0;32m----> 1\u001b[0;31m \u001b[0mapi\u001b[0m\u001b[0;34m.\u001b[0m\u001b[0msave_to_database\u001b[0m\u001b[0;34m(\u001b[0m\u001b[0mtest\u001b[0m\u001b[0;34m)\u001b[0m\u001b[0;34m\u001b[0m\u001b[0;34m\u001b[0m\u001b[0m\n\u001b[0m",
      "\u001b[0;32m~/Desktop/dsi_lax3/fraud-detection/src/Aydin EDA/api_client.py\u001b[0m in \u001b[0;36msave_to_database\u001b[0;34m(self, row)\u001b[0m\n\u001b[1;32m     42\u001b[0m         \u001b[0;34m\"\"\"Save a data row to the database.\"\"\"\u001b[0m\u001b[0;34m\u001b[0m\u001b[0;34m\u001b[0m\u001b[0m\n\u001b[1;32m     43\u001b[0m         \u001b[0mprint\u001b[0m\u001b[0;34m(\u001b[0m\u001b[0;34m\"Received data:\\n\"\u001b[0m \u001b[0;34m+\u001b[0m \u001b[0mrepr\u001b[0m\u001b[0;34m(\u001b[0m\u001b[0mrow\u001b[0m\u001b[0;34m)\u001b[0m \u001b[0;34m+\u001b[0m \u001b[0;34m\"\\n\"\u001b[0m\u001b[0;34m)\u001b[0m  \u001b[0;31m# replace this with your code\u001b[0m\u001b[0;34m\u001b[0m\u001b[0;34m\u001b[0m\u001b[0m\n\u001b[0;32m---> 44\u001b[0;31m         \u001b[0mdb_add\u001b[0m\u001b[0;34m(\u001b[0m\u001b[0mrow\u001b[0m\u001b[0;34m,\u001b[0m\u001b[0my_rf_proba\u001b[0m\u001b[0;34m[\u001b[0m\u001b[0;36m0\u001b[0m\u001b[0;34m]\u001b[0m\u001b[0;34m[\u001b[0m\u001b[0;36m1\u001b[0m\u001b[0;34m]\u001b[0m\u001b[0;34m)\u001b[0m\u001b[0;34m\u001b[0m\u001b[0;34m\u001b[0m\u001b[0m\n\u001b[0m\u001b[1;32m     45\u001b[0m \u001b[0;34m\u001b[0m\u001b[0m\n\u001b[1;32m     46\u001b[0m     \u001b[0;32mdef\u001b[0m \u001b[0mget_data\u001b[0m\u001b[0;34m(\u001b[0m\u001b[0mself\u001b[0m\u001b[0;34m)\u001b[0m\u001b[0;34m:\u001b[0m\u001b[0;34m\u001b[0m\u001b[0;34m\u001b[0m\u001b[0m\n",
      "\u001b[0;32m~/Desktop/dsi_lax3/fraud-detection/src/Aydin EDA/api_client.py\u001b[0m in \u001b[0;36mdb_add\u001b[0;34m(data, y_prob)\u001b[0m\n\u001b[1;32m     10\u001b[0m \u001b[0;32mdef\u001b[0m \u001b[0mdb_add\u001b[0m\u001b[0;34m(\u001b[0m\u001b[0mdata\u001b[0m\u001b[0;34m,\u001b[0m \u001b[0my_prob\u001b[0m\u001b[0;34m)\u001b[0m\u001b[0;34m:\u001b[0m\u001b[0;34m\u001b[0m\u001b[0;34m\u001b[0m\u001b[0m\n\u001b[1;32m     11\u001b[0m \u001b[0;34m\u001b[0m\u001b[0m\n\u001b[0;32m---> 12\u001b[0;31m     \u001b[0mdata\u001b[0m\u001b[0;34m[\u001b[0m\u001b[0;34m'fraud_prob'\u001b[0m\u001b[0;34m]\u001b[0m\u001b[0;34m=\u001b[0m\u001b[0my_prob\u001b[0m\u001b[0;34m\u001b[0m\u001b[0;34m\u001b[0m\u001b[0m\n\u001b[0m\u001b[1;32m     13\u001b[0m     \u001b[0mclient\u001b[0m \u001b[0;34m=\u001b[0m \u001b[0mMongoClient\u001b[0m\u001b[0;34m(\u001b[0m\u001b[0;34m)\u001b[0m\u001b[0;34m\u001b[0m\u001b[0;34m\u001b[0m\u001b[0m\n\u001b[1;32m     14\u001b[0m     \u001b[0mdb\u001b[0m \u001b[0;34m=\u001b[0m \u001b[0mclient\u001b[0m\u001b[0;34m[\u001b[0m\u001b[0;34m'test_database'\u001b[0m\u001b[0;34m]\u001b[0m\u001b[0;34m\u001b[0m\u001b[0;34m\u001b[0m\u001b[0m\n",
      "\u001b[0;31mTypeError\u001b[0m: list indices must be integers or slices, not str"
     ]
    }
   ],
   "source": [
    "api.save_to_database(test)"
   ]
  },
  {
   "cell_type": "code",
   "execution_count": null,
   "metadata": {},
   "outputs": [],
   "source": [
    "type(test[0])"
   ]
  },
  {
   "cell_type": "code",
   "execution_count": null,
   "metadata": {},
   "outputs": [],
   "source": [
    "def get_transform_data_dict(data_path):\n",
    "    #data = pd.read_json(data_path)\n",
    "    data = pd.DataFrame.from_dict([data_path])\n",
    "    required_columns=['body_length', 'channels', 'delivery_method', 'event_published',\n",
    "        'fb_published', 'has_analytics', 'has_logo',\n",
    "        'name_length', 'num_order', 'num_payouts', 'org_facebook',\n",
    "        'org_twitter', 'sale_duration', 'sale_duration2', 'show_map',\n",
    "        'user_age', 'user_created', 'user_type']\n",
    "    if 'acct_type' in data.columns:\n",
    "        data['is_fraud'] = data['acct_type'].apply(lambda x: 1 if 'fraud' in x else 0)\n",
    "    else:\n",
    "        data['is_fraud']=data.iloc[:, 0].apply(lambda x: 'unknown')\n",
    "    for col in required_columns:\n",
    "        if col not in data.columns:\n",
    "                data[col] = data.iloc[:, 0].apply(lambda x: 0)\n",
    "    data_model=data[required_columns]\n",
    "    \n",
    "    y = data['is_fraud']\n",
    "    X = data_model\n",
    "    return X, y"
   ]
  },
  {
   "cell_type": "code",
   "execution_count": null,
   "metadata": {},
   "outputs": [],
   "source": [
    "db.test_collection.count_documents({})"
   ]
  },
  {
   "cell_type": "code",
   "execution_count": null,
   "metadata": {},
   "outputs": [],
   "source": [
    "db.test_collection.find_one()"
   ]
  },
  {
   "cell_type": "code",
   "execution_count": null,
   "metadata": {},
   "outputs": [
    {
     "name": "stdout",
     "output_type": "stream",
     "text": [
      "Requesting data...\n",
      "No new data received.\n",
      "Waiting 30 seconds...\n",
      "Requesting data...\n",
      "No new data received.\n",
      "Waiting 30 seconds...\n",
      "Requesting data...\n",
      "Saving...\n",
      "Received data:\n",
      "{'body_length': 12766, 'channels': 5, 'country': 'US', 'currency': 'USD', 'delivery_method': 1.0, 'description': '<p style=\"text-align: center;\">&nbsp;</p>\\r\\n<p class=\"MsoNormal\" style=\"margin: 0.1pt 0in; text-align: center;\"><span style=\"font-size: small; font-family: arial black,avant garde;\"><strong><span style=\"text-decoration: underline;\"><span style=\"font-size: medium;\">Become a Certified Professional Coach in 16 Hours!</span></span><br /></strong></span></p>\\r\\n<p class=\"MsoNormal\" style=\"margin-top: .1pt; margin-right: 0in; margin-bottom: .1pt; margin-left: 0in; mso-para-margin-top: .01gd; mso-para-margin-right: 0in; mso-para-margin-bottom: .01gd; mso-para-margin-left: 0in;\"><span style=\"font-size: small; font-family: arial black,avant garde;\">&nbsp;</span></p>\\r\\n<p><span style=\"font-family: arial black,avant garde;\"><span style=\"font-size: small;\">Our live in-person course allows students to complete their training and certification in just </span><span style=\"font-size: small;\">16 hours (split over the course of a few days) </span></span></p>\\r\\n<p><span style=\"font-family: arial black,avant garde;\">&nbsp;</span></p>\\r\\n<p class=\"MsoNormal\" style=\"margin-top: .1pt; margin-right: 0in; margin-bottom: .1pt; margin-left: 0in; mso-para-margin-top: .01gd; mso-para-margin-right: 0in; mso-para-margin-bottom: .01gd; mso-para-margin-left: 0in;\"><span style=\"font-size: small; font-family: arial black,avant garde;\">Life Coaching gently helps people to step out of their comfort zone so that they can easily obtain success in any area that they choose. Whether you/your client is: </span></p>\\r\\n<ul style=\"margin-top: 0in;\" type=\"disc\">\\r\\n<li class=\"MsoNormal\" style=\"margin-top: .1pt; margin-bottom: .1pt; mso-para-margin-top: .01gd; mso-para-margin-bottom: .01gd; mso-list: l0 level1 lfo1; tab-stops: list .5in;\"><span style=\"font-size: small; font-family: arial black,avant garde;\">starting a new career,</span></li>\\r\\n<li class=\"MsoNormal\" style=\"margin-top: .1pt; margin-bottom: .1pt; mso-para-margin-top: .01gd; mso-para-margin-bottom: .01gd; mso-list: l0 level1 lfo1; tab-stops: list .5in;\"><span style=\"font-size: small; font-family: arial black,avant garde;\">wants to lose weight,</span></li>\\r\\n<li class=\"MsoNormal\" style=\"margin-top: .1pt; margin-bottom: .1pt; mso-para-margin-top: .01gd; mso-para-margin-bottom: .01gd; mso-list: l0 level1 lfo1; tab-stops: list .5in;\"><span style=\"font-size: small; font-family: arial black,avant garde;\">going through a divorce,</span></li>\\r\\n<li class=\"MsoNormal\" style=\"margin-top: .1pt; margin-bottom: .1pt; mso-para-margin-top: .01gd; mso-para-margin-bottom: .01gd; mso-list: l0 level1 lfo1; tab-stops: list .5in;\"><span style=\"font-size: small; font-family: arial black,avant garde;\">working through recovery,</span></li>\\r\\n<li class=\"MsoNormal\" style=\"margin-top: .1pt; margin-bottom: .1pt; mso-para-margin-top: .01gd; mso-para-margin-bottom: .01gd; mso-list: l0 level1 lfo1; tab-stops: list .5in;\"><span style=\"font-size: small; font-family: arial black,avant garde;\">planning for college,</span></li>\\r\\n<li class=\"MsoNormal\" style=\"margin-top: .1pt; margin-bottom: .1pt; mso-para-margin-top: .01gd; mso-para-margin-bottom: .01gd; mso-list: l0 level1 lfo1; tab-stops: list .5in;\"><span style=\"font-size: small; font-family: arial black,avant garde;\">preparing for surgery,</span></li>\\r\\n<li class=\"MsoNormal\" style=\"margin-top: .1pt; margin-bottom: .1pt; mso-para-margin-top: .01gd; mso-para-margin-bottom: .01gd; mso-list: l0 level1 lfo1; tab-stops: list .5in;\"><span style=\"font-size: small; font-family: arial black,avant garde;\">coping with the loss of a loved one,</span></li>\\r\\n<li class=\"MsoNormal\" style=\"margin-top: .1pt; margin-bottom: .1pt; mso-para-margin-top: .01gd; mso-para-margin-bottom: .01gd; mso-list: l0 level1 lfo1; tab-stops: list .5in;\"><span style=\"font-size: small; font-family: arial black,avant garde;\">on a spiritual quest,</span></li>\\r\\n</ul>\\r\\n<p><span style=\"font-size: 16pt; font-family: arial black,avant garde;\"><span style=\"font-size: small;\">Life coaching is a great catalyst for change and may be just what you/your client are looking for in terms of encouragement, support, motivation, inspiration, accountability and compassion.</span><br style=\"mso-special-character: line-break;\" /> </span></p>\\r\\n<p><span style=\"font-family: arial black,avant garde;\">&nbsp;</span></p>\\r\\n<p class=\"MsoNormal\" style=\"margin-top: .1pt; margin-right: 0in; margin-bottom: .1pt; margin-left: 0in; mso-para-margin-top: .01gd; mso-para-margin-right: 0in; mso-para-margin-bottom: .01gd; mso-para-margin-left: 0in;\"><span style=\"font-size: small; font-family: arial black,avant garde;\"><strong>WGI\\'s Life Coach Training Course Includes:</strong></span></p>\\r\\n<ul style=\"margin-top: 0in;\" type=\"disc\">\\r\\n<li class=\"MsoNormal\" style=\"margin-top: .1pt; margin-bottom: .1pt; mso-para-margin-top: .01gd; mso-para-margin-bottom: .01gd; mso-list: l0 level1 lfo1; tab-stops: list .5in;\"><span style=\"font-size: small; font-family: arial black,avant garde;\">Sixteen Hour Certified Professional Coach Course facilitated by a Certified Master Coach</span></li>\\r\\n<li class=\"MsoNormal\" style=\"margin-top: .1pt; margin-bottom: .1pt; mso-para-margin-top: .01gd; mso-para-margin-bottom: .01gd; mso-list: l0 level1 lfo1; tab-stops: list .5in;\"><span style=\"font-size: small; font-family: arial black,avant garde;\">Telephone and Internet Access to WGI Master Coach Question Center</span></li>\\r\\n<li class=\"MsoNormal\" style=\"margin-top: .1pt; margin-bottom: .1pt; mso-para-margin-top: .01gd; mso-para-margin-bottom: .01gd; mso-list: l0 level1 lfo1; tab-stops: list .5in;\"><span style=\"font-size: small; font-family: arial black,avant garde;\">Lifetime Use of WGI Coaching System</span></li>\\r\\n<li class=\"MsoNormal\" style=\"margin-top: .1pt; margin-bottom: .1pt; mso-para-margin-top: .01gd; mso-para-margin-bottom: .01gd; mso-list: l0 level1 lfo1; tab-stops: list .5in;\"><span style=\"font-size: small; font-family: arial black,avant garde;\">WGI Coach Training Manual</span></li>\\r\\n<li class=\"MsoNormal\" style=\"margin-top: .1pt; margin-bottom: .1pt; mso-para-margin-top: .01gd; mso-para-margin-bottom: .01gd; mso-list: l0 level1 lfo1; tab-stops: list .5in;\"><span style=\"font-size: small; font-family: arial black,avant garde;\">WGI Course Handouts</span></li>\\r\\n<li class=\"MsoNormal\" style=\"margin-top: .1pt; margin-bottom: .1pt; mso-para-margin-top: .01gd; mso-para-margin-bottom: .01gd; mso-list: l0 level1 lfo1; tab-stops: list .5in;\"><span style=\"font-size: small; font-family: arial black,avant garde;\">WGI Proven Professional Coaching Tools</span></li>\\r\\n<li class=\"MsoNormal\" style=\"margin-top: .1pt; margin-bottom: .1pt; mso-para-margin-top: .01gd; mso-para-margin-bottom: .01gd; mso-list: l0 level1 lfo1; tab-stops: list .5in;\"><span style=\"font-size: small; font-family: arial black,avant garde;\">WGI Coach&rsquo;s Quick Reference Guide</span></li>\\r\\n<li class=\"MsoNormal\" style=\"margin-top: .1pt; margin-bottom: .1pt; mso-para-margin-top: .01gd; mso-para-margin-bottom: .01gd; mso-list: l0 level1 lfo1; tab-stops: list .5in;\"><span style=\"font-size: small; font-family: arial black,avant garde;\">Certified Professional Coach Exam (included)</span></li>\\r\\n<li class=\"MsoNormal\" style=\"margin-top: .1pt; margin-bottom: .1pt; mso-para-margin-top: .01gd; mso-para-margin-bottom: .01gd; mso-list: l0 level1 lfo1; tab-stops: list .5in;\"><span style=\"font-size: small; font-family: arial black,avant garde;\">Certified Professional Coach Certificate Digital for your website</span></li>\\r\\n<li class=\"MsoNormal\" style=\"margin-top: .1pt; margin-bottom: .1pt; mso-para-margin-top: .01gd; mso-para-margin-bottom: .01gd; mso-list: l0 level1 lfo1; tab-stops: list .5in;\"><span style=\"font-size: small; font-family: arial black,avant garde;\">Certified Professional Coach Certificate Hardcopy for Your Wall</span></li>\\r\\n<li class=\"MsoNormal\" style=\"margin-top: .1pt; margin-bottom: .1pt; mso-para-margin-top: .01gd; mso-para-margin-bottom: .01gd; mso-list: l0 level1 lfo1; tab-stops: list .5in;\"><span style=\"font-size: small; font-family: arial black,avant garde;\">Access to WGI\\'s Coach Community</span></li>\\r\\n<li class=\"MsoNormal\" style=\"margin-top: .1pt; margin-bottom: .1pt; mso-para-margin-top: .01gd; mso-para-margin-bottom: .01gd; mso-list: l0 level1 lfo1; tab-stops: list .5in;\"><span style=\"font-size: small; font-family: arial black,avant garde;\">Monthly Newsletter</span></li>\\r\\n<li class=\"MsoNormal\" style=\"margin-top: .1pt; margin-bottom: .1pt; mso-para-margin-top: .01gd; mso-para-margin-bottom: .01gd; mso-list: l0 level1 lfo1; tab-stops: list .5in;\"><span style=\"font-size: small; font-family: arial black,avant garde;\">Free Monthly Business Building Webinars</span></li>\\r\\n<li class=\"MsoNormal\" style=\"margin-top: .1pt; margin-bottom: .1pt; mso-para-margin-top: .01gd; mso-para-margin-bottom: .01gd; mso-list: l0 level1 lfo1; tab-stops: list .5in;\"><span style=\"font-size: small; font-family: arial black,avant garde;\">Free Coaching Groups</span></li>\\r\\n</ul>\\r\\n<p class=\"MsoNormal\" style=\"margin-top: .1pt; margin-right: 0in; margin-bottom: .1pt; margin-left: 0in; mso-para-margin-top: .01gd; mso-para-margin-right: 0in; mso-para-margin-bottom: .01gd; mso-para-margin-left: 0in;\"><span style=\"font-size: small; font-family: arial black,avant garde;\"><strong>A Powerful Easy-To-Learn Life Coaching System</strong></span></p>\\r\\n<p class=\"MsoNormal\" style=\"margin-top: .1pt; margin-right: 0in; margin-bottom: .1pt; margin-left: 0in; mso-para-margin-top: .01gd; mso-para-margin-right: 0in; mso-para-margin-bottom: .01gd; mso-para-margin-left: 0in;\"><span style=\"font-size: small; font-family: arial black,avant garde;\">WGI&rsquo;s Professional Life Coaching System delivers the most complete and effective tools and methodologies to help your clients achieve their dreams and goals. Whether your focus will be providing the finest in life coaching to individuals, businesses, corporations or non-profit organizations, with WGI&rsquo;s Professional Life Coaching System you will acquire the utmost confidence, the complete knowledge, and the proven tools and skills to succeed. </span></p>\\r\\n<p class=\"MsoNormal\" style=\"margin-top: .1pt; margin-right: 0in; margin-bottom: .1pt; margin-left: 0in; mso-para-margin-top: .01gd; mso-para-margin-right: 0in; mso-para-margin-bottom: .01gd; mso-para-margin-left: 0in; mso-outline-level: 4;\"><span style=\"font-size: small; font-family: arial black,avant garde;\"><strong style=\"mso-bidi-font-weight: normal;\">Coaching: A Brilliant Way to Authentic Success</strong><strong style=\"mso-bidi-font-weight: normal;\"></strong></span></p>\\r\\n<p><span style=\"font-size: 16pt; font-family: arial black,avant garde;\"><span style=\"font-size: small;\">Life coaching is becoming more and more popular and there is a fabulous reason for that: Life Coaching is effective. </span></span></p>\\r\\n<p><br style=\"mso-special-character: line-break;\" /><span style=\"font-size: small; font-family: arial black,avant garde;\">Successful life coaching isn\\'t about you. It isn\\'t about what you know, what you\\'ve done, or what you\\'re doing. <span style=\"text-decoration: underline;\">It is all about your client.</span> <br /> <br /> In fact, coaching is about empowering your clients.&nbsp; They decide for themselves what their goals are. It\\'s about Socratic Questioning and attentive listening. It&rsquo;s about understanding your client\\'s needs, goals, desires and life purpose. Coaches help their clients to identify and clearly articulate their goals and dreams. Coaches help their clients to remain accountable and strategize the action steps required to achieve their objectives. <br /> <br style=\"mso-special-character: line-break;\" /></span></p>\\r\\n<p><span style=\"font-size: 16.0pt; mso-bidi-font-size: 12.0pt; font-family: \\'Times New Roman\\'; mso-fareast-font-family: Cambria; mso-bidi-font-family: \\'Times New Roman\\'; mso-ansi-language: EN-US; mso-fareast-language: EN-US;\"><span style=\"font-size: 16.0pt; mso-bidi-font-size: 12.0pt; font-family: \\'Times New Roman\\'; mso-fareast-font-family: Cambria; mso-bidi-font-family: \\'Times New Roman\\'; mso-ansi-language: EN-US; mso-fareast-language: EN-US;\"><span style=\"font-size: 16.0pt; mso-bidi-font-size: 12.0pt; font-family: \\'Times New Roman\\'; mso-fareast-font-family: Cambria; mso-bidi-font-family: \\'Times New Roman\\'; mso-ansi-language: EN-US; mso-fareast-language: EN-US;\">REFUND POLICY:<span style=\"font-size: small;\"> A full refund will be given to those that request it via email to PeacefulResolutionsUSA@gmail.com ONLY if such a request is given before 72 hours prior to the begining of the class.&nbsp; Please understand that there are limited seats and so we would not be able to replace your seat in a shorter amount of time.&nbsp; </span><br /> <br style=\"mso-special-character: line-break;\" /> <br style=\"mso-special-character: line-break;\" /> </span> </span> </span></p>', 'email_domain': 'Yahoo.com', 'event_created': 1368040390, 'event_end': 1370916000, 'event_published': 1368074386.0, 'event_start': 1368043200, 'fb_published': 0, 'has_analytics': 0, 'has_header': 1.0, 'has_logo': 1, 'listed': 'y', 'name': 'Certified Professional Coach Classes!', 'name_length': 37, 'object_id': 6257659, 'org_desc': '', 'org_facebook': 0.0, 'org_name': 'Peaceful Resolutions USA', 'org_twitter': 0.0, 'payee_name': '', 'payout_type': 'ACH', 'previous_payouts': [{'name': 'Not Your Typical Weekend Corp', 'created': '2012-11-04 03:14:34', 'country': 'US', 'amount': 157.61, 'state': 'NY', 'address': 'PO Box 908', 'uid': 5108263, 'event': 4328890, 'zip_code': '10952'}, {'name': 'Not Your Typical Weekend Corp', 'created': '2013-02-08 03:12:40', 'country': 'US', 'amount': 779.52, 'state': 'NY', 'address': 'PO Box 908', 'uid': 5108263, 'event': 5145800, 'zip_code': '10952'}, {'name': '', 'created': '2013-05-02 10:27:10', 'country': 'US', 'amount': 5838.81, 'state': '', 'address': '', 'uid': 5108263, 'event': 6230197, 'zip_code': ''}, {'name': '', 'created': '2013-05-02 10:27:10', 'country': 'US', 'amount': 102.61, 'state': '', 'address': '', 'uid': 5108263, 'event': 6315545, 'zip_code': ''}], 'sale_duration': 0.0, 'show_map': 0, 'ticket_types': [{'event_id': 6257659, 'cost': 1597.0, 'availability': 1, 'quantity_total': 20}, {'event_id': 6257659, 'cost': 1597.0, 'availability': 1, 'quantity_total': 20}, {'event_id': 6257659, 'cost': 1497.0, 'availability': 1, 'quantity_total': 20}, {'event_id': 6257659, 'cost': 1497.0, 'availability': 1, 'quantity_total': 20}, {'event_id': 6257659, 'cost': 0.0, 'availability': 1, 'quantity_total': 100}], 'user_age': 1038, 'user_created': 1278316100, 'user_type': 3, 'venue_address': '', 'venue_country': None, 'venue_latitude': None, 'venue_longitude': None, 'venue_name': None, 'venue_state': None, 'sequence_number': 3031}\n",
      "\n",
      "inserted\n",
      "Waiting 30 seconds...\n",
      "Requesting data...\n",
      "No new data received.\n",
      "Waiting 30 seconds...\n",
      "Requesting data...\n",
      "No new data received.\n",
      "Waiting 30 seconds...\n",
      "Requesting data...\n",
      "No new data received.\n",
      "Waiting 30 seconds...\n",
      "Requesting data...\n",
      "No new data received.\n",
      "Waiting 30 seconds...\n"
     ]
    }
   ],
   "source": [
    "api.collect()"
   ]
  },
  {
   "cell_type": "code",
   "execution_count": null,
   "metadata": {},
   "outputs": [],
   "source": [
    "db.test_collection.count()"
   ]
  },
  {
   "cell_type": "code",
   "execution_count": null,
   "metadata": {},
   "outputs": [],
   "source": [
    "# for x in db.test_collection.find({}):\n",
    "#     print(x)\n",
    "to_predict = db.test_collection.find({'is_fraud': {'$exists': True}})"
   ]
  },
  {
   "cell_type": "code",
   "execution_count": null,
   "metadata": {},
   "outputs": [],
   "source": [
    "to_predict.next()"
   ]
  },
  {
   "cell_type": "code",
   "execution_count": null,
   "metadata": {},
   "outputs": [],
   "source": []
  }
 ],
 "metadata": {
  "kernelspec": {
   "display_name": "Python 3",
   "language": "python",
   "name": "python3"
  },
  "language_info": {
   "codemirror_mode": {
    "name": "ipython",
    "version": 3
   },
   "file_extension": ".py",
   "mimetype": "text/x-python",
   "name": "python",
   "nbconvert_exporter": "python",
   "pygments_lexer": "ipython3",
   "version": "3.7.7"
  }
 },
 "nbformat": 4,
 "nbformat_minor": 4
}
